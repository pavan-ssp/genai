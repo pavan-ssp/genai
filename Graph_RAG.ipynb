{
  "nbformat": 4,
  "nbformat_minor": 0,
  "metadata": {
    "colab": {
      "provenance": []
    },
    "kernelspec": {
      "name": "python3",
      "display_name": "Python 3"
    },
    "language_info": {
      "name": "python"
    }
  },
  "cells": [
    {
      "cell_type": "code",
      "execution_count": null,
      "metadata": {
        "colab": {
          "base_uri": "https://localhost:8080/"
        },
        "id": "ot1GSa3ZfCX9",
        "outputId": "123a51ba-619f-484b-ef89-368a6c9b76b9"
      },
      "outputs": [
        {
          "output_type": "stream",
          "name": "stdout",
          "text": [
            "Collecting langchain-graph-retriever\n",
            "  Downloading langchain_graph_retriever-0.8.0-py3-none-any.whl.metadata (4.1 kB)\n",
            "Collecting backoff>=2.2.1 (from langchain-graph-retriever)\n",
            "  Downloading backoff-2.2.1-py3-none-any.whl.metadata (14 kB)\n",
            "Collecting graph-retriever (from langchain-graph-retriever)\n",
            "  Downloading graph_retriever-0.8.0-py3-none-any.whl.metadata (1.6 kB)\n",
            "Requirement already satisfied: immutabledict>=4.2.1 in /usr/local/lib/python3.11/dist-packages (from langchain-graph-retriever) (4.2.1)\n",
            "Requirement already satisfied: langchain-core>=0.3.29 in /usr/local/lib/python3.11/dist-packages (from langchain-graph-retriever) (0.3.49)\n",
            "Requirement already satisfied: networkx>=3.4.2 in /usr/local/lib/python3.11/dist-packages (from langchain-graph-retriever) (3.4.2)\n",
            "Requirement already satisfied: pydantic>=2.10.4 in /usr/local/lib/python3.11/dist-packages (from langchain-graph-retriever) (2.11.1)\n",
            "Requirement already satisfied: typing-extensions>=4.12.2 in /usr/local/lib/python3.11/dist-packages (from langchain-graph-retriever) (4.13.0)\n",
            "Requirement already satisfied: langsmith<0.4,>=0.1.125 in /usr/local/lib/python3.11/dist-packages (from langchain-core>=0.3.29->langchain-graph-retriever) (0.3.22)\n",
            "Requirement already satisfied: tenacity!=8.4.0,<10.0.0,>=8.1.0 in /usr/local/lib/python3.11/dist-packages (from langchain-core>=0.3.29->langchain-graph-retriever) (9.1.2)\n",
            "Requirement already satisfied: jsonpatch<2.0,>=1.33 in /usr/local/lib/python3.11/dist-packages (from langchain-core>=0.3.29->langchain-graph-retriever) (1.33)\n",
            "Requirement already satisfied: PyYAML>=5.3 in /usr/local/lib/python3.11/dist-packages (from langchain-core>=0.3.29->langchain-graph-retriever) (6.0.2)\n",
            "Requirement already satisfied: packaging<25,>=23.2 in /usr/local/lib/python3.11/dist-packages (from langchain-core>=0.3.29->langchain-graph-retriever) (24.2)\n",
            "Requirement already satisfied: annotated-types>=0.6.0 in /usr/local/lib/python3.11/dist-packages (from pydantic>=2.10.4->langchain-graph-retriever) (0.7.0)\n",
            "Requirement already satisfied: pydantic-core==2.33.0 in /usr/local/lib/python3.11/dist-packages (from pydantic>=2.10.4->langchain-graph-retriever) (2.33.0)\n",
            "Requirement already satisfied: typing-inspection>=0.4.0 in /usr/local/lib/python3.11/dist-packages (from pydantic>=2.10.4->langchain-graph-retriever) (0.4.0)\n",
            "Requirement already satisfied: numpy>=1.26.4 in /usr/local/lib/python3.11/dist-packages (from graph-retriever->langchain-graph-retriever) (2.0.2)\n",
            "Requirement already satisfied: pytest>=8.3.4 in /usr/local/lib/python3.11/dist-packages (from graph-retriever->langchain-graph-retriever) (8.3.5)\n",
            "Requirement already satisfied: jsonpointer>=1.9 in /usr/local/lib/python3.11/dist-packages (from jsonpatch<2.0,>=1.33->langchain-core>=0.3.29->langchain-graph-retriever) (3.0.0)\n",
            "Requirement already satisfied: httpx<1,>=0.23.0 in /usr/local/lib/python3.11/dist-packages (from langsmith<0.4,>=0.1.125->langchain-core>=0.3.29->langchain-graph-retriever) (0.28.1)\n",
            "Requirement already satisfied: orjson<4.0.0,>=3.9.14 in /usr/local/lib/python3.11/dist-packages (from langsmith<0.4,>=0.1.125->langchain-core>=0.3.29->langchain-graph-retriever) (3.10.16)\n",
            "Requirement already satisfied: requests<3,>=2 in /usr/local/lib/python3.11/dist-packages (from langsmith<0.4,>=0.1.125->langchain-core>=0.3.29->langchain-graph-retriever) (2.32.3)\n",
            "Requirement already satisfied: requests-toolbelt<2.0.0,>=1.0.0 in /usr/local/lib/python3.11/dist-packages (from langsmith<0.4,>=0.1.125->langchain-core>=0.3.29->langchain-graph-retriever) (1.0.0)\n",
            "Requirement already satisfied: zstandard<0.24.0,>=0.23.0 in /usr/local/lib/python3.11/dist-packages (from langsmith<0.4,>=0.1.125->langchain-core>=0.3.29->langchain-graph-retriever) (0.23.0)\n",
            "Requirement already satisfied: iniconfig in /usr/local/lib/python3.11/dist-packages (from pytest>=8.3.4->graph-retriever->langchain-graph-retriever) (2.1.0)\n",
            "Requirement already satisfied: pluggy<2,>=1.5 in /usr/local/lib/python3.11/dist-packages (from pytest>=8.3.4->graph-retriever->langchain-graph-retriever) (1.5.0)\n",
            "Requirement already satisfied: anyio in /usr/local/lib/python3.11/dist-packages (from httpx<1,>=0.23.0->langsmith<0.4,>=0.1.125->langchain-core>=0.3.29->langchain-graph-retriever) (4.9.0)\n",
            "Requirement already satisfied: certifi in /usr/local/lib/python3.11/dist-packages (from httpx<1,>=0.23.0->langsmith<0.4,>=0.1.125->langchain-core>=0.3.29->langchain-graph-retriever) (2025.1.31)\n",
            "Requirement already satisfied: httpcore==1.* in /usr/local/lib/python3.11/dist-packages (from httpx<1,>=0.23.0->langsmith<0.4,>=0.1.125->langchain-core>=0.3.29->langchain-graph-retriever) (1.0.7)\n",
            "Requirement already satisfied: idna in /usr/local/lib/python3.11/dist-packages (from httpx<1,>=0.23.0->langsmith<0.4,>=0.1.125->langchain-core>=0.3.29->langchain-graph-retriever) (3.10)\n",
            "Requirement already satisfied: h11<0.15,>=0.13 in /usr/local/lib/python3.11/dist-packages (from httpcore==1.*->httpx<1,>=0.23.0->langsmith<0.4,>=0.1.125->langchain-core>=0.3.29->langchain-graph-retriever) (0.14.0)\n",
            "Requirement already satisfied: charset-normalizer<4,>=2 in /usr/local/lib/python3.11/dist-packages (from requests<3,>=2->langsmith<0.4,>=0.1.125->langchain-core>=0.3.29->langchain-graph-retriever) (3.4.1)\n",
            "Requirement already satisfied: urllib3<3,>=1.21.1 in /usr/local/lib/python3.11/dist-packages (from requests<3,>=2->langsmith<0.4,>=0.1.125->langchain-core>=0.3.29->langchain-graph-retriever) (2.3.0)\n",
            "Requirement already satisfied: sniffio>=1.1 in /usr/local/lib/python3.11/dist-packages (from anyio->httpx<1,>=0.23.0->langsmith<0.4,>=0.1.125->langchain-core>=0.3.29->langchain-graph-retriever) (1.3.1)\n",
            "Downloading langchain_graph_retriever-0.8.0-py3-none-any.whl (33 kB)\n",
            "Downloading backoff-2.2.1-py3-none-any.whl (15 kB)\n",
            "Downloading graph_retriever-0.8.0-py3-none-any.whl (37 kB)\n",
            "Installing collected packages: backoff, graph-retriever, langchain-graph-retriever\n",
            "Successfully installed backoff-2.2.1 graph-retriever-0.8.0 langchain-graph-retriever-0.8.0\n"
          ]
        }
      ],
      "source": [
        "!pip install langchain-graph-retriever"
      ]
    },
    {
      "cell_type": "code",
      "source": [
        "!pip install graph_rag_example_helpers"
      ],
      "metadata": {
        "colab": {
          "base_uri": "https://localhost:8080/"
        },
        "id": "iHDL8wjpgW17",
        "outputId": "e14db92c-80ea-41a3-b818-98cbf64ab5d4"
      },
      "execution_count": null,
      "outputs": [
        {
          "output_type": "stream",
          "name": "stdout",
          "text": [
            "Collecting graph_rag_example_helpers\n",
            "  Downloading graph_rag_example_helpers-0.8.0-py3-none-any.whl.metadata (1.6 kB)\n",
            "Collecting astrapy>=1.5.2 (from graph_rag_example_helpers)\n",
            "  Downloading astrapy-2.0.1-py3-none-any.whl.metadata (23 kB)\n",
            "Requirement already satisfied: backoff>=2.2.1 in /usr/local/lib/python3.11/dist-packages (from graph_rag_example_helpers) (2.2.1)\n",
            "Requirement already satisfied: graph-retriever in /usr/local/lib/python3.11/dist-packages (from graph_rag_example_helpers) (0.8.0)\n",
            "Collecting griffe>=1.5.7 (from graph_rag_example_helpers)\n",
            "  Downloading griffe-1.7.2-py3-none-any.whl.metadata (5.0 kB)\n",
            "Requirement already satisfied: httpx>=0.28.1 in /usr/local/lib/python3.11/dist-packages (from graph_rag_example_helpers) (0.28.1)\n",
            "Requirement already satisfied: langchain-core>=0.3.29 in /usr/local/lib/python3.11/dist-packages (from graph_rag_example_helpers) (0.3.49)\n",
            "Collecting python-dotenv>=1.0.1 (from graph_rag_example_helpers)\n",
            "  Downloading python_dotenv-1.1.0-py3-none-any.whl.metadata (24 kB)\n",
            "Requirement already satisfied: requests>=2.32.3 in /usr/local/lib/python3.11/dist-packages (from graph_rag_example_helpers) (2.32.3)\n",
            "Requirement already satisfied: simsimd>=6.2.1 in /usr/local/lib/python3.11/dist-packages (from graph_rag_example_helpers) (6.2.1)\n",
            "Requirement already satisfied: tqdm>=4.67.1 in /usr/local/lib/python3.11/dist-packages (from graph_rag_example_helpers) (4.67.1)\n",
            "Collecting deprecation<2.2.0,>=2.1.0 (from astrapy>=1.5.2->graph_rag_example_helpers)\n",
            "  Downloading deprecation-2.1.0-py2.py3-none-any.whl.metadata (4.6 kB)\n",
            "Collecting pymongo>=3 (from astrapy>=1.5.2->graph_rag_example_helpers)\n",
            "  Downloading pymongo-4.11.3-cp311-cp311-manylinux_2_17_x86_64.manylinux2014_x86_64.whl.metadata (22 kB)\n",
            "Requirement already satisfied: toml<0.11.0,>=0.10.2 in /usr/local/lib/python3.11/dist-packages (from astrapy>=1.5.2->graph_rag_example_helpers) (0.10.2)\n",
            "Requirement already satisfied: typing-extensions>=4.0 in /usr/local/lib/python3.11/dist-packages (from astrapy>=1.5.2->graph_rag_example_helpers) (4.13.0)\n",
            "Collecting uuid6>=2024.1.12 (from astrapy>=1.5.2->graph_rag_example_helpers)\n",
            "  Downloading uuid6-2024.7.10-py3-none-any.whl.metadata (8.6 kB)\n",
            "Collecting colorama>=0.4 (from griffe>=1.5.7->graph_rag_example_helpers)\n",
            "  Downloading colorama-0.4.6-py2.py3-none-any.whl.metadata (17 kB)\n",
            "Requirement already satisfied: anyio in /usr/local/lib/python3.11/dist-packages (from httpx>=0.28.1->graph_rag_example_helpers) (4.9.0)\n",
            "Requirement already satisfied: certifi in /usr/local/lib/python3.11/dist-packages (from httpx>=0.28.1->graph_rag_example_helpers) (2025.1.31)\n",
            "Requirement already satisfied: httpcore==1.* in /usr/local/lib/python3.11/dist-packages (from httpx>=0.28.1->graph_rag_example_helpers) (1.0.7)\n",
            "Requirement already satisfied: idna in /usr/local/lib/python3.11/dist-packages (from httpx>=0.28.1->graph_rag_example_helpers) (3.10)\n",
            "Requirement already satisfied: h11<0.15,>=0.13 in /usr/local/lib/python3.11/dist-packages (from httpcore==1.*->httpx>=0.28.1->graph_rag_example_helpers) (0.14.0)\n",
            "Requirement already satisfied: langsmith<0.4,>=0.1.125 in /usr/local/lib/python3.11/dist-packages (from langchain-core>=0.3.29->graph_rag_example_helpers) (0.3.22)\n",
            "Requirement already satisfied: tenacity!=8.4.0,<10.0.0,>=8.1.0 in /usr/local/lib/python3.11/dist-packages (from langchain-core>=0.3.29->graph_rag_example_helpers) (9.1.2)\n",
            "Requirement already satisfied: jsonpatch<2.0,>=1.33 in /usr/local/lib/python3.11/dist-packages (from langchain-core>=0.3.29->graph_rag_example_helpers) (1.33)\n",
            "Requirement already satisfied: PyYAML>=5.3 in /usr/local/lib/python3.11/dist-packages (from langchain-core>=0.3.29->graph_rag_example_helpers) (6.0.2)\n",
            "Requirement already satisfied: packaging<25,>=23.2 in /usr/local/lib/python3.11/dist-packages (from langchain-core>=0.3.29->graph_rag_example_helpers) (24.2)\n",
            "Requirement already satisfied: pydantic<3.0.0,>=2.5.2 in /usr/local/lib/python3.11/dist-packages (from langchain-core>=0.3.29->graph_rag_example_helpers) (2.11.1)\n",
            "Requirement already satisfied: charset-normalizer<4,>=2 in /usr/local/lib/python3.11/dist-packages (from requests>=2.32.3->graph_rag_example_helpers) (3.4.1)\n",
            "Requirement already satisfied: urllib3<3,>=1.21.1 in /usr/local/lib/python3.11/dist-packages (from requests>=2.32.3->graph_rag_example_helpers) (2.3.0)\n",
            "Requirement already satisfied: immutabledict>=4.2.1 in /usr/local/lib/python3.11/dist-packages (from graph-retriever->graph_rag_example_helpers) (4.2.1)\n",
            "Requirement already satisfied: numpy>=1.26.4 in /usr/local/lib/python3.11/dist-packages (from graph-retriever->graph_rag_example_helpers) (2.0.2)\n",
            "Requirement already satisfied: pytest>=8.3.4 in /usr/local/lib/python3.11/dist-packages (from graph-retriever->graph_rag_example_helpers) (8.3.5)\n",
            "Requirement already satisfied: h2<5,>=3 in /usr/local/lib/python3.11/dist-packages (from httpx[http2]<1,>=0.25.2->astrapy>=1.5.2->graph_rag_example_helpers) (4.2.0)\n",
            "Requirement already satisfied: jsonpointer>=1.9 in /usr/local/lib/python3.11/dist-packages (from jsonpatch<2.0,>=1.33->langchain-core>=0.3.29->graph_rag_example_helpers) (3.0.0)\n",
            "Requirement already satisfied: orjson<4.0.0,>=3.9.14 in /usr/local/lib/python3.11/dist-packages (from langsmith<0.4,>=0.1.125->langchain-core>=0.3.29->graph_rag_example_helpers) (3.10.16)\n",
            "Requirement already satisfied: requests-toolbelt<2.0.0,>=1.0.0 in /usr/local/lib/python3.11/dist-packages (from langsmith<0.4,>=0.1.125->langchain-core>=0.3.29->graph_rag_example_helpers) (1.0.0)\n",
            "Requirement already satisfied: zstandard<0.24.0,>=0.23.0 in /usr/local/lib/python3.11/dist-packages (from langsmith<0.4,>=0.1.125->langchain-core>=0.3.29->graph_rag_example_helpers) (0.23.0)\n",
            "Requirement already satisfied: annotated-types>=0.6.0 in /usr/local/lib/python3.11/dist-packages (from pydantic<3.0.0,>=2.5.2->langchain-core>=0.3.29->graph_rag_example_helpers) (0.7.0)\n",
            "Requirement already satisfied: pydantic-core==2.33.0 in /usr/local/lib/python3.11/dist-packages (from pydantic<3.0.0,>=2.5.2->langchain-core>=0.3.29->graph_rag_example_helpers) (2.33.0)\n",
            "Requirement already satisfied: typing-inspection>=0.4.0 in /usr/local/lib/python3.11/dist-packages (from pydantic<3.0.0,>=2.5.2->langchain-core>=0.3.29->graph_rag_example_helpers) (0.4.0)\n",
            "Collecting dnspython<3.0.0,>=1.16.0 (from pymongo>=3->astrapy>=1.5.2->graph_rag_example_helpers)\n",
            "  Downloading dnspython-2.7.0-py3-none-any.whl.metadata (5.8 kB)\n",
            "Requirement already satisfied: iniconfig in /usr/local/lib/python3.11/dist-packages (from pytest>=8.3.4->graph-retriever->graph_rag_example_helpers) (2.1.0)\n",
            "Requirement already satisfied: pluggy<2,>=1.5 in /usr/local/lib/python3.11/dist-packages (from pytest>=8.3.4->graph-retriever->graph_rag_example_helpers) (1.5.0)\n",
            "Requirement already satisfied: sniffio>=1.1 in /usr/local/lib/python3.11/dist-packages (from anyio->httpx>=0.28.1->graph_rag_example_helpers) (1.3.1)\n",
            "Requirement already satisfied: hyperframe<7,>=6.1 in /usr/local/lib/python3.11/dist-packages (from h2<5,>=3->httpx[http2]<1,>=0.25.2->astrapy>=1.5.2->graph_rag_example_helpers) (6.1.0)\n",
            "Requirement already satisfied: hpack<5,>=4.1 in /usr/local/lib/python3.11/dist-packages (from h2<5,>=3->httpx[http2]<1,>=0.25.2->astrapy>=1.5.2->graph_rag_example_helpers) (4.1.0)\n",
            "Downloading graph_rag_example_helpers-0.8.0-py3-none-any.whl (19 kB)\n",
            "Downloading astrapy-2.0.1-py3-none-any.whl (300 kB)\n",
            "\u001b[2K   \u001b[90m━━━━━━━━━━━━━━━━━━━━━━━━━━━━━━━━━━━━━━━━\u001b[0m \u001b[32m300.5/300.5 kB\u001b[0m \u001b[31m9.1 MB/s\u001b[0m eta \u001b[36m0:00:00\u001b[0m\n",
            "\u001b[?25hDownloading griffe-1.7.2-py3-none-any.whl (129 kB)\n",
            "\u001b[2K   \u001b[90m━━━━━━━━━━━━━━━━━━━━━━━━━━━━━━━━━━━━━━━━\u001b[0m \u001b[32m129.2/129.2 kB\u001b[0m \u001b[31m9.7 MB/s\u001b[0m eta \u001b[36m0:00:00\u001b[0m\n",
            "\u001b[?25hDownloading python_dotenv-1.1.0-py3-none-any.whl (20 kB)\n",
            "Downloading colorama-0.4.6-py2.py3-none-any.whl (25 kB)\n",
            "Downloading deprecation-2.1.0-py2.py3-none-any.whl (11 kB)\n",
            "Downloading pymongo-4.11.3-cp311-cp311-manylinux_2_17_x86_64.manylinux2014_x86_64.whl (1.4 MB)\n",
            "\u001b[2K   \u001b[90m━━━━━━━━━━━━━━━━━━━━━━━━━━━━━━━━━━━━━━━━\u001b[0m \u001b[32m1.4/1.4 MB\u001b[0m \u001b[31m43.0 MB/s\u001b[0m eta \u001b[36m0:00:00\u001b[0m\n",
            "\u001b[?25hDownloading uuid6-2024.7.10-py3-none-any.whl (6.4 kB)\n",
            "Downloading dnspython-2.7.0-py3-none-any.whl (313 kB)\n",
            "\u001b[2K   \u001b[90m━━━━━━━━━━━━━━━━━━━━━━━━━━━━━━━━━━━━━━━━\u001b[0m \u001b[32m313.6/313.6 kB\u001b[0m \u001b[31m19.6 MB/s\u001b[0m eta \u001b[36m0:00:00\u001b[0m\n",
            "\u001b[?25hInstalling collected packages: uuid6, python-dotenv, dnspython, deprecation, colorama, pymongo, griffe, astrapy, graph_rag_example_helpers\n",
            "Successfully installed astrapy-2.0.1 colorama-0.4.6 deprecation-2.1.0 dnspython-2.7.0 graph_rag_example_helpers-0.8.0 griffe-1.7.2 pymongo-4.11.3 python-dotenv-1.1.0 uuid6-2024.7.10\n"
          ]
        }
      ]
    },
    {
      "cell_type": "code",
      "source": [
        "!pip install langchain_openai"
      ],
      "metadata": {
        "colab": {
          "base_uri": "https://localhost:8080/"
        },
        "id": "xHlJ8jN2gfQv",
        "outputId": "98cb9ea4-d513-4957-c390-01f146ae68ce"
      },
      "execution_count": null,
      "outputs": [
        {
          "output_type": "stream",
          "name": "stdout",
          "text": [
            "Collecting langchain_openai\n",
            "  Downloading langchain_openai-0.3.12-py3-none-any.whl.metadata (2.3 kB)\n",
            "Requirement already satisfied: langchain-core<1.0.0,>=0.3.49 in /usr/local/lib/python3.11/dist-packages (from langchain_openai) (0.3.49)\n",
            "Requirement already satisfied: openai<2.0.0,>=1.68.2 in /usr/local/lib/python3.11/dist-packages (from langchain_openai) (1.70.0)\n",
            "Collecting tiktoken<1,>=0.7 (from langchain_openai)\n",
            "  Downloading tiktoken-0.9.0-cp311-cp311-manylinux_2_17_x86_64.manylinux2014_x86_64.whl.metadata (6.7 kB)\n",
            "Requirement already satisfied: langsmith<0.4,>=0.1.125 in /usr/local/lib/python3.11/dist-packages (from langchain-core<1.0.0,>=0.3.49->langchain_openai) (0.3.22)\n",
            "Requirement already satisfied: tenacity!=8.4.0,<10.0.0,>=8.1.0 in /usr/local/lib/python3.11/dist-packages (from langchain-core<1.0.0,>=0.3.49->langchain_openai) (9.1.2)\n",
            "Requirement already satisfied: jsonpatch<2.0,>=1.33 in /usr/local/lib/python3.11/dist-packages (from langchain-core<1.0.0,>=0.3.49->langchain_openai) (1.33)\n",
            "Requirement already satisfied: PyYAML>=5.3 in /usr/local/lib/python3.11/dist-packages (from langchain-core<1.0.0,>=0.3.49->langchain_openai) (6.0.2)\n",
            "Requirement already satisfied: packaging<25,>=23.2 in /usr/local/lib/python3.11/dist-packages (from langchain-core<1.0.0,>=0.3.49->langchain_openai) (24.2)\n",
            "Requirement already satisfied: typing-extensions>=4.7 in /usr/local/lib/python3.11/dist-packages (from langchain-core<1.0.0,>=0.3.49->langchain_openai) (4.13.0)\n",
            "Requirement already satisfied: pydantic<3.0.0,>=2.5.2 in /usr/local/lib/python3.11/dist-packages (from langchain-core<1.0.0,>=0.3.49->langchain_openai) (2.11.1)\n",
            "Requirement already satisfied: anyio<5,>=3.5.0 in /usr/local/lib/python3.11/dist-packages (from openai<2.0.0,>=1.68.2->langchain_openai) (4.9.0)\n",
            "Requirement already satisfied: distro<2,>=1.7.0 in /usr/local/lib/python3.11/dist-packages (from openai<2.0.0,>=1.68.2->langchain_openai) (1.9.0)\n",
            "Requirement already satisfied: httpx<1,>=0.23.0 in /usr/local/lib/python3.11/dist-packages (from openai<2.0.0,>=1.68.2->langchain_openai) (0.28.1)\n",
            "Requirement already satisfied: jiter<1,>=0.4.0 in /usr/local/lib/python3.11/dist-packages (from openai<2.0.0,>=1.68.2->langchain_openai) (0.9.0)\n",
            "Requirement already satisfied: sniffio in /usr/local/lib/python3.11/dist-packages (from openai<2.0.0,>=1.68.2->langchain_openai) (1.3.1)\n",
            "Requirement already satisfied: tqdm>4 in /usr/local/lib/python3.11/dist-packages (from openai<2.0.0,>=1.68.2->langchain_openai) (4.67.1)\n",
            "Requirement already satisfied: regex>=2022.1.18 in /usr/local/lib/python3.11/dist-packages (from tiktoken<1,>=0.7->langchain_openai) (2024.11.6)\n",
            "Requirement already satisfied: requests>=2.26.0 in /usr/local/lib/python3.11/dist-packages (from tiktoken<1,>=0.7->langchain_openai) (2.32.3)\n",
            "Requirement already satisfied: idna>=2.8 in /usr/local/lib/python3.11/dist-packages (from anyio<5,>=3.5.0->openai<2.0.0,>=1.68.2->langchain_openai) (3.10)\n",
            "Requirement already satisfied: certifi in /usr/local/lib/python3.11/dist-packages (from httpx<1,>=0.23.0->openai<2.0.0,>=1.68.2->langchain_openai) (2025.1.31)\n",
            "Requirement already satisfied: httpcore==1.* in /usr/local/lib/python3.11/dist-packages (from httpx<1,>=0.23.0->openai<2.0.0,>=1.68.2->langchain_openai) (1.0.7)\n",
            "Requirement already satisfied: h11<0.15,>=0.13 in /usr/local/lib/python3.11/dist-packages (from httpcore==1.*->httpx<1,>=0.23.0->openai<2.0.0,>=1.68.2->langchain_openai) (0.14.0)\n",
            "Requirement already satisfied: jsonpointer>=1.9 in /usr/local/lib/python3.11/dist-packages (from jsonpatch<2.0,>=1.33->langchain-core<1.0.0,>=0.3.49->langchain_openai) (3.0.0)\n",
            "Requirement already satisfied: orjson<4.0.0,>=3.9.14 in /usr/local/lib/python3.11/dist-packages (from langsmith<0.4,>=0.1.125->langchain-core<1.0.0,>=0.3.49->langchain_openai) (3.10.16)\n",
            "Requirement already satisfied: requests-toolbelt<2.0.0,>=1.0.0 in /usr/local/lib/python3.11/dist-packages (from langsmith<0.4,>=0.1.125->langchain-core<1.0.0,>=0.3.49->langchain_openai) (1.0.0)\n",
            "Requirement already satisfied: zstandard<0.24.0,>=0.23.0 in /usr/local/lib/python3.11/dist-packages (from langsmith<0.4,>=0.1.125->langchain-core<1.0.0,>=0.3.49->langchain_openai) (0.23.0)\n",
            "Requirement already satisfied: annotated-types>=0.6.0 in /usr/local/lib/python3.11/dist-packages (from pydantic<3.0.0,>=2.5.2->langchain-core<1.0.0,>=0.3.49->langchain_openai) (0.7.0)\n",
            "Requirement already satisfied: pydantic-core==2.33.0 in /usr/local/lib/python3.11/dist-packages (from pydantic<3.0.0,>=2.5.2->langchain-core<1.0.0,>=0.3.49->langchain_openai) (2.33.0)\n",
            "Requirement already satisfied: typing-inspection>=0.4.0 in /usr/local/lib/python3.11/dist-packages (from pydantic<3.0.0,>=2.5.2->langchain-core<1.0.0,>=0.3.49->langchain_openai) (0.4.0)\n",
            "Requirement already satisfied: charset-normalizer<4,>=2 in /usr/local/lib/python3.11/dist-packages (from requests>=2.26.0->tiktoken<1,>=0.7->langchain_openai) (3.4.1)\n",
            "Requirement already satisfied: urllib3<3,>=1.21.1 in /usr/local/lib/python3.11/dist-packages (from requests>=2.26.0->tiktoken<1,>=0.7->langchain_openai) (2.3.0)\n",
            "Downloading langchain_openai-0.3.12-py3-none-any.whl (61 kB)\n",
            "\u001b[2K   \u001b[90m━━━━━━━━━━━━━━━━━━━━━━━━━━━━━━━━━━━━━━━━\u001b[0m \u001b[32m61.3/61.3 kB\u001b[0m \u001b[31m3.7 MB/s\u001b[0m eta \u001b[36m0:00:00\u001b[0m\n",
            "\u001b[?25hDownloading tiktoken-0.9.0-cp311-cp311-manylinux_2_17_x86_64.manylinux2014_x86_64.whl (1.2 MB)\n",
            "\u001b[2K   \u001b[90m━━━━━━━━━━━━━━━━━━━━━━━━━━━━━━━━━━━━━━━━\u001b[0m \u001b[32m1.2/1.2 MB\u001b[0m \u001b[31m27.3 MB/s\u001b[0m eta \u001b[36m0:00:00\u001b[0m\n",
            "\u001b[?25hInstalling collected packages: tiktoken, langchain_openai\n",
            "Successfully installed langchain_openai-0.3.12 tiktoken-0.9.0\n"
          ]
        }
      ]
    },
    {
      "cell_type": "code",
      "source": [
        "from graph_rag_example_helpers.datasets.animals import fetch_documents"
      ],
      "metadata": {
        "id": "st1oG5UYgwDM"
      },
      "execution_count": null,
      "outputs": []
    },
    {
      "cell_type": "code",
      "source": [
        "animals=fetch_documents()"
      ],
      "metadata": {
        "id": "yYZ_WXrJhEAi"
      },
      "execution_count": null,
      "outputs": []
    },
    {
      "cell_type": "code",
      "source": [
        "animals"
      ],
      "metadata": {
        "colab": {
          "base_uri": "https://localhost:8080/"
        },
        "id": "zgFOQmLWhI71",
        "outputId": "a5879ddf-bfa3-40af-b686-47f0a8998a40"
      },
      "execution_count": null,
      "outputs": [
        {
          "output_type": "execute_result",
          "data": {
            "text/plain": [
              "[Document(id='aardvark', metadata={'type': 'mammal', 'number_of_legs': 4, 'keywords': ['burrowing', 'nocturnal', 'ants', 'savanna'], 'habitat': 'savanna', 'tags': [{'a': 5, 'b': 7}, {'a': 8, 'b': 10}]}, page_content='the aardvark is a nocturnal mammal known for its burrowing habits and long snout used to sniff out ants.'),\n",
              " Document(id='albatross', metadata={'type': 'bird', 'number_of_legs': 2, 'keywords': ['seabird', 'wingspan', 'ocean'], 'habitat': 'marine', 'tags': [{'a': 5, 'b': 8}, {'a': 8, 'b': 10}]}, page_content='the albatross is a large seabird with the longest wingspan of any bird, allowing it to glide effortlessly over oceans.'),\n",
              " Document(id='alligator', metadata={'type': 'reptile', 'number_of_legs': 4, 'keywords': ['reptile', 'jaws', 'wetlands'], 'diet': 'carnivorous', 'nested': {'a': 5}}, page_content='alligators are large reptiles with powerful jaws and are commonly found in freshwater wetlands.'),\n",
              " Document(id='alpaca', metadata={'type': 'mammal', 'number_of_legs': 4, 'keywords': ['wool', 'domesticated', 'friendly'], 'origin': 'south america', 'nested': {'a': 5}}, page_content='alpacas are domesticated mammals valued for their soft wool and friendly demeanor.'),\n",
              " Document(id='ant', metadata={'type': 'insect', 'number_of_legs': 6, 'keywords': ['social', 'colonies', 'strength', 'pollinator'], 'diet': 'omnivorous', 'nested': {'a': 6}}, page_content='ants are social insects that live in colonies and are known for their teamwork and strength.'),\n",
              " Document(id='anteater', metadata={'type': 'mammal', 'number_of_legs': 4, 'keywords': ['ants', 'tongue', 'termites'], 'diet': 'insectivore', 'nested': {'b': 5}}, page_content='anteaters use their long tongues to eat thousands of ants and termites each day.'),\n",
              " Document(id='antelope', metadata={'type': 'mammal', 'number_of_legs': 4, 'keywords': ['graceful', 'herbivore', 'prey'], 'habitat': 'grasslands'}, page_content='antelopes are graceful herbivorous mammals that are often prey for large predators in the wild.'),\n",
              " Document(id='armadillo', metadata={'type': 'mammal', 'number_of_legs': 4, 'keywords': ['protective', 'shell', 'rolling'], 'diet': 'insectivore'}, page_content='armadillos have hard, protective shells and are known for their ability to roll into a ball.'),\n",
              " Document(id='baboon', metadata={'type': 'mammal', 'number_of_legs': 4, 'keywords': ['social', 'primates', 'group'], 'diet': 'omnivorous'}, page_content='baboons are highly social primates with complex group dynamics and strong bonds.'),\n",
              " Document(id='badger', metadata={'type': 'mammal', 'number_of_legs': 4, 'keywords': ['burrowing', 'defense', 'digging'], 'diet': 'omnivorous'}, page_content='badgers are burrowing mammals known for their aggressive defense and digging skills.'),\n",
              " Document(id='barracuda', metadata={'type': 'fish', 'number_of_legs': 0, 'keywords': ['predatory', 'sharp teeth', 'streamlined'], 'habitat': 'marine'}, page_content='the barracuda is a fierce predatory fish with sharp teeth and streamlined bodies.'),\n",
              " Document(id='bat', metadata={'type': 'mammal', 'number_of_legs': 2, 'keywords': ['flight', 'pollinator', 'pest control'], 'activity': 'nocturnal'}, page_content='bats are the only mammals capable of sustained flight and are essential for pollination and pest control.'),\n",
              " Document(id='bear', metadata={'type': 'mammal', 'number_of_legs': 4, 'keywords': ['large', 'habitat', 'omnivore', 'forest-floor'], 'diet': 'omnivorous', 'habitat': 'tundra'}, page_content='bears are large mammals that can be found across many habitats, from forests to tundras.'),\n",
              " Document(id='beaver', metadata={'type': 'mammal', 'number_of_legs': 4, 'keywords': ['dam-building', 'ecosystem', 'rivers'], 'diet': 'herbivorous'}, page_content='beavers are known for their dam-building skills, creating entire ecosystems in rivers and streams.'),\n",
              " Document(id='bee', metadata={'type': 'insect', 'number_of_legs': 6, 'keywords': ['pollinator', 'agriculture', 'honey'], 'activity': 'diurnal'}, page_content='bees are an insect that is a vital pollinator, playing a crucial role in agriculture and ecosystems.'),\n",
              " Document(id='beetle', metadata={'type': 'insect', 'number_of_legs': 6, 'keywords': ['diverse', 'species', 'hard shell'], 'diet': 'varied'}, page_content='beetles are one of the most diverse groups of insects, with over 350,000 species identified.'),\n",
              " Document(id='bison', metadata={'type': 'mammal', 'number_of_legs': 4, 'keywords': ['herbivore', 'grasslands', 'herds'], 'conservation': 'near-threatened'}, page_content='bison are massive herbivores that once roamed the grasslands of north america in vast herds.'),\n",
              " Document(id='blue jay', metadata={'type': 'bird', 'number_of_legs': 2, 'keywords': ['intelligent', 'loud', 'brightly colored'], 'diet': 'omnivorous'}, page_content='the blue jay is a brightly colored bird known for its intelligence and loud calls.'),\n",
              " Document(id='boar', metadata={'type': 'mammal', 'number_of_legs': 4, 'keywords': ['wild', 'tusks', 'pigs'], 'diet': 'omnivorous'}, page_content='boars are wild relatives of pigs, known for their tough hides and tusks.'),\n",
              " Document(id='bobcat', metadata={'type': 'mammal', 'number_of_legs': 4, 'keywords': ['wildcat', 'solitary', 'tufted ears', 'forest-floor'], 'habitat': 'forest-floor'}, page_content='the bobcat is a medium-sized wildcat known for its tufted ears and solitary nature.'),\n",
              " Document(id='buffalo', metadata={'type': 'mammal', 'number_of_legs': 4, 'keywords': ['herbivore', 'horns', 'grazing'], 'habitat': 'grasslands'}, page_content='buffalo are large herbivorous mammals known for their horns and grazing habits.'),\n",
              " Document(id='butterfly', metadata={'type': 'insect', 'number_of_legs': 6, 'keywords': ['colorful', 'metamorphosis', 'pollinator'], 'activity': 'diurnal'}, page_content='butterflies are colorful insects known for their metamorphosis from caterpillars.'),\n",
              " Document(id='camel', metadata={'type': 'mammal', 'number_of_legs': 4, 'keywords': ['desert', 'humps', 'survival'], 'adaptation': 'arid climates'}, page_content='camels are desert mammals known for their humps, which store fat for survival.'),\n",
              " Document(id='capybara', metadata={'type': 'mammal', 'number_of_legs': 4, 'keywords': ['rodent', 'social', 'largest'], 'habitat': 'wetlands'}, page_content='capybaras are the largest rodents in the world and are highly social animals.'),\n",
              " Document(id='caribou', metadata={'type': 'mammal', 'number_of_legs': 4, 'keywords': ['migratory', 'arctic', 'herbivore', 'tundra'], 'diet': 'herbivorous'}, page_content='caribou, also known as reindeer, are migratory mammals found in arctic regions.'),\n",
              " Document(id='cassowary', metadata={'type': 'bird', 'number_of_legs': 2, 'keywords': ['flightless', 'colorful', 'powerful'], 'habitat': 'rainforest'}, page_content='cassowaries are flightless birds known for their colorful necks and powerful legs.'),\n",
              " Document(id='cat', metadata={'type': 'mammal', 'number_of_legs': 4, 'keywords': ['domesticated', 'hunting', 'agile'], 'diet': 'carnivorous'}, page_content='cats are domesticated mammals known for their agility, independence, and hunting skills.'),\n",
              " Document(id='caterpillar', metadata={'type': 'insect', 'number_of_legs': 6, 'keywords': ['larva', 'metamorphosis', 'appetite'], 'diet': 'herbivorous'}, page_content='caterpillars are the larval stage of butterflies and moths, known for their voracious appetites.'),\n",
              " Document(id='chameleon', metadata={'type': 'reptile', 'number_of_legs': 4, 'keywords': ['color change', 'sticky tongue', 'camouflage'], 'habitat': 'forest'}, page_content='chameleons are reptiles known for their ability to change color and their long, sticky tongues.'),\n",
              " Document(id='cheetah', metadata={'type': 'mammal', 'number_of_legs': 4, 'keywords': ['fastest', 'speed', 'predator'], 'habitat': 'savanna'}, page_content='cheetahs are the fastest land animals, capable of reaching speeds up to 70 mph.'),\n",
              " Document(id='chicken', metadata={'type': 'bird', 'number_of_legs': 2, 'keywords': ['domesticated', 'eggs', 'meat'], 'diet': 'omnivorous'}, page_content='chickens are domesticated birds raised for their eggs and meat worldwide.'),\n",
              " Document(id='chimpanzee', metadata={'type': 'mammal', 'number_of_legs': 4, 'keywords': ['intelligent', 'primates', 'dna'], 'habitat': 'forest'}, page_content='chimpanzees are intelligent primates that share about 98% of their dna with humans.'),\n",
              " Document(id='chinchilla', metadata={'type': 'mammal', 'number_of_legs': 4, 'keywords': ['soft fur', 'rodent', 'andes'], 'diet': 'herbivorous'}, page_content='chinchillas are small rodents with incredibly soft fur, native to the andes mountains.'),\n",
              " Document(id='cobra', metadata={'type': 'reptile', 'number_of_legs': 0, 'keywords': ['venomous', 'hood', 'snake'], 'habitat': 'forest-floor'}, page_content='cobras are venomous snakes known for their hood displays and defensive postures.'),\n",
              " Document(id='cockroach', metadata={'type': 'insect', 'number_of_legs': 6, 'keywords': ['resilient', 'extreme conditions', 'scavenger'], 'diet': 'omnivorous'}, page_content='cockroaches are resilient insects capable of surviving in extreme conditions.'),\n",
              " Document(id='coyote', metadata={'type': 'mammal', 'number_of_legs': 4, 'keywords': ['howls', 'adaptable', 'cunning'], 'habitat': 'grasslands'}, page_content='coyotes are adaptable mammals known for their distinctive howls and cunning nature.'),\n",
              " Document(id='crab', metadata={'type': 'crustacean', 'number_of_legs': 8, 'keywords': ['hard shell', 'pincers', 'coastal'], 'habitat': 'marine'}, page_content='crabs are crustaceans with hard shells and pincers, commonly found near coastal areas.'),\n",
              " Document(id='crane', metadata={'type': 'bird', 'number_of_legs': 2, 'keywords': ['elegant', 'courtship', 'dance'], 'habitat': 'wetlands'}, page_content='cranes are large, elegant birds known for their elaborate courtship dances.'),\n",
              " Document(id='crocodile', metadata={'type': 'reptile', 'number_of_legs': 4, 'keywords': ['reptile', 'jaws', 'long lifespan'], 'habitat': 'wetlands'}, page_content='crocodiles are large reptiles with powerful jaws and a long lifespan, often living over 70 years.'),\n",
              " Document(id='crow', metadata={'type': 'bird', 'number_of_legs': 2, 'keywords': ['intelligent', 'adaptable', 'problem-solving'], 'diet': 'omnivorous'}, page_content='crows are highly intelligent birds known for their problem-solving skills and adaptability.'),\n",
              " Document(id='deer', metadata={'type': 'mammal', 'number_of_legs': 4, 'keywords': ['antlers', 'graceful', 'herbivore'], 'habitat': 'forest-floor'}, page_content='deer are graceful mammals known for their antlers, which are shed and regrown annually.'),\n",
              " Document(id='dingo', metadata={'type': 'mammal', 'number_of_legs': 4, 'keywords': ['wild canine', 'australia', 'adaptable'], 'diet': 'carnivorous'}, page_content='dingoes are wild canines native to australia, known for their adaptability and hunting skills.'),\n",
              " Document(id='dog', metadata={'type': 'mammal', 'number_of_legs': 4, 'keywords': ['domesticated', 'loyal', 'companion'], 'diet': 'omnivorous'}, page_content=\"dogs are domesticated mammals known as loyal companions and are widely regarded as 'man's best friend.'\"),\n",
              " Document(id='dolphin', metadata={'type': 'mammal', 'number_of_legs': 0, 'keywords': ['intelligent', 'marine', 'playful'], 'habitat': 'ocean'}, page_content='dolphins are intelligent marine mammals known for their playful behavior and communication skills.'),\n",
              " Document(id='donkey', metadata={'type': 'mammal', 'number_of_legs': 4, 'keywords': ['hardy', 'working animal', 'strength'], 'diet': 'herbivorous'}, page_content='donkeys are hardy mammals known for their strength and use as working animals.'),\n",
              " Document(id='dove', metadata={'type': 'bird', 'number_of_legs': 2, 'keywords': ['gentle', 'peace', 'symbolism'], 'diet': 'herbivorous'}, page_content='doves are gentle birds often symbolizing peace and love in various cultures.'),\n",
              " Document(id='dragonfly', metadata={'type': 'insect', 'number_of_legs': 6, 'keywords': ['fast-flying', 'vibrant', 'vision'], 'habitat': 'wetlands'}, page_content='dragonflies are fast-flying insects known for their vibrant colors and excellent vision.'),\n",
              " Document(id='duck', metadata={'type': 'bird', 'number_of_legs': 2, 'keywords': ['webbed feet', 'waterfowl', 'quacking'], 'habitat': 'wetlands'}, page_content='ducks are waterfowl birds known for their webbed feet and quacking sounds.'),\n",
              " Document(id='eagle', metadata={'type': 'bird', 'number_of_legs': 2, 'keywords': ['bird of prey', 'sharp vision', 'talons'], 'diet': 'carnivorous'}, page_content='eagles are powerful birds of prey known for their sharp vision and strong talons.'),\n",
              " Document(id='eel', metadata={'type': 'fish', 'number_of_legs': 0, 'keywords': ['elongated', 'marine', 'freshwater'], 'diet': 'carnivorous'}, page_content='eels are elongated fish often found in marine and freshwater environments.'),\n",
              " Document(id='elephant', metadata={'type': 'mammal', 'number_of_legs': 4, 'keywords': ['largest', 'intelligent', 'social bonds'], 'diet': 'herbivorous'}, page_content='elephants are the largest land mammals, known for their intelligence and strong social bonds.'),\n",
              " Document(id='elk', metadata={'type': 'mammal', 'number_of_legs': 4, 'keywords': ['antlers', 'bugling', 'mating'], 'habitat': 'forest-floor'}, page_content='elk are large deer species known for their impressive antlers and bugling calls during mating season.'),\n",
              " Document(id='emu', metadata={'type': 'bird', 'number_of_legs': 2, 'keywords': ['flightless', 'speed', 'australia'], 'diet': 'omnivorous'}, page_content='emus are large flightless birds native to australia, known for their speed and size.'),\n",
              " Document(id='falcon', metadata={'type': 'bird', 'number_of_legs': 2, 'keywords': ['speed', 'precision', 'bird of prey'], 'diet': 'carnivorous'}, page_content='falcons are birds of prey known for their speed and precision in hunting.'),\n",
              " Document(id='ferret', metadata={'type': 'mammal', 'number_of_legs': 4, 'keywords': ['playful', 'curious', 'pet'], 'diet': 'carnivorous'}, page_content='ferrets are small, curious mammals often kept as pets for their playful nature.'),\n",
              " Document(id='finch', metadata={'type': 'bird', 'number_of_legs': 2, 'keywords': ['small', 'songs', 'diverse'], 'diet': 'herbivorous'}, page_content='finches are small birds known for their diverse species and beautiful songs.'),\n",
              " Document(id='fish', metadata={'type': 'fish', 'number_of_legs': 0, 'keywords': ['aquatic', 'gills', 'marine'], 'habitat': 'water'}, page_content='fish are aquatic animals with gills, commonly found in both freshwater and marine environments.'),\n",
              " Document(id='flamingo', metadata={'type': 'bird', 'number_of_legs': 2, 'keywords': ['pink', 'wading', 'long legs'], 'diet': 'omnivorous'}, page_content='flamingos are wading birds famous for their pink feathers and long legs.'),\n",
              " Document(id='fox', metadata={'type': 'mammal', 'number_of_legs': 4, 'keywords': ['cunning', 'agile', 'bushy tail'], 'diet': 'omnivorous'}, page_content='foxes are small, agile mammals known for their cunning behavior and bushy tails.'),\n",
              " Document(id='frog', metadata={'type': 'amphibian', 'number_of_legs': 4, 'keywords': ['jumping', 'croaking', 'amphibian'], 'habitat': 'wetlands'}, page_content='frogs are amphibians known for their jumping ability and croaking sounds.'),\n",
              " Document(id='gazelle', metadata={'type': 'mammal', 'number_of_legs': 4, 'keywords': ['fast', 'agile', 'grasslands'], 'diet': 'herbivorous', 'habitat': 'savanna'}, page_content='gazelles are fast and agile mammals commonly found in grasslands and savannas.'),\n",
              " Document(id='gecko', metadata={'type': 'reptile', 'number_of_legs': 4, 'keywords': ['climbing', 'small lizard', 'sticky feet'], 'habitat': 'forest'}, page_content='geckos are small lizards known for their ability to climb walls and ceilings with ease.'),\n",
              " Document(id='giraffe', metadata={'type': 'mammal', 'number_of_legs': 4, 'keywords': ['tallest', 'long neck', 'spots'], 'diet': 'herbivorous'}, page_content='giraffes are the tallest land animals, known for their long necks and unique spotted patterns.'),\n",
              " Document(id='goat', metadata={'type': 'mammal', 'number_of_legs': 4, 'keywords': ['hardy', 'milk', 'meat'], 'diet': 'herbivorous'}, page_content='goats are hardy mammals often kept for their milk, meat, and ability to graze on tough vegetation.'),\n",
              " Document(id='goose', metadata={'type': 'bird', 'number_of_legs': 2, 'keywords': ['waterfowl', 'migration', 'honking'], 'diet': 'herbivorous'}, page_content='geese are large waterfowl known for their migration patterns and loud honking calls.'),\n",
              " Document(id='gorilla', metadata={'type': 'mammal', 'number_of_legs': 4, 'keywords': ['strength', 'intelligence', 'primate'], 'habitat': 'forest'}, page_content='gorillas are large primates known for their strength, intelligence, and family-oriented behavior.'),\n",
              " Document(id='grasshopper', metadata={'type': 'insect', 'number_of_legs': 6, 'keywords': ['jumping', 'hind legs', 'chirping'], 'diet': 'herbivorous'}, page_content='grasshoppers are jumping insects known for their powerful hind legs and chirping sounds.'),\n",
              " Document(id='guinea pig', metadata={'type': 'mammal', 'number_of_legs': 4, 'keywords': ['pet', 'social', 'gentle'], 'diet': 'herbivorous'}, page_content='guinea pigs are small rodents often kept as pets due to their gentle and social nature.'),\n",
              " Document(id='hamster', metadata={'type': 'mammal', 'number_of_legs': 4, 'keywords': ['small rodent', 'cheek pouches', 'food storage'], 'diet': 'omnivorous'}, page_content='hamsters are small rodents known for their cheek pouches used to store food.'),\n",
              " Document(id='hawk', metadata={'type': 'bird', 'number_of_legs': 2, 'keywords': ['bird of prey', 'keen eyesight', 'hunter'], 'diet': 'carnivorous'}, page_content='hawks are birds of prey known for their keen eyesight and hunting prowess.'),\n",
              " Document(id='hedgehog', metadata={'type': 'mammal', 'number_of_legs': 4, 'keywords': ['spiky', 'curling', 'small mammal'], 'diet': 'omnivorous', 'habitat': 'grasslands'}, page_content='hedgehogs are small mammals known for their spiky quills and ability to curl into a ball.'),\n",
              " Document(id='heron', metadata={'type': 'bird', 'number_of_legs': 2, 'keywords': ['wading', 'long legs', 'water'], 'habitat': 'wetlands'}, page_content='herons are wading birds known for their long legs and necks, often seen near water.'),\n",
              " Document(id='hippopotamus', metadata={'type': 'mammal', 'number_of_legs': 4, 'keywords': ['massive', 'semi-aquatic', 'territorial'], 'habitat': 'rivers'}, page_content='hippopotamuses are large semi-aquatic mammals known for their massive size and territorial behavior.'),\n",
              " Document(id='hornet', metadata={'type': 'insect', 'number_of_legs': 6, 'keywords': ['wasp', 'sting', 'aggressive'], 'diet': 'carnivorous'}, page_content='hornets are large, aggressive wasps known for their painful stings.'),\n",
              " Document(id='horse', metadata={'type': 'mammal', 'number_of_legs': 4, 'keywords': ['domesticated', 'riding', 'strong'], 'diet': 'herbivorous'}, page_content='horses are strong, domesticated mammals often used for riding, work, and sports.'),\n",
              " Document(id='hummingbird', metadata={'type': 'bird', 'number_of_legs': 2, 'keywords': ['hovering', 'rapid wings', 'tiny bird'], 'diet': 'nectar'}, page_content='hummingbirds are tiny birds known for their rapid wing beats and ability to hover.'),\n",
              " Document(id='hyena', metadata={'type': 'mammal', 'number_of_legs': 4, 'keywords': ['laughing', 'pack', 'carnivore'], 'habitat': 'savanna'}, page_content='hyenas are carnivorous mammals known for their distinctive laughs and pack behavior.'),\n",
              " Document(id='iguana', metadata={'type': 'reptile', 'number_of_legs': 4, 'keywords': ['large lizard', 'herbivore', 'basking'], 'habitat': 'forest'}, page_content='iguanas are large herbivorous lizards often found basking in trees and near water.'),\n",
              " Document(id='jackal', metadata={'type': 'mammal', 'number_of_legs': 4, 'keywords': ['scavenger', 'adaptable', 'carnivore'], 'diet': 'omnivorous'}, page_content='jackals are carnivorous mammals known for their scavenging and adaptability.'),\n",
              " Document(id='jaguar', metadata={'type': 'mammal', 'number_of_legs': 4, 'keywords': ['big cat', 'spotted coat', 'predator'], 'habitat': 'rainforest'}, page_content='jaguars are powerful big cats known for their spotted coats and strength as predators.'),\n",
              " Document(id='jellyfish', metadata={'type': 'cnidarian', 'number_of_legs': 0, 'keywords': ['marine', 'tentacles', 'stinging cells'], 'habitat': 'ocean'}, page_content='jellyfish are marine animals with umbrella-shaped bodies and tentacles, known for their stinging cells.'),\n",
              " Document(id='kangaroo', metadata={'type': 'mammal', 'number_of_legs': 2, 'keywords': ['marsupial', 'australia', 'pouch'], 'diet': 'herbivorous'}, page_content='kangaroos are marsupials native to australia, known for their powerful hind legs and pouches.'),\n",
              " Document(id='koala', metadata={'type': 'mammal', 'number_of_legs': 4, 'keywords': ['marsupial', 'tree-dwelling', 'eucalyptus'], 'diet': 'herbivorous'}, page_content='koalas are tree-dwelling marsupials native to australia, known for their diet of eucalyptus leaves.'),\n",
              " Document(id='komodo dragon', metadata={'type': 'reptile', 'number_of_legs': 4, 'keywords': ['large lizard', 'venom', 'bite'], 'habitat': 'islands'}, page_content='komodo dragons are the largest living lizards, known for their powerful bite and venom.'),\n",
              " Document(id='lark', metadata={'type': 'bird', 'number_of_legs': 2, 'keywords': ['songbird', 'melodious', 'ground-nesting'], 'diet': 'herbivorous'}, page_content='larks are small songbirds known for their melodious calls and ground-nesting habits.'),\n",
              " Document(id='lemur', metadata={'type': 'mammal', 'number_of_legs': 4, 'keywords': ['primates', 'madagascar', 'social'], 'diet': 'omnivorous'}, page_content='lemurs are primates native to madagascar, known for their large eyes and social behavior.'),\n",
              " Document(id='leopard', metadata={'type': 'mammal', 'number_of_legs': 4, 'keywords': ['big cat', 'spotted coat', 'climbing'], 'habitat': 'forest'}, page_content='leopards are big cats known for their spotted coats and ability to climb trees.'),\n",
              " Document(id='lion', metadata={'type': 'mammal', 'number_of_legs': 4, 'keywords': ['carnivorous', 'pride', 'king of the jungle'], 'habitat': 'savanna'}, page_content=\"lions are large carnivorous cats known as the 'king of the jungle,' living in prides.\"),\n",
              " Document(id='lizard', metadata={'type': 'reptile', 'number_of_legs': 4, 'keywords': ['reptile', 'regeneration', 'diverse'], 'habitat': 'varied'}, page_content='lizards are reptiles known for their ability to regenerate their tails and their diverse species.'),\n",
              " Document(id='lobster', metadata={'type': 'crustacean', 'number_of_legs': 10, 'keywords': ['marine', 'pincers', 'seafloor'], 'diet': 'carnivorous'}, page_content='lobsters are marine crustaceans known for their hard shells and pincers, often found on the seafloor.'),\n",
              " Document(id='magpie', metadata={'type': 'bird', 'number_of_legs': 2, 'keywords': ['intelligent', 'plumage', 'mimicry'], 'diet': 'omnivorous'}, page_content='magpies are intelligent birds known for their black-and-white plumage and ability to mimic sounds.'),\n",
              " Document(id='manatee', metadata={'type': 'mammal', 'number_of_legs': 0, 'keywords': ['marine', 'gentle', 'sea cow'], 'diet': 'herbivorous'}, page_content=\"manatees are large, gentle marine mammals often called 'sea cows' for their grazing habits.\"),\n",
              " Document(id='mongoose', metadata={'type': 'mammal', 'number_of_legs': 4, 'keywords': ['carnivore', 'agile', 'snake fighter'], 'habitat': 'forest-floor'}, page_content='mongooses are small carnivorous mammals known for their agility and ability to fight snakes.'),\n",
              " Document(id='moose', metadata={'type': 'mammal', 'number_of_legs': 4, 'keywords': ['large', 'antlers', 'deer family'], 'diet': 'herbivorous'}, page_content='moose are the largest members of the deer family, known for their massive antlers.'),\n",
              " Document(id='mosquito', metadata={'type': 'insect', 'number_of_legs': 6, 'keywords': ['bites', 'disease', 'vector'], 'diet': 'blood'}, page_content='mosquitoes are small insects known for their bites and role as disease vectors.'),\n",
              " Document(id='narwhal', metadata={'type': 'mammal', 'number_of_legs': 0, 'keywords': ['marine', 'tusks', 'unicorn'], 'habitat': 'arctic'}, page_content=\"narwhals are marine mammals known as 'unicorns of the sea' due to their long tusks.\"),\n",
              " Document(id='newt', metadata={'type': 'amphibian', 'number_of_legs': 4, 'keywords': ['regeneration', 'amphibian', 'small'], 'habitat': 'wetlands'}, page_content='newts are small amphibians known for their ability to regenerate limbs and tails.'),\n",
              " Document(id='octopus', metadata={'type': 'mollusk', 'number_of_legs': 8, 'keywords': ['intelligent', 'problem-solving', 'marine'], 'diet': 'carnivorous'}, page_content='octopuses are highly intelligent marine animals known for their problem-solving skills and eight arms.'),\n",
              " Document(id='ostrich', metadata={'type': 'bird', 'number_of_legs': 2, 'keywords': ['large', 'flightless', 'fast'], 'habitat': 'savanna'}, page_content='ostriches are the largest and fastest birds, though they are flightless.')]"
            ]
          },
          "metadata": {},
          "execution_count": 6
        }
      ]
    },
    {
      "cell_type": "code",
      "source": [
        "len(animals)"
      ],
      "metadata": {
        "colab": {
          "base_uri": "https://localhost:8080/"
        },
        "id": "B4Q_v-sdhK-7",
        "outputId": "895f3fe2-e472-46f4-b599-9a9928018b37"
      },
      "execution_count": null,
      "outputs": [
        {
          "output_type": "execute_result",
          "data": {
            "text/plain": [
              "99"
            ]
          },
          "metadata": {},
          "execution_count": 7
        }
      ]
    },
    {
      "cell_type": "code",
      "source": [
        "animals[0].page_content"
      ],
      "metadata": {
        "colab": {
          "base_uri": "https://localhost:8080/",
          "height": 35
        },
        "id": "1CRZmGPDhN7T",
        "outputId": "c891b135-9db5-4263-edd4-a0bbe31b9511"
      },
      "execution_count": null,
      "outputs": [
        {
          "output_type": "execute_result",
          "data": {
            "text/plain": [
              "'the aardvark is a nocturnal mammal known for its burrowing habits and long snout used to sniff out ants.'"
            ],
            "application/vnd.google.colaboratory.intrinsic+json": {
              "type": "string"
            }
          },
          "metadata": {},
          "execution_count": 9
        }
      ]
    },
    {
      "cell_type": "code",
      "source": [
        "animals[0].metadata"
      ],
      "metadata": {
        "colab": {
          "base_uri": "https://localhost:8080/"
        },
        "id": "fUeCq8UThQ5q",
        "outputId": "92e7d9bf-c166-48c7-9d6b-777fe9634955"
      },
      "execution_count": null,
      "outputs": [
        {
          "output_type": "execute_result",
          "data": {
            "text/plain": [
              "{'type': 'mammal',\n",
              " 'number_of_legs': 4,\n",
              " 'keywords': ['burrowing', 'nocturnal', 'ants', 'savanna'],\n",
              " 'habitat': 'savanna',\n",
              " 'tags': [{'a': 5, 'b': 7}, {'a': 8, 'b': 10}]}"
            ]
          },
          "metadata": {},
          "execution_count": 10
        }
      ]
    },
    {
      "cell_type": "code",
      "source": [
        "animals[1].page_content"
      ],
      "metadata": {
        "colab": {
          "base_uri": "https://localhost:8080/",
          "height": 35
        },
        "id": "AkZ7Am88hal4",
        "outputId": "c9cce23b-b1fc-4753-ae2c-2059ef57fc85"
      },
      "execution_count": null,
      "outputs": [
        {
          "output_type": "execute_result",
          "data": {
            "text/plain": [
              "'the albatross is a large seabird with the longest wingspan of any bird, allowing it to glide effortlessly over oceans.'"
            ],
            "application/vnd.google.colaboratory.intrinsic+json": {
              "type": "string"
            }
          },
          "metadata": {},
          "execution_count": 11
        }
      ]
    },
    {
      "cell_type": "code",
      "source": [
        "animals[1].metadata"
      ],
      "metadata": {
        "colab": {
          "base_uri": "https://localhost:8080/"
        },
        "id": "ANkEEVFAh0Ks",
        "outputId": "b364550a-719e-4c44-bd51-815ed4316b72"
      },
      "execution_count": null,
      "outputs": [
        {
          "output_type": "execute_result",
          "data": {
            "text/plain": [
              "{'type': 'bird',\n",
              " 'number_of_legs': 2,\n",
              " 'keywords': ['seabird', 'wingspan', 'ocean'],\n",
              " 'habitat': 'marine',\n",
              " 'tags': [{'a': 5, 'b': 8}, {'a': 8, 'b': 10}]}"
            ]
          },
          "metadata": {},
          "execution_count": 12
        }
      ]
    },
    {
      "cell_type": "code",
      "source": [
        "import getpass\n",
        "import os\n",
        "if not os.environ.get(\"OPENAI_API_KEY\"):\n",
        "  os.environ[\"OPENAI_API_KEY\"] = getpass.getpass(\"Enter API key for OpenAI: \")"
      ],
      "metadata": {
        "colab": {
          "base_uri": "https://localhost:8080/"
        },
        "id": "janNFPLCh6ba",
        "outputId": "9562551a-3dc6-4b65-b214-b29f4221540b"
      },
      "execution_count": null,
      "outputs": [
        {
          "name": "stdout",
          "output_type": "stream",
          "text": [
            "Enter API key for OpenAI: ··········\n"
          ]
        }
      ]
    },
    {
      "cell_type": "code",
      "source": [
        "from langchain_openai import OpenAIEmbeddings"
      ],
      "metadata": {
        "id": "d1bhMeYJiTbH"
      },
      "execution_count": null,
      "outputs": []
    },
    {
      "cell_type": "code",
      "source": [
        "embeddings=OpenAIEmbeddings(model=\"text-embedding-3-large\")"
      ],
      "metadata": {
        "id": "eJAXtuWjivDT"
      },
      "execution_count": null,
      "outputs": []
    },
    {
      "cell_type": "code",
      "source": [
        "# embeddings.embed_query(animals[0].page_content)"
      ],
      "metadata": {
        "id": "J8l9cWvci2SQ"
      },
      "execution_count": null,
      "outputs": []
    },
    {
      "cell_type": "code",
      "source": [
        "from langchain_core.vectorstores import InMemoryVectorStore"
      ],
      "metadata": {
        "id": "U354K_nbi_g1"
      },
      "execution_count": null,
      "outputs": []
    },
    {
      "cell_type": "code",
      "source": [
        "vector_store=InMemoryVectorStore.from_documents(\n",
        "    documents=animals,\n",
        "    embedding=embeddings\n",
        ")"
      ],
      "metadata": {
        "id": "IslWeeJZkBvx"
      },
      "execution_count": null,
      "outputs": []
    },
    {
      "cell_type": "code",
      "source": [
        "from graph_retriever.strategies import Eager"
      ],
      "metadata": {
        "id": "SQ_p3P1TkJWS"
      },
      "execution_count": null,
      "outputs": []
    },
    {
      "cell_type": "code",
      "source": [
        "from langchain_graph_retriever import GraphRetriever"
      ],
      "metadata": {
        "id": "lFdBSv7yki_5"
      },
      "execution_count": null,
      "outputs": []
    },
    {
      "cell_type": "code",
      "source": [
        "traversal_retriever = GraphRetriever(\n",
        "    store = vector_store,\n",
        "    edges = [(\"habitat\", \"habitat\"), (\"origin\", \"origin\")],\n",
        "    strategy = Eager(k=5, start_k=1, max_depth=2),\n",
        ")"
      ],
      "metadata": {
        "id": "Ske-NwYVkoqz"
      },
      "execution_count": null,
      "outputs": []
    },
    {
      "cell_type": "code",
      "source": [
        "traversal_retriever"
      ],
      "metadata": {
        "colab": {
          "base_uri": "https://localhost:8080/"
        },
        "id": "BEeUKtDPmTRQ",
        "outputId": "da54359e-db74-4a76-9326-cea153b7a606"
      },
      "execution_count": null,
      "outputs": [
        {
          "output_type": "execute_result",
          "data": {
            "text/plain": [
              "GraphRetriever(store=<langchain_core.vectorstores.in_memory.InMemoryVectorStore object at 0x78a74ef441d0>, edges=[('habitat', 'habitat'), ('origin', 'origin')], strategy=Eager(select_k=5, start_k=1, adjacent_k=10, max_traverse=None, max_depth=2, _query_embedding=[]), adapter=<langchain_graph_retriever.adapters.in_memory.InMemoryAdapter object at 0x78a74d1cda10>)"
            ]
          },
          "metadata": {},
          "execution_count": 30
        }
      ]
    },
    {
      "cell_type": "code",
      "source": [
        "results=traversal_retriever.invoke(\"what animal could be found near a anaconda?\")"
      ],
      "metadata": {
        "id": "ektXmX4PmeZZ"
      },
      "execution_count": null,
      "outputs": []
    },
    {
      "cell_type": "code",
      "source": [
        "len(results)"
      ],
      "metadata": {
        "colab": {
          "base_uri": "https://localhost:8080/"
        },
        "id": "Z2GmUu8Nmt9C",
        "outputId": "cd490d7f-c278-481f-f5cc-3b26f76ae7a6"
      },
      "execution_count": null,
      "outputs": [
        {
          "output_type": "execute_result",
          "data": {
            "text/plain": [
              "5"
            ]
          },
          "metadata": {},
          "execution_count": 33
        }
      ]
    },
    {
      "cell_type": "code",
      "source": [
        "results[0]"
      ],
      "metadata": {
        "colab": {
          "base_uri": "https://localhost:8080/"
        },
        "id": "T8rxw3lBm3LS",
        "outputId": "3b95aae3-5c86-4d72-a466-4a32df0ce8ad"
      },
      "execution_count": null,
      "outputs": [
        {
          "output_type": "execute_result",
          "data": {
            "text/plain": [
              "Document(id='iguana', metadata={'_depth': 0, '_similarity_score': np.float64(0.39788762643161923), 'type': 'reptile', 'number_of_legs': 4, 'keywords': ['large lizard', 'herbivore', 'basking'], 'habitat': 'forest'}, page_content='iguanas are large herbivorous lizards often found basking in trees and near water.')"
            ]
          },
          "metadata": {},
          "execution_count": 34
        }
      ]
    },
    {
      "cell_type": "code",
      "source": [
        "from langchain.chat_models import init_chat_model"
      ],
      "metadata": {
        "id": "FjJysy2tnQhc"
      },
      "execution_count": null,
      "outputs": []
    },
    {
      "cell_type": "code",
      "source": [
        "llm = init_chat_model(\"gpt-4o-mini\", model_provider=\"openai\")"
      ],
      "metadata": {
        "id": "PLs2RGtinXur"
      },
      "execution_count": null,
      "outputs": []
    },
    {
      "cell_type": "code",
      "source": [
        "llm.invoke(\"hi\")"
      ],
      "metadata": {
        "colab": {
          "base_uri": "https://localhost:8080/"
        },
        "id": "TOXQ2xdinjBg",
        "outputId": "ef4f0d0c-9421-488e-9e87-57cb208d4591"
      },
      "execution_count": null,
      "outputs": [
        {
          "output_type": "execute_result",
          "data": {
            "text/plain": [
              "AIMessage(content='Hello! How can I assist you today?', additional_kwargs={'refusal': None}, response_metadata={'token_usage': {'completion_tokens': 10, 'prompt_tokens': 8, 'total_tokens': 18, 'completion_tokens_details': {'accepted_prediction_tokens': 0, 'audio_tokens': 0, 'reasoning_tokens': 0, 'rejected_prediction_tokens': 0}, 'prompt_tokens_details': {'audio_tokens': 0, 'cached_tokens': 0}}, 'model_name': 'gpt-4o-mini-2024-07-18', 'system_fingerprint': 'fp_b376dfbbd5', 'id': 'chatcmpl-BIzxHqVDsKinZDh7INj7MEbRvEa7x', 'finish_reason': 'stop', 'logprobs': None}, id='run-80add007-c89b-4f06-a431-38d8de2f08fe-0', usage_metadata={'input_tokens': 8, 'output_tokens': 10, 'total_tokens': 18, 'input_token_details': {'audio': 0, 'cache_read': 0}, 'output_token_details': {'audio': 0, 'reasoning': 0}})"
            ]
          },
          "metadata": {},
          "execution_count": 37
        }
      ]
    },
    {
      "cell_type": "code",
      "source": [
        "from langchain_core.output_parsers import StrOutputParser\n",
        "from langchain_core.prompts import ChatPromptTemplate\n",
        "from langchain_core.runnables import RunnablePassthrough\n",
        "\n",
        "prompt = ChatPromptTemplate.from_template(\n",
        "\"\"\"Answer the question based only on the context provided.\n",
        "\n",
        "Context: {context}\n",
        "\n",
        "Question: {question}\"\"\"\n",
        ")\n",
        "\n",
        "def format_docs(docs):\n",
        "    return \"\\n\\n\".join(f\"text: {doc.page_content} metadata: {doc.metadata}\" for doc in docs)"
      ],
      "metadata": {
        "id": "DdS4W4JEnNO1"
      },
      "execution_count": null,
      "outputs": []
    },
    {
      "cell_type": "code",
      "source": [
        "chain = (\n",
        "    {\"context\": traversal_retriever | format_docs, \"question\": RunnablePassthrough()}\n",
        "    | prompt\n",
        "    | llm\n",
        "    | StrOutputParser()\n",
        ")"
      ],
      "metadata": {
        "id": "vWeRlOkZm5ad"
      },
      "execution_count": null,
      "outputs": []
    },
    {
      "cell_type": "code",
      "source": [
        "chain.invoke(\"what animal could be found near a anaconda?\")"
      ],
      "metadata": {
        "colab": {
          "base_uri": "https://localhost:8080/",
          "height": 35
        },
        "id": "qOPUyXW1n1EQ",
        "outputId": "1639d041-6f53-4399-e378-65196f775798"
      },
      "execution_count": null,
      "outputs": [
        {
          "output_type": "execute_result",
          "data": {
            "text/plain": [
              "'Based on the context provided, iguanas, which are large herbivorous lizards often found near water, could be found near an anaconda.'"
            ],
            "application/vnd.google.colaboratory.intrinsic+json": {
              "type": "string"
            }
          },
          "metadata": {},
          "execution_count": 41
        }
      ]
    },
    {
      "cell_type": "code",
      "source": [
        "chain.invoke(\"what animal could be found near a tiger?\")"
      ],
      "metadata": {
        "colab": {
          "base_uri": "https://localhost:8080/",
          "height": 87
        },
        "id": "diXGjkNBn-8k",
        "outputId": "93cd2199-c3d3-4937-b79e-236b2e98a885"
      },
      "execution_count": null,
      "outputs": [
        {
          "output_type": "execute_result",
          "data": {
            "text/plain": [
              "\"The provided context mentions lions, gazelles, cheetahs, hyenas, and aardvarks but does not mention tigers. However, based on common knowledge, animals that could be found near a tiger often include prey animals like deer or livestock. Since no such animals are listed in the context, it's not possible to provide a specific answer from the information given. If considering animals within the text, lions (as large carnivorous cats) might be creatures that could be found in the same habitats, but they are not specifically found near tigers.\""
            ],
            "application/vnd.google.colaboratory.intrinsic+json": {
              "type": "string"
            }
          },
          "metadata": {},
          "execution_count": 42
        }
      ]
    },
    {
      "cell_type": "code",
      "source": [
        "chain.invoke(\"what animal can be found in south America?\")"
      ],
      "metadata": {
        "colab": {
          "base_uri": "https://localhost:8080/",
          "height": 35
        },
        "id": "pyQ6VV4ooKBL",
        "outputId": "1214a3cb-a241-48e4-f7af-24fee6e2a65f"
      },
      "execution_count": null,
      "outputs": [
        {
          "output_type": "execute_result",
          "data": {
            "text/plain": [
              "'Capybaras can be found in South America.'"
            ],
            "application/vnd.google.colaboratory.intrinsic+json": {
              "type": "string"
            }
          },
          "metadata": {},
          "execution_count": 43
        }
      ]
    },
    {
      "cell_type": "code",
      "source": [
        "chain.invoke(\"what all animal can be found in south America give me all the names?\")"
      ],
      "metadata": {
        "colab": {
          "base_uri": "https://localhost:8080/",
          "height": 35
        },
        "id": "ahd6khtBoq6c",
        "outputId": "78a9b9f4-3fa1-48de-da51-a25503cdb346"
      },
      "execution_count": null,
      "outputs": [
        {
          "output_type": "execute_result",
          "data": {
            "text/plain": [
              "'The animals mentioned in the context that can be found in South America are capybaras and herons.'"
            ],
            "application/vnd.google.colaboratory.intrinsic+json": {
              "type": "string"
            }
          },
          "metadata": {},
          "execution_count": 45
        }
      ]
    },
    {
      "cell_type": "code",
      "source": [],
      "metadata": {
        "id": "4_tAyl8voybd"
      },
      "execution_count": null,
      "outputs": []
    }
  ]
}