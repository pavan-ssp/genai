{
 "cells": [
  {
   "cell_type": "code",
   "execution_count": 1,
   "id": "cebc8541",
   "metadata": {},
   "outputs": [
    {
     "name": "stdout",
     "output_type": "stream",
     "text": [
      "all ok\n"
     ]
    }
   ],
   "source": [
    "print(\"all ok\")"
   ]
  },
  {
   "cell_type": "markdown",
   "id": "c3face0b",
   "metadata": {},
   "source": [
    "POS NER WORD_CLOUD "
   ]
  },
  {
   "cell_type": "markdown",
   "id": "368f10b2",
   "metadata": {},
   "source": [
    "1)POS : Parts of speech"
   ]
  },
  {
   "cell_type": "code",
   "execution_count": 2,
   "id": "1571b8d8",
   "metadata": {},
   "outputs": [],
   "source": [
    "import nltk\n",
    "from nltk.corpus import wordnet\n",
    "from nltk.tokenize import word_tokenize\n",
    "from nltk.stem import WordNetLemmatizer\n",
    "from nltk import pos_tag\n",
    "from nltk import ne_chunk\n",
    "from nltk import Tree\n",
    "from nltk import CFG\n",
    "from nltk import RegexpParser\n",
    "from nltk import FreqDist\n",
    "from nltk import ngrams\n",
    "from nltk import ngrams\n",
    "from nltk import bigrams\n",
    "from nltk import trigrams"
   ]
  },
  {
   "cell_type": "code",
   "execution_count": 3,
   "id": "3a0fce4d",
   "metadata": {},
   "outputs": [
    {
     "name": "stdout",
     "output_type": "stream",
     "text": [
      "[('sam', 'NN')]\n",
      "[('is', 'VBZ')]\n",
      "[('a', 'DT')]\n",
      "[('natural', 'JJ')]\n",
      "[('when', 'WRB')]\n",
      "[('it', 'PRP')]\n",
      "[('comes', 'VBZ')]\n",
      "[('to', 'TO')]\n",
      "[('drawing', 'VBG')]\n"
     ]
    }
   ],
   "source": [
    "\n",
    "sent = 'sam is a natural when it comes to drawing '\n",
    "\n",
    "sent_tokens = word_tokenize(sent)\n",
    "\n",
    "for token in sent_tokens :\n",
    "    print(nltk.pos_tag([token]))"
   ]
  },
  {
   "cell_type": "markdown",
   "id": "e7fd196f",
   "metadata": {},
   "source": [
    "NER : Named Entity Recognition  [ recognize entity of a name ]\n",
    "\n",
    "POS Tagging = Word-level labeling (NOUN, VERB, etc.)\n",
    "\n",
    "Chunking = Phrase-level grouping (NP, VP, etc.) based on POS tags\n",
    "\n",
    "| Feature        | POS Tagging                             | Chunking                                 |\n",
    "| -------------- | --------------------------------------- | ---------------------------------------- |\n",
    "| Purpose        | Labels each word's grammatical role     | Groups words into meaningful phrases     |\n",
    "| Output Type    | Tag per word                            | Phrase-level grouping                    |\n",
    "| Example Output | NOUN, VERB, ADJ                         | NP (Noun Phrase), VP (Verb Phrase), etc. |\n",
    "| Level          | Word-level                              | Phrase-level                             |\n",
    "| Uses           | Parsing, lemmatization, dependency tree | Information extraction, NER, RAG prep    |\n"
   ]
  },
  {
   "cell_type": "code",
   "execution_count": 5,
   "id": "59976060",
   "metadata": {},
   "outputs": [],
   "source": [
    "from nltk import ne_chunk\n",
    "\n",
    "NE_sent = ' The US president stays in the white house '\n",
    "\n",
    "NE_tokens = word_tokenize(NE_sent)\n",
    "\n",
    "NE_tags = nltk.pos_tag(NE_tokens)\n",
    "\n",
    "NE_NER = ne_chunk(NE_tags)"
   ]
  },
  {
   "cell_type": "code",
   "execution_count": 6,
   "id": "bbae1d95",
   "metadata": {},
   "outputs": [
    {
     "name": "stdout",
     "output_type": "stream",
     "text": [
      "['The', 'US', 'president', 'stays', 'in', 'the', 'white', 'house']\n",
      "[('The', 'DT'), ('US', 'NNP'), ('president', 'NN'), ('stays', 'NNS'), ('in', 'IN'), ('the', 'DT'), ('white', 'JJ'), ('house', 'NN')]\n",
      "(S\n",
      "  The/DT\n",
      "  (GSP US/NNP)\n",
      "  president/NN\n",
      "  stays/NNS\n",
      "  in/IN\n",
      "  the/DT\n",
      "  white/JJ\n",
      "  house/NN)\n"
     ]
    }
   ],
   "source": [
    "print(NE_tokens)\n",
    "print(NE_tags)\n",
    "print(NE_NER)"
   ]
  },
  {
   "cell_type": "code",
   "execution_count": 8,
   "id": "5987d09a",
   "metadata": {},
   "outputs": [
    {
     "name": "stdout",
     "output_type": "stream",
     "text": [
      "Collecting wordcloud\n",
      "  Downloading wordcloud-1.9.4-cp311-cp311-win_amd64.whl.metadata (3.5 kB)\n",
      "Requirement already satisfied: numpy>=1.6.1 in c:\\users\\chand\\anaconda3\\envs\\env\\lib\\site-packages (from wordcloud) (2.2.5)\n",
      "Collecting pillow (from wordcloud)\n",
      "  Downloading pillow-11.2.1-cp311-cp311-win_amd64.whl.metadata (9.1 kB)\n",
      "Collecting matplotlib (from wordcloud)\n",
      "  Downloading matplotlib-3.10.3-cp311-cp311-win_amd64.whl.metadata (11 kB)\n",
      "Collecting contourpy>=1.0.1 (from matplotlib->wordcloud)\n",
      "  Downloading contourpy-1.3.2-cp311-cp311-win_amd64.whl.metadata (5.5 kB)\n",
      "Collecting cycler>=0.10 (from matplotlib->wordcloud)\n",
      "  Using cached cycler-0.12.1-py3-none-any.whl.metadata (3.8 kB)\n",
      "Collecting fonttools>=4.22.0 (from matplotlib->wordcloud)\n",
      "  Downloading fonttools-4.58.0-cp311-cp311-win_amd64.whl.metadata (106 kB)\n",
      "Collecting kiwisolver>=1.3.1 (from matplotlib->wordcloud)\n",
      "  Downloading kiwisolver-1.4.8-cp311-cp311-win_amd64.whl.metadata (6.3 kB)\n",
      "Requirement already satisfied: packaging>=20.0 in c:\\users\\chand\\anaconda3\\envs\\env\\lib\\site-packages (from matplotlib->wordcloud) (25.0)\n",
      "Collecting pyparsing>=2.3.1 (from matplotlib->wordcloud)\n",
      "  Downloading pyparsing-3.2.3-py3-none-any.whl.metadata (5.0 kB)\n",
      "Requirement already satisfied: python-dateutil>=2.7 in c:\\users\\chand\\anaconda3\\envs\\env\\lib\\site-packages (from matplotlib->wordcloud) (2.9.0.post0)\n",
      "Requirement already satisfied: six>=1.5 in c:\\users\\chand\\anaconda3\\envs\\env\\lib\\site-packages (from python-dateutil>=2.7->matplotlib->wordcloud) (1.17.0)\n",
      "Downloading wordcloud-1.9.4-cp311-cp311-win_amd64.whl (299 kB)\n",
      "Downloading matplotlib-3.10.3-cp311-cp311-win_amd64.whl (8.1 MB)\n",
      "   ---------------------------------------- 0.0/8.1 MB ? eta -:--:--\n",
      "   -- ------------------------------------- 0.5/8.1 MB 4.2 MB/s eta 0:00:02\n",
      "   ------- -------------------------------- 1.6/8.1 MB 4.0 MB/s eta 0:00:02\n",
      "   ------------- -------------------------- 2.6/8.1 MB 4.0 MB/s eta 0:00:02\n",
      "   -------------- ------------------------- 2.9/8.1 MB 3.9 MB/s eta 0:00:02\n",
      "   ------------------- -------------------- 3.9/8.1 MB 3.8 MB/s eta 0:00:02\n",
      "   ----------------------- ---------------- 4.7/8.1 MB 3.8 MB/s eta 0:00:01\n",
      "   ---------------------------- ----------- 5.8/8.1 MB 3.8 MB/s eta 0:00:01\n",
      "   -------------------------------- ------- 6.6/8.1 MB 3.8 MB/s eta 0:00:01\n",
      "   ------------------------------------ --- 7.3/8.1 MB 3.8 MB/s eta 0:00:01\n",
      "   ---------------------------------------- 8.1/8.1 MB 3.8 MB/s eta 0:00:00\n",
      "Downloading contourpy-1.3.2-cp311-cp311-win_amd64.whl (222 kB)\n",
      "Using cached cycler-0.12.1-py3-none-any.whl (8.3 kB)\n",
      "Downloading fonttools-4.58.0-cp311-cp311-win_amd64.whl (2.2 MB)\n",
      "   ---------------------------------------- 0.0/2.2 MB ? eta -:--:--\n",
      "   -------------- ------------------------- 0.8/2.2 MB 3.7 MB/s eta 0:00:01\n",
      "   ---------------------------- ----------- 1.6/2.2 MB 3.8 MB/s eta 0:00:01\n",
      "   ---------------------------------------- 2.2/2.2 MB 3.7 MB/s eta 0:00:00\n",
      "Downloading kiwisolver-1.4.8-cp311-cp311-win_amd64.whl (71 kB)\n",
      "Downloading pillow-11.2.1-cp311-cp311-win_amd64.whl (2.7 MB)\n",
      "   ---------------------------------------- 0.0/2.7 MB ? eta -:--:--\n",
      "   ----------- ---------------------------- 0.8/2.7 MB 3.7 MB/s eta 0:00:01\n",
      "   ----------------------- ---------------- 1.6/2.7 MB 3.8 MB/s eta 0:00:01\n",
      "   ----------------------------------- ---- 2.4/2.7 MB 3.8 MB/s eta 0:00:01\n",
      "   ---------------------------------------- 2.7/2.7 MB 3.8 MB/s eta 0:00:00\n",
      "Downloading pyparsing-3.2.3-py3-none-any.whl (111 kB)\n",
      "Installing collected packages: pyparsing, pillow, kiwisolver, fonttools, cycler, contourpy, matplotlib, wordcloud\n",
      "\n",
      "   ---------------------------------------- 0/8 [pyparsing]\n",
      "   ----- ---------------------------------- 1/8 [pillow]\n",
      "   ----- ---------------------------------- 1/8 [pillow]\n",
      "   ----- ---------------------------------- 1/8 [pillow]\n",
      "   ----- ---------------------------------- 1/8 [pillow]\n",
      "   ----- ---------------------------------- 1/8 [pillow]\n",
      "   --------------- ------------------------ 3/8 [fonttools]\n",
      "   --------------- ------------------------ 3/8 [fonttools]\n",
      "   --------------- ------------------------ 3/8 [fonttools]\n",
      "   --------------- ------------------------ 3/8 [fonttools]\n",
      "   --------------- ------------------------ 3/8 [fonttools]\n",
      "   --------------- ------------------------ 3/8 [fonttools]\n",
      "   --------------- ------------------------ 3/8 [fonttools]\n",
      "   --------------- ------------------------ 3/8 [fonttools]\n",
      "   --------------- ------------------------ 3/8 [fonttools]\n",
      "   --------------- ------------------------ 3/8 [fonttools]\n",
      "   --------------- ------------------------ 3/8 [fonttools]\n",
      "   --------------- ------------------------ 3/8 [fonttools]\n",
      "   --------------- ------------------------ 3/8 [fonttools]\n",
      "   --------------- ------------------------ 3/8 [fonttools]\n",
      "   ------------------------- -------------- 5/8 [contourpy]\n",
      "   ------------------------------ --------- 6/8 [matplotlib]\n",
      "   ------------------------------ --------- 6/8 [matplotlib]\n",
      "   ------------------------------ --------- 6/8 [matplotlib]\n",
      "   ------------------------------ --------- 6/8 [matplotlib]\n",
      "   ------------------------------ --------- 6/8 [matplotlib]\n",
      "   ------------------------------ --------- 6/8 [matplotlib]\n",
      "   ------------------------------ --------- 6/8 [matplotlib]\n",
      "   ------------------------------ --------- 6/8 [matplotlib]\n",
      "   ------------------------------ --------- 6/8 [matplotlib]\n",
      "   ------------------------------ --------- 6/8 [matplotlib]\n",
      "   ------------------------------ --------- 6/8 [matplotlib]\n",
      "   ------------------------------ --------- 6/8 [matplotlib]\n",
      "   ------------------------------ --------- 6/8 [matplotlib]\n",
      "   ------------------------------ --------- 6/8 [matplotlib]\n",
      "   ------------------------------ --------- 6/8 [matplotlib]\n",
      "   ------------------------------ --------- 6/8 [matplotlib]\n",
      "   ------------------------------ --------- 6/8 [matplotlib]\n",
      "   ------------------------------ --------- 6/8 [matplotlib]\n",
      "   ---------------------------------------- 8/8 [wordcloud]\n",
      "\n",
      "Successfully installed contourpy-1.3.2 cycler-0.12.1 fonttools-4.58.0 kiwisolver-1.4.8 matplotlib-3.10.3 pillow-11.2.1 pyparsing-3.2.3 wordcloud-1.9.4\n"
     ]
    }
   ],
   "source": [
    "!pip install wordcloud"
   ]
  },
  {
   "cell_type": "code",
   "execution_count": 12,
   "id": "d8ad00ba",
   "metadata": {},
   "outputs": [
    {
     "data": {
      "image/png": "[encoded data removed]",
      "text/plain": [
       "<Figure size 640x480 with 1 Axes>"
      ]
     },
     "metadata": {},
     "output_type": "display_data"
    }
   ],
   "source": [
    "from wordcloud import WordCloud\n",
    "import matplotlib.pyplot as plt\n",
    "\n",
    "# Sample text\n",
    "text = 'python python matplotlib seaborn bias variance'\n",
    "\n",
    "wordcloud = WordCloud(\n",
    "    width=420,\n",
    "    height=320,\n",
    "    margin=2,\n",
    "    background_color='black',    \n",
    "    colormap='Accent'             \n",
    ").generate(text)\n",
    "\n",
    "# Display the word cloud\n",
    "plt.imshow(wordcloud, interpolation='bilinear')  \n",
    "plt.axis('off')  \n",
    "plt.tight_layout(pad=0) \n",
    "plt.show()\n"
   ]
  },
  {
   "cell_type": "markdown",
   "id": "d5196be6",
   "metadata": {},
   "source": [
    "Chunking : \n",
    "----------\n",
    "\n",
    "Chunking is a Natural Language Processing (NLP) technique used to extract phrases from text by grouping adjacent words into meaningful \"chunks\"\n",
    "\n",
    " (e.g., noun phrases, verb phrases).\n",
    "It helps in shallow parsing, where we don't analyze the full grammatical structure, but we extract key phrases."
   ]
  },
  {
   "cell_type": "code",
   "execution_count": 13,
   "id": "1d999766",
   "metadata": {},
   "outputs": [],
   "source": [
    "import nltk\n",
    "from nltk.tokenize import word_tokenize\n",
    "from nltk.tag import pos_tag\n",
    "from nltk.chunk import RegexpParser"
   ]
  },
  {
   "cell_type": "code",
   "execution_count": 14,
   "id": "a2a393d2",
   "metadata": {},
   "outputs": [
    {
     "name": "stderr",
     "output_type": "stream",
     "text": [
      "[nltk_data] Downloading package punkt to\n",
      "[nltk_data]     C:\\Users\\chand\\AppData\\Roaming\\nltk_data...\n",
      "[nltk_data]   Package punkt is already up-to-date!\n",
      "[nltk_data] Downloading package averaged_perceptron_tagger to\n",
      "[nltk_data]     C:\\Users\\chand\\AppData\\Roaming\\nltk_data...\n",
      "[nltk_data]   Package averaged_perceptron_tagger is already up-to-\n",
      "[nltk_data]       date!\n"
     ]
    },
    {
     "data": {
      "text/plain": [
       "True"
      ]
     },
     "execution_count": 14,
     "metadata": {},
     "output_type": "execute_result"
    }
   ],
   "source": [
    "nltk.download('punkt')\n",
    "nltk.download('averaged_perceptron_tagger')"
   ]
  },
  {
   "cell_type": "code",
   "execution_count": 15,
   "id": "bacd5b95",
   "metadata": {},
   "outputs": [
    {
     "name": "stdout",
     "output_type": "stream",
     "text": [
      "POS Tags: [('The', 'DT'), ('quick', 'JJ'), ('brown', 'NN'), ('fox', 'NN'), ('jumps', 'VBZ'), ('over', 'IN'), ('the', 'DT'), ('lazy', 'JJ'), ('dog', 'NN')]\n"
     ]
    }
   ],
   "source": [
    "sentence = \"The quick brown fox jumps over the lazy dog\"\n",
    "\n",
    "# Tokenize sentence into words\n",
    "words = word_tokenize(sentence)\n",
    "\n",
    "# Perform Part-of-Speech (POS) tagging\n",
    "pos_tags = pos_tag(words)\n",
    "print(\"POS Tags:\", pos_tags)"
   ]
  },
  {
   "cell_type": "code",
   "execution_count": 16,
   "id": "c3773b65",
   "metadata": {},
   "outputs": [],
   "source": [
    "# Define chunking pattern for Noun Phrases (NP)\n",
    "chunk_grammar = r\"\"\"\n",
    "    NP: {<DT>?<JJ>*<NN>}  # Noun Phrase: Optional Determiner (DT) + Adjective(s) (JJ) + Noun (NN)\n",
    "\"\"\""
   ]
  },
  {
   "cell_type": "code",
   "execution_count": 17,
   "id": "e20e031f",
   "metadata": {},
   "outputs": [],
   "source": [
    "\n",
    "# Create a chunk parser\n",
    "chunk_parser = RegexpParser(chunk_grammar)"
   ]
  },
  {
   "cell_type": "code",
   "execution_count": 18,
   "id": "1b3a50df",
   "metadata": {},
   "outputs": [],
   "source": [
    "# Apply chunking\n",
    "chunk_tree = chunk_parser.parse(pos_tags)"
   ]
  },
  {
   "cell_type": "code",
   "execution_count": 19,
   "id": "f78764ae",
   "metadata": {},
   "outputs": [
    {
     "name": "stdout",
     "output_type": "stream",
     "text": [
      "(S\n",
      "  (NP The/DT quick/JJ brown/NN)\n",
      "  (NP fox/NN)\n",
      "  jumps/VBZ\n",
      "  over/IN\n",
      "  (NP the/DT lazy/JJ dog/NN))\n"
     ]
    }
   ],
   "source": [
    "\n",
    "# Print chunk structure\n",
    "print(chunk_tree)"
   ]
  },
  {
   "cell_type": "code",
   "execution_count": 20,
   "id": "5590ae99",
   "metadata": {},
   "outputs": [],
   "source": [
    "\n",
    "chunk_tree.draw()"
   ]
  },
  {
   "cell_type": "markdown",
   "id": "e9b26960",
   "metadata": {},
   "source": [
    "Instead of NLTK, you can also use spaCy for faster and more efficient chunking:  spacy good for statstical analysis"
   ]
  },
  {
   "cell_type": "code",
   "execution_count": 22,
   "id": "b0ae52c7",
   "metadata": {},
   "outputs": [
    {
     "name": "stdout",
     "output_type": "stream",
     "text": [
      "Collecting spacy\n",
      "  Downloading spacy-3.8.6-cp311-cp311-win_amd64.whl.metadata (28 kB)\n",
      "Collecting spacy-legacy<3.1.0,>=3.0.11 (from spacy)\n",
      "  Downloading spacy_legacy-3.0.12-py2.py3-none-any.whl.metadata (2.8 kB)\n",
      "Collecting spacy-loggers<2.0.0,>=1.0.0 (from spacy)\n",
      "  Downloading spacy_loggers-1.0.5-py3-none-any.whl.metadata (23 kB)\n",
      "Collecting murmurhash<1.1.0,>=0.28.0 (from spacy)\n",
      "  Downloading murmurhash-1.0.12-cp311-cp311-win_amd64.whl.metadata (2.2 kB)\n",
      "Collecting cymem<2.1.0,>=2.0.2 (from spacy)\n",
      "  Downloading cymem-2.0.11-cp311-cp311-win_amd64.whl.metadata (8.8 kB)\n",
      "Collecting preshed<3.1.0,>=3.0.2 (from spacy)\n",
      "  Downloading preshed-3.0.9-cp311-cp311-win_amd64.whl.metadata (2.2 kB)\n",
      "Collecting thinc<8.4.0,>=8.3.4 (from spacy)\n",
      "  Downloading thinc-8.3.6-cp311-cp311-win_amd64.whl.metadata (15 kB)\n",
      "Collecting wasabi<1.2.0,>=0.9.1 (from spacy)\n",
      "  Downloading wasabi-1.1.3-py3-none-any.whl.metadata (28 kB)\n",
      "Collecting srsly<3.0.0,>=2.4.3 (from spacy)\n",
      "  Downloading srsly-2.5.1-cp311-cp311-win_amd64.whl.metadata (20 kB)\n",
      "Collecting catalogue<2.1.0,>=2.0.6 (from spacy)\n",
      "  Downloading catalogue-2.0.10-py3-none-any.whl.metadata (14 kB)\n",
      "Collecting weasel<0.5.0,>=0.1.0 (from spacy)\n",
      "  Downloading weasel-0.4.1-py3-none-any.whl.metadata (4.6 kB)\n",
      "Collecting typer<1.0.0,>=0.3.0 (from spacy)\n",
      "  Downloading typer-0.15.4-py3-none-any.whl.metadata (15 kB)\n",
      "Requirement already satisfied: tqdm<5.0.0,>=4.38.0 in c:\\users\\chand\\anaconda3\\envs\\env\\lib\\site-packages (from spacy) (4.67.1)\n",
      "Requirement already satisfied: numpy>=1.19.0 in c:\\users\\chand\\anaconda3\\envs\\env\\lib\\site-packages (from spacy) (2.2.5)\n",
      "Collecting requests<3.0.0,>=2.13.0 (from spacy)\n",
      "  Using cached requests-2.32.3-py3-none-any.whl.metadata (4.6 kB)\n",
      "Collecting pydantic!=1.8,!=1.8.1,<3.0.0,>=1.7.4 (from spacy)\n",
      "  Downloading pydantic-2.11.4-py3-none-any.whl.metadata (66 kB)\n",
      "Collecting jinja2 (from spacy)\n",
      "  Downloading jinja2-3.1.6-py3-none-any.whl.metadata (2.9 kB)\n",
      "Requirement already satisfied: setuptools in c:\\users\\chand\\anaconda3\\envs\\env\\lib\\site-packages (from spacy) (78.1.1)\n",
      "Requirement already satisfied: packaging>=20.0 in c:\\users\\chand\\anaconda3\\envs\\env\\lib\\site-packages (from spacy) (25.0)\n",
      "Collecting langcodes<4.0.0,>=3.2.0 (from spacy)\n",
      "  Downloading langcodes-3.5.0-py3-none-any.whl.metadata (29 kB)\n",
      "Collecting language-data>=1.2 (from langcodes<4.0.0,>=3.2.0->spacy)\n",
      "  Downloading language_data-1.3.0-py3-none-any.whl.metadata (4.3 kB)\n",
      "Collecting annotated-types>=0.6.0 (from pydantic!=1.8,!=1.8.1,<3.0.0,>=1.7.4->spacy)\n",
      "  Downloading annotated_types-0.7.0-py3-none-any.whl.metadata (15 kB)\n",
      "Collecting pydantic-core==2.33.2 (from pydantic!=1.8,!=1.8.1,<3.0.0,>=1.7.4->spacy)\n",
      "  Downloading pydantic_core-2.33.2-cp311-cp311-win_amd64.whl.metadata (6.9 kB)\n",
      "Requirement already satisfied: typing-extensions>=4.12.2 in c:\\users\\chand\\anaconda3\\envs\\env\\lib\\site-packages (from pydantic!=1.8,!=1.8.1,<3.0.0,>=1.7.4->spacy) (4.13.2)\n",
      "Collecting typing-inspection>=0.4.0 (from pydantic!=1.8,!=1.8.1,<3.0.0,>=1.7.4->spacy)\n",
      "  Downloading typing_inspection-0.4.0-py3-none-any.whl.metadata (2.6 kB)\n",
      "Collecting charset-normalizer<4,>=2 (from requests<3.0.0,>=2.13.0->spacy)\n",
      "  Downloading charset_normalizer-3.4.2-cp311-cp311-win_amd64.whl.metadata (36 kB)\n",
      "Collecting idna<4,>=2.5 (from requests<3.0.0,>=2.13.0->spacy)\n",
      "  Using cached idna-3.10-py3-none-any.whl.metadata (10 kB)\n",
      "Collecting urllib3<3,>=1.21.1 (from requests<3.0.0,>=2.13.0->spacy)\n",
      "  Downloading urllib3-2.4.0-py3-none-any.whl.metadata (6.5 kB)\n",
      "Collecting certifi>=2017.4.17 (from requests<3.0.0,>=2.13.0->spacy)\n",
      "  Downloading certifi-2025.4.26-py3-none-any.whl.metadata (2.5 kB)\n",
      "Collecting blis<1.4.0,>=1.3.0 (from thinc<8.4.0,>=8.3.4->spacy)\n",
      "  Downloading blis-1.3.0-cp311-cp311-win_amd64.whl.metadata (7.6 kB)\n",
      "Collecting confection<1.0.0,>=0.0.1 (from thinc<8.4.0,>=8.3.4->spacy)\n",
      "  Downloading confection-0.1.5-py3-none-any.whl.metadata (19 kB)\n",
      "Requirement already satisfied: colorama in c:\\users\\chand\\anaconda3\\envs\\env\\lib\\site-packages (from tqdm<5.0.0,>=4.38.0->spacy) (0.4.6)\n",
      "Collecting click<8.2,>=8.0.0 (from typer<1.0.0,>=0.3.0->spacy)\n",
      "  Using cached click-8.1.8-py3-none-any.whl.metadata (2.3 kB)\n",
      "Collecting shellingham>=1.3.0 (from typer<1.0.0,>=0.3.0->spacy)\n",
      "  Downloading shellingham-1.5.4-py2.py3-none-any.whl.metadata (3.5 kB)\n",
      "Collecting rich>=10.11.0 (from typer<1.0.0,>=0.3.0->spacy)\n",
      "  Downloading rich-14.0.0-py3-none-any.whl.metadata (18 kB)\n",
      "Collecting cloudpathlib<1.0.0,>=0.7.0 (from weasel<0.5.0,>=0.1.0->spacy)\n",
      "  Downloading cloudpathlib-0.21.1-py3-none-any.whl.metadata (14 kB)\n",
      "Collecting smart-open<8.0.0,>=5.2.1 (from weasel<0.5.0,>=0.1.0->spacy)\n",
      "  Downloading smart_open-7.1.0-py3-none-any.whl.metadata (24 kB)\n",
      "Collecting wrapt (from smart-open<8.0.0,>=5.2.1->weasel<0.5.0,>=0.1.0->spacy)\n",
      "  Downloading wrapt-1.17.2-cp311-cp311-win_amd64.whl.metadata (6.5 kB)\n",
      "Collecting marisa-trie>=1.1.0 (from language-data>=1.2->langcodes<4.0.0,>=3.2.0->spacy)\n",
      "  Downloading marisa_trie-1.2.1-cp311-cp311-win_amd64.whl.metadata (9.3 kB)\n",
      "Collecting markdown-it-py>=2.2.0 (from rich>=10.11.0->typer<1.0.0,>=0.3.0->spacy)\n",
      "  Using cached markdown_it_py-3.0.0-py3-none-any.whl.metadata (6.9 kB)\n",
      "Requirement already satisfied: pygments<3.0.0,>=2.13.0 in c:\\users\\chand\\anaconda3\\envs\\env\\lib\\site-packages (from rich>=10.11.0->typer<1.0.0,>=0.3.0->spacy) (2.19.1)\n",
      "Collecting mdurl~=0.1 (from markdown-it-py>=2.2.0->rich>=10.11.0->typer<1.0.0,>=0.3.0->spacy)\n",
      "  Using cached mdurl-0.1.2-py3-none-any.whl.metadata (1.6 kB)\n",
      "Collecting MarkupSafe>=2.0 (from jinja2->spacy)\n",
      "  Downloading MarkupSafe-3.0.2-cp311-cp311-win_amd64.whl.metadata (4.1 kB)\n",
      "Downloading spacy-3.8.6-cp311-cp311-win_amd64.whl (12.2 MB)\n",
      "   ---------------------------------------- 0.0/12.2 MB ? eta -:--:--\n",
      "   --- ------------------------------------ 1.0/12.2 MB 6.3 MB/s eta 0:00:02\n",
      "   ---- ----------------------------------- 1.3/12.2 MB 3.2 MB/s eta 0:00:04\n",
      "   ------- -------------------------------- 2.4/12.2 MB 3.8 MB/s eta 0:00:03\n",
      "   ----------- ---------------------------- 3.4/12.2 MB 4.1 MB/s eta 0:00:03\n",
      "   ------------ --------------------------- 3.7/12.2 MB 4.0 MB/s eta 0:00:03\n",
      "   -------------- ------------------------- 4.5/12.2 MB 3.7 MB/s eta 0:00:03\n",
      "   ----------------- ---------------------- 5.2/12.2 MB 3.6 MB/s eta 0:00:02\n",
      "   ------------------- -------------------- 6.0/12.2 MB 3.6 MB/s eta 0:00:02\n",
      "   ---------------------- ----------------- 6.8/12.2 MB 3.6 MB/s eta 0:00:02\n",
      "   ------------------------ --------------- 7.6/12.2 MB 3.7 MB/s eta 0:00:02\n",
      "   --------------------------- ------------ 8.4/12.2 MB 3.7 MB/s eta 0:00:02\n",
      "   ------------------------------ --------- 9.2/12.2 MB 3.7 MB/s eta 0:00:01\n",
      "   -------------------------------- ------- 10.0/12.2 MB 3.7 MB/s eta 0:00:01\n",
      "   ----------------------------------- ---- 10.7/12.2 MB 3.7 MB/s eta 0:00:01\n",
      "   ------------------------------------- -- 11.5/12.2 MB 3.7 MB/s eta 0:00:01\n",
      "   ---------------------------------------- 12.2/12.2 MB 3.7 MB/s eta 0:00:00\n",
      "Downloading catalogue-2.0.10-py3-none-any.whl (17 kB)\n",
      "Downloading cymem-2.0.11-cp311-cp311-win_amd64.whl (39 kB)\n",
      "Downloading langcodes-3.5.0-py3-none-any.whl (182 kB)\n",
      "Downloading murmurhash-1.0.12-cp311-cp311-win_amd64.whl (25 kB)\n",
      "Downloading preshed-3.0.9-cp311-cp311-win_amd64.whl (122 kB)\n",
      "Downloading pydantic-2.11.4-py3-none-any.whl (443 kB)\n",
      "Downloading pydantic_core-2.33.2-cp311-cp311-win_amd64.whl (2.0 MB)\n",
      "   ---------------------------------------- 0.0/2.0 MB ? eta -:--:--\n",
      "   ----- ---------------------------------- 0.3/2.0 MB ? eta -:--:--\n",
      "   -------------------------- ------------- 1.3/2.0 MB 3.5 MB/s eta 0:00:01\n",
      "   ---------------------------------------- 2.0/2.0 MB 3.2 MB/s eta 0:00:00\n",
      "Using cached requests-2.32.3-py3-none-any.whl (64 kB)\n",
      "Downloading charset_normalizer-3.4.2-cp311-cp311-win_amd64.whl (105 kB)\n",
      "Using cached idna-3.10-py3-none-any.whl (70 kB)\n",
      "Downloading spacy_legacy-3.0.12-py2.py3-none-any.whl (29 kB)\n",
      "Downloading spacy_loggers-1.0.5-py3-none-any.whl (22 kB)\n",
      "Downloading srsly-2.5.1-cp311-cp311-win_amd64.whl (632 kB)\n",
      "   ---------------------------------------- 0.0/632.6 kB ? eta -:--:--\n",
      "   ---------------------------------------- 632.6/632.6 kB 4.7 MB/s eta 0:00:00\n",
      "Downloading thinc-8.3.6-cp311-cp311-win_amd64.whl (1.8 MB)\n",
      "   ---------------------------------------- 0.0/1.8 MB ? eta -:--:--\n",
      "   ----------------- ---------------------- 0.8/1.8 MB 3.7 MB/s eta 0:00:01\n",
      "   ----------------------------------- ---- 1.6/1.8 MB 3.8 MB/s eta 0:00:01\n",
      "   ---------------------------------------- 1.8/1.8 MB 3.7 MB/s eta 0:00:00\n",
      "Downloading blis-1.3.0-cp311-cp311-win_amd64.whl (6.2 MB)\n",
      "   ---------------------------------------- 0.0/6.2 MB ? eta -:--:--\n",
      "   ----- ---------------------------------- 0.8/6.2 MB 4.8 MB/s eta 0:00:02\n",
      "   ---------- ----------------------------- 1.6/6.2 MB 4.4 MB/s eta 0:00:02\n",
      "   --------------- ------------------------ 2.4/6.2 MB 4.1 MB/s eta 0:00:01\n",
      "   -------------------- ------------------- 3.1/6.2 MB 4.0 MB/s eta 0:00:01\n",
      "   ------------------------- -------------- 3.9/6.2 MB 4.0 MB/s eta 0:00:01\n",
      "   ------------------------------- -------- 5.0/6.2 MB 4.0 MB/s eta 0:00:01\n",
      "   ------------------------------------- -- 5.8/6.2 MB 4.0 MB/s eta 0:00:01\n",
      "   ---------------------------------------- 6.2/6.2 MB 3.9 MB/s eta 0:00:00\n",
      "Downloading confection-0.1.5-py3-none-any.whl (35 kB)\n",
      "Downloading typer-0.15.4-py3-none-any.whl (45 kB)\n",
      "Using cached click-8.1.8-py3-none-any.whl (98 kB)\n",
      "Downloading urllib3-2.4.0-py3-none-any.whl (128 kB)\n",
      "Downloading wasabi-1.1.3-py3-none-any.whl (27 kB)\n",
      "Downloading weasel-0.4.1-py3-none-any.whl (50 kB)\n",
      "Downloading cloudpathlib-0.21.1-py3-none-any.whl (52 kB)\n",
      "Downloading smart_open-7.1.0-py3-none-any.whl (61 kB)\n",
      "Downloading annotated_types-0.7.0-py3-none-any.whl (13 kB)\n",
      "Downloading certifi-2025.4.26-py3-none-any.whl (159 kB)\n",
      "Downloading language_data-1.3.0-py3-none-any.whl (5.4 MB)\n",
      "   ---------------------------------------- 0.0/5.4 MB ? eta -:--:--\n",
      "   ------- -------------------------------- 1.0/5.4 MB 5.0 MB/s eta 0:00:01\n",
      "   ------------- -------------------------- 1.8/5.4 MB 4.4 MB/s eta 0:00:01\n",
      "   ------------------- -------------------- 2.6/5.4 MB 4.2 MB/s eta 0:00:01\n",
      "   ------------------------- -------------- 3.4/5.4 MB 4.0 MB/s eta 0:00:01\n",
      "   ------------------------------- -------- 4.2/5.4 MB 3.9 MB/s eta 0:00:01\n",
      "   ------------------------------------ --- 5.0/5.4 MB 3.9 MB/s eta 0:00:01\n",
      "   ---------------------------------------- 5.4/5.4 MB 3.8 MB/s eta 0:00:00\n",
      "Downloading marisa_trie-1.2.1-cp311-cp311-win_amd64.whl (152 kB)\n",
      "Downloading rich-14.0.0-py3-none-any.whl (243 kB)\n",
      "Using cached markdown_it_py-3.0.0-py3-none-any.whl (87 kB)\n",
      "Using cached mdurl-0.1.2-py3-none-any.whl (10.0 kB)\n",
      "Downloading shellingham-1.5.4-py2.py3-none-any.whl (9.8 kB)\n",
      "Downloading typing_inspection-0.4.0-py3-none-any.whl (14 kB)\n",
      "Downloading jinja2-3.1.6-py3-none-any.whl (134 kB)\n",
      "Downloading MarkupSafe-3.0.2-cp311-cp311-win_amd64.whl (15 kB)\n",
      "Downloading wrapt-1.17.2-cp311-cp311-win_amd64.whl (38 kB)\n",
      "Installing collected packages: cymem, wrapt, wasabi, urllib3, typing-inspection, spacy-loggers, spacy-legacy, shellingham, pydantic-core, murmurhash, mdurl, MarkupSafe, marisa-trie, idna, cloudpathlib, click, charset-normalizer, certifi, catalogue, blis, annotated-types, srsly, smart-open, requests, pydantic, preshed, markdown-it-py, language-data, jinja2, rich, langcodes, confection, typer, thinc, weasel, spacy\n",
      "\n",
      "   --- ------------------------------------  3/36 [urllib3]\n",
      "   --- ------------------------------------  3/36 [urllib3]\n",
      "   ------ ---------------------------------  6/36 [spacy-legacy]\n",
      "   ----------- ---------------------------- 10/36 [mdurl]\n",
      "   -------------- ------------------------- 13/36 [idna]\n",
      "  Attempting uninstall: click\n",
      "   -------------- ------------------------- 13/36 [idna]\n",
      "   ---------------- ----------------------- 15/36 [click]\n",
      "    Found existing installation: click 8.2.0\n",
      "   ---------------- ----------------------- 15/36 [click]\n",
      "    Uninstalling click-8.2.0:\n",
      "   ---------------- ----------------------- 15/36 [click]\n",
      "      Successfully uninstalled click-8.2.0\n",
      "   ---------------- ----------------------- 15/36 [click]\n",
      "   ----------------- ---------------------- 16/36 [charset-normalizer]\n",
      "   -------------------- ------------------- 18/36 [catalogue]\n",
      "   --------------------- ------------------ 19/36 [blis]\n",
      "   ----------------------- ---------------- 21/36 [srsly]\n",
      "   ----------------------- ---------------- 21/36 [srsly]\n",
      "   ----------------------- ---------------- 21/36 [srsly]\n",
      "   ----------------------- ---------------- 21/36 [srsly]\n",
      "   ------------------------- -------------- 23/36 [requests]\n",
      "   -------------------------- ------------- 24/36 [pydantic]\n",
      "   -------------------------- ------------- 24/36 [pydantic]\n",
      "   -------------------------- ------------- 24/36 [pydantic]\n",
      "   --------------------------- ------------ 25/36 [preshed]\n",
      "   ---------------------------- ----------- 26/36 [markdown-it-py]\n",
      "   ------------------------------ --------- 27/36 [language-data]\n",
      "   ------------------------------ --------- 27/36 [language-data]\n",
      "   ------------------------------ --------- 27/36 [language-data]\n",
      "   ------------------------------ --------- 27/36 [language-data]\n",
      "   ------------------------------ --------- 27/36 [language-data]\n",
      "   ------------------------------ --------- 27/36 [language-data]\n",
      "   ------------------------------- -------- 28/36 [jinja2]\n",
      "   -------------------------------- ------- 29/36 [rich]\n",
      "   -------------------------------- ------- 29/36 [rich]\n",
      "   -------------------------------- ------- 29/36 [rich]\n",
      "   --------------------------------- ------ 30/36 [langcodes]\n",
      "   ----------------------------------- ---- 32/36 [typer]\n",
      "   ------------------------------------ --- 33/36 [thinc]\n",
      "   ------------------------------------ --- 33/36 [thinc]\n",
      "   ------------------------------------ --- 33/36 [thinc]\n",
      "   ------------------------------------ --- 33/36 [thinc]\n",
      "   ------------------------------------ --- 33/36 [thinc]\n",
      "   -------------------------------------- - 35/36 [spacy]\n",
      "   -------------------------------------- - 35/36 [spacy]\n",
      "   -------------------------------------- - 35/36 [spacy]\n",
      "   -------------------------------------- - 35/36 [spacy]\n",
      "   -------------------------------------- - 35/36 [spacy]\n",
      "   -------------------------------------- - 35/36 [spacy]\n",
      "   -------------------------------------- - 35/36 [spacy]\n",
      "   -------------------------------------- - 35/36 [spacy]\n",
      "   -------------------------------------- - 35/36 [spacy]\n",
      "   -------------------------------------- - 35/36 [spacy]\n",
      "   -------------------------------------- - 35/36 [spacy]\n",
      "   -------------------------------------- - 35/36 [spacy]\n",
      "   -------------------------------------- - 35/36 [spacy]\n",
      "   -------------------------------------- - 35/36 [spacy]\n",
      "   -------------------------------------- - 35/36 [spacy]\n",
      "   -------------------------------------- - 35/36 [spacy]\n",
      "   -------------------------------------- - 35/36 [spacy]\n",
      "   -------------------------------------- - 35/36 [spacy]\n",
      "   -------------------------------------- - 35/36 [spacy]\n",
      "   -------------------------------------- - 35/36 [spacy]\n",
      "   -------------------------------------- - 35/36 [spacy]\n",
      "   ---------------------------------------- 36/36 [spacy]\n",
      "\n",
      "Successfully installed MarkupSafe-3.0.2 annotated-types-0.7.0 blis-1.3.0 catalogue-2.0.10 certifi-2025.4.26 charset-normalizer-3.4.2 click-8.1.8 cloudpathlib-0.21.1 confection-0.1.5 cymem-2.0.11 idna-3.10 jinja2-3.1.6 langcodes-3.5.0 language-data-1.3.0 marisa-trie-1.2.1 markdown-it-py-3.0.0 mdurl-0.1.2 murmurhash-1.0.12 preshed-3.0.9 pydantic-2.11.4 pydantic-core-2.33.2 requests-2.32.3 rich-14.0.0 shellingham-1.5.4 smart-open-7.1.0 spacy-3.8.6 spacy-legacy-3.0.12 spacy-loggers-1.0.5 srsly-2.5.1 thinc-8.3.6 typer-0.15.4 typing-inspection-0.4.0 urllib3-2.4.0 wasabi-1.1.3 weasel-0.4.1 wrapt-1.17.2\n"
     ]
    }
   ],
   "source": [
    "!pip install spacy"
   ]
  },
  {
   "cell_type": "code",
   "execution_count": 25,
   "id": "03175d60",
   "metadata": {},
   "outputs": [
    {
     "name": "stdout",
     "output_type": "stream",
     "text": [
      "\u001b[38;5;2m✔ Download and installation successful\u001b[0m\n",
      "You can now load the package via spacy.load('en_core_web_sm')\n",
      "\u001b[38;5;3m⚠ Restart to reload dependencies\u001b[0m\n",
      "If you are in a Jupyter or Colab notebook, you may need to restart Python in\n",
      "order to load all the package's dependencies. You can do this by selecting the\n",
      "'Restart kernel' or 'Restart runtime' option.\n"
     ]
    }
   ],
   "source": [
    "import spacy.cli\n",
    "spacy.cli.download(\"en_core_web_sm\")\n",
    "\n",
    "# Then load it\n",
    "nlp = spacy.load(\"en_core_web_sm\")\n"
   ]
  },
  {
   "cell_type": "code",
   "execution_count": 1,
   "id": "b39ac5b8",
   "metadata": {},
   "outputs": [
    {
     "name": "stdout",
     "output_type": "stream",
     "text": [
      "[('The quick brown fox', 'jumps'), ('the lazy dog', 'over')]\n"
     ]
    }
   ],
   "source": [
    "import spacy\n",
    "nlp = spacy.load(\"en_core_web_sm\")\n",
    "doc = nlp(\"The quick brown fox jumps over the lazy dog\")\n",
    "print([(chunk.text, chunk.root.head.text) for chunk in doc.noun_chunks])"
   ]
  },
  {
   "cell_type": "code",
   "execution_count": 2,
   "id": "7a5a2ea9",
   "metadata": {},
   "outputs": [
    {
     "name": "stdout",
     "output_type": "stream",
     "text": [
      "The quick brown fox\n",
      "the lazy dog\n"
     ]
    }
   ],
   "source": [
    "import spacy\n",
    "\n",
    "# Load spaCy's small English model\n",
    "nlp = spacy.load(\"en_core_web_sm\")\n",
    "\n",
    "# Sample text\n",
    "text = \"The quick brown fox jumps over the lazy dog\"\n",
    "\n",
    "# Process text\n",
    "doc = nlp(text)\n",
    "\n",
    "# Extract noun chunks\n",
    "for chunk in doc.noun_chunks:\n",
    "    print(chunk.text)"
   ]
  },
  {
   "cell_type": "code",
   "execution_count": 3,
   "id": "f40835be",
   "metadata": {},
   "outputs": [
    {
     "name": "stdout",
     "output_type": "stream",
     "text": [
      "The quick brown\n",
      "fox\n",
      "the lazy dog\n"
     ]
    }
   ],
   "source": [
    "import nltk\n",
    "\n",
    "# Define sentence and tokenize\n",
    "sentence = \"The quick brown fox jumps over the lazy dog\"\n",
    "words = nltk.word_tokenize(sentence)\n",
    "pos_tags = nltk.pos_tag(words)\n",
    "\n",
    "# Define chunk grammar (e.g., extracting noun phrases)\n",
    "grammar = \"NP: {<DT>?<JJ>*<NN>}\"  # NP = Noun Phrase (DT = determiner, JJ = adjective, NN = noun)\n",
    "\n",
    "# Apply chunking\n",
    "chunk_parser = nltk.RegexpParser(grammar)\n",
    "tree = chunk_parser.parse(pos_tags)\n",
    "\n",
    "# Print chunked phrases\n",
    "for subtree in tree.subtrees():\n",
    "    if subtree.label() == \"NP\":\n",
    "        print(\" \".join([word for word, tag in subtree.leaves()]))\n"
   ]
  },
  {
   "cell_type": "code",
   "execution_count": 4,
   "id": "c90a36cc",
   "metadata": {},
   "outputs": [
    {
     "name": "stdout",
     "output_type": "stream",
     "text": [
      "Apple → ORG\n",
      "U.K. → GPE\n",
      "$1 billion → MONEY\n"
     ]
    }
   ],
   "source": [
    "\n",
    "\n",
    "import spacy\n",
    "\n",
    "# Load pre-trained NLP model\n",
    "nlp = spacy.load(\"en_core_web_sm\")\n",
    "\n",
    "# Sample text\n",
    "text = \"Apple is looking at buying U.K. startup for $1 billion\"\n",
    "\n",
    "# Process text\n",
    "doc = nlp(text)\n",
    "\n",
    "# Extract Named Entities\n",
    "for ent in doc.ents:\n",
    "    print(f\"{ent.text} → {ent.label_}\")\n"
   ]
  },
  {
   "cell_type": "code",
   "execution_count": 5,
   "id": "5cd84d97",
   "metadata": {},
   "outputs": [
    {
     "name": "stdout",
     "output_type": "stream",
     "text": [
      "TextBlob makes NLP simple and effective!\n"
     ]
    }
   ],
   "source": [
    "from textblob import TextBlob\n",
    "\n",
    "# Sample text\n",
    "text = \"TextBlob makes NLP simple and effective!\"\n",
    "\n",
    "# Create a TextBlob object\n",
    "blob = TextBlob(text)\n",
    "\n",
    "print(blob)"
   ]
  },
  {
   "cell_type": "code",
   "execution_count": 6,
   "id": "a3c4ee77",
   "metadata": {},
   "outputs": [
    {
     "name": "stdout",
     "output_type": "stream",
     "text": [
      "Polarity: 0.6125\n",
      "Subjectivity: 0.75\n"
     ]
    }
   ],
   "source": [
    "\n",
    "text = \"I love this product! It's absolutely amazing.\"\n",
    "\n",
    "blob = TextBlob(text)\n",
    "\n",
    "# Get sentiment polarity (-1 to 1, negative to positive)\n",
    "print(f\"Polarity: {blob.sentiment.polarity}\")\n",
    "\n",
    "# Get subjectivity (0 to 1, objective to subjective)\n",
    "print(f\"Subjectivity: {blob.sentiment.subjectivity}\")"
   ]
  },
  {
   "cell_type": "code",
   "execution_count": 7,
   "id": "a869cde6",
   "metadata": {},
   "outputs": [
    {
     "name": "stdout",
     "output_type": "stream",
     "text": [
      "I am very happy with this product!\n"
     ]
    }
   ],
   "source": [
    "text = \"I am veri happy with this prodct!\"\n",
    "\n",
    "blob = TextBlob(text)\n",
    "\n",
    "# Correct spelling\n",
    "corrected_text = blob.correct()\n",
    "\n",
    "print(corrected_text)"
   ]
  },
  {
   "cell_type": "code",
   "execution_count": 8,
   "id": "15c45a3c",
   "metadata": {},
   "outputs": [
    {
     "name": "stdout",
     "output_type": "stream",
     "text": [
      "[Sentence(\"TextBlob makes NLP easy.\"), Sentence(\"It's a powerful library.\")]\n",
      "['TextBlob', 'makes', 'NLP', 'easy', 'It', \"'s\", 'a', 'powerful', 'library']\n"
     ]
    }
   ],
   "source": [
    "text = \"TextBlob makes NLP easy. It's a powerful library.\"\n",
    "\n",
    "blob = TextBlob(text)\n",
    "\n",
    "# Sentence tokenization\n",
    "print(blob.sentences)\n",
    "\n",
    "# Word tokenization\n",
    "print(blob.words)"
   ]
  },
  {
   "cell_type": "code",
   "execution_count": 9,
   "id": "1a1dfe2b",
   "metadata": {},
   "outputs": [
    {
     "name": "stdout",
     "output_type": "stream",
     "text": [
      "[('The', 'DT'), ('quick', 'JJ'), ('brown', 'NN'), ('fox', 'NN'), ('jumps', 'VBZ'), ('over', 'IN'), ('the', 'DT'), ('lazy', 'JJ'), ('dog', 'NN')]\n"
     ]
    }
   ],
   "source": [
    "text = \"The quick brown fox jumps over the lazy dog.\"\n",
    "\n",
    "blob = TextBlob(text)\n",
    "\n",
    "# Get POS tags\n",
    "print(blob.tags)"
   ]
  },
  {
   "cell_type": "code",
   "execution_count": 10,
   "id": "361e145b",
   "metadata": {},
   "outputs": [
    {
     "name": "stdout",
     "output_type": "stream",
     "text": [
      "['elon musk', 'tesla', 'spacex']\n"
     ]
    }
   ],
   "source": [
    "\n",
    "text = \"Elon Musk founded Tesla and SpaceX.\"\n",
    "\n",
    "blob = TextBlob(text)\n",
    "\n",
    "# Extract noun phrases (Simple NER)\n",
    "print(blob.noun_phrases)"
   ]
  },
  {
   "cell_type": "code",
   "execution_count": 12,
   "id": "f0161559",
   "metadata": {},
   "outputs": [],
   "source": [
    "# blob = TextBlob(\"Bonjour tout le monde\")\n",
    "\n",
    "# # Translate from French to English\n",
    "# translated_text = blob.translate(to=\"en\")\n",
    "\n",
    "# print(translated_text)"
   ]
  },
  {
   "cell_type": "code",
   "execution_count": 13,
   "id": "549eadbb",
   "metadata": {},
   "outputs": [
    {
     "name": "stdout",
     "output_type": "stream",
     "text": [
      "[('The quick brown fox', 'jumps'), ('the lazy dog', 'over')]\n"
     ]
    }
   ],
   "source": [
    "import spacy\n",
    "nlp = spacy.load(\"en_core_web_sm\")\n",
    "doc = nlp(\"The quick brown fox jumps over the lazy dog\")\n",
    "print([(chunk.text, chunk.root.head.text) for chunk in doc.noun_chunks])"
   ]
  },
  {
   "cell_type": "markdown",
   "id": "84cd7592",
   "metadata": {},
   "source": [
    "Spacy :\n",
    "----------\n",
    "Spacy is very good for handling stastic handling ( handle large text )\n",
    "\n",
    "for hanling english text :\n",
    "--------------------------\n",
    "\n",
    "en_core_web_sm - small para\n",
    "\n",
    "en_core_web_md - medium para\n",
    "\n",
    "en_core_web_lg - large para"
   ]
  },
  {
   "cell_type": "code",
   "execution_count": 14,
   "id": "adcf21df",
   "metadata": {},
   "outputs": [
    {
     "name": "stdout",
     "output_type": "stream",
     "text": [
      "Apple | PROPN | nsubj\n",
      "is | AUX | aux\n",
      "looking | VERB | ROOT\n",
      "at | ADP | prep\n",
      "buying | VERB | pcomp\n",
      "a | DET | det\n",
      "U.K. | PROPN | dobj\n",
      "startup | NOUN | advcl\n",
      "for | ADP | prep\n",
      "$ | SYM | quantmod\n",
      "1 | NUM | compound\n",
      "billion | NUM | pobj\n",
      ". | PUNCT | punct\n"
     ]
    }
   ],
   "source": [
    "\n",
    "import spacy\n",
    "\n",
    "# Load pre-trained English model\n",
    "nlp = spacy.load(\"en_core_web_sm\")\n",
    "\n",
    "# Sample text\n",
    "text = \"Apple is looking at buying a U.K. startup for $1 billion.\"\n",
    "\n",
    "# Process the text\n",
    "doc = nlp(text)\n",
    "\n",
    "# Print each token\n",
    "for token in doc:\n",
    "    print(token.text, \"|\", token.pos_, \"|\", token.dep_)\n"
   ]
  },
  {
   "cell_type": "code",
   "execution_count": 15,
   "id": "bcce11b9",
   "metadata": {},
   "outputs": [
    {
     "name": "stdout",
     "output_type": "stream",
     "text": [
      "['Apple', 'looking', 'buying', 'U.K.', 'startup', '$', '1', 'billion', '.']\n"
     ]
    }
   ],
   "source": [
    "\n",
    "from spacy.lang.en.stop_words import STOP_WORDS\n",
    "\n",
    "filtered_tokens = [token.text for token in doc if token.text.lower() not in STOP_WORDS]\n",
    "print(filtered_tokens)"
   ]
  },
  {
   "cell_type": "code",
   "execution_count": 16,
   "id": "dff6a249",
   "metadata": {},
   "outputs": [
    {
     "name": "stdout",
     "output_type": "stream",
     "text": [
      "Apple → Apple\n",
      "is → be\n",
      "looking → look\n",
      "at → at\n",
      "buying → buy\n",
      "a → a\n",
      "U.K. → U.K.\n",
      "startup → startup\n",
      "for → for\n",
      "$ → $\n",
      "1 → 1\n",
      "billion → billion\n",
      ". → .\n"
     ]
    }
   ],
   "source": [
    "\n",
    "for token in doc:\n",
    "    print(token.text, \"→\", token.lemma_)"
   ]
  },
  {
   "cell_type": "code",
   "execution_count": 17,
   "id": "d02c7ea4",
   "metadata": {},
   "outputs": [
    {
     "name": "stdout",
     "output_type": "stream",
     "text": [
      "Apple - ORG\n",
      "U.K. - GPE\n",
      "$1 billion - MONEY\n"
     ]
    }
   ],
   "source": [
    "\n",
    "for ent in doc.ents:\n",
    "    print(ent.text, \"-\", ent.label_)"
   ]
  },
  {
   "cell_type": "code",
   "execution_count": 18,
   "id": "e435c159",
   "metadata": {},
   "outputs": [
    {
     "name": "stdout",
     "output_type": "stream",
     "text": [
      "Apple PROPN NNP\n",
      "is AUX VBZ\n",
      "looking VERB VBG\n",
      "at ADP IN\n",
      "buying VERB VBG\n",
      "a DET DT\n",
      "U.K. PROPN NNP\n",
      "startup NOUN NN\n",
      "for ADP IN\n",
      "$ SYM $\n",
      "1 NUM CD\n",
      "billion NUM CD\n",
      ". PUNCT .\n"
     ]
    }
   ],
   "source": [
    "\n",
    "for token in doc:\n",
    "    print(token.text, token.pos_, token.tag_)"
   ]
  },
  {
   "cell_type": "code",
   "execution_count": 19,
   "id": "77cf72f8",
   "metadata": {},
   "outputs": [
    {
     "name": "stdout",
     "output_type": "stream",
     "text": [
      "Apple → nsubj → looking\n",
      "is → aux → looking\n",
      "looking → ROOT → looking\n",
      "at → prep → looking\n",
      "buying → pcomp → at\n",
      "a → det → U.K.\n",
      "U.K. → dobj → buying\n",
      "startup → advcl → looking\n",
      "for → prep → startup\n",
      "$ → quantmod → billion\n",
      "1 → compound → billion\n",
      "billion → pobj → for\n",
      ". → punct → looking\n"
     ]
    }
   ],
   "source": [
    "\n",
    "for token in doc:\n",
    "    print(token.text, \"→\", token.dep_, \"→\", token.head.text)"
   ]
  },
  {
   "cell_type": "code",
   "execution_count": 20,
   "id": "b537f9d5",
   "metadata": {},
   "outputs": [],
   "source": [
    "from spacy.matcher import Matcher\n",
    "\n",
    "matcher = Matcher(nlp.vocab)\n",
    "\n",
    "# Define pattern (example: match \"buying a startup\")\n",
    "pattern = [{\"LEMMA\": \"buy\"}, {\"POS\": \"DET\"}, {\"POS\": \"NOUN\"}]\n",
    "\n",
    "# Add pattern to matcher\n",
    "matcher.add(\"BUY_PATTERN\", [pattern])\n",
    "\n",
    "# Apply matcher to text\n",
    "matches = matcher(doc)\n",
    "\n",
    "for match_id, start, end in matches:\n",
    "    print(\"Matched:\", doc[start:end].text)"
   ]
  },
  {
   "cell_type": "code",
   "execution_count": 21,
   "id": "b349f77d",
   "metadata": {},
   "outputs": [
    {
     "name": "stdout",
     "output_type": "stream",
     "text": [
      "0.8258128762245178\n"
     ]
    },
    {
     "name": "stderr",
     "output_type": "stream",
     "text": [
      "C:\\Users\\chand\\AppData\\Local\\Temp\\ipykernel_40468\\588920907.py:4: UserWarning: [W007] The model you're using has no word vectors loaded, so the result of the Doc.similarity method will be based on the tagger, parser and NER, which may not give useful similarity judgements. This may happen if you're using one of the small models, e.g. `en_core_web_sm`, which don't ship with word vectors and only use context-sensitive tensors. You can always add your own word vectors, or use one of the larger models instead if available.\n",
      "  print(doc1.similarity(doc2))\n"
     ]
    }
   ],
   "source": [
    "\n",
    "\n",
    "doc1 = nlp(\"I love dogs\")\n",
    "doc2 = nlp(\"I adore puppies\")\n",
    "\n",
    "print(doc1.similarity(doc2))"
   ]
  },
  {
   "cell_type": "code",
   "execution_count": null,
   "id": "a2a9fa12",
   "metadata": {},
   "outputs": [],
   "source": []
  }
 ],
 "metadata": {
  "kernelspec": {
   "display_name": "env",
   "language": "python",
   "name": "python3"
  },
  "language_info": {
   "codemirror_mode": {
    "name": "ipython",
    "version": 3
   },
   "file_extension": ".py",
   "mimetype": "text/x-python",
   "name": "python",
   "nbconvert_exporter": "python",
   "pygments_lexer": "ipython3",
   "version": "3.11.11"
  }
 },
 "nbformat": 4,
 "nbformat_minor": 5
}
