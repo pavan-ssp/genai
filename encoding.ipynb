{
 "cells": [
  {
   "cell_type": "code",
   "execution_count": 1,
   "id": "7831c105",
   "metadata": {},
   "outputs": [
    {
     "name": "stdout",
     "output_type": "stream",
     "text": [
      "ok\n"
     ]
    }
   ],
   "source": [
    "print(\"ok\")"
   ]
  },
  {
   "cell_type": "markdown",
   "id": "36399fe6",
   "metadata": {},
   "source": [
    "\n",
    "Encoding ---> conversion of words to vectors or numericals [ it depends on frequency of the words]\n",
    "              BOW , TF-IDF , OHE , N-grams , some custom techniques\n",
    "\t\t\t  \n",
    "Embedding ----> word into vectors [  it depends on frequency of the neural network architecture ]\n",
    "                word2vec introduced by google and it is used by using neuralnetwork by default it is consists of vector size of 384\n",
    "\t\t\t\t\n",
    "New technique -- > Transformers based models (sentence embedding)\n",
    "                   Bert , Gemini , Elmo , open ai , MPT\n",
    "\t\t\t\t   \n",
    "\t\t\t\t   \n",
    "Note : Difference between encoding and embedding are both are try to convert words into vectors or numericals but embedding is based on neuralnetwork architecture"
   ]
  },
  {
   "cell_type": "markdown",
   "id": "5009b5c7",
   "metadata": {},
   "source": [
    "\n",
    "Encoding:\n",
    "--------\n",
    "\n",
    "Encoding is the process of converting data from one format to another. \n",
    "It often transforms categorical or textual data into numerical format to be used in machine learning models.\n",
    "\n",
    "\n",
    "Types of Encoding:\n",
    "-----------------\n",
    "\n",
    "Label Encoding:\n",
    "---------------\n",
    "\n",
    "Converts each unique category to an integer.\n",
    "\n",
    "\n",
    "Red → 0, Blue → 1, Green → 2\n",
    "\n",
    "\n",
    "Usage: Ordinal data (like size: Small, Medium, Large).\n",
    "\n",
    "\n",
    "\n",
    "One-Hot Encoding:\n",
    "---------------\n",
    "\n",
    "Creates a binary column for each category.\n",
    "\n",
    "\n",
    "Red → [1,0,0], Blue → [0,1,0], Green → [0,0,1]\n",
    "\n",
    "\n",
    "Usage: Categorical data without inherent order.\n",
    "\n",
    "\n",
    "\n",
    "Binary Encoding:\n",
    "----------------\n",
    "\n",
    "Converts categories to binary numbers.\n",
    "\n",
    "\n",
    "Category A → 001, B → 010, C → 011\n",
    "\n",
    "Usage: High-cardinality categorical variables.\n",
    "\n",
    "\n",
    "\n",
    "Ordinal Encoding:\n",
    "----------------\n",
    "\n",
    "Encodes categories with a meaningful order.\n",
    "\n",
    "\n",
    "Low → 1, Medium → 2, High → 3\n",
    "\n",
    "Usage: When the order of categories matters.\n",
    "\n",
    "\n",
    "\n",
    "Frequency Encoding:\n",
    "------------------\n",
    "\n",
    "Encodes categories based on their frequency in the dataset.\n",
    "\n",
    "\n",
    "Red (10 times) → 0.1, Blue (20 times) → 0.2\n",
    "\n",
    "Usage: When the frequency of occurrence is important.\n",
    "\n",
    "\n",
    "\n",
    "Target Encoding:\n",
    "---------------\n",
    "\n",
    "Encodes categories based on the mean of the target variable.\n",
    "\n",
    "\n",
    "Category A → 0.3 (mean of target for category A)\n",
    "\n",
    "Usage: Handling categorical variables with respect to the target.\n",
    "\n"
   ]
  },
  {
   "cell_type": "markdown",
   "id": "6b08e6cc",
   "metadata": {},
   "source": [
    "\n",
    "#### Encoding : [ it depends on frequency of the words]"
   ]
  },
  {
   "cell_type": "code",
   "execution_count": 6,
   "id": "984f2f0c",
   "metadata": {},
   "outputs": [
    {
     "name": "stdout",
     "output_type": "stream",
     "text": [
      "Collecting scikit-learn\n",
      "  Downloading scikit_learn-1.6.1-cp311-cp311-win_amd64.whl.metadata (15 kB)\n",
      "Requirement already satisfied: numpy>=1.19.5 in c:\\users\\chand\\anaconda3\\envs\\env\\lib\\site-packages (from scikit-learn) (2.2.5)\n",
      "Collecting scipy>=1.6.0 (from scikit-learn)\n",
      "  Downloading scipy-1.15.3-cp311-cp311-win_amd64.whl.metadata (60 kB)\n",
      "Requirement already satisfied: joblib>=1.2.0 in c:\\users\\chand\\anaconda3\\envs\\env\\lib\\site-packages (from scikit-learn) (1.5.0)\n",
      "Collecting threadpoolctl>=3.1.0 (from scikit-learn)\n",
      "  Downloading threadpoolctl-3.6.0-py3-none-any.whl.metadata (13 kB)\n",
      "Downloading scikit_learn-1.6.1-cp311-cp311-win_amd64.whl (11.1 MB)\n",
      "   ---------------------------------------- 0.0/11.1 MB ? eta -:--:--\n",
      "   --- ------------------------------------ 1.0/11.1 MB 4.2 MB/s eta 0:00:03\n",
      "   ------ --------------------------------- 1.8/11.1 MB 4.0 MB/s eta 0:00:03\n",
      "   --------- ------------------------------ 2.6/11.1 MB 4.0 MB/s eta 0:00:03\n",
      "   ------------ --------------------------- 3.4/11.1 MB 3.9 MB/s eta 0:00:02\n",
      "   --------------- ------------------------ 4.2/11.1 MB 3.9 MB/s eta 0:00:02\n",
      "   ----------------- ---------------------- 5.0/11.1 MB 3.9 MB/s eta 0:00:02\n",
      "   -------------------- ------------------- 5.8/11.1 MB 3.9 MB/s eta 0:00:02\n",
      "   ----------------------- ---------------- 6.6/11.1 MB 3.9 MB/s eta 0:00:02\n",
      "   -------------------------- ------------- 7.3/11.1 MB 3.9 MB/s eta 0:00:01\n",
      "   ----------------------------- ---------- 8.1/11.1 MB 3.9 MB/s eta 0:00:01\n",
      "   -------------------------------- ------- 8.9/11.1 MB 3.9 MB/s eta 0:00:01\n",
      "   ---------------------------------- ----- 9.7/11.1 MB 3.9 MB/s eta 0:00:01\n",
      "   ------------------------------------- -- 10.5/11.1 MB 3.9 MB/s eta 0:00:01\n",
      "   ---------------------------------------- 11.1/11.1 MB 3.8 MB/s eta 0:00:00\n",
      "Downloading scipy-1.15.3-cp311-cp311-win_amd64.whl (41.2 MB)\n",
      "   ---------------------------------------- 0.0/41.2 MB ? eta -:--:--\n",
      "    --------------------------------------- 0.5/41.2 MB 4.2 MB/s eta 0:00:10\n",
      "   - -------------------------------------- 1.6/41.2 MB 4.0 MB/s eta 0:00:10\n",
      "   -- ------------------------------------- 2.6/41.2 MB 4.0 MB/s eta 0:00:10\n",
      "   --- ------------------------------------ 3.4/41.2 MB 3.9 MB/s eta 0:00:10\n",
      "   ---- ----------------------------------- 4.2/41.2 MB 3.9 MB/s eta 0:00:10\n",
      "   ---- ----------------------------------- 5.0/41.2 MB 3.9 MB/s eta 0:00:10\n",
      "   ----- ---------------------------------- 5.8/41.2 MB 3.9 MB/s eta 0:00:10\n",
      "   ------ --------------------------------- 6.6/41.2 MB 3.9 MB/s eta 0:00:09\n",
      "   ------- -------------------------------- 7.3/41.2 MB 3.9 MB/s eta 0:00:09\n",
      "   ------- -------------------------------- 8.1/41.2 MB 3.9 MB/s eta 0:00:09\n",
      "   -------- ------------------------------- 8.7/41.2 MB 3.8 MB/s eta 0:00:09\n",
      "   --------- ------------------------------ 9.4/41.2 MB 3.8 MB/s eta 0:00:09\n",
      "   --------- ------------------------------ 10.2/41.2 MB 3.8 MB/s eta 0:00:09\n",
      "   ---------- ----------------------------- 11.0/41.2 MB 3.8 MB/s eta 0:00:09\n",
      "   ----------- ---------------------------- 11.8/41.2 MB 3.7 MB/s eta 0:00:08\n",
      "   ------------ --------------------------- 12.6/41.2 MB 3.7 MB/s eta 0:00:08\n",
      "   ------------ --------------------------- 13.1/41.2 MB 3.7 MB/s eta 0:00:08\n",
      "   ------------- -------------------------- 13.9/41.2 MB 3.7 MB/s eta 0:00:08\n",
      "   -------------- ------------------------- 14.7/41.2 MB 3.7 MB/s eta 0:00:08\n",
      "   -------------- ------------------------- 15.5/41.2 MB 3.7 MB/s eta 0:00:07\n",
      "   --------------- ------------------------ 16.3/41.2 MB 3.7 MB/s eta 0:00:07\n",
      "   ---------------- ----------------------- 17.0/41.2 MB 3.7 MB/s eta 0:00:07\n",
      "   ----------------- ---------------------- 17.8/41.2 MB 3.7 MB/s eta 0:00:07\n",
      "   ------------------ --------------------- 18.6/41.2 MB 3.7 MB/s eta 0:00:07\n",
      "   ------------------ --------------------- 19.4/41.2 MB 3.7 MB/s eta 0:00:06\n",
      "   ------------------- -------------------- 20.2/41.2 MB 3.7 MB/s eta 0:00:06\n",
      "   -------------------- ------------------- 21.0/41.2 MB 3.8 MB/s eta 0:00:06\n",
      "   --------------------- ------------------ 22.0/41.2 MB 3.8 MB/s eta 0:00:06\n",
      "   --------------------- ------------------ 22.5/41.2 MB 3.8 MB/s eta 0:00:05\n",
      "   ---------------------- ----------------- 23.6/41.2 MB 3.8 MB/s eta 0:00:05\n",
      "   ----------------------- ---------------- 24.4/41.2 MB 3.8 MB/s eta 0:00:05\n",
      "   ------------------------ --------------- 25.2/41.2 MB 3.8 MB/s eta 0:00:05\n",
      "   ------------------------- -------------- 26.0/41.2 MB 3.8 MB/s eta 0:00:05\n",
      "   ------------------------- -------------- 26.7/41.2 MB 3.8 MB/s eta 0:00:04\n",
      "   -------------------------- ------------- 27.5/41.2 MB 3.8 MB/s eta 0:00:04\n",
      "   --------------------------- ------------ 28.3/41.2 MB 3.8 MB/s eta 0:00:04\n",
      "   ---------------------------- ----------- 29.1/41.2 MB 3.8 MB/s eta 0:00:04\n",
      "   ---------------------------- ----------- 29.9/41.2 MB 3.8 MB/s eta 0:00:04\n",
      "   ----------------------------- ---------- 30.7/41.2 MB 3.8 MB/s eta 0:00:03\n",
      "   ------------------------------ --------- 31.5/41.2 MB 3.8 MB/s eta 0:00:03\n",
      "   ------------------------------- -------- 32.2/41.2 MB 3.8 MB/s eta 0:00:03\n",
      "   -------------------------------- ------- 33.0/41.2 MB 3.8 MB/s eta 0:00:03\n",
      "   -------------------------------- ------- 33.8/41.2 MB 3.8 MB/s eta 0:00:02\n",
      "   --------------------------------- ------ 34.6/41.2 MB 3.8 MB/s eta 0:00:02\n",
      "   ---------------------------------- ----- 35.4/41.2 MB 3.8 MB/s eta 0:00:02\n",
      "   ----------------------------------- ---- 36.2/41.2 MB 3.8 MB/s eta 0:00:02\n",
      "   ----------------------------------- ---- 37.0/41.2 MB 3.8 MB/s eta 0:00:02\n",
      "   ------------------------------------ --- 37.7/41.2 MB 3.8 MB/s eta 0:00:01\n",
      "   ------------------------------------- -- 38.5/41.2 MB 3.8 MB/s eta 0:00:01\n",
      "   -------------------------------------- - 39.3/41.2 MB 3.8 MB/s eta 0:00:01\n",
      "   -------------------------------------- - 40.1/41.2 MB 3.8 MB/s eta 0:00:01\n",
      "   ---------------------------------------  40.9/41.2 MB 3.8 MB/s eta 0:00:01\n",
      "   ---------------------------------------- 41.2/41.2 MB 3.7 MB/s eta 0:00:00\n",
      "Downloading threadpoolctl-3.6.0-py3-none-any.whl (18 kB)\n",
      "Installing collected packages: threadpoolctl, scipy, scikit-learn\n",
      "\n",
      "   ------------- -------------------------- 1/3 [scipy]\n",
      "   ------------- -------------------------- 1/3 [scipy]\n",
      "   ------------- -------------------------- 1/3 [scipy]\n",
      "   ------------- -------------------------- 1/3 [scipy]\n",
      "   ------------- -------------------------- 1/3 [scipy]\n",
      "   ------------- -------------------------- 1/3 [scipy]\n",
      "   ------------- -------------------------- 1/3 [scipy]\n",
      "   ------------- -------------------------- 1/3 [scipy]\n",
      "   ------------- -------------------------- 1/3 [scipy]\n",
      "   ------------- -------------------------- 1/3 [scipy]\n",
      "   ------------- -------------------------- 1/3 [scipy]\n",
      "   ------------- -------------------------- 1/3 [scipy]\n",
      "   ------------- -------------------------- 1/3 [scipy]\n",
      "   ------------- -------------------------- 1/3 [scipy]\n",
      "   ------------- -------------------------- 1/3 [scipy]\n",
      "   ------------- -------------------------- 1/3 [scipy]\n",
      "   ------------- -------------------------- 1/3 [scipy]\n",
      "   ------------- -------------------------- 1/3 [scipy]\n",
      "   ------------- -------------------------- 1/3 [scipy]\n",
      "   ------------- -------------------------- 1/3 [scipy]\n",
      "   ------------- -------------------------- 1/3 [scipy]\n",
      "   ------------- -------------------------- 1/3 [scipy]\n",
      "   ------------- -------------------------- 1/3 [scipy]\n",
      "   ------------- -------------------------- 1/3 [scipy]\n",
      "   ------------- -------------------------- 1/3 [scipy]\n",
      "   ------------- -------------------------- 1/3 [scipy]\n",
      "   ------------- -------------------------- 1/3 [scipy]\n",
      "   ------------- -------------------------- 1/3 [scipy]\n",
      "   ------------- -------------------------- 1/3 [scipy]\n",
      "   ------------- -------------------------- 1/3 [scipy]\n",
      "   ------------- -------------------------- 1/3 [scipy]\n",
      "   ------------- -------------------------- 1/3 [scipy]\n",
      "   ------------- -------------------------- 1/3 [scipy]\n",
      "   -------------------------- ------------- 2/3 [scikit-learn]\n",
      "   -------------------------- ------------- 2/3 [scikit-learn]\n",
      "   -------------------------- ------------- 2/3 [scikit-learn]\n",
      "   -------------------------- ------------- 2/3 [scikit-learn]\n",
      "   -------------------------- ------------- 2/3 [scikit-learn]\n",
      "   -------------------------- ------------- 2/3 [scikit-learn]\n",
      "   -------------------------- ------------- 2/3 [scikit-learn]\n",
      "   -------------------------- ------------- 2/3 [scikit-learn]\n",
      "   -------------------------- ------------- 2/3 [scikit-learn]\n",
      "   -------------------------- ------------- 2/3 [scikit-learn]\n",
      "   -------------------------- ------------- 2/3 [scikit-learn]\n",
      "   -------------------------- ------------- 2/3 [scikit-learn]\n",
      "   -------------------------- ------------- 2/3 [scikit-learn]\n",
      "   -------------------------- ------------- 2/3 [scikit-learn]\n",
      "   -------------------------- ------------- 2/3 [scikit-learn]\n",
      "   -------------------------- ------------- 2/3 [scikit-learn]\n",
      "   ---------------------------------------- 3/3 [scikit-learn]\n",
      "\n",
      "Successfully installed scikit-learn-1.6.1 scipy-1.15.3 threadpoolctl-3.6.0\n",
      "Note: you may need to restart the kernel to use updated packages.\n"
     ]
    }
   ],
   "source": [
    "pip install scikit-learn\n"
   ]
  },
  {
   "cell_type": "code",
   "execution_count": 7,
   "id": "525c69d6",
   "metadata": {},
   "outputs": [
    {
     "name": "stdout",
     "output_type": "stream",
     "text": [
      "Encoded Labels: [0 1 2]\n",
      "Inverse Transform: ['apple' 'banana' 'cherry']\n"
     ]
    }
   ],
   "source": [
    "\n",
    "from sklearn.preprocessing import LabelEncoder\n",
    "\n",
    "labels = ['apple', 'banana', 'cherry']\n",
    "encoder = LabelEncoder()\n",
    "encoded_labels = encoder.fit_transform(labels)\n",
    "\n",
    "print(\"Encoded Labels:\", encoded_labels)\n",
    "print(\"Inverse Transform:\", encoder.inverse_transform([0, 1, 2]))"
   ]
  },
  {
   "cell_type": "code",
   "execution_count": 8,
   "id": "4754de19",
   "metadata": {},
   "outputs": [],
   "source": [
    "import pandas as pd"
   ]
  },
  {
   "cell_type": "code",
   "execution_count": 9,
   "id": "7a949c88",
   "metadata": {},
   "outputs": [],
   "source": [
    "data=pd.DataFrame({\"text\":[\"people watch cricket\",\"cricket watch cricket\",\"people give comment\",\"cricket give comment\"],\"output\":[1,1,0,0]})"
   ]
  },
  {
   "cell_type": "code",
   "execution_count": 10,
   "id": "2f311904",
   "metadata": {},
   "outputs": [
    {
     "data": {
      "text/html": [
       "<div>\n",
       "<style scoped>\n",
       "    .dataframe tbody tr th:only-of-type {\n",
       "        vertical-align: middle;\n",
       "    }\n",
       "\n",
       "    .dataframe tbody tr th {\n",
       "        vertical-align: top;\n",
       "    }\n",
       "\n",
       "    .dataframe thead th {\n",
       "        text-align: right;\n",
       "    }\n",
       "</style>\n",
       "<table border=\"1\" class=\"dataframe\">\n",
       "  <thead>\n",
       "    <tr style=\"text-align: right;\">\n",
       "      <th></th>\n",
       "      <th>text</th>\n",
       "      <th>output</th>\n",
       "    </tr>\n",
       "  </thead>\n",
       "  <tbody>\n",
       "    <tr>\n",
       "      <th>0</th>\n",
       "      <td>people watch cricket</td>\n",
       "      <td>1</td>\n",
       "    </tr>\n",
       "    <tr>\n",
       "      <th>1</th>\n",
       "      <td>cricket watch cricket</td>\n",
       "      <td>1</td>\n",
       "    </tr>\n",
       "    <tr>\n",
       "      <th>2</th>\n",
       "      <td>people give comment</td>\n",
       "      <td>0</td>\n",
       "    </tr>\n",
       "    <tr>\n",
       "      <th>3</th>\n",
       "      <td>cricket give comment</td>\n",
       "      <td>0</td>\n",
       "    </tr>\n",
       "  </tbody>\n",
       "</table>\n",
       "</div>"
      ],
      "text/plain": [
       "                    text  output\n",
       "0   people watch cricket       1\n",
       "1  cricket watch cricket       1\n",
       "2    people give comment       0\n",
       "3   cricket give comment       0"
      ]
     },
     "execution_count": 10,
     "metadata": {},
     "output_type": "execute_result"
    }
   ],
   "source": [
    "data"
   ]
  },
  {
   "cell_type": "code",
   "execution_count": 11,
   "id": "cf2633af",
   "metadata": {},
   "outputs": [],
   "source": [
    "from sklearn.feature_extraction.text import CountVectorizer"
   ]
  },
  {
   "cell_type": "code",
   "execution_count": 12,
   "id": "7b73ef76",
   "metadata": {},
   "outputs": [],
   "source": [
    "BOW=CountVectorizer()"
   ]
  },
  {
   "cell_type": "code",
   "execution_count": 13,
   "id": "596e41cd",
   "metadata": {},
   "outputs": [
    {
     "data": {
      "text/plain": [
       "0     people watch cricket\n",
       "1    cricket watch cricket\n",
       "2      people give comment\n",
       "3     cricket give comment\n",
       "Name: text, dtype: object"
      ]
     },
     "execution_count": 13,
     "metadata": {},
     "output_type": "execute_result"
    }
   ],
   "source": [
    "data[\"text\"]"
   ]
  },
  {
   "cell_type": "code",
   "execution_count": 14,
   "id": "87cc2710",
   "metadata": {},
   "outputs": [],
   "source": [
    "document_matrix=BOW.fit_transform(data[\"text\"])"
   ]
  },
  {
   "cell_type": "code",
   "execution_count": 15,
   "id": "4d76bfd2",
   "metadata": {},
   "outputs": [
    {
     "data": {
      "text/plain": [
       "<Compressed Sparse Row sparse matrix of dtype 'int64'\n",
       "\twith 11 stored elements and shape (4, 5)>"
      ]
     },
     "execution_count": 15,
     "metadata": {},
     "output_type": "execute_result"
    }
   ],
   "source": [
    "document_matrix"
   ]
  },
  {
   "cell_type": "markdown",
   "id": "0b258150",
   "metadata": {},
   "source": [
    "### Alphabatical sequence"
   ]
  },
  {
   "cell_type": "code",
   "execution_count": 16,
   "id": "84842c78",
   "metadata": {},
   "outputs": [
    {
     "data": {
      "text/plain": [
       "{'people': 3, 'watch': 4, 'cricket': 1, 'give': 2, 'comment': 0}"
      ]
     },
     "execution_count": 16,
     "metadata": {},
     "output_type": "execute_result"
    }
   ],
   "source": [
    "BOW.vocabulary_"
   ]
  },
  {
   "cell_type": "code",
   "execution_count": 17,
   "id": "2dc46ed1",
   "metadata": {},
   "outputs": [
    {
     "data": {
      "text/plain": [
       "array([[0, 1, 0, 1, 1]])"
      ]
     },
     "execution_count": 17,
     "metadata": {},
     "output_type": "execute_result"
    }
   ],
   "source": [
    "document_matrix[0].toarray()"
   ]
  },
  {
   "cell_type": "markdown",
   "id": "5d67d401",
   "metadata": {},
   "source": [
    "{'people': 3, 'watch': 4, 'cricket': 1, 'give': 2, 'comment': 0}\n",
    "\n",
    "comment, cricket, give, people, watch\n",
    "\n",
    "D2-> cricket watch cricket\n",
    "\n",
    "0, 2, 0, 0, 1\n"
   ]
  },
  {
   "cell_type": "code",
   "execution_count": 18,
   "id": "3ce9132e",
   "metadata": {},
   "outputs": [
    {
     "data": {
      "text/plain": [
       "array([[0, 2, 0, 0, 1]])"
      ]
     },
     "execution_count": 18,
     "metadata": {},
     "output_type": "execute_result"
    }
   ],
   "source": [
    "document_matrix[1].toarray()"
   ]
  },
  {
   "cell_type": "code",
   "execution_count": 19,
   "id": "6c2fafe4",
   "metadata": {},
   "outputs": [
    {
     "data": {
      "text/plain": [
       "array([[1, 0, 1, 1, 0]])"
      ]
     },
     "execution_count": 19,
     "metadata": {},
     "output_type": "execute_result"
    }
   ],
   "source": [
    "document_matrix[2].toarray()"
   ]
  },
  {
   "cell_type": "code",
   "execution_count": 20,
   "id": "580dff9d",
   "metadata": {},
   "outputs": [
    {
     "data": {
      "text/plain": [
       "array([[1, 1, 1, 0, 0]])"
      ]
     },
     "execution_count": 20,
     "metadata": {},
     "output_type": "execute_result"
    }
   ],
   "source": [
    "document_matrix[3].toarray()"
   ]
  },
  {
   "cell_type": "code",
   "execution_count": 21,
   "id": "169654a5",
   "metadata": {},
   "outputs": [],
   "source": [
    "from sklearn.feature_extraction.text import CountVectorizer"
   ]
  },
  {
   "cell_type": "code",
   "execution_count": 22,
   "id": "2ebbbd5f",
   "metadata": {},
   "outputs": [],
   "source": [
    "bigram=CountVectorizer(ngram_range=(2,2))"
   ]
  },
  {
   "cell_type": "code",
   "execution_count": 23,
   "id": "53451326",
   "metadata": {},
   "outputs": [],
   "source": [
    "bigramvocab=bigram.fit_transform(data[\"text\"])"
   ]
  },
  {
   "cell_type": "code",
   "execution_count": 24,
   "id": "39360938",
   "metadata": {},
   "outputs": [
    {
     "data": {
      "text/plain": [
       "0     people watch cricket\n",
       "1    cricket watch cricket\n",
       "2      people give comment\n",
       "3     cricket give comment\n",
       "Name: text, dtype: object"
      ]
     },
     "execution_count": 24,
     "metadata": {},
     "output_type": "execute_result"
    }
   ],
   "source": [
    "data[\"text\"]"
   ]
  },
  {
   "cell_type": "code",
   "execution_count": 25,
   "id": "15b55ee1",
   "metadata": {},
   "outputs": [
    {
     "data": {
      "text/plain": [
       "{'people watch': 4,\n",
       " 'watch cricket': 5,\n",
       " 'cricket watch': 1,\n",
       " 'people give': 3,\n",
       " 'give comment': 2,\n",
       " 'cricket give': 0}"
      ]
     },
     "execution_count": 25,
     "metadata": {},
     "output_type": "execute_result"
    }
   ],
   "source": [
    "bigram.vocabulary_"
   ]
  },
  {
   "cell_type": "code",
   "execution_count": 26,
   "id": "3e9b7e97",
   "metadata": {},
   "outputs": [],
   "source": [
    "trigram=CountVectorizer(ngram_range=(3,3))"
   ]
  },
  {
   "cell_type": "code",
   "execution_count": 27,
   "id": "8d89a600",
   "metadata": {},
   "outputs": [],
   "source": [
    "trigramvocab=trigram.fit_transform(data[\"text\"])"
   ]
  },
  {
   "cell_type": "code",
   "execution_count": 28,
   "id": "b16d5c0d",
   "metadata": {},
   "outputs": [
    {
     "data": {
      "text/plain": [
       "{'people watch cricket': 3,\n",
       " 'cricket watch cricket': 1,\n",
       " 'people give comment': 2,\n",
       " 'cricket give comment': 0}"
      ]
     },
     "execution_count": 28,
     "metadata": {},
     "output_type": "execute_result"
    }
   ],
   "source": [
    "trigram.vocabulary_"
   ]
  },
  {
   "cell_type": "code",
   "execution_count": 29,
   "id": "b244b27f",
   "metadata": {},
   "outputs": [],
   "source": [
    "mix=CountVectorizer(ngram_range=(1,3))"
   ]
  },
  {
   "cell_type": "code",
   "execution_count": 30,
   "id": "7bcf1921",
   "metadata": {},
   "outputs": [],
   "source": [
    "mix_vocab=mix.fit_transform(data[\"text\"])"
   ]
  },
  {
   "cell_type": "code",
   "execution_count": 31,
   "id": "0124e358",
   "metadata": {},
   "outputs": [
    {
     "data": {
      "text/plain": [
       "{'people': 8,\n",
       " 'watch': 13,\n",
       " 'cricket': 1,\n",
       " 'people watch': 11,\n",
       " 'watch cricket': 14,\n",
       " 'people watch cricket': 12,\n",
       " 'cricket watch': 4,\n",
       " 'cricket watch cricket': 5,\n",
       " 'give': 6,\n",
       " 'comment': 0,\n",
       " 'people give': 9,\n",
       " 'give comment': 7,\n",
       " 'people give comment': 10,\n",
       " 'cricket give': 2,\n",
       " 'cricket give comment': 3}"
      ]
     },
     "execution_count": 31,
     "metadata": {},
     "output_type": "execute_result"
    }
   ],
   "source": [
    "mix.vocabulary_"
   ]
  },
  {
   "cell_type": "code",
   "execution_count": 35,
   "id": "d4dfb78b",
   "metadata": {},
   "outputs": [],
   "source": [
    "sentences=[\"people watch cricket\",\"cricket watch cricket\",\"people give comment\",\"cricket give comment\"]"
   ]
  },
  {
   "cell_type": "code",
   "execution_count": 36,
   "id": "26b428f7",
   "metadata": {},
   "outputs": [],
   "source": [
    "from nltk.tokenize import word_tokenize\n",
    "from nltk.util import ngrams"
   ]
  },
  {
   "cell_type": "code",
   "execution_count": 45,
   "id": "c22c91fb",
   "metadata": {},
   "outputs": [
    {
     "name": "stdout",
     "output_type": "stream",
     "text": [
      "[['people', 'watch', 'cricket'], ['cricket', 'watch', 'cricket'], ['people', 'give', 'comment'], ['cricket', 'give', 'comment']]\n"
     ]
    }
   ],
   "source": [
    "\n",
    "# sentences is already tokenized, so no need to tokenize again\n",
    "print(sentences)"
   ]
  },
  {
   "cell_type": "code",
   "execution_count": 46,
   "id": "c6819ef4",
   "metadata": {},
   "outputs": [],
   "source": [
    "from sklearn.feature_extraction.text import CountVectorizer\n",
    "bigram=CountVectorizer(ngram_range=(2,2))\n",
    "trigram=CountVectorizer(ngram_range=(3,3))\n",
    "mix=CountVectorizer(ngram_range=(1,3))\n",
    "bigramvocab=bigram.fit_transform(data[\"text\"])\n",
    "data[\"text\"]\n",
    "\n",
    "import nltk\n",
    "\n",
    "from nltk.util import bigrams,trigrams,ngrams\n",
    "\n",
    "bigrams = list(nltk.bigrams(sentence))\n",
    "\n",
    "trigrams = list(nltk.trigrams(sentence))\n",
    "\n",
    "nrams = list(nltk.ngrams(sentence,4))"
   ]
  },
  {
   "cell_type": "code",
   "execution_count": 47,
   "id": "61d501a0",
   "metadata": {},
   "outputs": [
    {
     "name": "stdout",
     "output_type": "stream",
     "text": [
      "[['people', 'watch', 'cricket'], ['cricket', 'watch', 'cricket'], ['people', 'give', 'comment'], ['cricket', 'give', 'comment']]\n",
      "[('people watch cricket', 'cricket watch cricket'), ('cricket watch cricket', 'people give comment'), ('people give comment', 'cricket give comment')]\n",
      "[('people watch cricket', 'cricket watch cricket', 'people give comment'), ('cricket watch cricket', 'people give comment', 'cricket give comment')]\n",
      "[('people watch cricket', 'cricket watch cricket', 'people give comment', 'cricket give comment')]\n"
     ]
    }
   ],
   "source": [
    "print(sentences)\n",
    "print(bigrams)  \n",
    "print(trigrams)\n",
    "print(nrams)"
   ]
  },
  {
   "cell_type": "code",
   "execution_count": 48,
   "id": "a0b7a90a",
   "metadata": {},
   "outputs": [],
   "source": [
    "from sklearn.feature_extraction.text import TfidfVectorizer"
   ]
  },
  {
   "cell_type": "code",
   "execution_count": 49,
   "id": "f1981d1c",
   "metadata": {},
   "outputs": [],
   "source": [
    "tfidf=TfidfVectorizer()"
   ]
  },
  {
   "cell_type": "code",
   "execution_count": 50,
   "id": "a5c1742e",
   "metadata": {},
   "outputs": [
    {
     "data": {
      "text/plain": [
       "array([[0.        , 0.49681612, 0.        , 0.61366674, 0.61366674],\n",
       "       [0.        , 0.8508161 , 0.        , 0.        , 0.52546357],\n",
       "       [0.57735027, 0.        , 0.57735027, 0.57735027, 0.        ],\n",
       "       [0.61366674, 0.49681612, 0.61366674, 0.        , 0.        ]])"
      ]
     },
     "execution_count": 50,
     "metadata": {},
     "output_type": "execute_result"
    }
   ],
   "source": [
    "tfidf.fit_transform(data[\"text\"]).toarray()"
   ]
  },
  {
   "cell_type": "code",
   "execution_count": 51,
   "id": "f6e58a87",
   "metadata": {},
   "outputs": [],
   "source": [
    "import numpy as np"
   ]
  },
  {
   "cell_type": "code",
   "execution_count": 52,
   "id": "d8c3528a",
   "metadata": {},
   "outputs": [
    {
     "data": {
      "text/plain": [
       "np.float64(0.28768207245178085)"
      ]
     },
     "execution_count": 52,
     "metadata": {},
     "output_type": "execute_result"
    }
   ],
   "source": [
    "np.log(4/3)"
   ]
  },
  {
   "cell_type": "code",
   "execution_count": 53,
   "id": "2553f1f7",
   "metadata": {},
   "outputs": [
    {
     "data": {
      "text/plain": [
       "np.float64(0.09589402415059362)"
      ]
     },
     "execution_count": 53,
     "metadata": {},
     "output_type": "execute_result"
    }
   ],
   "source": [
    "(1/3)*np.log(4/3)"
   ]
  },
  {
   "cell_type": "code",
   "execution_count": 54,
   "id": "984810c1",
   "metadata": {},
   "outputs": [
    {
     "name": "stdout",
     "output_type": "stream",
     "text": [
      "Feature Names: ['comment' 'cricket' 'give' 'people' 'watch']\n"
     ]
    }
   ],
   "source": [
    "feature_names = tfidf.get_feature_names_out()\n",
    "\n",
    "print(\"Feature Names:\", feature_names)\n"
   ]
  },
  {
   "cell_type": "code",
   "execution_count": 55,
   "id": "a3589eb3",
   "metadata": {},
   "outputs": [
    {
     "data": {
      "text/plain": [
       "array([1.51082562, 1.22314355, 1.51082562, 1.51082562, 1.51082562])"
      ]
     },
     "execution_count": 55,
     "metadata": {},
     "output_type": "execute_result"
    }
   ],
   "source": [
    "tfidf.idf_"
   ]
  },
  {
   "cell_type": "code",
   "execution_count": 56,
   "id": "46c589b5",
   "metadata": {},
   "outputs": [
    {
     "data": {
      "text/plain": [
       "np.float64(0.041646245536099975)"
      ]
     },
     "execution_count": 56,
     "metadata": {},
     "output_type": "execute_result"
    }
   ],
   "source": [
    "np.log10(4/3)*(1/3)\n"
   ]
  },
  {
   "cell_type": "code",
   "execution_count": null,
   "id": "71f85beb",
   "metadata": {},
   "outputs": [],
   "source": []
  }
 ],
 "metadata": {
  "kernelspec": {
   "display_name": "env",
   "language": "python",
   "name": "python3"
  },
  "language_info": {
   "codemirror_mode": {
    "name": "ipython",
    "version": 3
   },
   "file_extension": ".py",
   "mimetype": "text/x-python",
   "name": "python",
   "nbconvert_exporter": "python",
   "pygments_lexer": "ipython3",
   "version": "3.12.9"
  }
 },
 "nbformat": 4,
 "nbformat_minor": 5
}
