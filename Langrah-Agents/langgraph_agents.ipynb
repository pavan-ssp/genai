{
 "cells": [
  {
   "cell_type": "code",
   "execution_count": 1,
   "id": "e85f8c6e",
   "metadata": {},
   "outputs": [
    {
     "name": "stdout",
     "output_type": "stream",
     "text": [
      "ok\n"
     ]
    }
   ],
   "source": [
    "print(\"ok\")"
   ]
  },
  {
   "cell_type": "code",
   "execution_count": 2,
   "id": "478f35ba",
   "metadata": {},
   "outputs": [],
   "source": [
    "from langchain_openai import ChatOpenAI"
   ]
  },
  {
   "cell_type": "code",
   "execution_count": 3,
   "id": "d4f6e774",
   "metadata": {},
   "outputs": [],
   "source": [
    "from dotenv import load_dotenv"
   ]
  },
  {
   "cell_type": "code",
   "execution_count": 4,
   "id": "31e4cea3",
   "metadata": {},
   "outputs": [
    {
     "data": {
      "text/plain": [
       "True"
      ]
     },
     "execution_count": 4,
     "metadata": {},
     "output_type": "execute_result"
    }
   ],
   "source": [
    "load_dotenv()"
   ]
  },
  {
   "cell_type": "code",
   "execution_count": 5,
   "id": "0fd3bd4a",
   "metadata": {},
   "outputs": [],
   "source": [
    "import os\n",
    "OPENAI_API_KEY=os.getenv(\"OPENAI_API_KEY\")"
   ]
  },
  {
   "cell_type": "code",
   "execution_count": 6,
   "id": "e403ceb6",
   "metadata": {},
   "outputs": [],
   "source": [
    "os.environ[\"OPENAI_API_KEY\"]=OPENAI_API_KEY"
   ]
  },
  {
   "cell_type": "code",
   "execution_count": 7,
   "id": "856994ba",
   "metadata": {},
   "outputs": [],
   "source": [
    "openai_model=ChatOpenAI(model=\"gpt-4o\")"
   ]
  },
  {
   "cell_type": "code",
   "execution_count": 8,
   "id": "c175070d",
   "metadata": {},
   "outputs": [
    {
     "data": {
      "text/plain": [
       "AIMessage(content='Hello! How can I assist you today?', additional_kwargs={'refusal': None}, response_metadata={'token_usage': {'completion_tokens': 10, 'prompt_tokens': 8, 'total_tokens': 18, 'completion_tokens_details': {'accepted_prediction_tokens': 0, 'audio_tokens': 0, 'reasoning_tokens': 0, 'rejected_prediction_tokens': 0}, 'prompt_tokens_details': {'audio_tokens': 0, 'cached_tokens': 0}}, 'model_name': 'gpt-4o-2024-08-06', 'system_fingerprint': 'fp_17316073ab', 'finish_reason': 'stop', 'logprobs': None}, id='run-3630c8d0-b511-4083-a3d9-88508982596c-0', usage_metadata={'input_tokens': 8, 'output_tokens': 10, 'total_tokens': 18, 'input_token_details': {'audio': 0, 'cache_read': 0}, 'output_token_details': {'audio': 0, 'reasoning': 0}})"
      ]
     },
     "execution_count": 8,
     "metadata": {},
     "output_type": "execute_result"
    }
   ],
   "source": [
    "openai_model.invoke(\"hi\")"
   ]
  },
  {
   "cell_type": "code",
   "execution_count": 9,
   "id": "76abd31a",
   "metadata": {},
   "outputs": [
    {
     "data": {
      "text/plain": [
       "'Hello! How can I assist you today?'"
      ]
     },
     "execution_count": 9,
     "metadata": {},
     "output_type": "execute_result"
    }
   ],
   "source": [
    "openai_model.invoke(\"hi\").content"
   ]
  },
  {
   "cell_type": "code",
   "execution_count": 10,
   "id": "bb8831a3",
   "metadata": {},
   "outputs": [],
   "source": [
    "from langgraph.graph import StateGraph,MessagesState, START, END\n",
    "from langgraph.graph.message import add_messages\n",
    "from typing import Annotated, Literal, TypedDict\n",
    "from langchain_core.tools import tool\n",
    "from langchain_core.messages import HumanMessage\n",
    "from langgraph.checkpoint.memory import MemorySaver\n",
    "from langgraph.prebuilt import ToolNode"
   ]
  },
  {
   "cell_type": "code",
   "execution_count": 15,
   "id": "4d63ba09",
   "metadata": {},
   "outputs": [],
   "source": [
    "state={}"
   ]
  },
  {
   "cell_type": "code",
   "execution_count": 16,
   "id": "e96a5150",
   "metadata": {},
   "outputs": [],
   "source": [
    "state[\"messages\"]=[]"
   ]
  },
  {
   "cell_type": "code",
   "execution_count": 17,
   "id": "a41d4f7c",
   "metadata": {},
   "outputs": [
    {
     "data": {
      "text/plain": [
       "{'messages': []}"
      ]
     },
     "execution_count": 17,
     "metadata": {},
     "output_type": "execute_result"
    }
   ],
   "source": [
    "state"
   ]
  },
  {
   "cell_type": "code",
   "execution_count": 18,
   "id": "4d162fea",
   "metadata": {},
   "outputs": [],
   "source": [
    "state[\"messages\"].append(\"hi\")"
   ]
  },
  {
   "cell_type": "code",
   "execution_count": 19,
   "id": "e80daffe",
   "metadata": {},
   "outputs": [
    {
     "data": {
      "text/plain": [
       "{'messages': ['hi']}"
      ]
     },
     "execution_count": 19,
     "metadata": {},
     "output_type": "execute_result"
    }
   ],
   "source": [
    "state"
   ]
  },
  {
   "cell_type": "code",
   "execution_count": 20,
   "id": "8d3ff228",
   "metadata": {},
   "outputs": [],
   "source": [
    "state[\"messages\"].append(\"how are you?\")"
   ]
  },
  {
   "cell_type": "code",
   "execution_count": 21,
   "id": "368a2a61",
   "metadata": {},
   "outputs": [
    {
     "data": {
      "text/plain": [
       "{'messages': ['hi', 'how are you?']}"
      ]
     },
     "execution_count": 21,
     "metadata": {},
     "output_type": "execute_result"
    }
   ],
   "source": [
    "state"
   ]
  },
  {
   "cell_type": "code",
   "execution_count": 22,
   "id": "8d15bf38",
   "metadata": {},
   "outputs": [],
   "source": [
    "state[\"messages\"].append(\"what going on?\")"
   ]
  },
  {
   "cell_type": "code",
   "execution_count": null,
   "id": "3912c910",
   "metadata": {},
   "outputs": [],
   "source": [
    "class MessagesState(TypedDict):\n",
    "    messages: Annotated[list[AnyMessage], add_messages]"
   ]
  },
  {
   "cell_type": "code",
   "execution_count": 23,
   "id": "a8bd10a9",
   "metadata": {},
   "outputs": [
    {
     "data": {
      "text/plain": [
       "{'messages': ['hi', 'how are you?', 'what going on?']}"
      ]
     },
     "execution_count": 23,
     "metadata": {},
     "output_type": "execute_result"
    }
   ],
   "source": [
    "state"
   ]
  },
  {
   "cell_type": "code",
   "execution_count": 24,
   "id": "2126ba69",
   "metadata": {},
   "outputs": [
    {
     "data": {
      "text/plain": [
       "'hi'"
      ]
     },
     "execution_count": 24,
     "metadata": {},
     "output_type": "execute_result"
    }
   ],
   "source": [
    "state[\"messages\"][0]"
   ]
  },
  {
   "cell_type": "code",
   "execution_count": 25,
   "id": "09061815",
   "metadata": {},
   "outputs": [
    {
     "data": {
      "text/plain": [
       "'what going on?'"
      ]
     },
     "execution_count": 25,
     "metadata": {},
     "output_type": "execute_result"
    }
   ],
   "source": [
    "state[\"messages\"][-1]"
   ]
  },
  {
   "cell_type": "code",
   "execution_count": null,
   "id": "a366713e",
   "metadata": {},
   "outputs": [],
   "source": [
    "## this state is a dict which containing the message as list and inside the list there could be n numbvers of messages\n",
    "\n",
    "## this state will be flowing across all the nodes(function) in langgraph"
   ]
  },
  {
   "cell_type": "code",
   "execution_count": 26,
   "id": "a5319fbd",
   "metadata": {},
   "outputs": [],
   "source": [
    "def call_model(state:MessagesState):\n",
    "    question=state[\"messages\"]\n",
    "    response=openai_model.invoke(question)\n",
    "    return {\"messages\":[response]}"
   ]
  },
  {
   "cell_type": "code",
   "execution_count": 27,
   "id": "ebc0a3ab",
   "metadata": {},
   "outputs": [],
   "source": [
    "workflow=StateGraph(MessagesState)"
   ]
  },
  {
   "cell_type": "code",
   "execution_count": 28,
   "id": "09e3efcf",
   "metadata": {},
   "outputs": [
    {
     "data": {
      "text/plain": [
       "<langgraph.graph.state.StateGraph at 0x21727acf670>"
      ]
     },
     "execution_count": 28,
     "metadata": {},
     "output_type": "execute_result"
    }
   ],
   "source": [
    "workflow.add_node(\"chatbot\",call_model)"
   ]
  },
  {
   "cell_type": "code",
   "execution_count": 30,
   "id": "8885ba76",
   "metadata": {},
   "outputs": [
    {
     "data": {
      "text/plain": [
       "<langgraph.graph.state.StateGraph at 0x21727acf670>"
      ]
     },
     "execution_count": 30,
     "metadata": {},
     "output_type": "execute_result"
    }
   ],
   "source": [
    "workflow.add_edge(START,\"chatbot\")"
   ]
  },
  {
   "cell_type": "code",
   "execution_count": 32,
   "id": "610a14c2",
   "metadata": {},
   "outputs": [
    {
     "data": {
      "text/plain": [
       "<langgraph.graph.state.StateGraph at 0x21727acf670>"
      ]
     },
     "execution_count": 32,
     "metadata": {},
     "output_type": "execute_result"
    }
   ],
   "source": [
    "workflow.add_edge(\"chatbot\",END)"
   ]
  },
  {
   "cell_type": "code",
   "execution_count": 34,
   "id": "43f2ee2d",
   "metadata": {},
   "outputs": [],
   "source": [
    "app=workflow.compile()"
   ]
  },
  {
   "cell_type": "code",
   "execution_count": 39,
   "id": "8a856bbd",
   "metadata": {},
   "outputs": [],
   "source": [
    "from IPython.display import Image,display"
   ]
  },
  {
   "cell_type": "code",
   "execution_count": 36,
   "id": "bfa21563",
   "metadata": {},
   "outputs": [
    {
     "data": {
      "image/png": "[encoded data removed]",
      "text/plain": [
       "<IPython.core.display.Image object>"
      ]
     },
     "metadata": {},
     "output_type": "display_data"
    }
   ],
   "source": [
    "display(Image(app.get_graph().draw_mermaid_png()))"
   ]
  },
  {
   "cell_type": "code",
   "execution_count": 37,
   "id": "110c0b0b",
   "metadata": {},
   "outputs": [],
   "source": [
    "input={\"messages\":[\"hi my name is sunny\"]}"
   ]
  },
  {
   "cell_type": "code",
   "execution_count": 39,
   "id": "4487276c",
   "metadata": {},
   "outputs": [],
   "source": [
    "response=app.invoke(input)"
   ]
  },
  {
   "cell_type": "code",
   "execution_count": 40,
   "id": "4a87894e",
   "metadata": {},
   "outputs": [
    {
     "data": {
      "text/plain": [
       "'Hi Sunny! How can I assist you today?'"
      ]
     },
     "execution_count": 40,
     "metadata": {},
     "output_type": "execute_result"
    }
   ],
   "source": [
    "response[\"messages\"][-1].content"
   ]
  },
  {
   "cell_type": "code",
   "execution_count": 41,
   "id": "9a955f33",
   "metadata": {},
   "outputs": [
    {
     "name": "stdout",
     "output_type": "stream",
     "text": [
      "Output from chatbot Node\n",
      "_______\n",
      "{'messages': [AIMessage(content='Hello, Sunny! How can I assist you today?', additional_kwargs={'refusal': None}, response_metadata={'token_usage': {'completion_tokens': 12, 'prompt_tokens': 12, 'total_tokens': 24, 'completion_tokens_details': {'accepted_prediction_tokens': 0, 'audio_tokens': 0, 'reasoning_tokens': 0, 'rejected_prediction_tokens': 0}, 'prompt_tokens_details': {'audio_tokens': 0, 'cached_tokens': 0}}, 'model_name': 'gpt-4o-2024-08-06', 'system_fingerprint': 'fp_92f14e8683', 'finish_reason': 'stop', 'logprobs': None}, id='run-903df924-4611-4362-a679-75ec97dc96e3-0', usage_metadata={'input_tokens': 12, 'output_tokens': 12, 'total_tokens': 24, 'input_token_details': {'audio': 0, 'cache_read': 0}, 'output_token_details': {'audio': 0, 'reasoning': 0}})]}\n",
      "\n",
      "\n"
     ]
    }
   ],
   "source": [
    "for output in app.stream(input):\n",
    "    for key,value in output.items():\n",
    "        print(f\"Output from {key} Node\")\n",
    "        print(\"_______\")\n",
    "        print(value)\n",
    "        print(\"\\n\")"
   ]
  },
  {
   "cell_type": "code",
   "execution_count": 11,
   "id": "9007efa6",
   "metadata": {},
   "outputs": [],
   "source": [
    "@tool\n",
    "def search(query:str):\n",
    "    \"\"\"this is a tool for weather checking\"\"\"\n",
    "    if \"india\" in query.lower() or \"delhi\" in query.lower():\n",
    "        return \"the weather is hotty with some foggy\"\n",
    "    return \"weather is cloudy with some darkness\""
   ]
  },
  {
   "cell_type": "code",
   "execution_count": 12,
   "id": "e3976a85",
   "metadata": {},
   "outputs": [
    {
     "data": {
      "text/plain": [
       "'weather is cloudy with some darkness'"
      ]
     },
     "execution_count": 12,
     "metadata": {},
     "output_type": "execute_result"
    }
   ],
   "source": [
    "search.invoke(\"what is a weather in japan?\")"
   ]
  },
  {
   "cell_type": "code",
   "execution_count": 13,
   "id": "de3f2f61",
   "metadata": {},
   "outputs": [
    {
     "data": {
      "text/plain": [
       "'the weather is hotty with some foggy'"
      ]
     },
     "execution_count": 13,
     "metadata": {},
     "output_type": "execute_result"
    }
   ],
   "source": [
    "search.invoke(\"what is a weather in delhi?\")"
   ]
  },
  {
   "cell_type": "code",
   "execution_count": 14,
   "id": "52d77bc2",
   "metadata": {},
   "outputs": [],
   "source": [
    "tools=[search]"
   ]
  },
  {
   "cell_type": "code",
   "execution_count": 15,
   "id": "2acdcb3f",
   "metadata": {},
   "outputs": [],
   "source": [
    "llm_with_tool=openai_model.bind_tools(tools)"
   ]
  },
  {
   "cell_type": "code",
   "execution_count": 16,
   "id": "68759128",
   "metadata": {},
   "outputs": [],
   "source": [
    "response=llm_with_tool.invoke(\"hi\")"
   ]
  },
  {
   "cell_type": "code",
   "execution_count": 17,
   "id": "0a3c7868",
   "metadata": {},
   "outputs": [
    {
     "data": {
      "text/plain": [
       "'Hello! How can I assist you today?'"
      ]
     },
     "execution_count": 17,
     "metadata": {},
     "output_type": "execute_result"
    }
   ],
   "source": [
    "response.content"
   ]
  },
  {
   "cell_type": "code",
   "execution_count": 18,
   "id": "21f3f5b9",
   "metadata": {},
   "outputs": [
    {
     "data": {
      "text/plain": [
       "[]"
      ]
     },
     "execution_count": 18,
     "metadata": {},
     "output_type": "execute_result"
    }
   ],
   "source": [
    "response.tool_calls"
   ]
  },
  {
   "cell_type": "code",
   "execution_count": 19,
   "id": "8e42ddba",
   "metadata": {},
   "outputs": [],
   "source": [
    "result=llm_with_tool.invoke(\"what is a weather in europ?\")"
   ]
  },
  {
   "cell_type": "code",
   "execution_count": 20,
   "id": "83291f96",
   "metadata": {},
   "outputs": [
    {
     "data": {
      "text/plain": [
       "''"
      ]
     },
     "execution_count": 20,
     "metadata": {},
     "output_type": "execute_result"
    }
   ],
   "source": [
    "result.content"
   ]
  },
  {
   "cell_type": "code",
   "execution_count": 21,
   "id": "e3722e31",
   "metadata": {},
   "outputs": [
    {
     "data": {
      "text/plain": [
       "[{'name': 'search',\n",
       "  'args': {'query': 'current weather in Europe'},\n",
       "  'id': 'call_tol5hOy9LHURFgg9ZAxusqT9',\n",
       "  'type': 'tool_call'}]"
      ]
     },
     "execution_count": 21,
     "metadata": {},
     "output_type": "execute_result"
    }
   ],
   "source": [
    "result.tool_calls"
   ]
  },
  {
   "cell_type": "code",
   "execution_count": 23,
   "id": "d810a7fe",
   "metadata": {},
   "outputs": [],
   "source": [
    "def call_model(state:MessagesState):\n",
    "    question=state[\"messages\"]\n",
    "    response=llm_with_tool.invoke(question)\n",
    "    return {\"messages\":[response]}"
   ]
  },
  {
   "cell_type": "code",
   "execution_count": 24,
   "id": "46448b70",
   "metadata": {},
   "outputs": [],
   "source": [
    "input={'messages': ['hi my name is sunny']}"
   ]
  },
  {
   "cell_type": "code",
   "execution_count": 25,
   "id": "9bcabdea",
   "metadata": {},
   "outputs": [],
   "source": [
    "response=call_model(input)"
   ]
  },
  {
   "cell_type": "code",
   "execution_count": 26,
   "id": "5ff7c13f",
   "metadata": {},
   "outputs": [],
   "source": [
    "message=response[\"messages\"]"
   ]
  },
  {
   "cell_type": "code",
   "execution_count": 27,
   "id": "9dd08409",
   "metadata": {},
   "outputs": [],
   "source": [
    "last_message=message[-1]"
   ]
  },
  {
   "cell_type": "code",
   "execution_count": 28,
   "id": "726cf236",
   "metadata": {},
   "outputs": [
    {
     "data": {
      "text/plain": [
       "'Hello Sunny! How can I assist you today?'"
      ]
     },
     "execution_count": 28,
     "metadata": {},
     "output_type": "execute_result"
    }
   ],
   "source": [
    "last_message.content"
   ]
  },
  {
   "cell_type": "code",
   "execution_count": 29,
   "id": "1771da82",
   "metadata": {},
   "outputs": [
    {
     "data": {
      "text/plain": [
       "[]"
      ]
     },
     "execution_count": 29,
     "metadata": {},
     "output_type": "execute_result"
    }
   ],
   "source": [
    "last_message.tool_calls"
   ]
  },
  {
   "cell_type": "code",
   "execution_count": 30,
   "id": "8c60e464",
   "metadata": {},
   "outputs": [],
   "source": [
    "input={'messages': ['what is a weather in mumbai?']}"
   ]
  },
  {
   "cell_type": "code",
   "execution_count": 42,
   "id": "09eda53d",
   "metadata": {},
   "outputs": [],
   "source": [
    "def router_function(state: MessagesState):\n",
    "    message=state[\"messages\"]\n",
    "    last_message=message[-1]\n",
    "    if last_message.tool_calls:\n",
    "        return \"tools\"\n",
    "    return END"
   ]
  },
  {
   "cell_type": "code",
   "execution_count": 43,
   "id": "40cf115c",
   "metadata": {},
   "outputs": [
    {
     "data": {
      "text/plain": [
       "[StructuredTool(name='search', description='this is a tool for weather checking', args_schema=<class 'langchain_core.utils.pydantic.search'>, func=<function search at 0x000001A1C4A789D0>)]"
      ]
     },
     "execution_count": 43,
     "metadata": {},
     "output_type": "execute_result"
    }
   ],
   "source": [
    "tools"
   ]
  },
  {
   "cell_type": "code",
   "execution_count": 44,
   "id": "cd2caa03",
   "metadata": {},
   "outputs": [],
   "source": [
    "tool_node=ToolNode(tools)"
   ]
  },
  {
   "cell_type": "code",
   "execution_count": 45,
   "id": "8da84a49",
   "metadata": {},
   "outputs": [],
   "source": [
    "workflow=StateGraph(MessagesState)"
   ]
  },
  {
   "cell_type": "code",
   "execution_count": 46,
   "id": "0441f048",
   "metadata": {},
   "outputs": [
    {
     "data": {
      "text/plain": [
       "<langgraph.graph.state.StateGraph at 0x1a1c5793820>"
      ]
     },
     "execution_count": 46,
     "metadata": {},
     "output_type": "execute_result"
    }
   ],
   "source": [
    "workflow.add_node(\"assistant\",call_model)\n",
    "workflow.add_node(\"myweathertool\",tool_node)"
   ]
  },
  {
   "cell_type": "code",
   "execution_count": 47,
   "id": "073e628b",
   "metadata": {},
   "outputs": [],
   "source": [
    "workflow.add_edge(START, \"assistant\")\n",
    "\n",
    "workflow.add_conditional_edges(\"assistant\",\n",
    "                               router_function,\n",
    "                               {\"tools\": \"myweathertool\", END: END})\n",
    "\n",
    "app = workflow.compile()"
   ]
  },
  {
   "cell_type": "code",
   "execution_count": 48,
   "id": "f1385ee4",
   "metadata": {},
   "outputs": [
    {
     "data": {
      "image/png": "[encoded data removed]",
      "text/plain": [
       "<IPython.core.display.Image object>"
      ]
     },
     "metadata": {},
     "output_type": "display_data"
    }
   ],
   "source": [
    "display(Image(app.get_graph().draw_mermaid_png()))"
   ]
  },
  {
   "cell_type": "code",
   "execution_count": 50,
   "id": "183643c0",
   "metadata": {},
   "outputs": [
    {
     "data": {
      "text/plain": [
       "{'messages': [HumanMessage(content='how are you?', additional_kwargs={}, response_metadata={}, id='35304953-def9-411a-af33-c13da0c59f4c'),\n",
       "  AIMessage(content=\"I'm just a computer program, but I'm here and ready to assist you with any questions or tasks you have! How can I help you today?\", additional_kwargs={'refusal': None}, response_metadata={'token_usage': {'completion_tokens': 31, 'prompt_tokens': 48, 'total_tokens': 79, 'completion_tokens_details': {'accepted_prediction_tokens': 0, 'audio_tokens': 0, 'reasoning_tokens': 0, 'rejected_prediction_tokens': 0}, 'prompt_tokens_details': {'audio_tokens': 0, 'cached_tokens': 0}}, 'model_name': 'gpt-4o-2024-08-06', 'system_fingerprint': 'fp_92f14e8683', 'finish_reason': 'stop', 'logprobs': None}, id='run-3157f5ac-6c9a-4994-8049-5df4c46f80bc-0', usage_metadata={'input_tokens': 48, 'output_tokens': 31, 'total_tokens': 79, 'input_token_details': {'audio': 0, 'cache_read': 0}, 'output_token_details': {'audio': 0, 'reasoning': 0}})]}"
      ]
     },
     "execution_count": 50,
     "metadata": {},
     "output_type": "execute_result"
    }
   ],
   "source": [
    "app.invoke({\"messages\": [\"how are you?\"]})"
   ]
  },
  {
   "cell_type": "code",
   "execution_count": 49,
   "id": "80372ca7",
   "metadata": {},
   "outputs": [
    {
     "data": {
      "text/plain": [
       "{'messages': [HumanMessage(content='what is a weather in delhi?', additional_kwargs={}, response_metadata={}, id='ab97e960-4f75-4bc2-b33d-2e71af5e9636'),\n",
       "  AIMessage(content='', additional_kwargs={'tool_calls': [{'id': 'call_yGUyksdfre0oMUxMjgvXqlDE', 'function': {'arguments': '{\"query\":\"current weather in Delhi\"}', 'name': 'search'}, 'type': 'function'}], 'refusal': None}, response_metadata={'token_usage': {'completion_tokens': 17, 'prompt_tokens': 52, 'total_tokens': 69, 'completion_tokens_details': {'accepted_prediction_tokens': 0, 'audio_tokens': 0, 'reasoning_tokens': 0, 'rejected_prediction_tokens': 0}, 'prompt_tokens_details': {'audio_tokens': 0, 'cached_tokens': 0}}, 'model_name': 'gpt-4o-2024-08-06', 'system_fingerprint': 'fp_92f14e8683', 'finish_reason': 'tool_calls', 'logprobs': None}, id='run-285abba1-b433-40a6-a6c4-c7cab0b01878-0', tool_calls=[{'name': 'search', 'args': {'query': 'current weather in Delhi'}, 'id': 'call_yGUyksdfre0oMUxMjgvXqlDE', 'type': 'tool_call'}], usage_metadata={'input_tokens': 52, 'output_tokens': 17, 'total_tokens': 69, 'input_token_details': {'audio': 0, 'cache_read': 0}, 'output_token_details': {'audio': 0, 'reasoning': 0}}),\n",
       "  ToolMessage(content='the weather is hotty with some foggy', name='search', id='43de9746-9699-4b7c-9f90-7b8a7006e47d', tool_call_id='call_yGUyksdfre0oMUxMjgvXqlDE')]}"
      ]
     },
     "execution_count": 49,
     "metadata": {},
     "output_type": "execute_result"
    }
   ],
   "source": [
    "app.invoke({\"messages\": [\"what is a weather in delhi?\"]})"
   ]
  },
  {
   "cell_type": "code",
   "execution_count": 51,
   "id": "34260be5",
   "metadata": {},
   "outputs": [
    {
     "name": "stderr",
     "output_type": "stream",
     "text": [
      "Adding an edge to a graph that has already been compiled. This will not be reflected in the compiled graph.\n"
     ]
    },
    {
     "data": {
      "text/plain": [
       "<langgraph.graph.state.StateGraph at 0x1a1c5793820>"
      ]
     },
     "execution_count": 51,
     "metadata": {},
     "output_type": "execute_result"
    }
   ],
   "source": [
    "workflow.add_edge(\"myweathertool\",\"assistant\")"
   ]
  },
  {
   "cell_type": "code",
   "execution_count": 52,
   "id": "a1ecd9c7",
   "metadata": {},
   "outputs": [],
   "source": [
    "app = workflow.compile()"
   ]
  },
  {
   "cell_type": "code",
   "execution_count": 53,
   "id": "f2b75bdf",
   "metadata": {},
   "outputs": [
    {
     "data": {
      "image/png": "[encoded data removed]",
      "text/plain": [
       "<IPython.core.display.Image object>"
      ]
     },
     "metadata": {},
     "output_type": "display_data"
    }
   ],
   "source": [
    "display(Image(app.get_graph().draw_mermaid_png()))"
   ]
  },
  {
   "cell_type": "code",
   "execution_count": 54,
   "id": "10c8747e",
   "metadata": {},
   "outputs": [
    {
     "data": {
      "text/plain": [
       "{'messages': [HumanMessage(content='what is a weather in delhi?', additional_kwargs={}, response_metadata={}, id='a61d43f6-a7ab-411e-b5f2-d3036f07ddf1'),\n",
       "  AIMessage(content='', additional_kwargs={'tool_calls': [{'id': 'call_Pn87PZzbsUUYACk0VKthO2P3', 'function': {'arguments': '{\"query\":\"weather in Delhi\"}', 'name': 'search'}, 'type': 'function'}], 'refusal': None}, response_metadata={'token_usage': {'completion_tokens': 16, 'prompt_tokens': 52, 'total_tokens': 68, 'completion_tokens_details': {'accepted_prediction_tokens': 0, 'audio_tokens': 0, 'reasoning_tokens': 0, 'rejected_prediction_tokens': 0}, 'prompt_tokens_details': {'audio_tokens': 0, 'cached_tokens': 0}}, 'model_name': 'gpt-4o-2024-08-06', 'system_fingerprint': 'fp_92f14e8683', 'finish_reason': 'tool_calls', 'logprobs': None}, id='run-a19fc966-7252-4855-9a4d-dba03fa17b96-0', tool_calls=[{'name': 'search', 'args': {'query': 'weather in Delhi'}, 'id': 'call_Pn87PZzbsUUYACk0VKthO2P3', 'type': 'tool_call'}], usage_metadata={'input_tokens': 52, 'output_tokens': 16, 'total_tokens': 68, 'input_token_details': {'audio': 0, 'cache_read': 0}, 'output_token_details': {'audio': 0, 'reasoning': 0}}),\n",
       "  ToolMessage(content='the weather is hotty with some foggy', name='search', id='053284c1-4533-4453-b57b-4d9478ac3a44', tool_call_id='call_Pn87PZzbsUUYACk0VKthO2P3'),\n",
       "  AIMessage(content='The weather in Delhi is currently hot with some foggy conditions.', additional_kwargs={'refusal': None}, response_metadata={'token_usage': {'completion_tokens': 15, 'prompt_tokens': 83, 'total_tokens': 98, 'completion_tokens_details': {'accepted_prediction_tokens': 0, 'audio_tokens': 0, 'reasoning_tokens': 0, 'rejected_prediction_tokens': 0}, 'prompt_tokens_details': {'audio_tokens': 0, 'cached_tokens': 0}}, 'model_name': 'gpt-4o-2024-08-06', 'system_fingerprint': 'fp_92f14e8683', 'finish_reason': 'stop', 'logprobs': None}, id='run-0809079c-dd78-4122-9a22-51d168a5982b-0', usage_metadata={'input_tokens': 83, 'output_tokens': 15, 'total_tokens': 98, 'input_token_details': {'audio': 0, 'cache_read': 0}, 'output_token_details': {'audio': 0, 'reasoning': 0}})]}"
      ]
     },
     "execution_count": 54,
     "metadata": {},
     "output_type": "execute_result"
    }
   ],
   "source": [
    "app.invoke({\"messages\": [\"what is a weather in delhi?\"]})"
   ]
  },
  {
   "cell_type": "code",
   "execution_count": 55,
   "id": "f2deb276",
   "metadata": {},
   "outputs": [
    {
     "name": "stdout",
     "output_type": "stream",
     "text": [
      "here is output from assistant\n",
      "_______\n",
      "{'messages': [AIMessage(content='', additional_kwargs={'tool_calls': [{'id': 'call_IJu4cbfI4ndMBtAfhktxkHnI', 'function': {'arguments': '{\"query\":\"Delhi weather\"}', 'name': 'search'}, 'type': 'function'}], 'refusal': None}, response_metadata={'token_usage': {'completion_tokens': 15, 'prompt_tokens': 51, 'total_tokens': 66, 'completion_tokens_details': {'accepted_prediction_tokens': 0, 'audio_tokens': 0, 'reasoning_tokens': 0, 'rejected_prediction_tokens': 0}, 'prompt_tokens_details': {'audio_tokens': 0, 'cached_tokens': 0}}, 'model_name': 'gpt-4o-2024-08-06', 'system_fingerprint': 'fp_92f14e8683', 'finish_reason': 'tool_calls', 'logprobs': None}, id='run-fdd38279-e818-4183-a107-043832941dae-0', tool_calls=[{'name': 'search', 'args': {'query': 'Delhi weather'}, 'id': 'call_IJu4cbfI4ndMBtAfhktxkHnI', 'type': 'tool_call'}], usage_metadata={'input_tokens': 51, 'output_tokens': 15, 'total_tokens': 66, 'input_token_details': {'audio': 0, 'cache_read': 0}, 'output_token_details': {'audio': 0, 'reasoning': 0}})]}\n",
      "\n",
      "\n",
      "here is output from myweathertool\n",
      "_______\n",
      "{'messages': [ToolMessage(content='the weather is hotty with some foggy', name='search', id='626ee798-593f-4952-abf7-1573608d01b7', tool_call_id='call_IJu4cbfI4ndMBtAfhktxkHnI')]}\n",
      "\n",
      "\n",
      "here is output from assistant\n",
      "_______\n",
      "{'messages': [AIMessage(content='The weather in Delhi is hot with some foggy conditions.', additional_kwargs={'refusal': None}, response_metadata={'token_usage': {'completion_tokens': 14, 'prompt_tokens': 81, 'total_tokens': 95, 'completion_tokens_details': {'accepted_prediction_tokens': 0, 'audio_tokens': 0, 'reasoning_tokens': 0, 'rejected_prediction_tokens': 0}, 'prompt_tokens_details': {'audio_tokens': 0, 'cached_tokens': 0}}, 'model_name': 'gpt-4o-2024-08-06', 'system_fingerprint': 'fp_92f14e8683', 'finish_reason': 'stop', 'logprobs': None}, id='run-3fd69af2-0828-4a64-84fd-b85f885e83cc-0', usage_metadata={'input_tokens': 81, 'output_tokens': 14, 'total_tokens': 95, 'input_token_details': {'audio': 0, 'cache_read': 0}, 'output_token_details': {'audio': 0, 'reasoning': 0}})]}\n",
      "\n",
      "\n"
     ]
    }
   ],
   "source": [
    "for output in app.stream({\"messages\": [\"what is the weather in delhi\"]}):\n",
    "    for key,value in output.items():\n",
    "        print(f\"here is output from {key}\")\n",
    "        print(\"_______\")\n",
    "        print(value)\n",
    "        print(\"\\n\")"
   ]
  },
  {
   "cell_type": "code",
   "execution_count": null,
   "id": "84a6da14",
   "metadata": {},
   "outputs": [],
   "source": [
    "@tool\n",
    "def multiply(a:int,b:int)->int:\n",
    "    \"\"\"multiply a and b\"\"\"\n",
    "    return a*b"
   ]
  },
  {
   "cell_type": "code",
   "execution_count": 58,
   "id": "fc5eadbf",
   "metadata": {},
   "outputs": [],
   "source": [
    "@tool\n",
    "def add(a:int,b:int)->int:\n",
    "    \"\"\"adding two numbers a and b\"\"\"\n",
    "    return a+b"
   ]
  },
  {
   "cell_type": "code",
   "execution_count": 59,
   "id": "c3c711c9",
   "metadata": {},
   "outputs": [],
   "source": [
    "@tool\n",
    "def divide(a:int,b:int)->int:\n",
    "    \"\"\"dividing two numbers a and b\"\"\"\n",
    "    return a/b"
   ]
  },
  {
   "cell_type": "code",
   "execution_count": 61,
   "id": "35e1b22e",
   "metadata": {},
   "outputs": [],
   "source": [
    "@tool\n",
    "def subtract(a:int,b:int)->int:\n",
    "    \"\"\"subtracting two numbers a and b \"\"\"\n",
    "    return a-b"
   ]
  },
  {
   "cell_type": "code",
   "execution_count": 78,
   "id": "f27fde2f",
   "metadata": {},
   "outputs": [],
   "source": [
    "from langchain_community.tools import DuckDuckGoSearchRun\n"
   ]
  },
  {
   "cell_type": "code",
   "execution_count": 79,
   "id": "ae2569f9",
   "metadata": {},
   "outputs": [],
   "source": [
    "duckduckgo_search=DuckDuckGoSearchRun()"
   ]
  },
  {
   "cell_type": "code",
   "execution_count": 80,
   "id": "7b4846fd",
   "metadata": {},
   "outputs": [
    {
     "data": {
      "text/plain": [
       "\"This is a list of current heads of state and heads of government. In some cases, ... Prime Minister - Keir Starmer United States: President - Donald Trump ... Prime Minister - Vacant: Sui generis entities. Entity Head of entity Head of government The White House, official residence of the president of the United States. The president of the United States is the head of state and head of government of the United States, [1] indirectly elected to a four-year term via the Electoral College. [2] Under the U.S. Constitution, the officeholder leads the executive branch of the federal government and is the commander-in-chief of the United ... The absence of a prime minister in the United States is a result of deliberate choices made by the country's Founding Fathers, who designed a political system that contrasts sharply with parliamentary systems. This article explores the reasons why the U.S. doesn't have a prime minister, focusing on the country's historical context, the ... Joe Biden (born November 20, 1942, Scranton, Pennsylvania, U.S.) is the 46th president of the United States (2021-25) and was the 47th vice president of the United States (2009-17) in the Democratic administration of Pres. Barack Obama.He previously represented Delaware in the U.S. Senate (1973-2009).. In April 2023 Joe Biden formally announced his bid for reelection as president in 2024. The president of the United States is the: U.S. head of state; Chief executive of the federal government; Commander-in-Chief of the armed forces; Current president. The 47th and current president of the United States is Donald John Trump. He was sworn into office on January 20, 2025. Former U.S. presidents. The United States has had 46 former U ...\""
      ]
     },
     "execution_count": 80,
     "metadata": {},
     "output_type": "execute_result"
    }
   ],
   "source": [
    "duckduckgo_search.invoke(\"who is a current prime minister of USA??\")"
   ]
  },
  {
   "cell_type": "code",
   "execution_count": 81,
   "id": "412f68f1",
   "metadata": {},
   "outputs": [],
   "source": [
    "tools=[multiply, add, divide, subtract, duckduckgo_search]"
   ]
  },
  {
   "cell_type": "code",
   "execution_count": 82,
   "id": "4adc205e",
   "metadata": {},
   "outputs": [],
   "source": [
    "llm_with_tools=openai_model.bind_tools(tools)"
   ]
  },
  {
   "cell_type": "code",
   "execution_count": 83,
   "id": "5c733a83",
   "metadata": {},
   "outputs": [
    {
     "data": {
      "text/plain": [
       "RunnableBinding(bound=ChatOpenAI(client=<openai.resources.chat.completions.completions.Completions object at 0x000001A1C4897490>, async_client=<openai.resources.chat.completions.completions.AsyncCompletions object at 0x000001A1C48C1DE0>, root_client=<openai.OpenAI object at 0x000001A1C47F8CD0>, root_async_client=<openai.AsyncOpenAI object at 0x000001A1C48974F0>, model_name='gpt-4o', model_kwargs={}, openai_api_key=SecretStr('**********')), kwargs={'tools': [{'type': 'function', 'function': {'name': 'multiply', 'description': 'multiply a and b', 'parameters': {'properties': {'a': {'type': 'integer'}, 'b': {'type': 'integer'}}, 'required': ['a', 'b'], 'type': 'object'}}}, {'type': 'function', 'function': {'name': 'add', 'description': 'adding two numbers a and b', 'parameters': {'properties': {'a': {'type': 'integer'}, 'b': {'type': 'integer'}}, 'required': ['a', 'b'], 'type': 'object'}}}, {'type': 'function', 'function': {'name': 'divide', 'description': 'dividing two numbers a and b', 'parameters': {'properties': {'a': {'type': 'integer'}, 'b': {'type': 'integer'}}, 'required': ['a', 'b'], 'type': 'object'}}}, {'type': 'function', 'function': {'name': 'subtract', 'description': 'subtracting two numbers a and b', 'parameters': {'properties': {'a': {'type': 'integer'}, 'b': {'type': 'integer'}}, 'required': ['a', 'b'], 'type': 'object'}}}, {'type': 'function', 'function': {'name': 'duckduckgo_search', 'description': 'A wrapper around DuckDuckGo Search. Useful for when you need to answer questions about current events. Input should be a search query.', 'parameters': {'properties': {'query': {'description': 'search query to look up', 'type': 'string'}}, 'required': ['query'], 'type': 'object'}}}]}, config={}, config_factories=[])"
      ]
     },
     "execution_count": 83,
     "metadata": {},
     "output_type": "execute_result"
    }
   ],
   "source": [
    "llm_with_tools"
   ]
  },
  {
   "cell_type": "code",
   "execution_count": 84,
   "id": "5c654799",
   "metadata": {},
   "outputs": [
    {
     "data": {
      "text/plain": [
       "[]"
      ]
     },
     "execution_count": 84,
     "metadata": {},
     "output_type": "execute_result"
    }
   ],
   "source": [
    "llm_with_tools.invoke(\"hi\").tool_calls"
   ]
  },
  {
   "cell_type": "code",
   "execution_count": 85,
   "id": "21628b05",
   "metadata": {},
   "outputs": [
    {
     "data": {
      "text/plain": [
       "[{'name': 'add',\n",
       "  'args': {'a': 5, 'b': 40},\n",
       "  'id': 'call_0v1Qi6xpFx9xyOrU7lKTxdAJ',\n",
       "  'type': 'tool_call'}]"
      ]
     },
     "execution_count": 85,
     "metadata": {},
     "output_type": "execute_result"
    }
   ],
   "source": [
    "llm_with_tools.invoke(\"can you add these two number 5 and 40?\").tool_calls"
   ]
  },
  {
   "cell_type": "code",
   "execution_count": 86,
   "id": "42fbff3e",
   "metadata": {},
   "outputs": [
    {
     "data": {
      "text/plain": [
       "[{'name': 'multiply',\n",
       "  'args': {'a': 5, 'b': 40},\n",
       "  'id': 'call_0t4cAMW9twoYZwnssQpdgUlm',\n",
       "  'type': 'tool_call'}]"
      ]
     },
     "execution_count": 86,
     "metadata": {},
     "output_type": "execute_result"
    }
   ],
   "source": [
    "llm_with_tools.invoke(\"can you multiply these two number 5 and 40?\").tool_calls"
   ]
  },
  {
   "cell_type": "code",
   "execution_count": 87,
   "id": "5cfcfa43",
   "metadata": {},
   "outputs": [
    {
     "data": {
      "text/plain": [
       "[{'name': 'divide',\n",
       "  'args': {'a': 5, 'b': 40},\n",
       "  'id': 'call_ZB3IucS7KkgxpRpDie2HsXC8',\n",
       "  'type': 'tool_call'}]"
      ]
     },
     "execution_count": 87,
     "metadata": {},
     "output_type": "execute_result"
    }
   ],
   "source": [
    "llm_with_tools.invoke(\"can you divide these two number 5 and 40?\").tool_calls"
   ]
  },
  {
   "cell_type": "code",
   "execution_count": 88,
   "id": "8febcbae",
   "metadata": {},
   "outputs": [
    {
     "data": {
      "text/plain": [
       "[{'name': 'duckduckgo_search',\n",
       "  'args': {'query': 'current GDP of India 2023'},\n",
       "  'id': 'call_3kC1SSdjS3b84VTvw4Wy8dEs',\n",
       "  'type': 'tool_call'}]"
      ]
     },
     "execution_count": 88,
     "metadata": {},
     "output_type": "execute_result"
    }
   ],
   "source": [
    "llm_with_tools.invoke(\"what is a current gdp of india with current affaires\").tool_calls"
   ]
  },
  {
   "cell_type": "code",
   "execution_count": 91,
   "id": "650a34e4",
   "metadata": {},
   "outputs": [],
   "source": [
    "from langchain_core.messages import HumanMessage, SystemMessage"
   ]
  },
  {
   "cell_type": "code",
   "execution_count": 92,
   "id": "24925dc4",
   "metadata": {},
   "outputs": [],
   "source": [
    "# System message\n",
    "sys_msg = SystemMessage(content=\"You are a helpful assistant tasked with using search and performing arithmetic on a set of inputs.\")\n",
    "     "
   ]
  },
  {
   "cell_type": "code",
   "execution_count": 103,
   "id": "a19a024a",
   "metadata": {},
   "outputs": [],
   "source": [
    "def assistant(state:MessagesState):\n",
    "    return {\"messages\":[llm_with_tools.invoke([sys_msg]+state[\"messages\"])]}"
   ]
  },
  {
   "cell_type": "code",
   "execution_count": 104,
   "id": "877fa1d5",
   "metadata": {},
   "outputs": [],
   "source": [
    "builder=StateGraph(MessagesState)"
   ]
  },
  {
   "cell_type": "code",
   "execution_count": 105,
   "id": "1c2042af",
   "metadata": {},
   "outputs": [
    {
     "data": {
      "text/plain": [
       "<langgraph.graph.state.StateGraph at 0x1a1c57c7eb0>"
      ]
     },
     "execution_count": 105,
     "metadata": {},
     "output_type": "execute_result"
    }
   ],
   "source": [
    "builder.add_node(\"assistant\",assistant)"
   ]
  },
  {
   "cell_type": "code",
   "execution_count": 106,
   "id": "2cb6ce21",
   "metadata": {},
   "outputs": [
    {
     "data": {
      "text/plain": [
       "<langgraph.graph.state.StateGraph at 0x1a1c57c7eb0>"
      ]
     },
     "execution_count": 106,
     "metadata": {},
     "output_type": "execute_result"
    }
   ],
   "source": [
    "builder.add_node(\"tools\",ToolNode(tools))"
   ]
  },
  {
   "cell_type": "code",
   "execution_count": 107,
   "id": "ac5d6718",
   "metadata": {},
   "outputs": [
    {
     "data": {
      "text/plain": [
       "<langgraph.graph.state.StateGraph at 0x1a1c57c7eb0>"
      ]
     },
     "execution_count": 107,
     "metadata": {},
     "output_type": "execute_result"
    }
   ],
   "source": [
    "builder.add_edge(START,\"assistant\")"
   ]
  },
  {
   "cell_type": "code",
   "execution_count": 108,
   "id": "32722c39",
   "metadata": {},
   "outputs": [],
   "source": [
    "\n",
    "from langgraph.prebuilt import tools_condition"
   ]
  },
  {
   "cell_type": "code",
   "execution_count": 109,
   "id": "34d176f2",
   "metadata": {},
   "outputs": [
    {
     "data": {
      "text/plain": [
       "<langgraph.graph.state.StateGraph at 0x1a1c57c7eb0>"
      ]
     },
     "execution_count": 109,
     "metadata": {},
     "output_type": "execute_result"
    }
   ],
   "source": [
    "builder.add_conditional_edges(\n",
    "    \"assistant\",\n",
    "    tools_condition\n",
    ")"
   ]
  },
  {
   "cell_type": "code",
   "execution_count": 110,
   "id": "b8b3e95b",
   "metadata": {},
   "outputs": [],
   "source": [
    "react_app=builder.compile()"
   ]
  },
  {
   "cell_type": "code",
   "execution_count": 111,
   "id": "0f009e31",
   "metadata": {},
   "outputs": [
    {
     "data": {
      "image/png": "[encoded data removed]",
      "text/plain": [
       "<IPython.core.display.Image object>"
      ]
     },
     "metadata": {},
     "output_type": "display_data"
    }
   ],
   "source": [
    "display(Image(react_app.get_graph().draw_mermaid_png()))"
   ]
  },
  {
   "cell_type": "code",
   "execution_count": 112,
   "id": "197108a8",
   "metadata": {},
   "outputs": [
    {
     "name": "stderr",
     "output_type": "stream",
     "text": [
      "Adding an edge to a graph that has already been compiled. This will not be reflected in the compiled graph.\n"
     ]
    },
    {
     "data": {
      "text/plain": [
       "<langgraph.graph.state.StateGraph at 0x1a1c57c7eb0>"
      ]
     },
     "execution_count": 112,
     "metadata": {},
     "output_type": "execute_result"
    }
   ],
   "source": [
    "builder.add_edge(\"tools\",\"assistant\")"
   ]
  },
  {
   "cell_type": "code",
   "execution_count": 113,
   "id": "90bc0cec",
   "metadata": {},
   "outputs": [],
   "source": [
    "react_app=builder.compile()"
   ]
  },
  {
   "cell_type": "code",
   "execution_count": 114,
   "id": "100c88e5",
   "metadata": {},
   "outputs": [
    {
     "data": {
      "image/png": "[encoded data removed]",
      "text/plain": [
       "<IPython.core.display.Image object>"
      ]
     },
     "metadata": {},
     "output_type": "display_data"
    }
   ],
   "source": [
    "display(Image(react_app.get_graph().draw_mermaid_png()))"
   ]
  },
  {
   "cell_type": "code",
   "execution_count": 115,
   "id": "3a4f5fb0",
   "metadata": {},
   "outputs": [],
   "source": [
    "message=[HumanMessage(content=\"what is twice of narendra modi's current age?\")]\n",
    "\n",
    "## this below detail is called a agentic flow\n",
    "# first it will come to assistant\n",
    "# then it will search narendra modi age\n",
    "# then it will come to again assistant\n",
    "# then it wil call the multiply tool for getting twice of age\n",
    "# then again it will come to assistant \n",
    "# then it will generate a final answer\n",
    "\n",
    "# REACT->> Reasoning+actions\n",
    "\n",
    "# Thinking, action, observation, thiniking,action, observation---> if everything is going to be full fill\n",
    "# then generating a final ans"
   ]
  },
  {
   "cell_type": "code",
   "execution_count": 117,
   "id": "030c2974",
   "metadata": {},
   "outputs": [],
   "source": [
    "response=react_app.invoke({\"messages\":message})"
   ]
  },
  {
   "cell_type": "code",
   "execution_count": 118,
   "id": "2a757c13",
   "metadata": {},
   "outputs": [
    {
     "name": "stdout",
     "output_type": "stream",
     "text": [
      "================================\u001b[1m Human Message \u001b[0m=================================\n",
      "\n",
      "what is twice of narendra modi's current age?\n",
      "==================================\u001b[1m Ai Message \u001b[0m==================================\n",
      "Tool Calls:\n",
      "  duckduckgo_search (call_No6zjTboZqk3p2UwzO0Lfy5t)\n",
      " Call ID: call_No6zjTboZqk3p2UwzO0Lfy5t\n",
      "  Args:\n",
      "    query: Narendra Modi age 2023\n",
      "=================================\u001b[1m Tool Message \u001b[0m=================================\n",
      "Name: duckduckgo_search\n",
      "\n",
      "Learn about the life and achievements of Narendra Modi, the current Prime Minister of India, who was born on September 17, 1950, in Gujarat. Find out his full name, education, political journey, and constituency. 2023: PM Narendra Modi announced the PM Vishwakarma Yojana to enhance the skilling of craftsmen and artisans in the country. Two key infrastructure projects - India International Convention and ... List of all Prime Ministers of India till 2025: Narendra Modi is the current and 14th Prime Minister of India who assumed office on 10 June 2024. Jawaharlal Nehru is the first and the longest ... Prime Minister Narendra Modi turns 74 today, celebrating another year in a long and impactful public service career. Even on his birthday, Modi is busy with work, launching several welfare schemes, while the Bharatiya Janata Party (BJP) marks the day with their annual 'Seva Parv,' focusing on public welfare initiatives. Born on September 17, 1950, in Mehsana, Gujarat, Modi has served three ... Narendra Modi (born September 17, 1950, Vadnagar, India) is an Indian politician and government official who rose to become a senior leader of the Bharatiya Janata Party (BJP). In 2014 he led his party to victory in elections to the Lok Sabha (lower chamber of the Indian parliament), after which he was sworn in as prime minister of India.Prior to that he had served (2001-14) as chief ...\n",
      "==================================\u001b[1m Ai Message \u001b[0m==================================\n",
      "Tool Calls:\n",
      "  multiply (call_5CnHsFEWQgfCaz1MITN7RILb)\n",
      " Call ID: call_5CnHsFEWQgfCaz1MITN7RILb\n",
      "  Args:\n",
      "    a: 74\n",
      "    b: 2\n",
      "=================================\u001b[1m Tool Message \u001b[0m=================================\n",
      "Name: multiply\n",
      "\n",
      "148\n",
      "==================================\u001b[1m Ai Message \u001b[0m==================================\n",
      "\n",
      "Narendra Modi is currently 74 years old. Twice his age is 148.\n"
     ]
    }
   ],
   "source": [
    "for m in response[\"messages\"]:\n",
    "    m.pretty_print()"
   ]
  },
  {
   "cell_type": "code",
   "execution_count": 119,
   "id": "83208432",
   "metadata": {},
   "outputs": [],
   "source": [
    "messages=[HumanMessage(content=\"hi hello how are you?\")]"
   ]
  },
  {
   "cell_type": "code",
   "execution_count": 120,
   "id": "b811ca15",
   "metadata": {},
   "outputs": [],
   "source": [
    "response=react_app.invoke({\"messages\":messages})"
   ]
  },
  {
   "cell_type": "code",
   "execution_count": 121,
   "id": "e19b73e2",
   "metadata": {},
   "outputs": [
    {
     "name": "stdout",
     "output_type": "stream",
     "text": [
      "================================\u001b[1m Human Message \u001b[0m=================================\n",
      "\n",
      "hi hello how are you?\n",
      "==================================\u001b[1m Ai Message \u001b[0m==================================\n",
      "\n",
      "Hello! I'm here to assist you. How can I help you today?\n"
     ]
    }
   ],
   "source": [
    "for m in response[\"messages\"]:\n",
    "    m.pretty_print()"
   ]
  },
  {
   "cell_type": "markdown",
   "id": "ead8d44d",
   "metadata": {},
   "source": [
    "1. humanmessage\n",
    "2. ai mesage:toolcall\n",
    "3. duckcuk\n",
    "4. ai assistant\n",
    "5. sustract\n",
    "6. ai\n",
    "7. final answer"
   ]
  },
  {
   "cell_type": "code",
   "execution_count": 123,
   "id": "5c69e77a",
   "metadata": {},
   "outputs": [],
   "source": [
    "messages=[HumanMessage(content=\"what is current gdp of china and india can you give me difference between them?\")]"
   ]
  },
  {
   "cell_type": "code",
   "execution_count": 124,
   "id": "52ca8147",
   "metadata": {},
   "outputs": [],
   "source": [
    "response=react_app.invoke({\"messages\":messages})"
   ]
  },
  {
   "cell_type": "code",
   "execution_count": 125,
   "id": "ed95b3be",
   "metadata": {},
   "outputs": [
    {
     "name": "stdout",
     "output_type": "stream",
     "text": [
      "================================\u001b[1m Human Message \u001b[0m=================================\n",
      "\n",
      "what is current gdp of china and india can you give me difference between them?\n",
      "==================================\u001b[1m Ai Message \u001b[0m==================================\n",
      "Tool Calls:\n",
      "  duckduckgo_search (call_0ONjcU39PBQslxPd6PCRbmjW)\n",
      " Call ID: call_0ONjcU39PBQslxPd6PCRbmjW\n",
      "  Args:\n",
      "    query: current GDP of China 2023\n",
      "  duckduckgo_search (call_bBNSA8mOcuWhxnD9FtYq1bkp)\n",
      " Call ID: call_bBNSA8mOcuWhxnD9FtYq1bkp\n",
      "  Args:\n",
      "    query: current GDP of India 2023\n",
      "=================================\u001b[1m Tool Message \u001b[0m=================================\n",
      "Name: duckduckgo_search\n",
      "\n",
      "China revised upwards on Thursday the size of its economy by 2.7%, but said the change would have little impact on growth this year, as policymakers pledged more stimulus to spur expansion in 2025. China's gross domestic product (GDP) in 2023 was revised to 129.4 trillion yuan ($17.73 trillion), up 3.37 trillion yuan, or 2.7 percent, from the preliminary figure, data from the National Bureau ... Graph and download economic data for Gross Domestic Product for China (MKTGDPCNA646NWDB) from 1960 to 2023 about China and GDP. China's National Bureau of Statistics (NBS) on Thursday revised the country's GDP to about 129.43 trillion yuan ($17.73 trillion), an increase of around 3.37 trillion yuan from the preliminary ... China's 2023 GDP revision aligns with standard global practice, has no significant impact on 2024 growth rates\n",
      "=================================\u001b[1m Tool Message \u001b[0m=================================\n",
      "Name: duckduckgo_search\n",
      "\n",
      "Nominal GDP or GDP at Current Prices in Q4 of 2023-24 is estimated at ₹78.28 lakh crore, against ₹71.23 lakh crore in Q4 of 2022-23, showing a growth rate of 9.9%. ... (CGA) and Comptroller and Auditor General of India (CAG) have been used for estimating taxes on products at Current Prices. For compiling taxes on products at constant prices ... The United States upholds its status as the major global economy and richest country, with a GDP of over $30.34 trillion as of 2025, steadfastly preserving its pinnacle position from 1960 to 2025. The growth rate in Real GDP during 2024-25 is estimated at 6.4% as compared to 8.2% in 2023-24. Nominal GDP or GDP at Current Prices is estimated to attain a level of ₹324.11 lakh crore in the year 2024-25, against ₹295.36 lakh crore in 2023-24, showing a growth rate of 9.7%. ... (CGA) and Comptroller and Auditor General of India (CAG) have ... The statistic shows GDP in India from 1987 to 2023, with projections up until 2029. ... Value of PFCE in GDP at current prices India FY 2012-2025; FDI as a share of GDP India 2000-2023; India's Current GDP (FY24): $3.9 trillion India's GDP Growth Rate (FY24): 8.2% Also Read: Unemployment rate in India (2008 to 2023): Current rate, historical trends and more\n",
      "==================================\u001b[1m Ai Message \u001b[0m==================================\n",
      "Tool Calls:\n",
      "  subtract (call_lijrfiVIGDZ3cnqNp6EMuOpy)\n",
      " Call ID: call_lijrfiVIGDZ3cnqNp6EMuOpy\n",
      "  Args:\n",
      "    a: 17730000000000\n",
      "    b: 3900000000000\n",
      "=================================\u001b[1m Tool Message \u001b[0m=================================\n",
      "Name: subtract\n",
      "\n",
      "13830000000000\n",
      "==================================\u001b[1m Ai Message \u001b[0m==================================\n",
      "\n",
      "As of 2023, China's GDP is approximately $17.73 trillion, while India's GDP is about $3.9 trillion. The difference in their GDPs is approximately $13.83 trillion, with China's economy being larger than India's by this amount.\n"
     ]
    }
   ],
   "source": [
    "for m in response[\"messages\"]:\n",
    "    m.pretty_print()"
   ]
  },
  {
   "cell_type": "markdown",
   "id": "4f3f413f",
   "metadata": {},
   "source": [
    "As of 2023, China's GDP is approximately $17.73 trillion, while India's GDP is about $3.9 trillion. The difference in their GDPs is approximately $13.83 trillion, with China's economy being larger than India's by this amount."
   ]
  },
  {
   "cell_type": "code",
   "execution_count": null,
   "id": "269c4f89",
   "metadata": {},
   "outputs": [],
   "source": [
    "project:rag,agent,deployment,modularcoding,ci/cd,git\n",
    "\n",
    "multiagentic collrabtive agent and supoervisor agent\n",
    "\n"
   ]
  },
  {
   "cell_type": "markdown",
   "id": "8da83e52",
   "metadata": {},
   "source": [
    "Reaserch and analsysis react agent: assisgnment\n",
    "1. llm assistant\n",
    "2. take a realtime weather api to check the real time weather detail\n",
    "3. take a realtime api for checking realtime cricket score\n",
    "4. take a tool for analysis the generated data(REPL)python code\n",
    "5. create a report based on the generated data\n",
    "memory\n",
    "human in loop\n",
    "multiagentic flow\n",
    "\n",
    "\n",
    "from next week onwards will implemnt the project"
   ]
  },
  {
   "cell_type": "markdown",
   "id": "c4ec52f0",
   "metadata": {},
   "source": [
    "## 1. langgraph-> memeory saver, human in loop\n",
    "## 2. multiagents"
   ]
  },
  {
   "cell_type": "code",
   "execution_count": 11,
   "id": "f47297f7",
   "metadata": {},
   "outputs": [],
   "source": [
    "\n",
    "from typing import Annotated\n",
    "import operator,json\n",
    "from typing import TypedDict, Annotated, Sequence\n",
    "from typing_extensions import TypedDict\n",
    "from langchain_core.messages import BaseMessage\n",
    "from langgraph.checkpoint.memory import MemorySaver\n",
    "from langgraph.graph import StateGraph,END,START\n",
    "from langgraph.graph.message import add_messages\n",
    "from langgraph.prebuilt import ToolNode, tools_condition\n",
    "from langchain_core.tools import tool\n",
    "from langchain_community.tools.tavily_search import TavilySearchResults"
   ]
  },
  {
   "cell_type": "code",
   "execution_count": null,
   "id": "1d940360",
   "metadata": {},
   "outputs": [],
   "source": [
    "import os\n",
    "from langchain_community.tools.tavily_search import TavilySearchResults\n",
    "TAVILY_API_KEY=\"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\"\n",
    "os.environ[\"TAVILY_API_KEY\"]=TAVILY_API_KEY"
   ]
  },
  {
   "cell_type": "code",
   "execution_count": 13,
   "id": "87c82fe6",
   "metadata": {},
   "outputs": [],
   "source": [
    "import os\n",
    "os.environ[\"TAVILY_API_KEY\"]=TAVILY_API_KEY"
   ]
  },
  {
   "cell_type": "code",
   "execution_count": 16,
   "id": "02a8be10",
   "metadata": {},
   "outputs": [],
   "source": [
    "@tool\n",
    "def multiply(first_number:int, second_number:int)->int:\n",
    "    \"\"\"multiply two integer number\"\"\"\n",
    "    return first_number * second_number"
   ]
  },
  {
   "cell_type": "code",
   "execution_count": 17,
   "id": "ea569626",
   "metadata": {},
   "outputs": [],
   "source": [
    "@tool\n",
    "def search(query:str):\n",
    "    \"\"\"perform the web search on the user query\"\"\"\n",
    "    tavily=TavilySearchResults(tavily_api_key=\"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\")\n",
    "    result=tavily.invoke(query)\n",
    "    return result\n",
    "     "
   ]
  },
  {
   "cell_type": "code",
   "execution_count": 18,
   "id": "7082a82d",
   "metadata": {},
   "outputs": [
    {
     "data": {
      "text/plain": [
       "[{'title': 'Prime Minister of India - Wikipedia',\n",
       "  'url': 'https://en.wikipedia.org/wiki/Prime_Minister_of_India',\n",
       "  'content': \"Rao, Atal Bihari Vajpayee, Manmohan Singh, and Narendra Modi. Modi is the current prime minister of India, serving since 26 May 2014. [...] Jump to content\\nMain menu\\nSearch\\nDonate\\nCreate account\\nLog in\\nPersonal tools\\nToggle the table of contents\\nPrime Minister of India\\n53 languages\\nArticle\\nTalk\\nRead\\nView source\\nView history\\nTools\\nFrom Wikipedia, the free encyclopedia\\nFor a list of prime ministers, see List of prime ministers of India.\\nPrime Minister of India\\nBhārata kē Pradhānamaṁtrī\\nLogo of The Prime Minister of India\\nFlag of India\\nIncumbent\\nNarendra Modi\\nsince\\xa026 May 2014\\nPrime Minister's Office\\nUnion Council of Ministers [...] Narendra Modi was re-elected as prime minister in 2019 with a bigger mandate than that of 2014. The BJP-led NDA won 354 seats out of which BJP secured 303 seats.[76]\\nParty affiliation\\nSee also: List of prime ministers of India\\nParty   PMs Years in PMO    Name(s) Alliance\\n    Indian National Congress    6[b]    54 years    Jawaharlal Nehru, Lal Bahadur Shastri, Indira Gandhi, Rajiv Gandhi, P. V. Narasimha Rao and Manmohan Singh[b] \\nDMK, CPI and CPI (M) (1969–1971)\\nDMK (1971–1976)\",\n",
       "  'score': 0.8827621},\n",
       " {'title': \"PM Sangrahlaya - a Tribute to India's Prime Ministers\",\n",
       "  'url': 'https://www.pmsangrahalaya.gov.in/prime-ministers-of-india',\n",
       "  'content': 'Shri Narendra Modi is the current and the fourth longest-serving Prime Minister of India. He served as the Chief Minister of Gujarat for 14 years and was',\n",
       "  'score': 0.83710164},\n",
       " {'title': 'Narendra Modi - Wikipedia',\n",
       "  'url': 'https://en.wikipedia.org/wiki/Narendra_Modi',\n",
       "  'content': \"Narendra Damodardas Modi[a] (born 17 September 1950)[b] is an Indian politician who has served as the prime minister of India since 2014. Modi was the chief minister of Gujarat from 2001 to 2014 and is the member of parliament (MP) for Varanasi. He is a member of the Bharatiya Janata Party (BJP) and of the Rashtriya Swayamsevak Sangh (RSS), a right-wing Hindu nationalist paramilitary volunteer organisation. He is the longest-serving prime minister outside the Indian National Congress.[4] [...] After the Bharatiya Janata Party-led National Democratic Alliance (NDA) won a landslide in the 2014 Lok Sabha election, Modi was sworn in as Prime Minister of India on 26 May 2014, becoming the first Indian PM to be born after the country's independence from the British Empire in 1947.[247] Modi's second term as PM began in 2019 following the NDA's 2019 Lok Sabha election win. On 6 December 2020, he became the fourth-longest-serving Prime Minister of India and the longest-serving non-Congress [...] Prime Minister (2014–present)\",\n",
       "  'score': 0.7915799},\n",
       " {'title': 'Council of Ministers - National Portal of India',\n",
       "  'url': 'https://www.india.gov.in/my-government/whos-who/council-ministers',\n",
       "  'content': \"Skip to main content\\n-A\\nA\\n+A\\nA\\nA\\nहिन्दी\\nTOPICS\\nSERVICES\\nMY GOVERNMENT\\nPEOPLE GROUPS\\nINDIA AT A GLANCE\\nAdvanced Search\\nMOST SEARCHED\\nBirth Certificate\\nDriving Licence\\nPan card\\nHomeMy GovernmentWho's WhoCouncil of Ministers\\nCouncil of Ministers\\nWho's Who\\nPresident\\nVice-President\\nPrime Minister\\nCouncil of Ministers\\nGovernors\\nLt. Governors & Administrators\\nChief Ministers\\nJudges of Supreme Court\\nChiefs of Armed Forces\\nMembers of Parliament\\nMLAs/MLCs\\nPrime Minister\\nShri Narendra Modi\",\n",
       "  'score': 0.6852132},\n",
       " {'title': 'Narendra Modi | Biography, Career, & Facts - Britannica',\n",
       "  'url': 'https://www.britannica.com/biography/Narendra-Modi',\n",
       "  'content': \"Narendra ModiIndian Prime Minister Narendra Modi was elected to the office in 2014. He won a second term in 2019 and was sworn in for a third term on June 9, 2024.(more) [...] Where Does the Name Europe Come From?\\nContents\\nPolitics, Law & Government World Leaders Prime Ministers\\n\\nNarendra Modi Chief minister of Gujarat state Narendra Modi speaking at the World Economic Forum's India Economic Summit, November 2008. Modi became the prime minister of India in 2014. (more)\\nNarendra Modi\\nprime minister of India\\nAsk the Chatbot a Question\\nMore Actions\\nPrint\\nprint Print\\nPlease select which sections you would like to print:\\n\\nTable Of Contents [...] Narendra Modi (born September 17, 1950, Vadnagar, India) is an Indian politician and government official who rose to become a senior leader of the Bharatiya Janata Party (BJP). In 2014 he led his party to victory in elections to the Lok Sabha (lower chamber of the Indian parliament), after which he was sworn in as prime minister of India. Prior to that he had served (2001–14) as chief minister (head of government) of Gujarat state in western India. The Modi-led BJP (and the BJP-led NDA\",\n",
       "  'score': 0.6609831}]"
      ]
     },
     "execution_count": 18,
     "metadata": {},
     "output_type": "execute_result"
    }
   ],
   "source": [
    "search.invoke(\"who is a current PM in india?\")"
   ]
  },
  {
   "cell_type": "code",
   "execution_count": 19,
   "id": "205e5ebb",
   "metadata": {},
   "outputs": [],
   "source": [
    "tools=[search,multiply]"
   ]
  },
  {
   "cell_type": "code",
   "execution_count": 20,
   "id": "3363a5a1",
   "metadata": {},
   "outputs": [],
   "source": [
    "model_with_tools=openai_model.bind_tools(tools)"
   ]
  },
  {
   "cell_type": "code",
   "execution_count": 21,
   "id": "51c7ef4f",
   "metadata": {},
   "outputs": [
    {
     "data": {
      "text/plain": [
       "AIMessage(content='', additional_kwargs={'tool_calls': [{'id': 'call_xJZ823HEZpJELOkZNr8BAcZC', 'function': {'arguments': '{\"query\":\"current Prime Minister of Japan 2023\"}', 'name': 'search'}, 'type': 'function'}], 'refusal': None}, response_metadata={'token_usage': {'completion_tokens': 21, 'prompt_tokens': 78, 'total_tokens': 99, 'completion_tokens_details': {'accepted_prediction_tokens': 0, 'audio_tokens': 0, 'reasoning_tokens': 0, 'rejected_prediction_tokens': 0}, 'prompt_tokens_details': {'audio_tokens': 0, 'cached_tokens': 0}}, 'model_name': 'gpt-4o-2024-08-06', 'system_fingerprint': 'fp_22890b9c0a', 'finish_reason': 'tool_calls', 'logprobs': None}, id='run-e310eb2b-45a0-456a-a2aa-6971dba11219-0', tool_calls=[{'name': 'search', 'args': {'query': 'current Prime Minister of Japan 2023'}, 'id': 'call_xJZ823HEZpJELOkZNr8BAcZC', 'type': 'tool_call'}], usage_metadata={'input_tokens': 78, 'output_tokens': 21, 'total_tokens': 99, 'input_token_details': {'audio': 0, 'cache_read': 0}, 'output_token_details': {'audio': 0, 'reasoning': 0}})"
      ]
     },
     "execution_count": 21,
     "metadata": {},
     "output_type": "execute_result"
    }
   ],
   "source": [
    "model_with_tools.invoke(\"who is a cuurent pm of japan?\")"
   ]
  },
  {
   "cell_type": "code",
   "execution_count": 22,
   "id": "777ae390",
   "metadata": {},
   "outputs": [
    {
     "data": {
      "text/plain": [
       "[{'name': 'search',\n",
       "  'args': {'query': 'current Prime Minister of Japan'},\n",
       "  'id': 'call_iMGTBCIRmIvdL5t3OyXfKUCr',\n",
       "  'type': 'tool_call'}]"
      ]
     },
     "execution_count": 22,
     "metadata": {},
     "output_type": "execute_result"
    }
   ],
   "source": [
    "model_with_tools.invoke(\"who is a cuurent pm of japan?\").tool_calls"
   ]
  },
  {
   "cell_type": "code",
   "execution_count": 23,
   "id": "da9237f0",
   "metadata": {},
   "outputs": [],
   "source": [
    "tool_mapping={tool.name: tool for tool in tools}"
   ]
  },
  {
   "cell_type": "code",
   "execution_count": 24,
   "id": "c5148ea5",
   "metadata": {},
   "outputs": [
    {
     "data": {
      "text/plain": [
       "{'search': StructuredTool(name='search', description='perform the web search on the user query', args_schema=<class 'langchain_core.utils.pydantic.search'>, func=<function search at 0x0000017563031990>),\n",
       " 'multiply': StructuredTool(name='multiply', description='multiply two integer number', args_schema=<class 'langchain_core.utils.pydantic.multiply'>, func=<function multiply at 0x0000017560700B80>)}"
      ]
     },
     "execution_count": 24,
     "metadata": {},
     "output_type": "execute_result"
    }
   ],
   "source": [
    "tool_mapping"
   ]
  },
  {
   "cell_type": "code",
   "execution_count": 167,
   "id": "8ed66455",
   "metadata": {},
   "outputs": [],
   "source": [
    "response=model_with_tools.invoke(\"who is a current president of uk?\")"
   ]
  },
  {
   "cell_type": "code",
   "execution_count": 168,
   "id": "128d5625",
   "metadata": {},
   "outputs": [
    {
     "data": {
      "text/plain": [
       "AIMessage(content='', additional_kwargs={'tool_calls': [{'id': 'call_tanGhlPkC5GFIsk5g68KSgMd', 'function': {'arguments': '{\"query\":\"current president of UK 2023\"}', 'name': 'search'}, 'type': 'function'}], 'refusal': None}, response_metadata={'token_usage': {'completion_tokens': 20, 'prompt_tokens': 77, 'total_tokens': 97, 'completion_tokens_details': {'accepted_prediction_tokens': 0, 'audio_tokens': 0, 'reasoning_tokens': 0, 'rejected_prediction_tokens': 0}, 'prompt_tokens_details': {'audio_tokens': 0, 'cached_tokens': 0}}, 'model_name': 'gpt-4o-2024-08-06', 'system_fingerprint': 'fp_22890b9c0a', 'finish_reason': 'tool_calls', 'logprobs': None}, id='run-4582c853-1692-4cce-bb41-29d0140a7c6d-0', tool_calls=[{'name': 'search', 'args': {'query': 'current president of UK 2023'}, 'id': 'call_tanGhlPkC5GFIsk5g68KSgMd', 'type': 'tool_call'}], usage_metadata={'input_tokens': 77, 'output_tokens': 20, 'total_tokens': 97, 'input_token_details': {'audio': 0, 'cache_read': 0}, 'output_token_details': {'audio': 0, 'reasoning': 0}})"
      ]
     },
     "execution_count": 168,
     "metadata": {},
     "output_type": "execute_result"
    }
   ],
   "source": [
    "response"
   ]
  },
  {
   "cell_type": "code",
   "execution_count": 181,
   "id": "8c1b8f8e",
   "metadata": {},
   "outputs": [],
   "source": [
    "tool_details=response.additional_kwargs"
   ]
  },
  {
   "cell_type": "code",
   "execution_count": 182,
   "id": "b7366adb",
   "metadata": {},
   "outputs": [
    {
     "data": {
      "text/plain": [
       "{'tool_calls': [{'id': 'call_tanGhlPkC5GFIsk5g68KSgMd',\n",
       "   'function': {'arguments': '{\"query\":\"current president of UK 2023\"}',\n",
       "    'name': 'search'},\n",
       "   'type': 'function'}],\n",
       " 'refusal': None}"
      ]
     },
     "execution_count": 182,
     "metadata": {},
     "output_type": "execute_result"
    }
   ],
   "source": [
    "tool_details"
   ]
  },
  {
   "cell_type": "code",
   "execution_count": 174,
   "id": "e4b5ceb3",
   "metadata": {},
   "outputs": [],
   "source": [
    "tool_details=tool_details.get(\"tool_calls\")"
   ]
  },
  {
   "cell_type": "code",
   "execution_count": 176,
   "id": "18945983",
   "metadata": {},
   "outputs": [
    {
     "data": {
      "text/plain": [
       "'search'"
      ]
     },
     "execution_count": 176,
     "metadata": {},
     "output_type": "execute_result"
    }
   ],
   "source": [
    "tool_details[0][\"function\"][\"name\"]"
   ]
  },
  {
   "cell_type": "code",
   "execution_count": 175,
   "id": "b51c797a",
   "metadata": {},
   "outputs": [
    {
     "data": {
      "text/plain": [
       "'{\"query\":\"current president of UK 2023\"}'"
      ]
     },
     "execution_count": 175,
     "metadata": {},
     "output_type": "execute_result"
    }
   ],
   "source": [
    "tool_details[0][\"function\"][\"arguments\"]"
   ]
  },
  {
   "cell_type": "code",
   "execution_count": 177,
   "id": "e1a8a102",
   "metadata": {},
   "outputs": [
    {
     "data": {
      "text/plain": [
       "{'query': 'current president of UK 2023'}"
      ]
     },
     "execution_count": 177,
     "metadata": {},
     "output_type": "execute_result"
    }
   ],
   "source": [
    "json.loads(tool_details[0][\"function\"][\"arguments\"])"
   ]
  },
  {
   "cell_type": "code",
   "execution_count": 179,
   "id": "ecb1eee2",
   "metadata": {},
   "outputs": [
    {
     "data": {
      "text/plain": [
       "[{'title': 'Rishi Sunak - Wikipedia',\n",
       "  'url': 'https://en.wikipedia.org/wiki/Rishi_Sunak',\n",
       "  'content': 'Sunak selected his cabinet ministers after his appointment as prime minister. Jeremy Hunt was appointed Chancellor of the Exchequer, and Dominic Raab was also re-appointed as deputy prime minister and Justice Secretary, he later resigned from these roles in April 2023 and was replaced by Oliver Dowden. James Cleverly was appointed Foreign Secretary with Suella Braverman as Home Secretary. Ben Wallace was appointed Secretary of State for Defence. Michael Gove was appointed Levelling Up [...] ^ Sparrow, Andrew (7 February 2023). \"Rishi Sunak to hold limited cabinet shuffle – UK politics live\". The Guardian.\\n^ Sunak, Rishi (7 February 2023). Making Government Deliver for the British People (PDF). UK Government. Archived (PDF) from the original on 7 February 2023. Retrieved 7 February 2023. [...] Sunak was faced with the task of rebuilding the Conservatives\\' reputation which had been significantly damaged by the controversies and scandals of the previous year and the Truss ministry. While their poll ratings recovered slightly over the following months, it still wasn\\'t enough to bring them back to pre-Truss levels. Sunak contested his first local elections as leader on 4 May 2023, where the Conservatives suffered heavy losses. Two months later, on 20 July 2023, they lost two seats in',\n",
       "  'score': 0.5608546},\n",
       " {'title': 'Prime Minister of the United Kingdom - Wikipedia',\n",
       "  'url': 'https://en.wikipedia.org/wiki/Prime_Minister_of_the_United_Kingdom',\n",
       "  'content': \"KingdomEngland and WalesScotlandNorthern IrelandshowBank of EnglandGovernorAndrew BaileyDeputy governorsMonetary Policy CommitteeCurrenciesBanknotesCoinsshowElections and referendumsUK Parliament constituencies (2023 Periodic Review of Westminster constituencies)Political partiesPolitical Parties, Elections and Referendums Act 2000Dissolution and Calling of Parliament Act 2022Scottish Parliament constituencies and electoral regionsSenedd constituencies and electoral regionsUK general [...] |\\n| show\\n*   v\\n*   t\\n*   e\\nList of current heads of government in the United Kingdom\\n|\\n| --- |\\n| His Majesty's Government | \\nMajorityLabourPrime MinisterKeir Starmer (Labour)\\n|\\n| Northern Ireland Executive | \\nPower-sharingDUP / Sinn Féin / SDLP / UUP / APNIFirst MinisterMichelle O'Neill (Sinn Féin)Deputy First MinisterEmma Little-Pengelly (DUP)\\n|\\n| Scottish Government | \\nMinorityScottish National PartyFirst MinisterJohn Swinney (SNP)\\n|\\n| Welsh Government | [...] (L)Prime Minister (list)Keir Starmer (L)Deputy Prime MinisterAngela Rayner (L)DepartmentsMinistersAgenciesshowLegislatureUK Parliament(King-in-Parliament)KingCharles IIIHouse of LordsLord SpeakerThe Lord McFall of AlcluithHouse of CommonsSpeakerSir Lindsay HoyleLeader of the OppositionKemi Badenoch (C)59th ParliamentOppositionMPsList of MPsshowJudiciaryCharles III(King-on-the-Bench)Supreme CourtPresidentThe Lord ReedDeputy PresidentThe Lord HodgeJustices of the Supreme CourtUnited\",\n",
       "  'score': 0.3337208},\n",
       " {'title': 'Rishi Sunak | Biography, Wife, Politics, & Net Worth - Britannica',\n",
       "  'url': 'https://www.britannica.com/biography/Rishi-Sunak',\n",
       "  'content': 'In November 2023 Sunak sacked controversial home secretary Suella Braverman as part of a broader cabinet reshuffle that saw the stunning return to government of former prime minister David Cameron as foreign secretary. Cameron, who was elevated to the House of Lords and created Lord Cameron of Chipping Norton in order to take his seat in the cabinet, seemed an unusual choice, as Sunak had previously endeavored to characterize his government as a break with the past. The return of Cameron to [...] In March 2023 Sunak held off a Tory rebellion and passed the so-called Windsor Framework, a post-Brexit deal to regulate trade between Northern Ireland, the rest of the United Kingdom, and the European Union. During his campaign to drum up support for the bill, Sunak stressed the “privileged access, not just to the U.K. home market, which is enormous, but also the EU single market” that Northern Ireland would enjoy under the framework. Critics were quick to observe that, prior to Brexit, the',\n",
       "  'score': 0.29405832},\n",
       " {'title': \"Keir Starmer confirmed as Britain's new prime minister after Labour ...\",\n",
       "  'url': 'https://www.nbcnews.com/news/world/live-blog/uk-general-election-live-results-britain-starmer-win-labour-rcna160339',\n",
       "  'content': 'On his eighth attempt, pro-Brexit, anti-immigration campaigner Nigel Farage has won a seat in Britain\\'s Parliament. The Reform U.K. leader and friend of Donald Trump will represent Clacton, a fading seaside town in southern England. [...] Smaller parties such as Reform UK performed much better than expected, with the party of Donald Trump ally Nigel Farage claiming more than 14% of the vote, while the Liberal Democrats took 12% and the Greens received 7%.\\nShow more\\nDivisions among British voters appear to reflect the widespread disillusionment many across the country felt in the lead-up to the election, both with the country’s Conservative leadership and with the alternatives. [...] David Lammy, who has represented Tottenham since 2000, is likely to serve as foreign secretary after being appointed to Starmer\\'s then-shadow Cabinet in 2021. Earlier this year, the long-term MP walked back historical remarks calling Donald Trump \"a neo-Nazi sympathizer,\" promising to find \"common cause\" with the former president if he wins re-election.',\n",
       "  'score': 0.2896534},\n",
       " {'title': 'Ministers - GOV.UK',\n",
       "  'url': 'https://www.gov.uk/government/ministers',\n",
       "  'content': 'Rachel Reeves MP\\nThe Rt Hon\\nChancellor of the Exchequer\\n\\n\\n\\nPat McFadden MP\\nThe Rt Hon\\nChancellor of the Duchy of Lancaster, Minister for Intergovernmental Relations\\n\\n\\n\\nDavid Lammy MP\\nThe Rt Hon\\nSecretary of State for Foreign, Commonwealth and Development Affairs\\n\\n\\n\\nYvette Cooper MP\\nThe Rt Hon\\nSecretary of State for the Home Department\\n\\n\\n\\nJohn Healey MP\\nThe Rt Hon\\nSecretary of State for Defence\\n\\n\\n\\nShabana Mahmood MP\\nThe Rt Hon\\nLord Chancellor and Secretary of State for Justice',\n",
       "  'score': 0.24731465}]"
      ]
     },
     "execution_count": 179,
     "metadata": {},
     "output_type": "execute_result"
    }
   ],
   "source": [
    "tool_mapping[tool_details[0][\"function\"][\"name\"]].invoke(json.loads(tool_details[0][\"function\"][\"arguments\"]))"
   ]
  },
  {
   "cell_type": "code",
   "execution_count": 25,
   "id": "b26fc42e",
   "metadata": {},
   "outputs": [],
   "source": [
    "tool_mapping={tool.name: tool for tool in tools}"
   ]
  },
  {
   "cell_type": "code",
   "execution_count": 26,
   "id": "797007d5",
   "metadata": {},
   "outputs": [
    {
     "data": {
      "text/plain": [
       "{'search': StructuredTool(name='search', description='perform the web search on the user query', args_schema=<class 'langchain_core.utils.pydantic.search'>, func=<function search at 0x0000017563031990>),\n",
       " 'multiply': StructuredTool(name='multiply', description='multiply two integer number', args_schema=<class 'langchain_core.utils.pydantic.multiply'>, func=<function multiply at 0x0000017560700B80>)}"
      ]
     },
     "execution_count": 26,
     "metadata": {},
     "output_type": "execute_result"
    }
   ],
   "source": [
    "tool_mapping"
   ]
  },
  {
   "cell_type": "code",
   "execution_count": 18,
   "id": "15d895f9",
   "metadata": {},
   "outputs": [],
   "source": [
    "class AgentState(TypedDict):\n",
    "    messages:Annotated[Sequence[BaseMessage], operator.add]"
   ]
  },
  {
   "cell_type": "code",
   "execution_count": 28,
   "id": "1bdcca11",
   "metadata": {},
   "outputs": [],
   "source": [
    "def invoke_model(state:AgentState):\n",
    "    messages = state['messages']\n",
    "    question = messages[-1]   ## Fetching the user question\n",
    "    return {\"messages\":[model_with_tools.invoke(question)]}"
   ]
  },
  {
   "cell_type": "code",
   "execution_count": 30,
   "id": "dff3f8fb",
   "metadata": {},
   "outputs": [],
   "source": [
    "def invoke_tool(state:AgentState):\n",
    "    print(\"****my state*****\")\n",
    "    print(state['messages'][-1])\n",
    "    tool_details= state['messages'][-1].additional_kwargs.get(\"tool_calls\", [])[0]\n",
    "    \n",
    "    if tool_details is None:\n",
    "        raise Exception(\"no tool call found\")\n",
    "    \n",
    "    print(f'Selected tool: {tool_details.get(\"function\").get(\"name\")}')\n",
    "    \n",
    "    if tool_details.get(\"function\").get(\"name\")==\"search\":\n",
    "        print(\"**********tool detils****\")\n",
    "        print(tool_details)\n",
    "        response = input(prompt=f\"[y/n] continue with expensive web search?\")\n",
    "        if response == \"n\":\n",
    "            raise Exception(\"web search discard\")\n",
    "        \n",
    "    response = tool_mapping[tool_details['function']['name']].invoke(json.loads(tool_details.get(\"function\").get(\"arguments\")))\n",
    "    return {\"messages\" : [response]}\n",
    "     "
   ]
  },
  {
   "cell_type": "code",
   "execution_count": 32,
   "id": "1e925346",
   "metadata": {},
   "outputs": [],
   "source": [
    "def router(state:AgentState):\n",
    "    tool_calls = state['messages'][-1].additional_kwargs.get(\"tool_calls\", [])\n",
    "    if len(tool_calls):\n",
    "        return \"tool\"\n",
    "    else:\n",
    "        return \"end\"\n",
    "     "
   ]
  },
  {
   "cell_type": "code",
   "execution_count": 54,
   "id": "9975bbaf",
   "metadata": {},
   "outputs": [],
   "source": [
    "graph=StateGraph(AgentState)"
   ]
  },
  {
   "cell_type": "code",
   "execution_count": 55,
   "id": "2baeeb35",
   "metadata": {},
   "outputs": [
    {
     "data": {
      "text/plain": [
       "<langgraph.graph.state.StateGraph at 0x17565187730>"
      ]
     },
     "execution_count": 55,
     "metadata": {},
     "output_type": "execute_result"
    }
   ],
   "source": [
    "graph.add_node(\"ai_assistant\",invoke_model)\n",
    "graph.add_node(\"tool\",invoke_tool)"
   ]
  },
  {
   "cell_type": "code",
   "execution_count": 56,
   "id": "6ea37701",
   "metadata": {},
   "outputs": [
    {
     "data": {
      "text/plain": [
       "<langgraph.graph.state.StateGraph at 0x17565187730>"
      ]
     },
     "execution_count": 56,
     "metadata": {},
     "output_type": "execute_result"
    }
   ],
   "source": [
    "graph.add_conditional_edges(\"ai_assistant\",\n",
    "                            router,\n",
    "                            {\"tool\":\"tool\",\n",
    "                             \"end\":END})"
   ]
  },
  {
   "cell_type": "code",
   "execution_count": 57,
   "id": "b69381ba",
   "metadata": {},
   "outputs": [
    {
     "data": {
      "text/plain": [
       "<langgraph.graph.state.StateGraph at 0x17565187730>"
      ]
     },
     "execution_count": 57,
     "metadata": {},
     "output_type": "execute_result"
    }
   ],
   "source": [
    "graph.add_edge(\"tool\", END)\n",
    "\n",
    "# graph.add_edge(\"tool\", \"ai_assistant\")\n",
    "\n",
    "graph.set_entry_point(\"ai_assistant\")"
   ]
  },
  {
   "cell_type": "code",
   "execution_count": 58,
   "id": "dfaf71b3",
   "metadata": {},
   "outputs": [],
   "source": [
    "app=graph.compile()"
   ]
  },
  {
   "cell_type": "code",
   "execution_count": 59,
   "id": "7810dff3",
   "metadata": {},
   "outputs": [
    {
     "data": {
      "image/png": "[encoded data removed]",
      "text/plain": [
       "<IPython.core.display.Image object>"
      ]
     },
     "metadata": {},
     "output_type": "display_data"
    }
   ],
   "source": [
    "from IPython.display import Image, display\n",
    "display(Image(app.get_graph().draw_mermaid_png()))"
   ]
  },
  {
   "cell_type": "code",
   "execution_count": 60,
   "id": "537fd9cf",
   "metadata": {},
   "outputs": [
    {
     "name": "stdout",
     "output_type": "stream",
     "text": [
      "****my state*****\n",
      "content='' additional_kwargs={'tool_calls': [{'id': 'call_XQcn9xLA5dz6e2DLYE5qTSPY', 'function': {'arguments': '{\"query\":\"upcoming president of USA 2023\"}', 'name': 'search'}, 'type': 'function'}], 'refusal': None} response_metadata={'token_usage': {'completion_tokens': 21, 'prompt_tokens': 76, 'total_tokens': 97, 'completion_tokens_details': {'accepted_prediction_tokens': 0, 'audio_tokens': 0, 'reasoning_tokens': 0, 'rejected_prediction_tokens': 0}, 'prompt_tokens_details': {'audio_tokens': 0, 'cached_tokens': 0}}, 'model_name': 'gpt-4o-2024-08-06', 'system_fingerprint': 'fp_22890b9c0a', 'finish_reason': 'tool_calls', 'logprobs': None} id='run-ca64a716-63bf-4f0b-9aae-e52bd8033f66-0' tool_calls=[{'name': 'search', 'args': {'query': 'upcoming president of USA 2023'}, 'id': 'call_XQcn9xLA5dz6e2DLYE5qTSPY', 'type': 'tool_call'}] usage_metadata={'input_tokens': 76, 'output_tokens': 21, 'total_tokens': 97, 'input_token_details': {'audio': 0, 'cache_read': 0}, 'output_token_details': {'audio': 0, 'reasoning': 0}}\n",
      "Selected tool: search\n",
      "**********tool detils****\n",
      "{'id': 'call_XQcn9xLA5dz6e2DLYE5qTSPY', 'function': {'arguments': '{\"query\":\"upcoming president of USA 2023\"}', 'name': 'search'}, 'type': 'function'}\n"
     ]
    },
    {
     "data": {
      "text/plain": [
       "{'messages': ['who is upcoming president of USA?',\n",
       "  AIMessage(content='', additional_kwargs={'tool_calls': [{'id': 'call_XQcn9xLA5dz6e2DLYE5qTSPY', 'function': {'arguments': '{\"query\":\"upcoming president of USA 2023\"}', 'name': 'search'}, 'type': 'function'}], 'refusal': None}, response_metadata={'token_usage': {'completion_tokens': 21, 'prompt_tokens': 76, 'total_tokens': 97, 'completion_tokens_details': {'accepted_prediction_tokens': 0, 'audio_tokens': 0, 'reasoning_tokens': 0, 'rejected_prediction_tokens': 0}, 'prompt_tokens_details': {'audio_tokens': 0, 'cached_tokens': 0}}, 'model_name': 'gpt-4o-2024-08-06', 'system_fingerprint': 'fp_22890b9c0a', 'finish_reason': 'tool_calls', 'logprobs': None}, id='run-ca64a716-63bf-4f0b-9aae-e52bd8033f66-0', tool_calls=[{'name': 'search', 'args': {'query': 'upcoming president of USA 2023'}, 'id': 'call_XQcn9xLA5dz6e2DLYE5qTSPY', 'type': 'tool_call'}], usage_metadata={'input_tokens': 76, 'output_tokens': 21, 'total_tokens': 97, 'input_token_details': {'audio': 0, 'cache_read': 0}, 'output_token_details': {'audio': 0, 'reasoning': 0}}),\n",
       "  [{'title': '2024 United States presidential election - Wikipedia',\n",
       "    'url': 'https://en.wikipedia.org/wiki/2024_United_States_presidential_election',\n",
       "    'content': '^ Hippensteel, Chris (June 14, 2023). \"Cornel West to Run for President With Green Party, Ditches People\\'s Party\". The Daily Beast. Retrieved July 16, 2023.\\n^ Kennedy, Kaitlyn (June 15, 2023). \"Cornel West announces presidential run with the Green Party\". TAG24. Retrieved July 16, 2023.\\n^ Thomas, Ken (October 5, 2023). \"Cornel West Slams Biden, Trump, and Runs as 2024 Independent\". The Wall Street Journal. Retrieved October 5, 2023. [...] ^ Redpath, Bill (June 3, 2023). \"Peter Sonski is the American Solidarity Party 2024 Presidential nominee\". Ballot Access News. Archived from the original on June 3, 2023. Retrieved June 3, 2023.\\n^ \"Approval Voting Party Nominates Blake Huber for President\". Ballot Access News. May 28, 2024. Archived from the original on May 31, 2024. Retrieved July 17, 2024. [...] ^ Davis O\\'Brien, Rebecca (October 9, 2023). \"Robert F. Kennedy Jr. to Run for President as Independent, Leaving Democratic Primary\". The New York Times. Archived from the original on October 9, 2023. Retrieved October 9, 2023.\\n^ Leingang, Rachel (March 6, 2024). \"Biden challenger Dean Phillips drops out of US presidential race\". The Guardian. Retrieved September 30, 2024.',\n",
       "    'score': 0.7598145},\n",
       "   {'title': 'Joe Biden 2024 presidential campaign - Wikipedia',\n",
       "    'url': 'https://en.wikipedia.org/wiki/Joe_Biden_2024_presidential_campaign',\n",
       "    'content': '2020 electionselectionconventiondebate\"We did it, Joe!\"2024\\nPresidential campaigns\\nvte\\nJoe Biden, the 46th president of the United States, announced his candidacy for re-election for a second presidential term on April 25, 2023, with Vice President Kamala Harris as his running mate. Facing off against the Republican Party ticket of former President Donald Trump and U.S. Senator from Ohio JD Vance, Biden suspended the campaign on July 21, 2024. [...] In a PBS NewsHour/NPR/Marist poll released on April 25, 2023 – the day Biden announced his reelection campaign – his approval rating was just 41%, with a disapproval rating of 50%.[42] Several polls both before and after Biden\\'s campaign announcement have shown that most Democrats want the party to nominate someone other than Biden for president in the 2024 election.[43][44][45][needs update]\\nCampaign\\nBiden and Harris, May 2023\\nAnnouncement',\n",
       "    'score': 0.7355091},\n",
       "   {'title': 'United States presidential election of 2024 - Britannica',\n",
       "    'url': 'https://www.britannica.com/event/United-States-presidential-election-of-2024',\n",
       "    'content': 'Trump faced far more challengers to his nomination than Biden did to his: by June 2023 nearly a dozen Republicans other than Trump had declared their candidacy. They included Nikki Haley, who had served as U.S. ambassador to the United Nations under Trump (2017–18) and as governor of South Carolina (2011–17); Ron DeSantis, the governor of Florida (2019– ); former U.S. vice president (2017–21) Mike Pence; and former New Jersey governor (2010–18) and 2016 Republican presidential primary contender',\n",
       "    'score': 0.67347145}]]}"
      ]
     },
     "execution_count": 60,
     "metadata": {},
     "output_type": "execute_result"
    }
   ],
   "source": [
    "app.invoke({\"messages\": [\"who is upcoming president of USA?\"]})"
   ]
  },
  {
   "cell_type": "code",
   "execution_count": 61,
   "id": "d1addde7",
   "metadata": {},
   "outputs": [
    {
     "name": "stdout",
     "output_type": "stream",
     "text": [
      "{'messages': [AIMessage(content='', additional_kwargs={'tool_calls': [{'id': 'call_wbEnE8UR9OcJzhuj9ekb3WjE', 'function': {'arguments': '{\"query\":\"upcoming president of USA 2023\"}', 'name': 'search'}, 'type': 'function'}], 'refusal': None}, response_metadata={'token_usage': {'completion_tokens': 21, 'prompt_tokens': 76, 'total_tokens': 97, 'completion_tokens_details': {'accepted_prediction_tokens': 0, 'audio_tokens': 0, 'reasoning_tokens': 0, 'rejected_prediction_tokens': 0}, 'prompt_tokens_details': {'audio_tokens': 0, 'cached_tokens': 0}}, 'model_name': 'gpt-4o-2024-08-06', 'system_fingerprint': 'fp_22890b9c0a', 'finish_reason': 'tool_calls', 'logprobs': None}, id='run-3f9b73d6-f8cf-4ce0-b2e7-a0565f76b1ea-0', tool_calls=[{'name': 'search', 'args': {'query': 'upcoming president of USA 2023'}, 'id': 'call_wbEnE8UR9OcJzhuj9ekb3WjE', 'type': 'tool_call'}], usage_metadata={'input_tokens': 76, 'output_tokens': 21, 'total_tokens': 97, 'input_token_details': {'audio': 0, 'cache_read': 0}, 'output_token_details': {'audio': 0, 'reasoning': 0}})]}\n",
      "----\n",
      "****my state*****\n",
      "content='' additional_kwargs={'tool_calls': [{'id': 'call_wbEnE8UR9OcJzhuj9ekb3WjE', 'function': {'arguments': '{\"query\":\"upcoming president of USA 2023\"}', 'name': 'search'}, 'type': 'function'}], 'refusal': None} response_metadata={'token_usage': {'completion_tokens': 21, 'prompt_tokens': 76, 'total_tokens': 97, 'completion_tokens_details': {'accepted_prediction_tokens': 0, 'audio_tokens': 0, 'reasoning_tokens': 0, 'rejected_prediction_tokens': 0}, 'prompt_tokens_details': {'audio_tokens': 0, 'cached_tokens': 0}}, 'model_name': 'gpt-4o-2024-08-06', 'system_fingerprint': 'fp_22890b9c0a', 'finish_reason': 'tool_calls', 'logprobs': None} id='run-3f9b73d6-f8cf-4ce0-b2e7-a0565f76b1ea-0' tool_calls=[{'name': 'search', 'args': {'query': 'upcoming president of USA 2023'}, 'id': 'call_wbEnE8UR9OcJzhuj9ekb3WjE', 'type': 'tool_call'}] usage_metadata={'input_tokens': 76, 'output_tokens': 21, 'total_tokens': 97, 'input_token_details': {'audio': 0, 'cache_read': 0}, 'output_token_details': {'audio': 0, 'reasoning': 0}}\n",
      "Selected tool: search\n",
      "**********tool detils****\n",
      "{'id': 'call_wbEnE8UR9OcJzhuj9ekb3WjE', 'function': {'arguments': '{\"query\":\"upcoming president of USA 2023\"}', 'name': 'search'}, 'type': 'function'}\n",
      "{'messages': [[{'title': '2024 United States presidential election - Wikipedia', 'url': 'https://en.wikipedia.org/wiki/2024_United_States_presidential_election', 'content': '^ Hippensteel, Chris (June 14, 2023). \"Cornel West to Run for President With Green Party, Ditches People\\'s Party\". The Daily Beast. Retrieved July 16, 2023.\\n^ Kennedy, Kaitlyn (June 15, 2023). \"Cornel West announces presidential run with the Green Party\". TAG24. Retrieved July 16, 2023.\\n^ Thomas, Ken (October 5, 2023). \"Cornel West Slams Biden, Trump, and Runs as 2024 Independent\". The Wall Street Journal. Retrieved October 5, 2023. [...] ^ Redpath, Bill (June 3, 2023). \"Peter Sonski is the American Solidarity Party 2024 Presidential nominee\". Ballot Access News. Archived from the original on June 3, 2023. Retrieved June 3, 2023.\\n^ \"Approval Voting Party Nominates Blake Huber for President\". Ballot Access News. May 28, 2024. Archived from the original on May 31, 2024. Retrieved July 17, 2024. [...] ^ Davis O\\'Brien, Rebecca (October 9, 2023). \"Robert F. Kennedy Jr. to Run for President as Independent, Leaving Democratic Primary\". The New York Times. Archived from the original on October 9, 2023. Retrieved October 9, 2023.\\n^ Leingang, Rachel (March 6, 2024). \"Biden challenger Dean Phillips drops out of US presidential race\". The Guardian. Retrieved September 30, 2024.', 'score': 0.7598145}, {'title': 'Joe Biden 2024 presidential campaign - Wikipedia', 'url': 'https://en.wikipedia.org/wiki/Joe_Biden_2024_presidential_campaign', 'content': '2020 electionselectionconventiondebate\"We did it, Joe!\"2024\\nPresidential campaigns\\nvte\\nJoe Biden, the 46th president of the United States, announced his candidacy for re-election for a second presidential term on April 25, 2023, with Vice President Kamala Harris as his running mate. Facing off against the Republican Party ticket of former President Donald Trump and U.S. Senator from Ohio JD Vance, Biden suspended the campaign on July 21, 2024. [...] In a PBS NewsHour/NPR/Marist poll released on April 25, 2023 – the day Biden announced his reelection campaign – his approval rating was just 41%, with a disapproval rating of 50%.[42] Several polls both before and after Biden\\'s campaign announcement have shown that most Democrats want the party to nominate someone other than Biden for president in the 2024 election.[43][44][45][needs update]\\nCampaign\\nBiden and Harris, May 2023\\nAnnouncement', 'score': 0.7355091}, {'title': 'United States presidential election of 2024 - Britannica', 'url': 'https://www.britannica.com/event/United-States-presidential-election-of-2024', 'content': 'Trump faced far more challengers to his nomination than Biden did to his: by June 2023 nearly a dozen Republicans other than Trump had declared their candidacy. They included Nikki Haley, who had served as U.S. ambassador to the United Nations under Trump (2017–18) and as governor of South Carolina (2011–17); Ron DeSantis, the governor of Florida (2019– ); former U.S. vice president (2017–21) Mike Pence; and former New Jersey governor (2010–18) and 2016 Republican presidential primary contender', 'score': 0.67347145}]]}\n",
      "----\n"
     ]
    }
   ],
   "source": [
    "for s in app.stream({\"messages\": [\"who is upcoming president of USA?\"]}):\n",
    "    print(list(s.values())[0])\n",
    "    print(\"----\")"
   ]
  },
  {
   "cell_type": "code",
   "execution_count": 62,
   "id": "4679352d",
   "metadata": {},
   "outputs": [
    {
     "name": "stdout",
     "output_type": "stream",
     "text": [
      "****my state*****\n",
      "content='' additional_kwargs={'tool_calls': [{'id': 'call_nR3ZuRvEX6nAdQul1NSm7pJH', 'function': {'arguments': '{\"first_number\":23,\"second_number\":46}', 'name': 'multiply'}, 'type': 'function'}], 'refusal': None} response_metadata={'token_usage': {'completion_tokens': 20, 'prompt_tokens': 79, 'total_tokens': 99, 'completion_tokens_details': {'accepted_prediction_tokens': 0, 'audio_tokens': 0, 'reasoning_tokens': 0, 'rejected_prediction_tokens': 0}, 'prompt_tokens_details': {'audio_tokens': 0, 'cached_tokens': 0}}, 'model_name': 'gpt-4o-2024-08-06', 'system_fingerprint': 'fp_22890b9c0a', 'finish_reason': 'tool_calls', 'logprobs': None} id='run-4b20b0f0-5c68-4616-bb58-9b24e97fdaa9-0' tool_calls=[{'name': 'multiply', 'args': {'first_number': 23, 'second_number': 46}, 'id': 'call_nR3ZuRvEX6nAdQul1NSm7pJH', 'type': 'tool_call'}] usage_metadata={'input_tokens': 79, 'output_tokens': 20, 'total_tokens': 99, 'input_token_details': {'audio': 0, 'cache_read': 0}, 'output_token_details': {'audio': 0, 'reasoning': 0}}\n",
      "Selected tool: multiply\n"
     ]
    },
    {
     "data": {
      "text/plain": [
       "{'messages': ['what is multiplication of 23 and 46?',\n",
       "  AIMessage(content='', additional_kwargs={'tool_calls': [{'id': 'call_nR3ZuRvEX6nAdQul1NSm7pJH', 'function': {'arguments': '{\"first_number\":23,\"second_number\":46}', 'name': 'multiply'}, 'type': 'function'}], 'refusal': None}, response_metadata={'token_usage': {'completion_tokens': 20, 'prompt_tokens': 79, 'total_tokens': 99, 'completion_tokens_details': {'accepted_prediction_tokens': 0, 'audio_tokens': 0, 'reasoning_tokens': 0, 'rejected_prediction_tokens': 0}, 'prompt_tokens_details': {'audio_tokens': 0, 'cached_tokens': 0}}, 'model_name': 'gpt-4o-2024-08-06', 'system_fingerprint': 'fp_22890b9c0a', 'finish_reason': 'tool_calls', 'logprobs': None}, id='run-4b20b0f0-5c68-4616-bb58-9b24e97fdaa9-0', tool_calls=[{'name': 'multiply', 'args': {'first_number': 23, 'second_number': 46}, 'id': 'call_nR3ZuRvEX6nAdQul1NSm7pJH', 'type': 'tool_call'}], usage_metadata={'input_tokens': 79, 'output_tokens': 20, 'total_tokens': 99, 'input_token_details': {'audio': 0, 'cache_read': 0}, 'output_token_details': {'audio': 0, 'reasoning': 0}}),\n",
       "  1058]}"
      ]
     },
     "execution_count": 62,
     "metadata": {},
     "output_type": "execute_result"
    }
   ],
   "source": [
    "app.invoke({\"messages\": [\"what is multiplication of 23 and 46?\"]})"
   ]
  },
  {
   "cell_type": "code",
   "execution_count": 64,
   "id": "c4567be5",
   "metadata": {},
   "outputs": [
    {
     "name": "stdout",
     "output_type": "stream",
     "text": [
      "****my state*****\n",
      "content='' additional_kwargs={'tool_calls': [{'id': 'call_v3doO6lnvRtS3MM1B9v2viGT', 'function': {'arguments': '{\"query\":\"today\\'s match score\"}', 'name': 'search'}, 'type': 'function'}], 'refusal': None} response_metadata={'token_usage': {'completion_tokens': 17, 'prompt_tokens': 75, 'total_tokens': 92, 'completion_tokens_details': {'accepted_prediction_tokens': 0, 'audio_tokens': 0, 'reasoning_tokens': 0, 'rejected_prediction_tokens': 0}, 'prompt_tokens_details': {'audio_tokens': 0, 'cached_tokens': 0}}, 'model_name': 'gpt-4o-2024-08-06', 'system_fingerprint': 'fp_22890b9c0a', 'finish_reason': 'tool_calls', 'logprobs': None} id='run-9ed12faa-1174-4f85-b9ef-e39c73836080-0' tool_calls=[{'name': 'search', 'args': {'query': \"today's match score\"}, 'id': 'call_v3doO6lnvRtS3MM1B9v2viGT', 'type': 'tool_call'}] usage_metadata={'input_tokens': 75, 'output_tokens': 17, 'total_tokens': 92, 'input_token_details': {'audio': 0, 'cache_read': 0}, 'output_token_details': {'audio': 0, 'reasoning': 0}}\n",
      "Selected tool: search\n",
      "**********tool detils****\n",
      "{'id': 'call_v3doO6lnvRtS3MM1B9v2viGT', 'function': {'arguments': '{\"query\":\"today\\'s match score\"}', 'name': 'search'}, 'type': 'function'}\n"
     ]
    },
    {
     "data": {
      "text/plain": [
       "{'messages': [\"what is today's match score?\",\n",
       "  AIMessage(content='', additional_kwargs={'tool_calls': [{'id': 'call_v3doO6lnvRtS3MM1B9v2viGT', 'function': {'arguments': '{\"query\":\"today\\'s match score\"}', 'name': 'search'}, 'type': 'function'}], 'refusal': None}, response_metadata={'token_usage': {'completion_tokens': 17, 'prompt_tokens': 75, 'total_tokens': 92, 'completion_tokens_details': {'accepted_prediction_tokens': 0, 'audio_tokens': 0, 'reasoning_tokens': 0, 'rejected_prediction_tokens': 0}, 'prompt_tokens_details': {'audio_tokens': 0, 'cached_tokens': 0}}, 'model_name': 'gpt-4o-2024-08-06', 'system_fingerprint': 'fp_22890b9c0a', 'finish_reason': 'tool_calls', 'logprobs': None}, id='run-9ed12faa-1174-4f85-b9ef-e39c73836080-0', tool_calls=[{'name': 'search', 'args': {'query': \"today's match score\"}, 'id': 'call_v3doO6lnvRtS3MM1B9v2viGT', 'type': 'tool_call'}], usage_metadata={'input_tokens': 75, 'output_tokens': 17, 'total_tokens': 92, 'input_token_details': {'audio': 0, 'cache_read': 0}, 'output_token_details': {'audio': 0, 'reasoning': 0}}),\n",
       "  [{'title': \"Live Cricket Score | Today's Cricket Match Scorecard & Commentary\",\n",
       "    'url': 'https://www.espncricinfo.com/live-cricket-score',\n",
       "    'content': \"Match delayed\\n49th Match, Al Amerat, February 08, 2025, ICC Men's Cricket World Cup League 2\\nUnited States of America\\nNamibia\\nNamibia chose to field.\\nLive ScoreSeries\\n\\n\\n\\n\\nStumps • Starts 11:30 PM\\n19th Match, Hobart, February 08 - 11, 2025, Sheffield Shield\\nTasmania\\n236\\nVictoria\\n(7 ov) 5/0\\nDay 1 - Victoria trail by 231 runs.\\nLive ScoreSeries [...] Live Cricket Score | Today's Cricket Match Scorecard & Commentary\\n\\nLive Scores\\nSeries\\nTeams\\nNews\\nFeatures\\nVideos\\nStats\\n\\nEdition US\\nHome\\nLive Cricket Score\\nLive Cricket Score ==================\\nCricket Schedule\\nMatch Results\\nReset\\nInt’lT20sODIsTestsMenWomenDomesticFCYouthList AOthers\\nLive Cricket Matches\\n\\n\\n\\n\\nLive\\n2nd Test, Galle, February 06 - 10, 2025, Australia tour of Sri Lanka\\nSri Lanka\\n(6.3 ov) 257\\xa0&\\xa024/1\\nAustralia\\n414\\nDay 3 - Session 2: Sri Lanka trail by 133 runs.\\nLive ScoreSeries [...] Stumps • Starts 8:00 AM\\nOnly Test, Bulawayo, February 06 - 10, 2025, Ireland tour of Zimbabwe\\nIreland\\n(21 ov) 260\\xa0&\\xa083/1\\nZimbabwe\\n267\\nDay 2 - Ireland lead by 76 runs.\\nLive ScoreSeries\\n\\n\\n\\n\\nToday, 9:00 AM\\n1st Match (D/N), Lahore, February 08, 2025, Pakistan Tri-Nation Series\\nPakistan\\nNew Zealand\\nMatch starts in 1 hr 27 mins\\nPreviewNews\\n\\n\\n\\n\\nToday, 3:30 PM\\nFinal (D/N), Johannesburg, February 08, 2025, SA20\\nMI Cape Town\\nSunrisers Eastern Cape\\nMatch yet to begin\\nPreviewNews\",\n",
       "    'score': 0.62633044},\n",
       "   {'title': 'IPL 2025 Live Cricket Score | Scorecard - Cricbuzz.com',\n",
       "    'url': 'https://www.cricbuzz.com/cricket-match/live-scores',\n",
       "    'content': 'Western Australia vs South Australia,\\n21st Match\\nToday - Today \\xa0•\\xa0 at Perth, W.A.C.A. Ground\\nWA 120 SAUS 116-7 Day 1: 3rd Session - South Australia trail by 4 runs\\nLive Score Scorecard Full Commentary News\\nTasmania vs Victoria,\\n19th Match\\nToday - Today \\xa0•\\xa0 at Hobart, Bellerive Oval\\nTAS 236 VIC 5-0 Day 1: Stumps - Victoria trail by 231 runs\\nLive Score Scorecard Full Commentary News\\nQueensland vs New South Wales,\\n20th Match\\nToday - Today \\xa0•\\xa0 at Brisbane, The Gabba\\nQL 307-5 NSW Day 1: Stumps [...] United States of America vs Namibia,\\n49th Match\\nToday \\xa0•\\xa0 at Al Amerat, Al Amerat Cricket Ground (Ministry Turf 1)\\nUSA 153-2 (26.5 Ovs) NAM Match reduced to 43 overs due to Wet outfield\\nLive Score Scorecard Full Commentary News\\nRANJI TROPHY ELITE 2024-25 [...] Ireland vs Zimbabwe,\\nOnly Test\\nToday - Today \\xa0•\\xa0 at Bulawayo, Queens Sports Club\\nIRE 260 & 124-2 ZIM 267 Day 3: 1st Session - Ireland lead by 117 runs\\nLive Score Scorecard Full Commentary News\\nAUSTRALIA TOUR OF SRI LANKA, 2025\\n\\nSri Lanka vs Australia,\\n2nd Test\\nToday - Today \\xa0•\\xa0 at Galle, Galle International Stadium\\nSL 257 & 98-4 AUS 414 Day 3: Tea Break - Sri Lanka trail by 59 runs\\nLive Score Scorecard Full Commentary News\\nICC CRICKET WORLD CUP LEAGUE TWO 2023-27',\n",
       "    'score': 0.5798055},\n",
       "   {'title': \"ESPNcricinfo: Today's Cricket Match | Cricket Update | Cricket News\",\n",
       "    'url': 'https://www.espncricinfo.com/',\n",
       "    'content': \"Today's Cricket Match | Cricket Update | Cricket News | ESPNcricinfo\\nMatches (18)\\nSri Lanka vs Australia (1)\\nWCL 2 (1)\\nTri-Nation (1)\\nZimbabwe vs Ireland (1)\\nSheffield Shield (3)\\nRanji Trophy (4)\\nSA20 (1)\\nWI 4-Day (4)\\nILT20 (1)\\nBPL (1)\\nPrevious\\n\\n\\nStumps • Starts 4:30 AM • 2nd TEST • Galle SL (62.1 ov) 257 & 211/8 AUS 414 Day 3 - Sri Lanka lead by 54 runs.\\nScheduleReportSeries [...] Stumps • Starts 11:30 PM • 19th Match • Sheffield Shield • FC • Hobart TAS 236 VIC (7 ov) 5/0 Day 1 - Victoria trail by 231 runs.\\nScheduleTableReportSeries\\n\\n\\nStumps • Starts 12:00 AM • 20th Match • Sheffield Shield • FC • Brisbane QLD (91 ov) 307/5 NSW Day 1 - NSW chose to field.\\nScheduleTableReportSeries\\n\\n\\nStumps • Starts 2:30 AM • 21st Match • Sheffield Shield • FC • W.A.C.A WA 120 SOA (40.2 ov) 124 Day 1 - South Aust lead by 4 runs.\\nScheduleTableReportSeries [...] Live • 49th Match • WCL 2 • ODI • Al Amerat USA (43/43 ov) 293/8 NAM (34.2/43 ov, T:294) 154/8 Namibia need 140 runs in 52 balls.\\nScheduleTableSeries\\n\\n\\nInnings break • 1st Match • Tri-Nation • ODI • Lahore NZ (50 ov) 330/6 PAK New Zealand chose to bat.\\nScheduleTableReportSeries\\n\\n\\nLive • Only TEST • Bulawayo IRE (84.1 ov) 260 & 266/7 ZIM 267 Day 3 - Session 3: Ireland lead by 259 runs.\\nScheduleReportSeries\",\n",
       "    'score': 0.5634506},\n",
       "   {'title': 'Live Cricket Score: Check Today IPL Live Score - Hindustan Times',\n",
       "    'url': 'https://www.hindustantimes.com/cricket/live-score',\n",
       "    'content': 'In the evening match (7:30 PM IST), it’s a capital showdown as Delhi Capitals (DC) face off against Mumbai Indians (MI) at the Arun Jaitley Stadium. DC remain unbeaten this season and will bank on KL Rahul and Tristan Stubbs to maintain their winning streak. Meanwhile, MI—led by Hardik Pandya—will need to fire on all cylinders to pull off an upset and reignite their campaign. [...] In IPL match today, the afternoon clash (3:30 PM IST) kicks off in Jaipur, where Rajasthan Royals (RR) take on Royal Challengers Bengaluru (RCB). With Sanju Samson and Shimron Hetmyer in the spotlight for RR and Virat Kohli and Rajat Patidar firing for RCB, this promises to be a fiercely contested battle. Can RR bounce back on home turf, or will RCB continue their resurgence?',\n",
       "    'score': 0.47110215},\n",
       "   {'title': 'Cricket Live Score ball by ball commentary - NDTV Sports',\n",
       "    'url': 'https://sports.ndtv.com/cricket/live-scores',\n",
       "    'content': 'Recent Hong Kong, China vs Uganda Match 26,ICC CWC Challenge League B, 2024-26 Hong Kong, China vs Uganda 2025-02-13T06:30+05:30 2025-02-13T06:30+05:30 Kowloon Cricket Club, KowloonMatch 26, ICC CWC Challenge League B, 2024-26 Thu, 13 Feb, 06:30 AM  Hong Kong, China 200 (46.3)  Uganda 276 (49.5) Uganda beat Hong Kong, China by 76 runs\\nFull Scorecard\\nEnglish हिंदी',\n",
       "    'score': 0.43323857}]]}"
      ]
     },
     "execution_count": 64,
     "metadata": {},
     "output_type": "execute_result"
    }
   ],
   "source": [
    "app.invoke({\"messages\": [\"what is today's match score?\"]})"
   ]
  },
  {
   "cell_type": "markdown",
   "id": "bd7e73b0",
   "metadata": {},
   "source": [
    "## Langgraph human in loop concept"
   ]
  },
  {
   "cell_type": "code",
   "execution_count": 67,
   "id": "3294232a",
   "metadata": {},
   "outputs": [],
   "source": [
    "\n",
    "tavily=TavilySearchResults()\n",
    "     "
   ]
  },
  {
   "cell_type": "code",
   "execution_count": 68,
   "id": "74d6f4bf",
   "metadata": {},
   "outputs": [],
   "source": [
    "\n",
    "tools = [tavily]"
   ]
  },
  {
   "cell_type": "code",
   "execution_count": 69,
   "id": "68b0ceba",
   "metadata": {},
   "outputs": [],
   "source": [
    "llm_with_tools=openai_model.bind_tools(tools)"
   ]
  },
  {
   "cell_type": "code",
   "execution_count": 70,
   "id": "ffb59517",
   "metadata": {},
   "outputs": [],
   "source": [
    "def ai_assistant(state: AgentState):\n",
    "    return {\"messages\": [llm_with_tools.invoke(state[\"messages\"])]}"
   ]
  },
  {
   "cell_type": "code",
   "execution_count": 88,
   "id": "dedeb6ab",
   "metadata": {},
   "outputs": [],
   "source": [
    "memory=MemorySaver()"
   ]
  },
  {
   "cell_type": "code",
   "execution_count": 89,
   "id": "0a5f6b0e",
   "metadata": {},
   "outputs": [
    {
     "data": {
      "text/plain": [
       "<langgraph.graph.state.StateGraph at 0x2c3e7db0be0>"
      ]
     },
     "execution_count": 89,
     "metadata": {},
     "output_type": "execute_result"
    }
   ],
   "source": [
    "graph_builder = StateGraph(AgentState)\n",
    "graph_builder.add_node(\"ai_assistant\", ai_assistant)\n",
    "\n",
    "tool_node = ToolNode(tools=tools)\n",
    "graph_builder.add_node(\"tools\", tool_node)"
   ]
  },
  {
   "cell_type": "code",
   "execution_count": 90,
   "id": "443026c0",
   "metadata": {},
   "outputs": [
    {
     "data": {
      "text/plain": [
       "<langgraph.graph.state.StateGraph at 0x2c3e7db0be0>"
      ]
     },
     "execution_count": 90,
     "metadata": {},
     "output_type": "execute_result"
    }
   ],
   "source": [
    "graph_builder.add_edge(START, \"ai_assistant\")\n",
    "\n",
    "graph_builder.add_conditional_edges(\n",
    "    \"ai_assistant\",\n",
    "    tools_condition,\n",
    ")\n",
    "graph_builder.add_edge(\"tools\", \"ai_assistant\")"
   ]
  },
  {
   "cell_type": "code",
   "execution_count": 91,
   "id": "405dc3b0",
   "metadata": {},
   "outputs": [],
   "source": [
    "app2=graph_builder.compile(\n",
    "    checkpointer=memory,\n",
    "    interrupt_before=[\"tools\"]\n",
    ")"
   ]
  },
  {
   "cell_type": "code",
   "execution_count": 92,
   "id": "2082b686",
   "metadata": {},
   "outputs": [
    {
     "data": {
      "image/png": "[encoded data removed]",
      "text/plain": [
       "<IPython.core.display.Image object>"
      ]
     },
     "metadata": {},
     "output_type": "display_data"
    }
   ],
   "source": [
    "from IPython.display import Image, display\n",
    "display(Image(app2.get_graph().draw_mermaid_png()))"
   ]
  },
  {
   "cell_type": "code",
   "execution_count": 77,
   "id": "deccc725",
   "metadata": {},
   "outputs": [],
   "source": [
    "user_input = \"what is current a capital of india?\"\n",
    "config = {\"configurable\": {\"thread_id\": \"1\"}}"
   ]
  },
  {
   "cell_type": "code",
   "execution_count": 78,
   "id": "44b4eea5",
   "metadata": {},
   "outputs": [],
   "source": [
    "user_input = \"what is today value of apple stock?\"\n",
    "config = {\"configurable\": {\"thread_id\": \"1\"}}"
   ]
  },
  {
   "cell_type": "code",
   "execution_count": 93,
   "id": "02f25c22",
   "metadata": {},
   "outputs": [],
   "source": [
    "user_input = \"famous places of the bangalore and must visit restaurants?\"\n",
    "config = {\"configurable\": {\"thread_id\": \"1\"}}"
   ]
  },
  {
   "cell_type": "code",
   "execution_count": 94,
   "id": "00f815a2",
   "metadata": {},
   "outputs": [],
   "source": [
    "events = app2.stream(\n",
    "    {\"messages\": [(\"user\", user_input)]}, config, stream_mode=\"values\"\n",
    ")"
   ]
  },
  {
   "cell_type": "code",
   "execution_count": 95,
   "id": "1a9940c2",
   "metadata": {},
   "outputs": [
    {
     "name": "stdout",
     "output_type": "stream",
     "text": [
      "{'messages': [('user', 'famous places of the bangalore and must visit restaurants?')]}\n",
      "{'messages': [('user', 'famous places of the bangalore and must visit restaurants?'), AIMessage(content='', additional_kwargs={'tool_calls': [{'id': 'call_NheTr6jPV4EZPe0g1Xluhdhy', 'function': {'arguments': '{\"query\": \"famous places to visit in Bangalore\"}', 'name': 'tavily_search_results_json'}, 'type': 'function'}, {'id': 'call_UoOT3m5svSe0vMILWeIx6l75', 'function': {'arguments': '{\"query\": \"must visit restaurants in Bangalore\"}', 'name': 'tavily_search_results_json'}, 'type': 'function'}], 'refusal': None}, response_metadata={'token_usage': {'completion_tokens': 63, 'prompt_tokens': 91, 'total_tokens': 154, 'completion_tokens_details': {'accepted_prediction_tokens': 0, 'audio_tokens': 0, 'reasoning_tokens': 0, 'rejected_prediction_tokens': 0}, 'prompt_tokens_details': {'audio_tokens': 0, 'cached_tokens': 0}}, 'model_name': 'gpt-4o-2024-08-06', 'system_fingerprint': 'fp_92f14e8683', 'finish_reason': 'tool_calls', 'logprobs': None}, id='run-afa8bec0-9f5c-4783-94df-7beb2bb893d7-0', tool_calls=[{'name': 'tavily_search_results_json', 'args': {'query': 'famous places to visit in Bangalore'}, 'id': 'call_NheTr6jPV4EZPe0g1Xluhdhy', 'type': 'tool_call'}, {'name': 'tavily_search_results_json', 'args': {'query': 'must visit restaurants in Bangalore'}, 'id': 'call_UoOT3m5svSe0vMILWeIx6l75', 'type': 'tool_call'}], usage_metadata={'input_tokens': 91, 'output_tokens': 63, 'total_tokens': 154, 'input_token_details': {'audio': 0, 'cache_read': 0}, 'output_token_details': {'audio': 0, 'reasoning': 0}})]}\n"
     ]
    }
   ],
   "source": [
    "for event in events:\n",
    "    print(event)"
   ]
  },
  {
   "cell_type": "code",
   "execution_count": 96,
   "id": "07fbb446",
   "metadata": {},
   "outputs": [],
   "source": [
    "snapshot=app2.get_state(config)"
   ]
  },
  {
   "cell_type": "code",
   "execution_count": 97,
   "id": "0729842a",
   "metadata": {},
   "outputs": [
    {
     "data": {
      "text/plain": [
       "('tools',)"
      ]
     },
     "execution_count": 97,
     "metadata": {},
     "output_type": "execute_result"
    }
   ],
   "source": [
    "snapshot.next"
   ]
  },
  {
   "cell_type": "code",
   "execution_count": 98,
   "id": "37659523",
   "metadata": {},
   "outputs": [],
   "source": [
    "\n",
    "last_message=snapshot.values[\"messages\"][-1]"
   ]
  },
  {
   "cell_type": "code",
   "execution_count": 99,
   "id": "eeb1df61",
   "metadata": {},
   "outputs": [
    {
     "data": {
      "text/plain": [
       "[{'name': 'tavily_search_results_json',\n",
       "  'args': {'query': 'famous places to visit in Bangalore'},\n",
       "  'id': 'call_NheTr6jPV4EZPe0g1Xluhdhy',\n",
       "  'type': 'tool_call'},\n",
       " {'name': 'tavily_search_results_json',\n",
       "  'args': {'query': 'must visit restaurants in Bangalore'},\n",
       "  'id': 'call_UoOT3m5svSe0vMILWeIx6l75',\n",
       "  'type': 'tool_call'}]"
      ]
     },
     "execution_count": 99,
     "metadata": {},
     "output_type": "execute_result"
    }
   ],
   "source": [
    "\n",
    "last_message.tool_calls"
   ]
  },
  {
   "cell_type": "code",
   "execution_count": 100,
   "id": "6d61f9e1",
   "metadata": {},
   "outputs": [],
   "source": [
    "events = app2.stream(None, config, stream_mode=\"values\")"
   ]
  },
  {
   "cell_type": "code",
   "execution_count": 101,
   "id": "69b6793f",
   "metadata": {},
   "outputs": [
    {
     "name": "stdout",
     "output_type": "stream",
     "text": [
      "==================================\u001b[1m Ai Message \u001b[0m==================================\n",
      "Tool Calls:\n",
      "  tavily_search_results_json (call_NheTr6jPV4EZPe0g1Xluhdhy)\n",
      " Call ID: call_NheTr6jPV4EZPe0g1Xluhdhy\n",
      "  Args:\n",
      "    query: famous places to visit in Bangalore\n",
      "  tavily_search_results_json (call_UoOT3m5svSe0vMILWeIx6l75)\n",
      " Call ID: call_UoOT3m5svSe0vMILWeIx6l75\n",
      "  Args:\n",
      "    query: must visit restaurants in Bangalore\n",
      "=================================\u001b[1m Tool Message \u001b[0m=================================\n",
      "Name: tavily_search_results_json\n",
      "\n",
      "[{\"title\": \"Best Restaurants In Bangalore To Delight Your Taste Buds In 2025!\", \"url\": \"https://traveltriangle.com/blog/best-restaurants-in-bangalore/\", \"content\": \"The king of cafes in Bangalore, Toit has set an unmatched standard amongst all the best restaurants in Bangalore. Freshly brewed beer, lively music, and a wide variety of international main courses and starters combine to give this place a ‘must-visit’ tag for any first-timer. It is one of the best restaurants in Bangalore for couples who share a love of pizzas and beers.\\n\\nAddress: Indiranagar, 100 Feet Rd, Near Drops Total Spirits, Bengaluru, Karnataka 560038 [...] It is impossible to have a list of the best restaurants in Bangalore, without naming its very own Hard Rock Cafe. This cafe, probably, needs no introduction as it has become a household name amongst music and food lovers from all around the world. The brand has built such a reputation that the HRC often gets counted as a sightseeing place for any traveller going to a new city. This is amongst the best restaurants in Bangalore for family and friends to visit. [...] Jamavar is another luxury restaurant that you need to consider visiting. Featuring an ethnic ambience, and indoor and outdoor seating plans, this restaurant serves delectable food. Moreover, this is a kid-friendly place that is also wheelchair accessible. The restaurant is amazing with hospitality, hygiene, food yumminess, and prep times. Special occasions deserve a special treat here.\\n\\nAddress: The Leela Palace, Old Airport Road, Bangalore\\n\\nTimings: 12–3 pm, 7–11:30 pm\\n\\nCost for two: INR 5000\", \"score\": 0.86767644}, {\"title\": \"What are the must-visit food places in Bangalore, and when ... - Quora\", \"url\": \"https://www.quora.com/What-are-the-must-visit-food-places-in-Bangalore-and-when-is-the-best-time-to-visit-that-place\", \"content\": \"1.Vidyarthi Bhavan. Vidyarthi Bhavan is an iconic eatery in Bangalore that has been serving the best dosa in Bangalore since 1943.\", \"score\": 0.85995835}, {\"title\": \"Shreya Pandey | Must visit restaurants in Bengaluru for Indian food ...\", \"url\": \"https://www.instagram.com/reel/C73Dl0iv2fw/\", \"content\": \"Must visit restaurants in Bengaluru for Indian food. These restaurants are not only beautiful and extravagant but food is also great. Karigari\", \"score\": 0.78532547}, {\"title\": \"The 50 best places to eat in Bengaluru - Wanderlog\", \"url\": \"https://wanderlog.com/list/geoCategory/1510029/best-places-to-eat-in-bengaluru\", \"content\": \"21Barbeque Nation\\n\\n22MTR\\n\\n23Byg Brewski Brewing Company\\n\\n24Nagarjuna Restaurant - Residency Road\\n\\n25Arbor Brewing Company\\n\\n26Jamavar\\n\\n27The Fatty Bao\\n\\n28High Ultra Lounge\\n\\n29Sunnys Restaurant\\n\\n30Ebony\\n\\n31Maiyas Beverages And Foods Private Limited\\n\\n32Persian Terrace\\n\\n33Skyye\\n\\n34The Permit Room\\n\\n35Indian Coffee House\\n\\n36Toast & Tonic\\n\\n37Wabi Sabi\\n\\n38Lapis\\n\\n39Roxie\\n\\n40V. V. Puram Food Street\\n\\n41Karnataka Bhel House\\n\\n42Suryawanshi Restaurant\\n\\n43The Hole In The Wall Cafe Kammanahalli [...] Navigate backward to interact with the calendar and select a date. Press the question mark key to get the keyboard shortcuts for changing dates.\\n\\n3Brahmins' Coffee Bar\\n\\n4Vidyarthi Bhavan\\n\\n5Central Tiffin Room\\n\\n6Sri Sairam's Chats & Juice Centre\\n\\n7Truffles\\n\\n8Shiro\\n\\n9Koshy's\\n\\n10Rim Naam\\n\\n11Chutney Chang\\n\\n12Olive Beach\\n\\n13Veena Stores\\n\\n14Caperberry\\n\\n15Shivaji Military Hotel\\n\\n16Oota Bangalore\\n\\n17Grasshopper\\n\\n18Khan Saheb Grills and Rolls\\n\\n19SMTR - Sri Maruthi Tiffin Room\\n\\n20Nagarjuna [...] As you explore the bustling streets of Bengaluru, you'll discover a mix of iconic eateries and hidden gems that showcase the best of local flavors. From the legendary Vidyarthi Bhavan, famous for its crispy Benne Masala Dosa, to the charming Brahmins' Coffee Bar, where the aroma of freshly brewed coffee fills the air, each spot tells a story of its own. The Wanderlog team is passionate about uncovering these culinary treasures, and we invite you to join us on a journey through the best places\", \"score\": 0.6994397}, {\"title\": \"The Best Restaurants in Bengaluru for Dining Out - Zomato\", \"url\": \"https://www.zomato.com/bangalore/restaurants\", \"content\": \"Restaurants in Bengaluru · Atlantis · Jamavar - The Leela Palace · Sozo Skyline · Muro · Feast - Sheraton Grand Bangalore Hotel at Brigade Gateway · Mirage.\", \"score\": 0.6884899}]\n",
      "==================================\u001b[1m Ai Message \u001b[0m==================================\n",
      "\n",
      "### Famous Places to Visit in Bangalore\n",
      "\n",
      "1. **Vidhana Soudha**: This iconic building is the seat of the state legislature of Karnataka and is renowned for its beautiful architectural design.\n",
      "   \n",
      "2. **Bangalore Palace**: Known for its Tudor-style architecture and sprawling grounds, the palace gives a glimpse into the regal history of Bangalore.\n",
      "\n",
      "3. **Cubbon Park**: Spanning over 300 acres, this lush green park is a favorite spot for nature lovers and those seeking a peaceful retreat within the city.\n",
      "\n",
      "4. **Lalbagh Botanical Garden**: Famous for its glass house and diverse flora, it is a must-visit for gardening enthusiasts and those who enjoy a leisurely stroll amidst nature.\n",
      "\n",
      "5. **Bannerghatta National Park**: Located on the outskirts of Bangalore, this park offers a chance to experience wildlife and is famous for its safari rides.\n",
      "\n",
      "6. **Nandi Hills**: A great spot for a weekend getaway, known for its scenic views and the historical Nandi Fortress.\n",
      "\n",
      "7. **ISKCON Temple**: A spiritual retreat in the midst of the bustling city, known for its architectural grandeur and spiritual activities.\n",
      "\n",
      "8. **Tipu Sultan's Summer Palace**: A stunning example of Indo-Islamic architecture, this palace showcases exquisite wooden carvings and historical artifacts.\n",
      "\n",
      "For further exploration on these places, visit [Capture a Trip](https://www.captureatrip.com/blog/places-to-visit-in-bangalore).\n",
      "\n",
      "### Must-Visit Restaurants in Bangalore\n",
      "\n",
      "1. **Toit**: Known for freshly brewed beer and a lively atmosphere, it’s a must-visit for beer and pizza lovers. Located in Indiranagar.\n",
      "\n",
      "2. **Hard Rock Café**: A popular spot known for its rock music-themed dining experience.\n",
      "\n",
      "3. **Jamavar**: Located at The Leela Palace, it offers luxury dining with authentic Indian cuisine in a beautiful setting.\n",
      "\n",
      "4. **Vidyarthi Bhavan**: An iconic eatery in Bangalore, famous for serving the best dosas since 1943.\n",
      "\n",
      "5. **Barbeque Nation**: Known for its live grill experience and extensive buffet options.\n",
      "\n",
      "6. **Brahmins' Coffee Bar**: A legendary place for coffee enthusiasts, known for its traditional South Indian breakfast.\n",
      "\n",
      "7. **The Fatty Bao**: Offers a fusion of Asian cuisines in a chic and modern setting.\n",
      "\n",
      "8. **Skyye**: A rooftop restaurant offering stunning views of Bangalore’s skyline, perfect for a fancy night out.\n",
      "\n",
      "For more dining options, explore [Travel Triangle](https://traveltriangle.com/blog/best-restaurants-in-bangalore/) and [Wanderlog](https://wanderlog.com/list/geoCategory/1510029/best-places-to-eat-in-bengaluru).\n"
     ]
    }
   ],
   "source": [
    "\n",
    "for event in events:\n",
    "    if \"messages\" in event:\n",
    "        event[\"messages\"][-1].pretty_print()"
   ]
  },
  {
   "cell_type": "code",
   "execution_count": 105,
   "id": "16f94bc6",
   "metadata": {},
   "outputs": [],
   "source": [
    "\n",
    "user_input = \"what is a weather there?\"\n",
    "\n",
    "config = {\"configurable\": {\"thread_id\": \"1\"}}"
   ]
  },
  {
   "cell_type": "code",
   "execution_count": 106,
   "id": "79242d3d",
   "metadata": {},
   "outputs": [],
   "source": [
    "events = app2.stream(\n",
    "    {\"messages\": [(\"user\", user_input)]}, config, stream_mode=\"values\"\n",
    ")"
   ]
  },
  {
   "cell_type": "code",
   "execution_count": 108,
   "id": "714f60fe",
   "metadata": {},
   "outputs": [
    {
     "name": "stdout",
     "output_type": "stream",
     "text": [
      "{'messages': [['user', 'famous places of the bangalore and must visit restaurants?'], AIMessage(content='', additional_kwargs={'tool_calls': [{'id': 'call_NheTr6jPV4EZPe0g1Xluhdhy', 'function': {'arguments': '{\"query\": \"famous places to visit in Bangalore\"}', 'name': 'tavily_search_results_json'}, 'type': 'function'}, {'id': 'call_UoOT3m5svSe0vMILWeIx6l75', 'function': {'arguments': '{\"query\": \"must visit restaurants in Bangalore\"}', 'name': 'tavily_search_results_json'}, 'type': 'function'}], 'refusal': None}, response_metadata={'token_usage': {'completion_tokens': 63, 'prompt_tokens': 91, 'total_tokens': 154, 'completion_tokens_details': {'accepted_prediction_tokens': 0, 'audio_tokens': 0, 'reasoning_tokens': 0, 'rejected_prediction_tokens': 0}, 'prompt_tokens_details': {'audio_tokens': 0, 'cached_tokens': 0}}, 'model_name': 'gpt-4o-2024-08-06', 'system_fingerprint': 'fp_92f14e8683', 'finish_reason': 'tool_calls', 'logprobs': None}, id='run-afa8bec0-9f5c-4783-94df-7beb2bb893d7-0', tool_calls=[{'name': 'tavily_search_results_json', 'args': {'query': 'famous places to visit in Bangalore'}, 'id': 'call_NheTr6jPV4EZPe0g1Xluhdhy', 'type': 'tool_call'}, {'name': 'tavily_search_results_json', 'args': {'query': 'must visit restaurants in Bangalore'}, 'id': 'call_UoOT3m5svSe0vMILWeIx6l75', 'type': 'tool_call'}], usage_metadata={'input_tokens': 91, 'output_tokens': 63, 'total_tokens': 154, 'input_token_details': {'audio': 0, 'cache_read': 0}, 'output_token_details': {'audio': 0, 'reasoning': 0}}), ToolMessage(content='[{\"title\": \"10 Places to visit in Bengaluru 2025 - Capture A Trip\", \"url\": \"https://www.captureatrip.com/blog/places-to-visit-in-bangalore\", \"content\": \"3. What are the famous places to visit in Bangalore ?\\\\n\\\\nOthers are Vidhana Soudha, Bangalore Palace and Bull Temple for its historical and cultural value.\\\\n\\\\n4. Where can I go for a weekend in Bangalore?\\\\n\\\\nNandi Hills is another suitable place for a weekend trip and it offers scenic views of the city while Bannerghatta National Park offers a wildlife experience.\\\\n\\\\nRecent Blogs\\\\n\\\\nOutstanding Hill Stations Near Nainital For a Peaceful Journey\\\\n\\\\nExplore 10 Best Things To Do In Georgia [...] This beautiful palace was the summer residence of the great Kingdom’s ruler, Tipu Sultan and is an Indo Islamic architectural masterpiece. This place is one of the most famous places to visit in Bangalore due to the presence of gorgeous wooden carved work and history.\\\\n\\\\n4. ISKCON Temple: [...] Here are the top 10 places to visit in Bangalore if anybody has the zeal to explore them which includes some historical places, parks, and cultural places. All these places make the city diverse by just giving each place uniqueness that attracts different people.\\\\n\\\\n1. Vidhana Soudha:\\\\n\\\\n\\\\n\\\\nThis big edifice is the home of the state legislature of Karnataka in India. This makes it count among the most visited places in Bangalore, thanks to its beautiful architectural design.\", \"score\": 0.89720124}, {\"title\": \"52 Best Places to visit in Bangalore | Top Tourist Attractions - Holidify\", \"url\": \"https://www.holidify.com/places/bangalore/sightseeing-and-things-to-do.html\", \"content\": \"Bangalore\\\\nPlaces To Visit\\\\nPackages\\\\nHotels\\\\nHow to Reach\\\\nBest Time To Visit\\\\nPhotos\\\\nFood\\\\n\\\\nMore\\\\n\\\\n\\\\nCollections\\\\n\\\\n\\\\nMap\\\\n\\\\n\\\\nReviews & QnA\\\\n\\\\n\\\\nTravel Agents\\\\n\\\\n\\\\n\\\\n\\\\nCollections\\\\n\\\\nMap\\\\nReviews & QnA\\\\nTravel Agents\\\\n\\\\nBangalore, Karnataka\\\\nLalbagh\\\\nCubbon Park\\\\nBangalore Palace\\\\nBannerghatta National Park [...] Places To Visit in Bangalore\\\\nLocated in : Central Bangalore\\\\nSpread over an area of 300 acres, Cubbon Park in the city of Bangalore is a major sightseeing attraction rich in green foliage. It is a green belt region of the city and is an ideal place for nature lovers and those seeking a calm atmosphere. Having been laid down by Lord Cubbon, the park is named so in his honour. It is home to more than 6,000 trees that support a vibrant ecosystem.\\\\nRead More [...] Art Gallery \\xa0\\xa0Garden & Park \\xa0\\xa0Amusement & Theme Park \\xa0\\xa0Forts & Palaces \\xa0\\xa0Hills & Valleys \\xa0\\xa0Temple \\xa0\\xa0Lake \\xa0\\xa0Museum \\xa0\\xa0Waterfall \\xa0\\xa0Commercial Street \\xa0\\xa0Shopping Market \\xa0\\xa0Monument \\xa0\\xa0National Park \\xa0\\xa0Yoga & Meditation \\xa0\\xa0Buddhist Temple \\xa0\\xa0Planetarium \\xa0\\xa0Church & Cathedral \\xa0\\xa0Aquarium \\xa0\\xa0Adventure Zone \\\\nClear All Apply\", \"score\": 0.85825616}, {\"title\": \"THE BEST 15 Things To Do in Bangalore (UPDATED 2025) - Viator\", \"url\": \"https://www.viator.com/Bangalore/d5310\", \"content\": \"Dubbed the Silicon Valley of India for its massive IT industry, the South Indian city of Bangalore has all the trappings of a city that means business, from fantastic shopping to exceptional restaurants. There are plenty of things to do in Bangalore for visitors, from relaxing in the city’s Cubbon Park and Lalbagh Botanical Gardens to marveling at the architecture of Tipu Sultan\\'s Summer Palace, Bangalore Palace, and Vidhana Soudha. And if you need a break from city life, you can simply head up\", \"score\": 0.85216236}, {\"title\": \"New to Bangalore? Here are the top 5 places you can visit, 1. Nandi ...\", \"url\": \"https://www.instagram.com/travelfitnancy/reel/C4S7whqpXH6/?hl=en\", \"content\": \"travelfitnancy on March 9, 2024: \\\\\"New to Bangalore? Here are the top 5 places you can visit, 1. Nandi Hills 2. Lalbagh Botanical Garden 3.\", \"score\": 0.8440111}, {\"title\": \"Bengaluru Tourist Places | Best Places To Visit - Incredible India\", \"url\": \"https://www.incredibleindia.gov.in/en/karnataka/bengaluru\", \"content\": \"Bengaluru—the city that codes poetry, brews coffee, and dances to its rhythm. Let’s explore its pixels and palimpsests, one byte at a time.\\\\n\\\\nAttractions\\\\n\\\\nworth a thousand stories\\\\n\\\\nGhati Subramanya Temple\\\\n\\\\nUlsoor Lake\\\\n\\\\nDevanahalli Fort\\\\n\\\\nMuthyala Maduvu\\\\n\\\\nTipu Sultan Palace\\\\n\\\\nRagigudda Anjaneya Temple\\\\n\\\\nPuttanna Chetty Town Hall\\\\n\\\\nNandi Hills\\\\n\\\\nLalbagh\\\\n\\\\nShivagange\\\\n\\\\nTipu Sultan\\'s Birthplace\\\\n\\\\nA trove of\\\\n\\\\nfascinating facts\\\\n\\\\nA trove of\\\\n\\\\nfascinating facts [...] The big boom may be over, but Bengaluru’s bright young things still have money to spend, and nightlife in the city is thriving. A night on the town generally starts with a bar crawl along Brigade Road, Residency Road, or Church Street. For quiet, elegant drinking, head for the bars of five-star hotels such as the Jockey Club at the Taj Residency or its competition, the Polo Club at the Oberoi, and for a taste of colonial grandeur, the Colonnade at the Taj West End.\\\\n\\\\nA shopper’s paradise\", \"score\": 0.82082915}]', name='tavily_search_results_json', tool_call_id='call_NheTr6jPV4EZPe0g1Xluhdhy', artifact={'query': 'famous places to visit in Bangalore', 'follow_up_questions': None, 'answer': None, 'images': [], 'results': [{'url': 'https://www.captureatrip.com/blog/places-to-visit-in-bangalore', 'title': '10 Places to visit in Bengaluru 2025 - Capture A Trip', 'content': '3. What are the famous places to visit in Bangalore ?\\n\\nOthers are Vidhana Soudha, Bangalore Palace and Bull Temple for its historical and cultural value.\\n\\n4. Where can I go for a weekend in Bangalore?\\n\\nNandi Hills is another suitable place for a weekend trip and it offers scenic views of the city while Bannerghatta National Park offers a wildlife experience.\\n\\nRecent Blogs\\n\\nOutstanding Hill Stations Near Nainital For a Peaceful Journey\\n\\nExplore 10 Best Things To Do In Georgia [...] This beautiful palace was the summer residence of the great Kingdom’s ruler, Tipu Sultan and is an Indo Islamic architectural masterpiece. This place is one of the most famous places to visit in Bangalore due to the presence of gorgeous wooden carved work and history.\\n\\n4. ISKCON Temple: [...] Here are the top 10 places to visit in Bangalore if anybody has the zeal to explore them which includes some historical places, parks, and cultural places. All these places make the city diverse by just giving each place uniqueness that attracts different people.\\n\\n1. Vidhana Soudha:\\n\\n\\n\\nThis big edifice is the home of the state legislature of Karnataka in India. This makes it count among the most visited places in Bangalore, thanks to its beautiful architectural design.', 'score': 0.89720124, 'raw_content': None}, {'url': 'https://www.holidify.com/places/bangalore/sightseeing-and-things-to-do.html', 'title': '52 Best Places to visit in Bangalore | Top Tourist Attractions - Holidify', 'content': 'Bangalore\\nPlaces To Visit\\nPackages\\nHotels\\nHow to Reach\\nBest Time To Visit\\nPhotos\\nFood\\n\\nMore\\n\\n\\nCollections\\n\\n\\nMap\\n\\n\\nReviews & QnA\\n\\n\\nTravel Agents\\n\\n\\n\\n\\nCollections\\n\\nMap\\nReviews & QnA\\nTravel Agents\\n\\nBangalore, Karnataka\\nLalbagh\\nCubbon Park\\nBangalore Palace\\nBannerghatta National Park [...] Places To Visit in Bangalore\\nLocated in : Central Bangalore\\nSpread over an area of 300 acres, Cubbon Park in the city of Bangalore is a major sightseeing attraction rich in green foliage. It is a green belt region of the city and is an ideal place for nature lovers and those seeking a calm atmosphere. Having been laid down by Lord Cubbon, the park is named so in his honour. It is home to more than 6,000 trees that support a vibrant ecosystem.\\nRead More [...] Art Gallery \\xa0\\xa0Garden & Park \\xa0\\xa0Amusement & Theme Park \\xa0\\xa0Forts & Palaces \\xa0\\xa0Hills & Valleys \\xa0\\xa0Temple \\xa0\\xa0Lake \\xa0\\xa0Museum \\xa0\\xa0Waterfall \\xa0\\xa0Commercial Street \\xa0\\xa0Shopping Market \\xa0\\xa0Monument \\xa0\\xa0National Park \\xa0\\xa0Yoga & Meditation \\xa0\\xa0Buddhist Temple \\xa0\\xa0Planetarium \\xa0\\xa0Church & Cathedral \\xa0\\xa0Aquarium \\xa0\\xa0Adventure Zone \\nClear All Apply', 'score': 0.85825616, 'raw_content': None}, {'url': 'https://www.viator.com/Bangalore/d5310', 'title': 'THE BEST 15 Things To Do in Bangalore (UPDATED 2025) - Viator', 'content': \"Dubbed the Silicon Valley of India for its massive IT industry, the South Indian city of Bangalore has all the trappings of a city that means business, from fantastic shopping to exceptional restaurants. There are plenty of things to do in Bangalore for visitors, from relaxing in the city’s Cubbon Park and Lalbagh Botanical Gardens to marveling at the architecture of Tipu Sultan's Summer Palace, Bangalore Palace, and Vidhana Soudha. And if you need a break from city life, you can simply head up\", 'score': 0.85216236, 'raw_content': None}, {'url': 'https://www.instagram.com/travelfitnancy/reel/C4S7whqpXH6/?hl=en', 'title': 'New to Bangalore? Here are the top 5 places you can visit, 1. Nandi ...', 'content': 'travelfitnancy on March 9, 2024: \"New to Bangalore? Here are the top 5 places you can visit, 1. Nandi Hills 2. Lalbagh Botanical Garden 3.', 'score': 0.8440111, 'raw_content': None}, {'url': 'https://www.incredibleindia.gov.in/en/karnataka/bengaluru', 'title': 'Bengaluru Tourist Places | Best Places To Visit - Incredible India', 'content': \"Bengaluru—the city that codes poetry, brews coffee, and dances to its rhythm. Let’s explore its pixels and palimpsests, one byte at a time.\\n\\nAttractions\\n\\nworth a thousand stories\\n\\nGhati Subramanya Temple\\n\\nUlsoor Lake\\n\\nDevanahalli Fort\\n\\nMuthyala Maduvu\\n\\nTipu Sultan Palace\\n\\nRagigudda Anjaneya Temple\\n\\nPuttanna Chetty Town Hall\\n\\nNandi Hills\\n\\nLalbagh\\n\\nShivagange\\n\\nTipu Sultan's Birthplace\\n\\nA trove of\\n\\nfascinating facts\\n\\nA trove of\\n\\nfascinating facts [...] The big boom may be over, but Bengaluru’s bright young things still have money to spend, and nightlife in the city is thriving. A night on the town generally starts with a bar crawl along Brigade Road, Residency Road, or Church Street. For quiet, elegant drinking, head for the bars of five-star hotels such as the Jockey Club at the Taj Residency or its competition, the Polo Club at the Oberoi, and for a taste of colonial grandeur, the Colonnade at the Taj West End.\\n\\nA shopper’s paradise\", 'score': 0.82082915, 'raw_content': None}], 'response_time': 3.45}), ToolMessage(content='[{\"title\": \"Best Restaurants In Bangalore To Delight Your Taste Buds In 2025!\", \"url\": \"https://traveltriangle.com/blog/best-restaurants-in-bangalore/\", \"content\": \"The king of cafes in Bangalore, Toit has set an unmatched standard amongst all the best restaurants in Bangalore. Freshly brewed beer, lively music, and a wide variety of international main courses and starters combine to give this place a ‘must-visit’ tag for any first-timer. It is one of the best restaurants in Bangalore for couples who share a love of pizzas and beers.\\\\n\\\\nAddress: Indiranagar, 100 Feet Rd, Near Drops Total Spirits, Bengaluru, Karnataka 560038 [...] It is impossible to have a list of the best restaurants in Bangalore, without naming its very own Hard Rock Cafe. This cafe, probably, needs no introduction as it has become a household name amongst music and food lovers from all around the world. The brand has built such a reputation that the HRC often gets counted as a sightseeing place for any traveller going to a new city. This is amongst the best restaurants in Bangalore for family and friends to visit. [...] Jamavar is another luxury restaurant that you need to consider visiting. Featuring an ethnic ambience, and indoor and outdoor seating plans, this restaurant serves delectable food. Moreover, this is a kid-friendly place that is also wheelchair accessible. The restaurant is amazing with hospitality, hygiene, food yumminess, and prep times. Special occasions deserve a special treat here.\\\\n\\\\nAddress:\\xa0The Leela Palace, Old Airport Road, Bangalore\\\\n\\\\nTimings:\\xa012–3\\u202fpm, 7–11:30\\u202fpm\\\\n\\\\nCost for two: INR 5000\", \"score\": 0.86767644}, {\"title\": \"What are the must-visit food places in Bangalore, and when ... - Quora\", \"url\": \"https://www.quora.com/What-are-the-must-visit-food-places-in-Bangalore-and-when-is-the-best-time-to-visit-that-place\", \"content\": \"1.Vidyarthi Bhavan. Vidyarthi Bhavan is an iconic eatery in Bangalore that has been serving the best dosa in Bangalore since 1943.\", \"score\": 0.85995835}, {\"title\": \"Shreya Pandey | Must visit restaurants in Bengaluru for Indian food ...\", \"url\": \"https://www.instagram.com/reel/C73Dl0iv2fw/\", \"content\": \"Must visit restaurants in Bengaluru for Indian food. These restaurants are not only beautiful and extravagant but food is also great. Karigari\", \"score\": 0.78532547}, {\"title\": \"The 50 best places to eat in Bengaluru - Wanderlog\", \"url\": \"https://wanderlog.com/list/geoCategory/1510029/best-places-to-eat-in-bengaluru\", \"content\": \"21Barbeque Nation\\\\n\\\\n22MTR\\\\n\\\\n23Byg Brewski Brewing Company\\\\n\\\\n24Nagarjuna Restaurant - Residency Road\\\\n\\\\n25Arbor Brewing Company\\\\n\\\\n26Jamavar\\\\n\\\\n27The Fatty Bao\\\\n\\\\n28High Ultra Lounge\\\\n\\\\n29Sunnys Restaurant\\\\n\\\\n30Ebony\\\\n\\\\n31Maiyas Beverages And Foods Private Limited\\\\n\\\\n32Persian Terrace\\\\n\\\\n33Skyye\\\\n\\\\n34The Permit Room\\\\n\\\\n35Indian Coffee House\\\\n\\\\n36Toast & Tonic\\\\n\\\\n37Wabi Sabi\\\\n\\\\n38Lapis\\\\n\\\\n39Roxie\\\\n\\\\n40V. V. Puram Food Street\\\\n\\\\n41Karnataka Bhel House\\\\n\\\\n42Suryawanshi Restaurant\\\\n\\\\n43The Hole In The Wall Cafe Kammanahalli [...] Navigate backward to interact with the calendar and select a date. Press the question mark key to get the keyboard shortcuts for changing dates.\\\\n\\\\n3Brahmins\\' Coffee Bar\\\\n\\\\n4Vidyarthi Bhavan\\\\n\\\\n5Central Tiffin Room\\\\n\\\\n6Sri Sairam\\'s Chats & Juice Centre\\\\n\\\\n7Truffles\\\\n\\\\n8Shiro\\\\n\\\\n9Koshy\\'s\\\\n\\\\n10Rim Naam\\\\n\\\\n11Chutney Chang\\\\n\\\\n12Olive Beach\\\\n\\\\n13Veena Stores\\\\n\\\\n14Caperberry\\\\n\\\\n15Shivaji Military Hotel\\\\n\\\\n16Oota Bangalore\\\\n\\\\n17Grasshopper\\\\n\\\\n18Khan Saheb Grills and Rolls\\\\n\\\\n19SMTR - Sri Maruthi Tiffin Room\\\\n\\\\n20Nagarjuna [...] As you explore the bustling streets of Bengaluru, you\\'ll discover a mix of iconic eateries and hidden gems that showcase the best of local flavors. From the legendary Vidyarthi Bhavan, famous for its crispy Benne Masala Dosa, to the charming Brahmins\\' Coffee Bar, where the aroma of freshly brewed coffee fills the air, each spot tells a story of its own. The Wanderlog team is passionate about uncovering these culinary treasures, and we invite you to join us on a journey through the best places\", \"score\": 0.6994397}, {\"title\": \"The Best Restaurants in Bengaluru for Dining Out - Zomato\", \"url\": \"https://www.zomato.com/bangalore/restaurants\", \"content\": \"Restaurants in Bengaluru · Atlantis · Jamavar - The Leela Palace · Sozo Skyline · Muro · Feast - Sheraton Grand Bangalore Hotel at Brigade Gateway · Mirage.\", \"score\": 0.6884899}]', name='tavily_search_results_json', tool_call_id='call_UoOT3m5svSe0vMILWeIx6l75', artifact={'query': 'must visit restaurants in Bangalore', 'follow_up_questions': None, 'answer': None, 'images': [], 'results': [{'url': 'https://traveltriangle.com/blog/best-restaurants-in-bangalore/', 'title': 'Best Restaurants In Bangalore To Delight Your Taste Buds In 2025!', 'content': 'The king of cafes in Bangalore, Toit has set an unmatched standard amongst all the best restaurants in Bangalore. Freshly brewed beer, lively music, and a wide variety of international main courses and starters combine to give this place a ‘must-visit’ tag for any first-timer. It is one of the best restaurants in Bangalore for couples who share a love of pizzas and beers.\\n\\nAddress: Indiranagar, 100 Feet Rd, Near Drops Total Spirits, Bengaluru, Karnataka 560038 [...] It is impossible to have a list of the best restaurants in Bangalore, without naming its very own Hard Rock Cafe. This cafe, probably, needs no introduction as it has become a household name amongst music and food lovers from all around the world. The brand has built such a reputation that the HRC often gets counted as a sightseeing place for any traveller going to a new city. This is amongst the best restaurants in Bangalore for family and friends to visit. [...] Jamavar is another luxury restaurant that you need to consider visiting. Featuring an ethnic ambience, and indoor and outdoor seating plans, this restaurant serves delectable food. Moreover, this is a kid-friendly place that is also wheelchair accessible. The restaurant is amazing with hospitality, hygiene, food yumminess, and prep times. Special occasions deserve a special treat here.\\n\\nAddress:\\xa0The Leela Palace, Old Airport Road, Bangalore\\n\\nTimings:\\xa012–3\\u202fpm, 7–11:30\\u202fpm\\n\\nCost for two: INR 5000', 'score': 0.86767644, 'raw_content': None}, {'url': 'https://www.quora.com/What-are-the-must-visit-food-places-in-Bangalore-and-when-is-the-best-time-to-visit-that-place', 'title': 'What are the must-visit food places in Bangalore, and when ... - Quora', 'content': '1.Vidyarthi Bhavan. Vidyarthi Bhavan is an iconic eatery in Bangalore that has been serving the best dosa in Bangalore since 1943.', 'score': 0.85995835, 'raw_content': None}, {'url': 'https://www.instagram.com/reel/C73Dl0iv2fw/', 'title': 'Shreya Pandey | Must visit restaurants in Bengaluru for Indian food ...', 'content': 'Must visit restaurants in Bengaluru for Indian food. These restaurants are not only beautiful and extravagant but food is also great. Karigari', 'score': 0.78532547, 'raw_content': None}, {'url': 'https://wanderlog.com/list/geoCategory/1510029/best-places-to-eat-in-bengaluru', 'title': 'The 50 best places to eat in Bengaluru - Wanderlog', 'content': \"21Barbeque Nation\\n\\n22MTR\\n\\n23Byg Brewski Brewing Company\\n\\n24Nagarjuna Restaurant - Residency Road\\n\\n25Arbor Brewing Company\\n\\n26Jamavar\\n\\n27The Fatty Bao\\n\\n28High Ultra Lounge\\n\\n29Sunnys Restaurant\\n\\n30Ebony\\n\\n31Maiyas Beverages And Foods Private Limited\\n\\n32Persian Terrace\\n\\n33Skyye\\n\\n34The Permit Room\\n\\n35Indian Coffee House\\n\\n36Toast & Tonic\\n\\n37Wabi Sabi\\n\\n38Lapis\\n\\n39Roxie\\n\\n40V. V. Puram Food Street\\n\\n41Karnataka Bhel House\\n\\n42Suryawanshi Restaurant\\n\\n43The Hole In The Wall Cafe Kammanahalli [...] Navigate backward to interact with the calendar and select a date. Press the question mark key to get the keyboard shortcuts for changing dates.\\n\\n3Brahmins' Coffee Bar\\n\\n4Vidyarthi Bhavan\\n\\n5Central Tiffin Room\\n\\n6Sri Sairam's Chats & Juice Centre\\n\\n7Truffles\\n\\n8Shiro\\n\\n9Koshy's\\n\\n10Rim Naam\\n\\n11Chutney Chang\\n\\n12Olive Beach\\n\\n13Veena Stores\\n\\n14Caperberry\\n\\n15Shivaji Military Hotel\\n\\n16Oota Bangalore\\n\\n17Grasshopper\\n\\n18Khan Saheb Grills and Rolls\\n\\n19SMTR - Sri Maruthi Tiffin Room\\n\\n20Nagarjuna [...] As you explore the bustling streets of Bengaluru, you'll discover a mix of iconic eateries and hidden gems that showcase the best of local flavors. From the legendary Vidyarthi Bhavan, famous for its crispy Benne Masala Dosa, to the charming Brahmins' Coffee Bar, where the aroma of freshly brewed coffee fills the air, each spot tells a story of its own. The Wanderlog team is passionate about uncovering these culinary treasures, and we invite you to join us on a journey through the best places\", 'score': 0.6994397, 'raw_content': None}, {'url': 'https://www.zomato.com/bangalore/restaurants', 'title': 'The Best Restaurants in Bengaluru for Dining Out - Zomato', 'content': 'Restaurants in Bengaluru · Atlantis · Jamavar - The Leela Palace · Sozo Skyline · Muro · Feast - Sheraton Grand Bangalore Hotel at Brigade Gateway · Mirage.', 'score': 0.6884899, 'raw_content': None}], 'response_time': 3.01}), AIMessage(content=\"### Famous Places to Visit in Bangalore\\n\\n1. **Vidhana Soudha**: This iconic building is the seat of the state legislature of Karnataka and is renowned for its beautiful architectural design.\\n   \\n2. **Bangalore Palace**: Known for its Tudor-style architecture and sprawling grounds, the palace gives a glimpse into the regal history of Bangalore.\\n\\n3. **Cubbon Park**: Spanning over 300 acres, this lush green park is a favorite spot for nature lovers and those seeking a peaceful retreat within the city.\\n\\n4. **Lalbagh Botanical Garden**: Famous for its glass house and diverse flora, it is a must-visit for gardening enthusiasts and those who enjoy a leisurely stroll amidst nature.\\n\\n5. **Bannerghatta National Park**: Located on the outskirts of Bangalore, this park offers a chance to experience wildlife and is famous for its safari rides.\\n\\n6. **Nandi Hills**: A great spot for a weekend getaway, known for its scenic views and the historical Nandi Fortress.\\n\\n7. **ISKCON Temple**: A spiritual retreat in the midst of the bustling city, known for its architectural grandeur and spiritual activities.\\n\\n8. **Tipu Sultan's Summer Palace**: A stunning example of Indo-Islamic architecture, this palace showcases exquisite wooden carvings and historical artifacts.\\n\\nFor further exploration on these places, visit [Capture a Trip](https://www.captureatrip.com/blog/places-to-visit-in-bangalore).\\n\\n### Must-Visit Restaurants in Bangalore\\n\\n1. **Toit**: Known for freshly brewed beer and a lively atmosphere, it’s a must-visit for beer and pizza lovers. Located in Indiranagar.\\n\\n2. **Hard Rock Café**: A popular spot known for its rock music-themed dining experience.\\n\\n3. **Jamavar**: Located at The Leela Palace, it offers luxury dining with authentic Indian cuisine in a beautiful setting.\\n\\n4. **Vidyarthi Bhavan**: An iconic eatery in Bangalore, famous for serving the best dosas since 1943.\\n\\n5. **Barbeque Nation**: Known for its live grill experience and extensive buffet options.\\n\\n6. **Brahmins' Coffee Bar**: A legendary place for coffee enthusiasts, known for its traditional South Indian breakfast.\\n\\n7. **The Fatty Bao**: Offers a fusion of Asian cuisines in a chic and modern setting.\\n\\n8. **Skyye**: A rooftop restaurant offering stunning views of Bangalore’s skyline, perfect for a fancy night out.\\n\\nFor more dining options, explore [Travel Triangle](https://traveltriangle.com/blog/best-restaurants-in-bangalore/) and [Wanderlog](https://wanderlog.com/list/geoCategory/1510029/best-places-to-eat-in-bengaluru).\", additional_kwargs={'refusal': None}, response_metadata={'token_usage': {'completion_tokens': 568, 'prompt_tokens': 2736, 'total_tokens': 3304, 'completion_tokens_details': {'accepted_prediction_tokens': 0, 'audio_tokens': 0, 'reasoning_tokens': 0, 'rejected_prediction_tokens': 0}, 'prompt_tokens_details': {'audio_tokens': 0, 'cached_tokens': 0}}, 'model_name': 'gpt-4o-2024-08-06', 'system_fingerprint': 'fp_92f14e8683', 'finish_reason': 'stop', 'logprobs': None}, id='run-f2afa37a-c027-46a7-9702-3af8019cbbfe-0', usage_metadata={'input_tokens': 2736, 'output_tokens': 568, 'total_tokens': 3304, 'input_token_details': {'audio': 0, 'cache_read': 0}, 'output_token_details': {'audio': 0, 'reasoning': 0}}), ['user', 'what is a weather there?'], ('user', 'what is a weather there?'), AIMessage(content='', additional_kwargs={'tool_calls': [{'id': 'call_0NLdfZAg6hKgq0QpJ0GSNSYM', 'function': {'arguments': '{\"query\":\"Bangalore weather today\"}', 'name': 'tavily_search_results_json'}, 'type': 'function'}], 'refusal': None}, response_metadata={'token_usage': {'completion_tokens': 22, 'prompt_tokens': 3326, 'total_tokens': 3348, 'completion_tokens_details': {'accepted_prediction_tokens': 0, 'audio_tokens': 0, 'reasoning_tokens': 0, 'rejected_prediction_tokens': 0}, 'prompt_tokens_details': {'audio_tokens': 0, 'cached_tokens': 3200}}, 'model_name': 'gpt-4o-2024-08-06', 'system_fingerprint': 'fp_92f14e8683', 'finish_reason': 'tool_calls', 'logprobs': None}, id='run-f2f60d63-6e81-4312-bf95-d565a60e3652-0', tool_calls=[{'name': 'tavily_search_results_json', 'args': {'query': 'Bangalore weather today'}, 'id': 'call_0NLdfZAg6hKgq0QpJ0GSNSYM', 'type': 'tool_call'}], usage_metadata={'input_tokens': 3326, 'output_tokens': 22, 'total_tokens': 3348, 'input_token_details': {'audio': 0, 'cache_read': 3200}, 'output_token_details': {'audio': 0, 'reasoning': 0}})]}\n"
     ]
    }
   ],
   "source": [
    "for event in events:\n",
    "    print(event)"
   ]
  },
  {
   "cell_type": "code",
   "execution_count": 107,
   "id": "5d1fa134",
   "metadata": {},
   "outputs": [
    {
     "ename": "AttributeError",
     "evalue": "'tuple' object has no attribute 'pretty_print'",
     "output_type": "error",
     "traceback": [
      "\u001b[1;31m---------------------------------------------------------------------------\u001b[0m",
      "\u001b[1;31mAttributeError\u001b[0m                            Traceback (most recent call last)",
      "Cell \u001b[1;32mIn[107], line 3\u001b[0m\n\u001b[0;32m      1\u001b[0m \u001b[38;5;28;01mfor\u001b[39;00m event \u001b[38;5;129;01min\u001b[39;00m events:\n\u001b[0;32m      2\u001b[0m     \u001b[38;5;28;01mif\u001b[39;00m \u001b[38;5;124m\"\u001b[39m\u001b[38;5;124mmessages\u001b[39m\u001b[38;5;124m\"\u001b[39m \u001b[38;5;129;01min\u001b[39;00m event:\n\u001b[1;32m----> 3\u001b[0m         \u001b[43mevent\u001b[49m\u001b[43m[\u001b[49m\u001b[38;5;124;43m\"\u001b[39;49m\u001b[38;5;124;43mmessages\u001b[39;49m\u001b[38;5;124;43m\"\u001b[39;49m\u001b[43m]\u001b[49m\u001b[43m[\u001b[49m\u001b[38;5;241;43m-\u001b[39;49m\u001b[38;5;241;43m1\u001b[39;49m\u001b[43m]\u001b[49m\u001b[38;5;241;43m.\u001b[39;49m\u001b[43mpretty_print\u001b[49m()\n",
      "\u001b[1;31mAttributeError\u001b[0m: 'tuple' object has no attribute 'pretty_print'"
     ]
    }
   ],
   "source": [
    "\n",
    "for event in events:\n",
    "    if \"messages\" in event:\n",
    "        event[\"messages\"][-1].pretty_print()"
   ]
  },
  {
   "cell_type": "code",
   "execution_count": 109,
   "id": "0ac49a66",
   "metadata": {},
   "outputs": [],
   "source": [
    "\n",
    "snapshot = app2.get_state(config)\n",
    "     "
   ]
  },
  {
   "cell_type": "code",
   "execution_count": 110,
   "id": "d4859c01",
   "metadata": {},
   "outputs": [
    {
     "data": {
      "text/plain": [
       "('tools',)"
      ]
     },
     "execution_count": 110,
     "metadata": {},
     "output_type": "execute_result"
    }
   ],
   "source": [
    "\n",
    "snapshot.next"
   ]
  },
  {
   "cell_type": "code",
   "execution_count": 111,
   "id": "1d7ca9b5",
   "metadata": {},
   "outputs": [],
   "source": [
    "\n",
    "last_message=snapshot.values[\"messages\"][-1]"
   ]
  },
  {
   "cell_type": "code",
   "execution_count": 112,
   "id": "bbd13975",
   "metadata": {},
   "outputs": [
    {
     "data": {
      "text/plain": [
       "[{'name': 'tavily_search_results_json',\n",
       "  'args': {'query': 'Bangalore weather today'},\n",
       "  'id': 'call_0NLdfZAg6hKgq0QpJ0GSNSYM',\n",
       "  'type': 'tool_call'}]"
      ]
     },
     "execution_count": 112,
     "metadata": {},
     "output_type": "execute_result"
    }
   ],
   "source": [
    "\n",
    "last_message.tool_calls"
   ]
  },
  {
   "cell_type": "code",
   "execution_count": 113,
   "id": "22937065",
   "metadata": {},
   "outputs": [],
   "source": [
    "events = app2.stream(None, config, stream_mode=\"values\")"
   ]
  },
  {
   "cell_type": "code",
   "execution_count": 114,
   "id": "bbaaf8ef",
   "metadata": {},
   "outputs": [
    {
     "name": "stdout",
     "output_type": "stream",
     "text": [
      "==================================\u001b[1m Ai Message \u001b[0m==================================\n",
      "Tool Calls:\n",
      "  tavily_search_results_json (call_0NLdfZAg6hKgq0QpJ0GSNSYM)\n",
      " Call ID: call_0NLdfZAg6hKgq0QpJ0GSNSYM\n",
      "  Args:\n",
      "    query: Bangalore weather today\n",
      "=================================\u001b[1m Tool Message \u001b[0m=================================\n",
      "Name: tavily_search_results_json\n",
      "\n",
      "[{\"title\": \"bengaluru Weather Forecast 13 Apr 2025 - Times of India\", \"url\": \"https://timesofindia.indiatimes.com/weather/bengaluru-weather-forecast-today/560001\", \"content\": \"Today's Weather in Bengaluru: In Bengaluru today, the weather is expected to be Partly Cloudy with a maximum temperature of 32°C and a minimum of 17°C.\", \"score\": 0.96205425}, {\"title\": \"Weather in Bangalore\", \"url\": \"https://www.weatherapi.com/\", \"content\": \"{'location': {'name': 'Bangalore', 'region': 'Karnataka', 'country': 'India', 'lat': 12.9833, 'lon': 77.5833, 'tz_id': 'Asia/Kolkata', 'localtime_epoch': 1744563279, 'localtime': '2025-04-13 22:24'}, 'current': {'last_updated_epoch': 1744562700, 'last_updated': '2025-04-13 22:15', 'temp_c': 23.0, 'temp_f': 73.4, 'is_day': 0, 'condition': {'text': 'Partly cloudy', 'icon': '//cdn.weatherapi.com/weather/64x64/night/116.png', 'code': 1003}, 'wind_mph': 6.7, 'wind_kph': 10.8, 'wind_degree': 177, 'wind_dir': 'S', 'pressure_mb': 1016.0, 'pressure_in': 30.0, 'precip_mm': 0.0, 'precip_in': 0.0, 'humidity': 73, 'cloud': 50, 'feelslike_c': 23.8, 'feelslike_f': 74.8, 'windchill_c': 28.6, 'windchill_f': 83.4, 'heatindex_c': 27.6, 'heatindex_f': 81.7, 'dewpoint_c': 10.0, 'dewpoint_f': 49.9, 'vis_km': 6.0, 'vis_miles': 3.0, 'uv': 0.0, 'gust_mph': 10.6, 'gust_kph': 17.1}}\", \"score\": 0.9284724}, {\"title\": \"Weather Bengaluru in April 2025: Temperature & Climate\", \"url\": \"https://en.climate-data.org/asia/india/karnataka/bengaluru-4562/t/april-4/\", \"content\": \"Min. Temperature °C (°F) | 14.6 °C(58.4) °F | 16.1 °C(61) °F | 18.7 °C(65.6) °F | 20.8 °C(69.4) °F | 21 °C(69.8) °F | 20.2 °C(68.3) °F | 19.8 °C(67.6) °F | 19.4 °C(66.9) °F | 19 °C(66.2) °F | 18.4 °C(65.1) °F | 16.7 °C(62) °F | 15.1 °C(59.1) °F\\nMax. Temperature °C (°F) | 27.4 °C(81.2) °F | 29.6 °C(85.3) °F | 32.1 °C(89.8) °F | 32.8 °C(91.1) °F | 31.2 °C(88.2) °F | 27.5 °C(81.5) °F | 26.4 °C(79.5) °F | 26.1 °C(79) °F | 26.7 °C(80) °F | 26.4 °C(79.6) °F | 25.7 °C(78.3) °F | 25.8 °C(78.4) °F [...] (69.3)  °F\\n\\n22.8 °C\\n\\n(73)  °F\\n\\n25.4 °C\\n\\n(77.8)  °F\\n\\n26.6 °C\\n\\n(80)  °F\\n\\n25.5 °C\\n\\n(77.9)  °F\\n\\n23.2 °C\\n\\n(73.8)  °F\\n\\n22.4 °C\\n\\n(72.3)  °F\\n\\n22.2 °C\\n\\n(71.9)  °F\\n\\n22.4 °C\\n\\n(72.3)  °F\\n\\n22 °C\\n\\n(71.6)  °F\\n\\n20.9 °C\\n\\n(69.7)  °F\\n\\n20.1 °C\\n\\n(68.2)  °F\\n\\n14.6 °C\\n\\n(58.4) °F\\n\\n16.1 °C\\n\\n(61) °F\\n\\n18.7 °C\\n\\n(65.6) °F\\n\\n20.8 °C\\n\\n(69.4) °F\\n\\n21 °C\\n\\n(69.8) °F\\n\\n20.2 °C\\n\\n(68.3) °F\\n\\n19.8 °C\\n\\n(67.6) °F\\n\\n19.4 °C\\n\\n(66.9) °F\\n\\n19 °C\\n\\n(66.2) °F\\n\\n18.4 °C\\n\\n(65.1) °F\\n\\n16.7 °C\\n\\n(62) °F\\n\\n15.1 °C\\n\\n(59.1) °F\\n\\n27.4 °C\\n\\n(81.2) °F\\n\\n29.6 °C [...] (85.3) °F\\n\\n32.1 °C\\n\\n(89.8) °F\\n\\n32.8 °C\\n\\n(91.1) °F\\n\\n31.2 °C\\n\\n(88.2) °F\\n\\n27.5 °C\\n\\n(81.5) °F\\n\\n26.4 °C\\n\\n(79.5) °F\\n\\n26.1 °C\\n\\n(79) °F\\n\\n26.7 °C\\n\\n(80) °F\\n\\n26.4 °C\\n\\n(79.6) °F\\n\\n25.7 °C\\n\\n(78.3) °F\\n\\n25.8 °C\\n\\n(78.4) °F\\n\\n4\\n\\n(0)\\n\\n7\\n\\n(0)\\n\\n16\\n\\n(0)\\n\\n45\\n\\n(1)\\n\\n131\\n\\n(5)\\n\\n126\\n\\n(4)\\n\\n134\\n\\n(5)\\n\\n137\\n\\n(5)\\n\\n125\\n\\n(4)\\n\\n147\\n\\n(5)\\n\\n65\\n\\n(2)\\n\\n23\\n\\n(0)\", \"score\": 0.9134376}, {\"title\": \"Bangalore weather in April 2025 - Weather25.com\", \"url\": \"https://www.weather25.com/asia/india/karnataka/bangalore?page=month&month=April\", \"content\": \"Location was added to My Locations\\nLocation was removed from My Locations\\nMarch\\nMay\\nBangalore weather in April 2025\\nThe weather in Bangalore in April is very hot. The average temperatures are between 24°C and 36°C, drinking water regularly is advisable.\\nYou can expect about 3 to 8 days of rain in Bangalore during the month of April. It’s a good idea to bring along your umbrella so that you don’t get caught in poor weather. [...] | Sun | Mon | Tue | Wed | Thu | Fri | Sat |\\n| --- | --- | --- | --- | --- | --- | --- |\\n| \\n | \\n| 1  36° /23° | 2  36° /23° | 3  36° /23° | 4  35° /23° | 5  36° /23° |\\n| 6  36° /23° | 7  36° /24° | 8  35° /22° | 9  35° /23° | 10  35° /23° | 11  36° /23° | 12  36° /23° |\\n| 13  36° /23° | 14  35° /23° | 15  34° /23° | 16  36° /23° | 17  36° /24° | 18  35° /24° | 19  35° /24° |\\n| 20  35° /24° | 21  36° /24° | 22  35° /24° | 23  35° /23° | 24  36° /24° | 25  35° /24° | 26  35° /25° | [...] Temperatures\\n36° / 24°\\n\\nRainy Days\\n4\\n\\nSnowy Days\\n0\\n\\nDry Days\\n26\\n\\nRainfall\\n61\\nmm\\n\\nSun Hours\\n11.8\\nHrs\\nHistoric average weather for April\\n\\nApril\", \"score\": 0.8943568}, {\"title\": \"Weather in Bangalore in April 2025 (State of Karnātaka)\", \"url\": \"https://world-weather.info/forecast/india/bangalor/april-2025/\", \"content\": \"2\\n+93°+77°\\n\\n\\n3\\n+93°+79°\\n\\n\\n4\\n+91°+79°\\n\\n\\n5\\n+91°+79°\\n\\n\\n6\\n+91°+79°\\n\\n\\n7\\n+91°+79°\\n\\n\\n8\\n+91°+79°\\n\\n\\n9\\n+93°+79°\\n\\n\\n10\\n+91°+79°\\n\\n\\n11\\n+93°+79°\\n\\n\\n12\\n+91°+79°\\n\\n\\n13\\n+91°+79°\\n\\n\\n14\\n+91°+79°\\n\\n\\n15\\n+93°+77°\\n\\n\\n16\\n+91°+77°\\n\\n\\n17\\n+91°+79°\\n\\n\\n18\\n+93°+79°\\n\\n\\n19\\n+91°+79°\\n\\n\\n20\\n+90°+79°\\n\\n\\n21\\n+90°+77°\\n\\n\\n22\\n+90°+79°\\n\\n\\n23\\n+91°+79°\\n\\n\\n24\\n+91°+79°\\n\\n\\n25\\n+88°+77°\\n\\n\\n26\\n+90°+79°\\n\\n\\n27\\n+91°+79°\\n\\n\\n28\\n+91°+79°\\n\\n\\n29\\n+90°+79°\\n\\n\\n30\\n+90°+79°\\n\\n\\nExtended weather forecast in Bangalore\\nHourlyWeek10-Day14-Day30-DayYear [...] Weather in Bangalore in April 2025 (State of Karnātaka) - Detailed Weather Forecast for a Month\\n\\nAdd the current city\\nSearch\\n\\nWeather\\nArchive\\nWidgets\\n\\n°F\\n\\nWorld\\nIndia\\nState of Karnātaka\\nWeather in Bangalore\\n\\nWeather in Bangalore in April 2025\\nBangalore Weather Forecast for April 2025, is based on previous years' statistical data.\\n201520162017201820192020202120222023202420252026\\nJanFebMarAprMayJunJulAugSepOctNovDec\\nApril\\nStart Week On\\nSunday\\nMonday\\n\\nSun\\nMon\\nTue\\nWed\\nThu\\nFri\\n\\nSat\\n\\n\\n1\\n+91°+77° [...] Weather in large and nearby cities\\nWeather in New Delhi+73°\\nAvadi+88°\\nKozhikode+90°\\nAmbattur+88°\\nChennai+88°\\nDindigul+82°\\nThanjavur+86°\\nMangalore+86°\\nNellore+86°\\nTiruchchirāppalli+86°\\nPuducherry+86°\\nBellary+84°\\nMysore+81°\\nSalem+86°\\nAnantapur+84°\\nTirupati+82°\\nKothakota+86°\\nVathalur+86°\\nMinimum and maximum\\nworld's temperature today\\nRussia\\nZyryanka\\nday\\n-22°F\\nnight\\n-49°F\\nChad\\nMongo\\nday\\n+109°F\\nnight\\n+73°F\\nServices\\nSupport\\n\\nUser agreement\\nFeedback\\nAbout Us\", \"score\": 0.8898454}]\n",
      "==================================\u001b[1m Ai Message \u001b[0m==================================\n",
      "\n",
      "Today's weather in Bangalore is partly cloudy with a maximum temperature of 32°C (about 89.6°F) and a minimum of 17°C (about 62.6°F). The current temperature is around 23°C (73.4°F) with a relatively high humidity level of 73%. There is no precipitation expected, and the conditions suggest a pleasant, partly cloudy evening.\n"
     ]
    }
   ],
   "source": [
    "for event in events:\n",
    "    if \"messages\" in event:\n",
    "        event[\"messages\"][-1].pretty_print()"
   ]
  },
  {
   "cell_type": "code",
   "execution_count": 116,
   "id": "38bdbcba",
   "metadata": {},
   "outputs": [
    {
     "data": {
      "text/plain": [
       "StateSnapshot(values={'messages': [['user', 'famous places of the bangalore and must visit restaurants?'], AIMessage(content='', additional_kwargs={'tool_calls': [{'id': 'call_NheTr6jPV4EZPe0g1Xluhdhy', 'function': {'arguments': '{\"query\": \"famous places to visit in Bangalore\"}', 'name': 'tavily_search_results_json'}, 'type': 'function'}, {'id': 'call_UoOT3m5svSe0vMILWeIx6l75', 'function': {'arguments': '{\"query\": \"must visit restaurants in Bangalore\"}', 'name': 'tavily_search_results_json'}, 'type': 'function'}], 'refusal': None}, response_metadata={'token_usage': {'completion_tokens': 63, 'prompt_tokens': 91, 'total_tokens': 154, 'completion_tokens_details': {'accepted_prediction_tokens': 0, 'audio_tokens': 0, 'reasoning_tokens': 0, 'rejected_prediction_tokens': 0}, 'prompt_tokens_details': {'audio_tokens': 0, 'cached_tokens': 0}}, 'model_name': 'gpt-4o-2024-08-06', 'system_fingerprint': 'fp_92f14e8683', 'finish_reason': 'tool_calls', 'logprobs': None}, id='run-afa8bec0-9f5c-4783-94df-7beb2bb893d7-0', tool_calls=[{'name': 'tavily_search_results_json', 'args': {'query': 'famous places to visit in Bangalore'}, 'id': 'call_NheTr6jPV4EZPe0g1Xluhdhy', 'type': 'tool_call'}, {'name': 'tavily_search_results_json', 'args': {'query': 'must visit restaurants in Bangalore'}, 'id': 'call_UoOT3m5svSe0vMILWeIx6l75', 'type': 'tool_call'}], usage_metadata={'input_tokens': 91, 'output_tokens': 63, 'total_tokens': 154, 'input_token_details': {'audio': 0, 'cache_read': 0}, 'output_token_details': {'audio': 0, 'reasoning': 0}}), ToolMessage(content='[{\"title\": \"10 Places to visit in Bengaluru 2025 - Capture A Trip\", \"url\": \"https://www.captureatrip.com/blog/places-to-visit-in-bangalore\", \"content\": \"3. What are the famous places to visit in Bangalore ?\\\\n\\\\nOthers are Vidhana Soudha, Bangalore Palace and Bull Temple for its historical and cultural value.\\\\n\\\\n4. Where can I go for a weekend in Bangalore?\\\\n\\\\nNandi Hills is another suitable place for a weekend trip and it offers scenic views of the city while Bannerghatta National Park offers a wildlife experience.\\\\n\\\\nRecent Blogs\\\\n\\\\nOutstanding Hill Stations Near Nainital For a Peaceful Journey\\\\n\\\\nExplore 10 Best Things To Do In Georgia [...] This beautiful palace was the summer residence of the great Kingdom’s ruler, Tipu Sultan and is an Indo Islamic architectural masterpiece. This place is one of the most famous places to visit in Bangalore due to the presence of gorgeous wooden carved work and history.\\\\n\\\\n4. ISKCON Temple: [...] Here are the top 10 places to visit in Bangalore if anybody has the zeal to explore them which includes some historical places, parks, and cultural places. All these places make the city diverse by just giving each place uniqueness that attracts different people.\\\\n\\\\n1. Vidhana Soudha:\\\\n\\\\n\\\\n\\\\nThis big edifice is the home of the state legislature of Karnataka in India. This makes it count among the most visited places in Bangalore, thanks to its beautiful architectural design.\", \"score\": 0.89720124}, {\"title\": \"52 Best Places to visit in Bangalore | Top Tourist Attractions - Holidify\", \"url\": \"https://www.holidify.com/places/bangalore/sightseeing-and-things-to-do.html\", \"content\": \"Bangalore\\\\nPlaces To Visit\\\\nPackages\\\\nHotels\\\\nHow to Reach\\\\nBest Time To Visit\\\\nPhotos\\\\nFood\\\\n\\\\nMore\\\\n\\\\n\\\\nCollections\\\\n\\\\n\\\\nMap\\\\n\\\\n\\\\nReviews & QnA\\\\n\\\\n\\\\nTravel Agents\\\\n\\\\n\\\\n\\\\n\\\\nCollections\\\\n\\\\nMap\\\\nReviews & QnA\\\\nTravel Agents\\\\n\\\\nBangalore, Karnataka\\\\nLalbagh\\\\nCubbon Park\\\\nBangalore Palace\\\\nBannerghatta National Park [...] Places To Visit in Bangalore\\\\nLocated in : Central Bangalore\\\\nSpread over an area of 300 acres, Cubbon Park in the city of Bangalore is a major sightseeing attraction rich in green foliage. It is a green belt region of the city and is an ideal place for nature lovers and those seeking a calm atmosphere. Having been laid down by Lord Cubbon, the park is named so in his honour. It is home to more than 6,000 trees that support a vibrant ecosystem.\\\\nRead More [...] Art Gallery \\xa0\\xa0Garden & Park \\xa0\\xa0Amusement & Theme Park \\xa0\\xa0Forts & Palaces \\xa0\\xa0Hills & Valleys \\xa0\\xa0Temple \\xa0\\xa0Lake \\xa0\\xa0Museum \\xa0\\xa0Waterfall \\xa0\\xa0Commercial Street \\xa0\\xa0Shopping Market \\xa0\\xa0Monument \\xa0\\xa0National Park \\xa0\\xa0Yoga & Meditation \\xa0\\xa0Buddhist Temple \\xa0\\xa0Planetarium \\xa0\\xa0Church & Cathedral \\xa0\\xa0Aquarium \\xa0\\xa0Adventure Zone \\\\nClear All Apply\", \"score\": 0.85825616}, {\"title\": \"THE BEST 15 Things To Do in Bangalore (UPDATED 2025) - Viator\", \"url\": \"https://www.viator.com/Bangalore/d5310\", \"content\": \"Dubbed the Silicon Valley of India for its massive IT industry, the South Indian city of Bangalore has all the trappings of a city that means business, from fantastic shopping to exceptional restaurants. There are plenty of things to do in Bangalore for visitors, from relaxing in the city’s Cubbon Park and Lalbagh Botanical Gardens to marveling at the architecture of Tipu Sultan\\'s Summer Palace, Bangalore Palace, and Vidhana Soudha. And if you need a break from city life, you can simply head up\", \"score\": 0.85216236}, {\"title\": \"New to Bangalore? Here are the top 5 places you can visit, 1. Nandi ...\", \"url\": \"https://www.instagram.com/travelfitnancy/reel/C4S7whqpXH6/?hl=en\", \"content\": \"travelfitnancy on March 9, 2024: \\\\\"New to Bangalore? Here are the top 5 places you can visit, 1. Nandi Hills 2. Lalbagh Botanical Garden 3.\", \"score\": 0.8440111}, {\"title\": \"Bengaluru Tourist Places | Best Places To Visit - Incredible India\", \"url\": \"https://www.incredibleindia.gov.in/en/karnataka/bengaluru\", \"content\": \"Bengaluru—the city that codes poetry, brews coffee, and dances to its rhythm. Let’s explore its pixels and palimpsests, one byte at a time.\\\\n\\\\nAttractions\\\\n\\\\nworth a thousand stories\\\\n\\\\nGhati Subramanya Temple\\\\n\\\\nUlsoor Lake\\\\n\\\\nDevanahalli Fort\\\\n\\\\nMuthyala Maduvu\\\\n\\\\nTipu Sultan Palace\\\\n\\\\nRagigudda Anjaneya Temple\\\\n\\\\nPuttanna Chetty Town Hall\\\\n\\\\nNandi Hills\\\\n\\\\nLalbagh\\\\n\\\\nShivagange\\\\n\\\\nTipu Sultan\\'s Birthplace\\\\n\\\\nA trove of\\\\n\\\\nfascinating facts\\\\n\\\\nA trove of\\\\n\\\\nfascinating facts [...] The big boom may be over, but Bengaluru’s bright young things still have money to spend, and nightlife in the city is thriving. A night on the town generally starts with a bar crawl along Brigade Road, Residency Road, or Church Street. For quiet, elegant drinking, head for the bars of five-star hotels such as the Jockey Club at the Taj Residency or its competition, the Polo Club at the Oberoi, and for a taste of colonial grandeur, the Colonnade at the Taj West End.\\\\n\\\\nA shopper’s paradise\", \"score\": 0.82082915}]', name='tavily_search_results_json', tool_call_id='call_NheTr6jPV4EZPe0g1Xluhdhy', artifact={'query': 'famous places to visit in Bangalore', 'follow_up_questions': None, 'answer': None, 'images': [], 'results': [{'url': 'https://www.captureatrip.com/blog/places-to-visit-in-bangalore', 'title': '10 Places to visit in Bengaluru 2025 - Capture A Trip', 'content': '3. What are the famous places to visit in Bangalore ?\\n\\nOthers are Vidhana Soudha, Bangalore Palace and Bull Temple for its historical and cultural value.\\n\\n4. Where can I go for a weekend in Bangalore?\\n\\nNandi Hills is another suitable place for a weekend trip and it offers scenic views of the city while Bannerghatta National Park offers a wildlife experience.\\n\\nRecent Blogs\\n\\nOutstanding Hill Stations Near Nainital For a Peaceful Journey\\n\\nExplore 10 Best Things To Do In Georgia [...] This beautiful palace was the summer residence of the great Kingdom’s ruler, Tipu Sultan and is an Indo Islamic architectural masterpiece. This place is one of the most famous places to visit in Bangalore due to the presence of gorgeous wooden carved work and history.\\n\\n4. ISKCON Temple: [...] Here are the top 10 places to visit in Bangalore if anybody has the zeal to explore them which includes some historical places, parks, and cultural places. All these places make the city diverse by just giving each place uniqueness that attracts different people.\\n\\n1. Vidhana Soudha:\\n\\n\\n\\nThis big edifice is the home of the state legislature of Karnataka in India. This makes it count among the most visited places in Bangalore, thanks to its beautiful architectural design.', 'score': 0.89720124, 'raw_content': None}, {'url': 'https://www.holidify.com/places/bangalore/sightseeing-and-things-to-do.html', 'title': '52 Best Places to visit in Bangalore | Top Tourist Attractions - Holidify', 'content': 'Bangalore\\nPlaces To Visit\\nPackages\\nHotels\\nHow to Reach\\nBest Time To Visit\\nPhotos\\nFood\\n\\nMore\\n\\n\\nCollections\\n\\n\\nMap\\n\\n\\nReviews & QnA\\n\\n\\nTravel Agents\\n\\n\\n\\n\\nCollections\\n\\nMap\\nReviews & QnA\\nTravel Agents\\n\\nBangalore, Karnataka\\nLalbagh\\nCubbon Park\\nBangalore Palace\\nBannerghatta National Park [...] Places To Visit in Bangalore\\nLocated in : Central Bangalore\\nSpread over an area of 300 acres, Cubbon Park in the city of Bangalore is a major sightseeing attraction rich in green foliage. It is a green belt region of the city and is an ideal place for nature lovers and those seeking a calm atmosphere. Having been laid down by Lord Cubbon, the park is named so in his honour. It is home to more than 6,000 trees that support a vibrant ecosystem.\\nRead More [...] Art Gallery \\xa0\\xa0Garden & Park \\xa0\\xa0Amusement & Theme Park \\xa0\\xa0Forts & Palaces \\xa0\\xa0Hills & Valleys \\xa0\\xa0Temple \\xa0\\xa0Lake \\xa0\\xa0Museum \\xa0\\xa0Waterfall \\xa0\\xa0Commercial Street \\xa0\\xa0Shopping Market \\xa0\\xa0Monument \\xa0\\xa0National Park \\xa0\\xa0Yoga & Meditation \\xa0\\xa0Buddhist Temple \\xa0\\xa0Planetarium \\xa0\\xa0Church & Cathedral \\xa0\\xa0Aquarium \\xa0\\xa0Adventure Zone \\nClear All Apply', 'score': 0.85825616, 'raw_content': None}, {'url': 'https://www.viator.com/Bangalore/d5310', 'title': 'THE BEST 15 Things To Do in Bangalore (UPDATED 2025) - Viator', 'content': \"Dubbed the Silicon Valley of India for its massive IT industry, the South Indian city of Bangalore has all the trappings of a city that means business, from fantastic shopping to exceptional restaurants. There are plenty of things to do in Bangalore for visitors, from relaxing in the city’s Cubbon Park and Lalbagh Botanical Gardens to marveling at the architecture of Tipu Sultan's Summer Palace, Bangalore Palace, and Vidhana Soudha. And if you need a break from city life, you can simply head up\", 'score': 0.85216236, 'raw_content': None}, {'url': 'https://www.instagram.com/travelfitnancy/reel/C4S7whqpXH6/?hl=en', 'title': 'New to Bangalore? Here are the top 5 places you can visit, 1. Nandi ...', 'content': 'travelfitnancy on March 9, 2024: \"New to Bangalore? Here are the top 5 places you can visit, 1. Nandi Hills 2. Lalbagh Botanical Garden 3.', 'score': 0.8440111, 'raw_content': None}, {'url': 'https://www.incredibleindia.gov.in/en/karnataka/bengaluru', 'title': 'Bengaluru Tourist Places | Best Places To Visit - Incredible India', 'content': \"Bengaluru—the city that codes poetry, brews coffee, and dances to its rhythm. Let’s explore its pixels and palimpsests, one byte at a time.\\n\\nAttractions\\n\\nworth a thousand stories\\n\\nGhati Subramanya Temple\\n\\nUlsoor Lake\\n\\nDevanahalli Fort\\n\\nMuthyala Maduvu\\n\\nTipu Sultan Palace\\n\\nRagigudda Anjaneya Temple\\n\\nPuttanna Chetty Town Hall\\n\\nNandi Hills\\n\\nLalbagh\\n\\nShivagange\\n\\nTipu Sultan's Birthplace\\n\\nA trove of\\n\\nfascinating facts\\n\\nA trove of\\n\\nfascinating facts [...] The big boom may be over, but Bengaluru’s bright young things still have money to spend, and nightlife in the city is thriving. A night on the town generally starts with a bar crawl along Brigade Road, Residency Road, or Church Street. For quiet, elegant drinking, head for the bars of five-star hotels such as the Jockey Club at the Taj Residency or its competition, the Polo Club at the Oberoi, and for a taste of colonial grandeur, the Colonnade at the Taj West End.\\n\\nA shopper’s paradise\", 'score': 0.82082915, 'raw_content': None}], 'response_time': 3.45}), ToolMessage(content='[{\"title\": \"Best Restaurants In Bangalore To Delight Your Taste Buds In 2025!\", \"url\": \"https://traveltriangle.com/blog/best-restaurants-in-bangalore/\", \"content\": \"The king of cafes in Bangalore, Toit has set an unmatched standard amongst all the best restaurants in Bangalore. Freshly brewed beer, lively music, and a wide variety of international main courses and starters combine to give this place a ‘must-visit’ tag for any first-timer. It is one of the best restaurants in Bangalore for couples who share a love of pizzas and beers.\\\\n\\\\nAddress: Indiranagar, 100 Feet Rd, Near Drops Total Spirits, Bengaluru, Karnataka 560038 [...] It is impossible to have a list of the best restaurants in Bangalore, without naming its very own Hard Rock Cafe. This cafe, probably, needs no introduction as it has become a household name amongst music and food lovers from all around the world. The brand has built such a reputation that the HRC often gets counted as a sightseeing place for any traveller going to a new city. This is amongst the best restaurants in Bangalore for family and friends to visit. [...] Jamavar is another luxury restaurant that you need to consider visiting. Featuring an ethnic ambience, and indoor and outdoor seating plans, this restaurant serves delectable food. Moreover, this is a kid-friendly place that is also wheelchair accessible. The restaurant is amazing with hospitality, hygiene, food yumminess, and prep times. Special occasions deserve a special treat here.\\\\n\\\\nAddress:\\xa0The Leela Palace, Old Airport Road, Bangalore\\\\n\\\\nTimings:\\xa012–3\\u202fpm, 7–11:30\\u202fpm\\\\n\\\\nCost for two: INR 5000\", \"score\": 0.86767644}, {\"title\": \"What are the must-visit food places in Bangalore, and when ... - Quora\", \"url\": \"https://www.quora.com/What-are-the-must-visit-food-places-in-Bangalore-and-when-is-the-best-time-to-visit-that-place\", \"content\": \"1.Vidyarthi Bhavan. Vidyarthi Bhavan is an iconic eatery in Bangalore that has been serving the best dosa in Bangalore since 1943.\", \"score\": 0.85995835}, {\"title\": \"Shreya Pandey | Must visit restaurants in Bengaluru for Indian food ...\", \"url\": \"https://www.instagram.com/reel/C73Dl0iv2fw/\", \"content\": \"Must visit restaurants in Bengaluru for Indian food. These restaurants are not only beautiful and extravagant but food is also great. Karigari\", \"score\": 0.78532547}, {\"title\": \"The 50 best places to eat in Bengaluru - Wanderlog\", \"url\": \"https://wanderlog.com/list/geoCategory/1510029/best-places-to-eat-in-bengaluru\", \"content\": \"21Barbeque Nation\\\\n\\\\n22MTR\\\\n\\\\n23Byg Brewski Brewing Company\\\\n\\\\n24Nagarjuna Restaurant - Residency Road\\\\n\\\\n25Arbor Brewing Company\\\\n\\\\n26Jamavar\\\\n\\\\n27The Fatty Bao\\\\n\\\\n28High Ultra Lounge\\\\n\\\\n29Sunnys Restaurant\\\\n\\\\n30Ebony\\\\n\\\\n31Maiyas Beverages And Foods Private Limited\\\\n\\\\n32Persian Terrace\\\\n\\\\n33Skyye\\\\n\\\\n34The Permit Room\\\\n\\\\n35Indian Coffee House\\\\n\\\\n36Toast & Tonic\\\\n\\\\n37Wabi Sabi\\\\n\\\\n38Lapis\\\\n\\\\n39Roxie\\\\n\\\\n40V. V. Puram Food Street\\\\n\\\\n41Karnataka Bhel House\\\\n\\\\n42Suryawanshi Restaurant\\\\n\\\\n43The Hole In The Wall Cafe Kammanahalli [...] Navigate backward to interact with the calendar and select a date. Press the question mark key to get the keyboard shortcuts for changing dates.\\\\n\\\\n3Brahmins\\' Coffee Bar\\\\n\\\\n4Vidyarthi Bhavan\\\\n\\\\n5Central Tiffin Room\\\\n\\\\n6Sri Sairam\\'s Chats & Juice Centre\\\\n\\\\n7Truffles\\\\n\\\\n8Shiro\\\\n\\\\n9Koshy\\'s\\\\n\\\\n10Rim Naam\\\\n\\\\n11Chutney Chang\\\\n\\\\n12Olive Beach\\\\n\\\\n13Veena Stores\\\\n\\\\n14Caperberry\\\\n\\\\n15Shivaji Military Hotel\\\\n\\\\n16Oota Bangalore\\\\n\\\\n17Grasshopper\\\\n\\\\n18Khan Saheb Grills and Rolls\\\\n\\\\n19SMTR - Sri Maruthi Tiffin Room\\\\n\\\\n20Nagarjuna [...] As you explore the bustling streets of Bengaluru, you\\'ll discover a mix of iconic eateries and hidden gems that showcase the best of local flavors. From the legendary Vidyarthi Bhavan, famous for its crispy Benne Masala Dosa, to the charming Brahmins\\' Coffee Bar, where the aroma of freshly brewed coffee fills the air, each spot tells a story of its own. The Wanderlog team is passionate about uncovering these culinary treasures, and we invite you to join us on a journey through the best places\", \"score\": 0.6994397}, {\"title\": \"The Best Restaurants in Bengaluru for Dining Out - Zomato\", \"url\": \"https://www.zomato.com/bangalore/restaurants\", \"content\": \"Restaurants in Bengaluru · Atlantis · Jamavar - The Leela Palace · Sozo Skyline · Muro · Feast - Sheraton Grand Bangalore Hotel at Brigade Gateway · Mirage.\", \"score\": 0.6884899}]', name='tavily_search_results_json', tool_call_id='call_UoOT3m5svSe0vMILWeIx6l75', artifact={'query': 'must visit restaurants in Bangalore', 'follow_up_questions': None, 'answer': None, 'images': [], 'results': [{'url': 'https://traveltriangle.com/blog/best-restaurants-in-bangalore/', 'title': 'Best Restaurants In Bangalore To Delight Your Taste Buds In 2025!', 'content': 'The king of cafes in Bangalore, Toit has set an unmatched standard amongst all the best restaurants in Bangalore. Freshly brewed beer, lively music, and a wide variety of international main courses and starters combine to give this place a ‘must-visit’ tag for any first-timer. It is one of the best restaurants in Bangalore for couples who share a love of pizzas and beers.\\n\\nAddress: Indiranagar, 100 Feet Rd, Near Drops Total Spirits, Bengaluru, Karnataka 560038 [...] It is impossible to have a list of the best restaurants in Bangalore, without naming its very own Hard Rock Cafe. This cafe, probably, needs no introduction as it has become a household name amongst music and food lovers from all around the world. The brand has built such a reputation that the HRC often gets counted as a sightseeing place for any traveller going to a new city. This is amongst the best restaurants in Bangalore for family and friends to visit. [...] Jamavar is another luxury restaurant that you need to consider visiting. Featuring an ethnic ambience, and indoor and outdoor seating plans, this restaurant serves delectable food. Moreover, this is a kid-friendly place that is also wheelchair accessible. The restaurant is amazing with hospitality, hygiene, food yumminess, and prep times. Special occasions deserve a special treat here.\\n\\nAddress:\\xa0The Leela Palace, Old Airport Road, Bangalore\\n\\nTimings:\\xa012–3\\u202fpm, 7–11:30\\u202fpm\\n\\nCost for two: INR 5000', 'score': 0.86767644, 'raw_content': None}, {'url': 'https://www.quora.com/What-are-the-must-visit-food-places-in-Bangalore-and-when-is-the-best-time-to-visit-that-place', 'title': 'What are the must-visit food places in Bangalore, and when ... - Quora', 'content': '1.Vidyarthi Bhavan. Vidyarthi Bhavan is an iconic eatery in Bangalore that has been serving the best dosa in Bangalore since 1943.', 'score': 0.85995835, 'raw_content': None}, {'url': 'https://www.instagram.com/reel/C73Dl0iv2fw/', 'title': 'Shreya Pandey | Must visit restaurants in Bengaluru for Indian food ...', 'content': 'Must visit restaurants in Bengaluru for Indian food. These restaurants are not only beautiful and extravagant but food is also great. Karigari', 'score': 0.78532547, 'raw_content': None}, {'url': 'https://wanderlog.com/list/geoCategory/1510029/best-places-to-eat-in-bengaluru', 'title': 'The 50 best places to eat in Bengaluru - Wanderlog', 'content': \"21Barbeque Nation\\n\\n22MTR\\n\\n23Byg Brewski Brewing Company\\n\\n24Nagarjuna Restaurant - Residency Road\\n\\n25Arbor Brewing Company\\n\\n26Jamavar\\n\\n27The Fatty Bao\\n\\n28High Ultra Lounge\\n\\n29Sunnys Restaurant\\n\\n30Ebony\\n\\n31Maiyas Beverages And Foods Private Limited\\n\\n32Persian Terrace\\n\\n33Skyye\\n\\n34The Permit Room\\n\\n35Indian Coffee House\\n\\n36Toast & Tonic\\n\\n37Wabi Sabi\\n\\n38Lapis\\n\\n39Roxie\\n\\n40V. V. Puram Food Street\\n\\n41Karnataka Bhel House\\n\\n42Suryawanshi Restaurant\\n\\n43The Hole In The Wall Cafe Kammanahalli [...] Navigate backward to interact with the calendar and select a date. Press the question mark key to get the keyboard shortcuts for changing dates.\\n\\n3Brahmins' Coffee Bar\\n\\n4Vidyarthi Bhavan\\n\\n5Central Tiffin Room\\n\\n6Sri Sairam's Chats & Juice Centre\\n\\n7Truffles\\n\\n8Shiro\\n\\n9Koshy's\\n\\n10Rim Naam\\n\\n11Chutney Chang\\n\\n12Olive Beach\\n\\n13Veena Stores\\n\\n14Caperberry\\n\\n15Shivaji Military Hotel\\n\\n16Oota Bangalore\\n\\n17Grasshopper\\n\\n18Khan Saheb Grills and Rolls\\n\\n19SMTR - Sri Maruthi Tiffin Room\\n\\n20Nagarjuna [...] As you explore the bustling streets of Bengaluru, you'll discover a mix of iconic eateries and hidden gems that showcase the best of local flavors. From the legendary Vidyarthi Bhavan, famous for its crispy Benne Masala Dosa, to the charming Brahmins' Coffee Bar, where the aroma of freshly brewed coffee fills the air, each spot tells a story of its own. The Wanderlog team is passionate about uncovering these culinary treasures, and we invite you to join us on a journey through the best places\", 'score': 0.6994397, 'raw_content': None}, {'url': 'https://www.zomato.com/bangalore/restaurants', 'title': 'The Best Restaurants in Bengaluru for Dining Out - Zomato', 'content': 'Restaurants in Bengaluru · Atlantis · Jamavar - The Leela Palace · Sozo Skyline · Muro · Feast - Sheraton Grand Bangalore Hotel at Brigade Gateway · Mirage.', 'score': 0.6884899, 'raw_content': None}], 'response_time': 3.01}), AIMessage(content=\"### Famous Places to Visit in Bangalore\\n\\n1. **Vidhana Soudha**: This iconic building is the seat of the state legislature of Karnataka and is renowned for its beautiful architectural design.\\n   \\n2. **Bangalore Palace**: Known for its Tudor-style architecture and sprawling grounds, the palace gives a glimpse into the regal history of Bangalore.\\n\\n3. **Cubbon Park**: Spanning over 300 acres, this lush green park is a favorite spot for nature lovers and those seeking a peaceful retreat within the city.\\n\\n4. **Lalbagh Botanical Garden**: Famous for its glass house and diverse flora, it is a must-visit for gardening enthusiasts and those who enjoy a leisurely stroll amidst nature.\\n\\n5. **Bannerghatta National Park**: Located on the outskirts of Bangalore, this park offers a chance to experience wildlife and is famous for its safari rides.\\n\\n6. **Nandi Hills**: A great spot for a weekend getaway, known for its scenic views and the historical Nandi Fortress.\\n\\n7. **ISKCON Temple**: A spiritual retreat in the midst of the bustling city, known for its architectural grandeur and spiritual activities.\\n\\n8. **Tipu Sultan's Summer Palace**: A stunning example of Indo-Islamic architecture, this palace showcases exquisite wooden carvings and historical artifacts.\\n\\nFor further exploration on these places, visit [Capture a Trip](https://www.captureatrip.com/blog/places-to-visit-in-bangalore).\\n\\n### Must-Visit Restaurants in Bangalore\\n\\n1. **Toit**: Known for freshly brewed beer and a lively atmosphere, it’s a must-visit for beer and pizza lovers. Located in Indiranagar.\\n\\n2. **Hard Rock Café**: A popular spot known for its rock music-themed dining experience.\\n\\n3. **Jamavar**: Located at The Leela Palace, it offers luxury dining with authentic Indian cuisine in a beautiful setting.\\n\\n4. **Vidyarthi Bhavan**: An iconic eatery in Bangalore, famous for serving the best dosas since 1943.\\n\\n5. **Barbeque Nation**: Known for its live grill experience and extensive buffet options.\\n\\n6. **Brahmins' Coffee Bar**: A legendary place for coffee enthusiasts, known for its traditional South Indian breakfast.\\n\\n7. **The Fatty Bao**: Offers a fusion of Asian cuisines in a chic and modern setting.\\n\\n8. **Skyye**: A rooftop restaurant offering stunning views of Bangalore’s skyline, perfect for a fancy night out.\\n\\nFor more dining options, explore [Travel Triangle](https://traveltriangle.com/blog/best-restaurants-in-bangalore/) and [Wanderlog](https://wanderlog.com/list/geoCategory/1510029/best-places-to-eat-in-bengaluru).\", additional_kwargs={'refusal': None}, response_metadata={'token_usage': {'completion_tokens': 568, 'prompt_tokens': 2736, 'total_tokens': 3304, 'completion_tokens_details': {'accepted_prediction_tokens': 0, 'audio_tokens': 0, 'reasoning_tokens': 0, 'rejected_prediction_tokens': 0}, 'prompt_tokens_details': {'audio_tokens': 0, 'cached_tokens': 0}}, 'model_name': 'gpt-4o-2024-08-06', 'system_fingerprint': 'fp_92f14e8683', 'finish_reason': 'stop', 'logprobs': None}, id='run-f2afa37a-c027-46a7-9702-3af8019cbbfe-0', usage_metadata={'input_tokens': 2736, 'output_tokens': 568, 'total_tokens': 3304, 'input_token_details': {'audio': 0, 'cache_read': 0}, 'output_token_details': {'audio': 0, 'reasoning': 0}}), ['user', 'what is a weather there?'], ['user', 'what is a weather there?'], AIMessage(content='', additional_kwargs={'tool_calls': [{'id': 'call_0NLdfZAg6hKgq0QpJ0GSNSYM', 'function': {'arguments': '{\"query\":\"Bangalore weather today\"}', 'name': 'tavily_search_results_json'}, 'type': 'function'}], 'refusal': None}, response_metadata={'token_usage': {'completion_tokens': 22, 'prompt_tokens': 3326, 'total_tokens': 3348, 'completion_tokens_details': {'accepted_prediction_tokens': 0, 'audio_tokens': 0, 'reasoning_tokens': 0, 'rejected_prediction_tokens': 0}, 'prompt_tokens_details': {'audio_tokens': 0, 'cached_tokens': 3200}}, 'model_name': 'gpt-4o-2024-08-06', 'system_fingerprint': 'fp_92f14e8683', 'finish_reason': 'tool_calls', 'logprobs': None}, id='run-f2f60d63-6e81-4312-bf95-d565a60e3652-0', tool_calls=[{'name': 'tavily_search_results_json', 'args': {'query': 'Bangalore weather today'}, 'id': 'call_0NLdfZAg6hKgq0QpJ0GSNSYM', 'type': 'tool_call'}], usage_metadata={'input_tokens': 3326, 'output_tokens': 22, 'total_tokens': 3348, 'input_token_details': {'audio': 0, 'cache_read': 3200}, 'output_token_details': {'audio': 0, 'reasoning': 0}}), ToolMessage(content='[{\"title\": \"bengaluru Weather Forecast 13 Apr 2025 - Times of India\", \"url\": \"https://timesofindia.indiatimes.com/weather/bengaluru-weather-forecast-today/560001\", \"content\": \"Today\\'s Weather in Bengaluru: In Bengaluru today, the weather is expected to be Partly Cloudy with a maximum temperature of 32°C and a minimum of 17°C.\", \"score\": 0.96205425}, {\"title\": \"Weather in Bangalore\", \"url\": \"https://www.weatherapi.com/\", \"content\": \"{\\'location\\': {\\'name\\': \\'Bangalore\\', \\'region\\': \\'Karnataka\\', \\'country\\': \\'India\\', \\'lat\\': 12.9833, \\'lon\\': 77.5833, \\'tz_id\\': \\'Asia/Kolkata\\', \\'localtime_epoch\\': 1744563279, \\'localtime\\': \\'2025-04-13 22:24\\'}, \\'current\\': {\\'last_updated_epoch\\': 1744562700, \\'last_updated\\': \\'2025-04-13 22:15\\', \\'temp_c\\': 23.0, \\'temp_f\\': 73.4, \\'is_day\\': 0, \\'condition\\': {\\'text\\': \\'Partly cloudy\\', \\'icon\\': \\'//cdn.weatherapi.com/weather/64x64/night/116.png\\', \\'code\\': 1003}, \\'wind_mph\\': 6.7, \\'wind_kph\\': 10.8, \\'wind_degree\\': 177, \\'wind_dir\\': \\'S\\', \\'pressure_mb\\': 1016.0, \\'pressure_in\\': 30.0, \\'precip_mm\\': 0.0, \\'precip_in\\': 0.0, \\'humidity\\': 73, \\'cloud\\': 50, \\'feelslike_c\\': 23.8, \\'feelslike_f\\': 74.8, \\'windchill_c\\': 28.6, \\'windchill_f\\': 83.4, \\'heatindex_c\\': 27.6, \\'heatindex_f\\': 81.7, \\'dewpoint_c\\': 10.0, \\'dewpoint_f\\': 49.9, \\'vis_km\\': 6.0, \\'vis_miles\\': 3.0, \\'uv\\': 0.0, \\'gust_mph\\': 10.6, \\'gust_kph\\': 17.1}}\", \"score\": 0.9284724}, {\"title\": \"Weather Bengaluru in April 2025: Temperature & Climate\", \"url\": \"https://en.climate-data.org/asia/india/karnataka/bengaluru-4562/t/april-4/\", \"content\": \"Min. Temperature °C (°F) | 14.6 °C(58.4) °F | 16.1 °C(61) °F | 18.7 °C(65.6) °F | 20.8 °C(69.4) °F | 21 °C(69.8) °F | 20.2 °C(68.3) °F | 19.8 °C(67.6) °F | 19.4 °C(66.9) °F | 19 °C(66.2) °F | 18.4 °C(65.1) °F | 16.7 °C(62) °F | 15.1 °C(59.1) °F\\\\nMax. Temperature °C (°F) | 27.4 °C(81.2) °F | 29.6 °C(85.3) °F | 32.1 °C(89.8) °F | 32.8 °C(91.1) °F | 31.2 °C(88.2) °F | 27.5 °C(81.5) °F | 26.4 °C(79.5) °F | 26.1 °C(79) °F | 26.7 °C(80) °F | 26.4 °C(79.6) °F | 25.7 °C(78.3) °F | 25.8 °C(78.4) °F [...] (69.3)  °F\\\\n\\\\n22.8 °C\\\\n\\\\n(73)  °F\\\\n\\\\n25.4 °C\\\\n\\\\n(77.8)  °F\\\\n\\\\n26.6 °C\\\\n\\\\n(80)  °F\\\\n\\\\n25.5 °C\\\\n\\\\n(77.9)  °F\\\\n\\\\n23.2 °C\\\\n\\\\n(73.8)  °F\\\\n\\\\n22.4 °C\\\\n\\\\n(72.3)  °F\\\\n\\\\n22.2 °C\\\\n\\\\n(71.9)  °F\\\\n\\\\n22.4 °C\\\\n\\\\n(72.3)  °F\\\\n\\\\n22 °C\\\\n\\\\n(71.6)  °F\\\\n\\\\n20.9 °C\\\\n\\\\n(69.7)  °F\\\\n\\\\n20.1 °C\\\\n\\\\n(68.2)  °F\\\\n\\\\n14.6 °C\\\\n\\\\n(58.4) °F\\\\n\\\\n16.1 °C\\\\n\\\\n(61) °F\\\\n\\\\n18.7 °C\\\\n\\\\n(65.6) °F\\\\n\\\\n20.8 °C\\\\n\\\\n(69.4) °F\\\\n\\\\n21 °C\\\\n\\\\n(69.8) °F\\\\n\\\\n20.2 °C\\\\n\\\\n(68.3) °F\\\\n\\\\n19.8 °C\\\\n\\\\n(67.6) °F\\\\n\\\\n19.4 °C\\\\n\\\\n(66.9) °F\\\\n\\\\n19 °C\\\\n\\\\n(66.2) °F\\\\n\\\\n18.4 °C\\\\n\\\\n(65.1) °F\\\\n\\\\n16.7 °C\\\\n\\\\n(62) °F\\\\n\\\\n15.1 °C\\\\n\\\\n(59.1) °F\\\\n\\\\n27.4 °C\\\\n\\\\n(81.2) °F\\\\n\\\\n29.6 °C [...] (85.3) °F\\\\n\\\\n32.1 °C\\\\n\\\\n(89.8) °F\\\\n\\\\n32.8 °C\\\\n\\\\n(91.1) °F\\\\n\\\\n31.2 °C\\\\n\\\\n(88.2) °F\\\\n\\\\n27.5 °C\\\\n\\\\n(81.5) °F\\\\n\\\\n26.4 °C\\\\n\\\\n(79.5) °F\\\\n\\\\n26.1 °C\\\\n\\\\n(79) °F\\\\n\\\\n26.7 °C\\\\n\\\\n(80) °F\\\\n\\\\n26.4 °C\\\\n\\\\n(79.6) °F\\\\n\\\\n25.7 °C\\\\n\\\\n(78.3) °F\\\\n\\\\n25.8 °C\\\\n\\\\n(78.4) °F\\\\n\\\\n4\\\\n\\\\n(0)\\\\n\\\\n7\\\\n\\\\n(0)\\\\n\\\\n16\\\\n\\\\n(0)\\\\n\\\\n45\\\\n\\\\n(1)\\\\n\\\\n131\\\\n\\\\n(5)\\\\n\\\\n126\\\\n\\\\n(4)\\\\n\\\\n134\\\\n\\\\n(5)\\\\n\\\\n137\\\\n\\\\n(5)\\\\n\\\\n125\\\\n\\\\n(4)\\\\n\\\\n147\\\\n\\\\n(5)\\\\n\\\\n65\\\\n\\\\n(2)\\\\n\\\\n23\\\\n\\\\n(0)\", \"score\": 0.9134376}, {\"title\": \"Bangalore weather in April 2025 - Weather25.com\", \"url\": \"https://www.weather25.com/asia/india/karnataka/bangalore?page=month&month=April\", \"content\": \"Location was added to My Locations\\\\nLocation was removed from My Locations\\\\nMarch\\\\nMay\\\\nBangalore weather in April 2025\\\\nThe weather in Bangalore in April is very hot. The average temperatures are between 24°C and 36°C, drinking water regularly is advisable.\\\\nYou can expect about 3 to 8 days of rain in Bangalore during the month of April. It’s a good idea to bring along your umbrella so that you don’t get caught in poor weather. [...] | Sun | Mon | Tue | Wed | Thu | Fri | Sat |\\\\n| --- | --- | --- | --- | --- | --- | --- |\\\\n| \\\\n | \\\\n| 1  36° /23° | 2  36° /23° | 3  36° /23° | 4  35° /23° | 5  36° /23° |\\\\n| 6  36° /23° | 7  36° /24° | 8  35° /22° | 9  35° /23° | 10  35° /23° | 11  36° /23° | 12  36° /23° |\\\\n| 13  36° /23° | 14  35° /23° | 15  34° /23° | 16  36° /23° | 17  36° /24° | 18  35° /24° | 19  35° /24° |\\\\n| 20  35° /24° | 21  36° /24° | 22  35° /24° | 23  35° /23° | 24  36° /24° | 25  35° /24° | 26  35° /25° | [...] Temperatures\\\\n36° / 24°\\\\n\\\\nRainy Days\\\\n4\\\\n\\\\nSnowy Days\\\\n0\\\\n\\\\nDry Days\\\\n26\\\\n\\\\nRainfall\\\\n61\\\\nmm\\\\n\\\\nSun Hours\\\\n11.8\\\\nHrs\\\\nHistoric average weather for April\\\\n\\\\nApril\", \"score\": 0.8943568}, {\"title\": \"Weather in Bangalore in April 2025 (State of Karnātaka)\", \"url\": \"https://world-weather.info/forecast/india/bangalor/april-2025/\", \"content\": \"2\\\\n+93°+77°\\\\n\\\\n\\\\n3\\\\n+93°+79°\\\\n\\\\n\\\\n4\\\\n+91°+79°\\\\n\\\\n\\\\n5\\\\n+91°+79°\\\\n\\\\n\\\\n6\\\\n+91°+79°\\\\n\\\\n\\\\n7\\\\n+91°+79°\\\\n\\\\n\\\\n8\\\\n+91°+79°\\\\n\\\\n\\\\n9\\\\n+93°+79°\\\\n\\\\n\\\\n10\\\\n+91°+79°\\\\n\\\\n\\\\n11\\\\n+93°+79°\\\\n\\\\n\\\\n12\\\\n+91°+79°\\\\n\\\\n\\\\n13\\\\n+91°+79°\\\\n\\\\n\\\\n14\\\\n+91°+79°\\\\n\\\\n\\\\n15\\\\n+93°+77°\\\\n\\\\n\\\\n16\\\\n+91°+77°\\\\n\\\\n\\\\n17\\\\n+91°+79°\\\\n\\\\n\\\\n18\\\\n+93°+79°\\\\n\\\\n\\\\n19\\\\n+91°+79°\\\\n\\\\n\\\\n20\\\\n+90°+79°\\\\n\\\\n\\\\n21\\\\n+90°+77°\\\\n\\\\n\\\\n22\\\\n+90°+79°\\\\n\\\\n\\\\n23\\\\n+91°+79°\\\\n\\\\n\\\\n24\\\\n+91°+79°\\\\n\\\\n\\\\n25\\\\n+88°+77°\\\\n\\\\n\\\\n26\\\\n+90°+79°\\\\n\\\\n\\\\n27\\\\n+91°+79°\\\\n\\\\n\\\\n28\\\\n+91°+79°\\\\n\\\\n\\\\n29\\\\n+90°+79°\\\\n\\\\n\\\\n30\\\\n+90°+79°\\\\n\\\\n\\\\nExtended weather forecast in Bangalore\\\\nHourlyWeek10-Day14-Day30-DayYear [...] Weather in Bangalore in April 2025 (State of Karnātaka) - Detailed Weather Forecast for a Month\\\\n\\\\nAdd the current city\\\\nSearch\\\\n\\\\nWeather\\\\nArchive\\\\nWidgets\\\\n\\\\n°F\\\\n\\\\nWorld\\\\nIndia\\\\nState of Karnātaka\\\\nWeather in Bangalore\\\\n\\\\nWeather in Bangalore in April 2025\\\\nBangalore Weather Forecast for April 2025, is based on previous years\\' statistical data.\\\\n201520162017201820192020202120222023202420252026\\\\nJanFebMarAprMayJunJulAugSepOctNovDec\\\\nApril\\\\nStart Week On\\\\nSunday\\\\nMonday\\\\n\\\\nSun\\\\nMon\\\\nTue\\\\nWed\\\\nThu\\\\nFri\\\\n\\\\nSat\\\\n\\\\n\\\\n1\\\\n+91°+77° [...] Weather in large and nearby cities\\\\nWeather in New Delhi+73°\\\\nAvadi+88°\\\\nKozhikode+90°\\\\nAmbattur+88°\\\\nChennai+88°\\\\nDindigul+82°\\\\nThanjavur+86°\\\\nMangalore+86°\\\\nNellore+86°\\\\nTiruchchirāppalli+86°\\\\nPuducherry+86°\\\\nBellary+84°\\\\nMysore+81°\\\\nSalem+86°\\\\nAnantapur+84°\\\\nTirupati+82°\\\\nKothakota+86°\\\\nVathalur+86°\\\\nMinimum and maximum\\\\nworld\\'s temperature today\\\\nRussia\\\\nZyryanka\\\\nday\\\\n-22°F\\\\nnight\\\\n-49°F\\\\nChad\\\\nMongo\\\\nday\\\\n+109°F\\\\nnight\\\\n+73°F\\\\nServices\\\\nSupport\\\\n\\\\nUser agreement\\\\nFeedback\\\\nAbout Us\", \"score\": 0.8898454}]', name='tavily_search_results_json', tool_call_id='call_0NLdfZAg6hKgq0QpJ0GSNSYM', artifact={'query': 'Bangalore weather today', 'follow_up_questions': None, 'answer': None, 'images': [], 'results': [{'url': 'https://timesofindia.indiatimes.com/weather/bengaluru-weather-forecast-today/560001', 'title': 'bengaluru Weather Forecast 13 Apr 2025 - Times of India', 'content': \"Today's Weather in Bengaluru: In Bengaluru today, the weather is expected to be Partly Cloudy with a maximum temperature of 32°C and a minimum of 17°C.\", 'score': 0.96205425, 'raw_content': None}, {'title': 'Weather in Bangalore', 'url': 'https://www.weatherapi.com/', 'content': \"{'location': {'name': 'Bangalore', 'region': 'Karnataka', 'country': 'India', 'lat': 12.9833, 'lon': 77.5833, 'tz_id': 'Asia/Kolkata', 'localtime_epoch': 1744563279, 'localtime': '2025-04-13 22:24'}, 'current': {'last_updated_epoch': 1744562700, 'last_updated': '2025-04-13 22:15', 'temp_c': 23.0, 'temp_f': 73.4, 'is_day': 0, 'condition': {'text': 'Partly cloudy', 'icon': '//cdn.weatherapi.com/weather/64x64/night/116.png', 'code': 1003}, 'wind_mph': 6.7, 'wind_kph': 10.8, 'wind_degree': 177, 'wind_dir': 'S', 'pressure_mb': 1016.0, 'pressure_in': 30.0, 'precip_mm': 0.0, 'precip_in': 0.0, 'humidity': 73, 'cloud': 50, 'feelslike_c': 23.8, 'feelslike_f': 74.8, 'windchill_c': 28.6, 'windchill_f': 83.4, 'heatindex_c': 27.6, 'heatindex_f': 81.7, 'dewpoint_c': 10.0, 'dewpoint_f': 49.9, 'vis_km': 6.0, 'vis_miles': 3.0, 'uv': 0.0, 'gust_mph': 10.6, 'gust_kph': 17.1}}\", 'score': 0.9284724, 'raw_content': None}, {'url': 'https://en.climate-data.org/asia/india/karnataka/bengaluru-4562/t/april-4/', 'title': 'Weather Bengaluru in April 2025: Temperature & Climate', 'content': 'Min. Temperature °C (°F) | 14.6 °C(58.4) °F | 16.1 °C(61) °F | 18.7 °C(65.6) °F | 20.8 °C(69.4) °F | 21 °C(69.8) °F | 20.2 °C(68.3) °F | 19.8 °C(67.6) °F | 19.4 °C(66.9) °F | 19 °C(66.2) °F | 18.4 °C(65.1) °F | 16.7 °C(62) °F | 15.1 °C(59.1) °F\\nMax. Temperature °C (°F) | 27.4 °C(81.2) °F | 29.6 °C(85.3) °F | 32.1 °C(89.8) °F | 32.8 °C(91.1) °F | 31.2 °C(88.2) °F | 27.5 °C(81.5) °F | 26.4 °C(79.5) °F | 26.1 °C(79) °F | 26.7 °C(80) °F | 26.4 °C(79.6) °F | 25.7 °C(78.3) °F | 25.8 °C(78.4) °F [...] (69.3)  °F\\n\\n22.8 °C\\n\\n(73)  °F\\n\\n25.4 °C\\n\\n(77.8)  °F\\n\\n26.6 °C\\n\\n(80)  °F\\n\\n25.5 °C\\n\\n(77.9)  °F\\n\\n23.2 °C\\n\\n(73.8)  °F\\n\\n22.4 °C\\n\\n(72.3)  °F\\n\\n22.2 °C\\n\\n(71.9)  °F\\n\\n22.4 °C\\n\\n(72.3)  °F\\n\\n22 °C\\n\\n(71.6)  °F\\n\\n20.9 °C\\n\\n(69.7)  °F\\n\\n20.1 °C\\n\\n(68.2)  °F\\n\\n14.6 °C\\n\\n(58.4) °F\\n\\n16.1 °C\\n\\n(61) °F\\n\\n18.7 °C\\n\\n(65.6) °F\\n\\n20.8 °C\\n\\n(69.4) °F\\n\\n21 °C\\n\\n(69.8) °F\\n\\n20.2 °C\\n\\n(68.3) °F\\n\\n19.8 °C\\n\\n(67.6) °F\\n\\n19.4 °C\\n\\n(66.9) °F\\n\\n19 °C\\n\\n(66.2) °F\\n\\n18.4 °C\\n\\n(65.1) °F\\n\\n16.7 °C\\n\\n(62) °F\\n\\n15.1 °C\\n\\n(59.1) °F\\n\\n27.4 °C\\n\\n(81.2) °F\\n\\n29.6 °C [...] (85.3) °F\\n\\n32.1 °C\\n\\n(89.8) °F\\n\\n32.8 °C\\n\\n(91.1) °F\\n\\n31.2 °C\\n\\n(88.2) °F\\n\\n27.5 °C\\n\\n(81.5) °F\\n\\n26.4 °C\\n\\n(79.5) °F\\n\\n26.1 °C\\n\\n(79) °F\\n\\n26.7 °C\\n\\n(80) °F\\n\\n26.4 °C\\n\\n(79.6) °F\\n\\n25.7 °C\\n\\n(78.3) °F\\n\\n25.8 °C\\n\\n(78.4) °F\\n\\n4\\n\\n(0)\\n\\n7\\n\\n(0)\\n\\n16\\n\\n(0)\\n\\n45\\n\\n(1)\\n\\n131\\n\\n(5)\\n\\n126\\n\\n(4)\\n\\n134\\n\\n(5)\\n\\n137\\n\\n(5)\\n\\n125\\n\\n(4)\\n\\n147\\n\\n(5)\\n\\n65\\n\\n(2)\\n\\n23\\n\\n(0)', 'score': 0.9134376, 'raw_content': None}, {'url': 'https://www.weather25.com/asia/india/karnataka/bangalore?page=month&month=April', 'title': 'Bangalore weather in April 2025 - Weather25.com', 'content': 'Location was added to My Locations\\nLocation was removed from My Locations\\nMarch\\nMay\\nBangalore weather in April 2025\\nThe weather in Bangalore in April is very hot. The average temperatures are between 24°C and 36°C, drinking water regularly is advisable.\\nYou can expect about 3 to 8 days of rain in Bangalore during the month of April. It’s a good idea to bring along your umbrella so that you don’t get caught in poor weather. [...] | Sun | Mon | Tue | Wed | Thu | Fri | Sat |\\n| --- | --- | --- | --- | --- | --- | --- |\\n| \\n | \\n| 1  36° /23° | 2  36° /23° | 3  36° /23° | 4  35° /23° | 5  36° /23° |\\n| 6  36° /23° | 7  36° /24° | 8  35° /22° | 9  35° /23° | 10  35° /23° | 11  36° /23° | 12  36° /23° |\\n| 13  36° /23° | 14  35° /23° | 15  34° /23° | 16  36° /23° | 17  36° /24° | 18  35° /24° | 19  35° /24° |\\n| 20  35° /24° | 21  36° /24° | 22  35° /24° | 23  35° /23° | 24  36° /24° | 25  35° /24° | 26  35° /25° | [...] Temperatures\\n36° / 24°\\n\\nRainy Days\\n4\\n\\nSnowy Days\\n0\\n\\nDry Days\\n26\\n\\nRainfall\\n61\\nmm\\n\\nSun Hours\\n11.8\\nHrs\\nHistoric average weather for April\\n\\nApril', 'score': 0.8943568, 'raw_content': None}, {'url': 'https://world-weather.info/forecast/india/bangalor/april-2025/', 'title': 'Weather in Bangalore in April 2025 (State of Karnātaka)', 'content': \"2\\n+93°+77°\\n\\n\\n3\\n+93°+79°\\n\\n\\n4\\n+91°+79°\\n\\n\\n5\\n+91°+79°\\n\\n\\n6\\n+91°+79°\\n\\n\\n7\\n+91°+79°\\n\\n\\n8\\n+91°+79°\\n\\n\\n9\\n+93°+79°\\n\\n\\n10\\n+91°+79°\\n\\n\\n11\\n+93°+79°\\n\\n\\n12\\n+91°+79°\\n\\n\\n13\\n+91°+79°\\n\\n\\n14\\n+91°+79°\\n\\n\\n15\\n+93°+77°\\n\\n\\n16\\n+91°+77°\\n\\n\\n17\\n+91°+79°\\n\\n\\n18\\n+93°+79°\\n\\n\\n19\\n+91°+79°\\n\\n\\n20\\n+90°+79°\\n\\n\\n21\\n+90°+77°\\n\\n\\n22\\n+90°+79°\\n\\n\\n23\\n+91°+79°\\n\\n\\n24\\n+91°+79°\\n\\n\\n25\\n+88°+77°\\n\\n\\n26\\n+90°+79°\\n\\n\\n27\\n+91°+79°\\n\\n\\n28\\n+91°+79°\\n\\n\\n29\\n+90°+79°\\n\\n\\n30\\n+90°+79°\\n\\n\\nExtended weather forecast in Bangalore\\nHourlyWeek10-Day14-Day30-DayYear [...] Weather in Bangalore in April 2025 (State of Karnātaka) - Detailed Weather Forecast for a Month\\n\\nAdd the current city\\nSearch\\n\\nWeather\\nArchive\\nWidgets\\n\\n°F\\n\\nWorld\\nIndia\\nState of Karnātaka\\nWeather in Bangalore\\n\\nWeather in Bangalore in April 2025\\nBangalore Weather Forecast for April 2025, is based on previous years' statistical data.\\n201520162017201820192020202120222023202420252026\\nJanFebMarAprMayJunJulAugSepOctNovDec\\nApril\\nStart Week On\\nSunday\\nMonday\\n\\nSun\\nMon\\nTue\\nWed\\nThu\\nFri\\n\\nSat\\n\\n\\n1\\n+91°+77° [...] Weather in large and nearby cities\\nWeather in New Delhi+73°\\nAvadi+88°\\nKozhikode+90°\\nAmbattur+88°\\nChennai+88°\\nDindigul+82°\\nThanjavur+86°\\nMangalore+86°\\nNellore+86°\\nTiruchchirāppalli+86°\\nPuducherry+86°\\nBellary+84°\\nMysore+81°\\nSalem+86°\\nAnantapur+84°\\nTirupati+82°\\nKothakota+86°\\nVathalur+86°\\nMinimum and maximum\\nworld's temperature today\\nRussia\\nZyryanka\\nday\\n-22°F\\nnight\\n-49°F\\nChad\\nMongo\\nday\\n+109°F\\nnight\\n+73°F\\nServices\\nSupport\\n\\nUser agreement\\nFeedback\\nAbout Us\", 'score': 0.8898454, 'raw_content': None}], 'response_time': 2.32}), AIMessage(content=\"Today's weather in Bangalore is partly cloudy with a maximum temperature of 32°C (about 89.6°F) and a minimum of 17°C (about 62.6°F). The current temperature is around 23°C (73.4°F) with a relatively high humidity level of 73%. There is no precipitation expected, and the conditions suggest a pleasant, partly cloudy evening.\", additional_kwargs={'refusal': None}, response_metadata={'token_usage': {'completion_tokens': 81, 'prompt_tokens': 6249, 'total_tokens': 6330, 'completion_tokens_details': {'accepted_prediction_tokens': 0, 'audio_tokens': 0, 'reasoning_tokens': 0, 'rejected_prediction_tokens': 0}, 'prompt_tokens_details': {'audio_tokens': 0, 'cached_tokens': 0}}, 'model_name': 'gpt-4o-2024-08-06', 'system_fingerprint': 'fp_92f14e8683', 'finish_reason': 'stop', 'logprobs': None}, id='run-fdffddd4-33b6-4f47-9d55-b6aa2fdf7766-0', usage_metadata={'input_tokens': 6249, 'output_tokens': 81, 'total_tokens': 6330, 'input_token_details': {'audio': 0, 'cache_read': 0}, 'output_token_details': {'audio': 0, 'reasoning': 0}})]}, next=(), config={'configurable': {'thread_id': '1', 'checkpoint_ns': '', 'checkpoint_id': '1f018883-2f6d-66fc-800a-20f5d2c7ecdf'}}, metadata={'source': 'loop', 'writes': {'ai_assistant': {'messages': [AIMessage(content=\"Today's weather in Bangalore is partly cloudy with a maximum temperature of 32°C (about 89.6°F) and a minimum of 17°C (about 62.6°F). The current temperature is around 23°C (73.4°F) with a relatively high humidity level of 73%. There is no precipitation expected, and the conditions suggest a pleasant, partly cloudy evening.\", additional_kwargs={'refusal': None}, response_metadata={'token_usage': {'completion_tokens': 81, 'prompt_tokens': 6249, 'total_tokens': 6330, 'completion_tokens_details': {'accepted_prediction_tokens': 0, 'audio_tokens': 0, 'reasoning_tokens': 0, 'rejected_prediction_tokens': 0}, 'prompt_tokens_details': {'audio_tokens': 0, 'cached_tokens': 0}}, 'model_name': 'gpt-4o-2024-08-06', 'system_fingerprint': 'fp_92f14e8683', 'finish_reason': 'stop', 'logprobs': None}, id='run-fdffddd4-33b6-4f47-9d55-b6aa2fdf7766-0', usage_metadata={'input_tokens': 6249, 'output_tokens': 81, 'total_tokens': 6330, 'input_token_details': {'audio': 0, 'cache_read': 0}, 'output_token_details': {'audio': 0, 'reasoning': 0}})]}}, 'step': 10, 'parents': {}, 'thread_id': '1'}, created_at='2025-04-13T16:56:09.813686+00:00', parent_config={'configurable': {'thread_id': '1', 'checkpoint_ns': '', 'checkpoint_id': '1f018883-1354-6f2f-8009-ff766ff0df4d'}}, tasks=())"
      ]
     },
     "execution_count": 116,
     "metadata": {},
     "output_type": "execute_result"
    }
   ],
   "source": [
    "\n",
    "app2.get_state(config)"
   ]
  },
  {
   "cell_type": "code",
   "execution_count": 117,
   "id": "b9545780",
   "metadata": {},
   "outputs": [],
   "source": [
    "snapshot=app2.get_state(config)"
   ]
  },
  {
   "cell_type": "code",
   "execution_count": 118,
   "id": "dbbac944",
   "metadata": {},
   "outputs": [
    {
     "data": {
      "text/plain": [
       "()"
      ]
     },
     "execution_count": 118,
     "metadata": {},
     "output_type": "execute_result"
    }
   ],
   "source": [
    "\n",
    "snapshot.next"
   ]
  },
  {
   "cell_type": "code",
   "execution_count": 119,
   "id": "766e50ec",
   "metadata": {},
   "outputs": [],
   "source": [
    "\n",
    "user_input = \"give me the recent news from there?\"\n",
    "\n",
    "config = {\"configurable\": {\"thread_id\": \"1\"}}"
   ]
  },
  {
   "cell_type": "code",
   "execution_count": 120,
   "id": "eb0ca925",
   "metadata": {},
   "outputs": [],
   "source": [
    "events = app2.stream(\n",
    "    {\"messages\": [(\"user\", user_input)]}, config, stream_mode=\"values\"\n",
    ")"
   ]
  },
  {
   "cell_type": "code",
   "execution_count": 121,
   "id": "0ceadb7b",
   "metadata": {},
   "outputs": [
    {
     "ename": "AttributeError",
     "evalue": "'tuple' object has no attribute 'pretty_print'",
     "output_type": "error",
     "traceback": [
      "\u001b[1;31m---------------------------------------------------------------------------\u001b[0m",
      "\u001b[1;31mAttributeError\u001b[0m                            Traceback (most recent call last)",
      "Cell \u001b[1;32mIn[121], line 3\u001b[0m\n\u001b[0;32m      1\u001b[0m \u001b[38;5;28;01mfor\u001b[39;00m event \u001b[38;5;129;01min\u001b[39;00m events:\n\u001b[0;32m      2\u001b[0m     \u001b[38;5;28;01mif\u001b[39;00m \u001b[38;5;124m\"\u001b[39m\u001b[38;5;124mmessages\u001b[39m\u001b[38;5;124m\"\u001b[39m \u001b[38;5;129;01min\u001b[39;00m event:\n\u001b[1;32m----> 3\u001b[0m         \u001b[43mevent\u001b[49m\u001b[43m[\u001b[49m\u001b[38;5;124;43m\"\u001b[39;49m\u001b[38;5;124;43mmessages\u001b[39;49m\u001b[38;5;124;43m\"\u001b[39;49m\u001b[43m]\u001b[49m\u001b[43m[\u001b[49m\u001b[38;5;241;43m-\u001b[39;49m\u001b[38;5;241;43m1\u001b[39;49m\u001b[43m]\u001b[49m\u001b[38;5;241;43m.\u001b[39;49m\u001b[43mpretty_print\u001b[49m()\n",
      "\u001b[1;31mAttributeError\u001b[0m: 'tuple' object has no attribute 'pretty_print'"
     ]
    }
   ],
   "source": [
    "for event in events:\n",
    "    if \"messages\" in event:\n",
    "        event[\"messages\"][-1].pretty_print()"
   ]
  },
  {
   "cell_type": "code",
   "execution_count": 122,
   "id": "17688970",
   "metadata": {},
   "outputs": [],
   "source": [
    "\n",
    "snapshot=app2.get_state(config)\n",
    "     "
   ]
  },
  {
   "cell_type": "code",
   "execution_count": 127,
   "id": "0458b2c0",
   "metadata": {},
   "outputs": [],
   "source": [
    "\n",
    "current_message = snapshot.values[\"messages\"]\n",
    "     "
   ]
  },
  {
   "cell_type": "code",
   "execution_count": 128,
   "id": "d2ff1937",
   "metadata": {},
   "outputs": [
    {
     "data": {
      "text/plain": [
       "[['user', 'famous places of the bangalore and must visit restaurants?'],\n",
       " AIMessage(content='', additional_kwargs={'tool_calls': [{'id': 'call_NheTr6jPV4EZPe0g1Xluhdhy', 'function': {'arguments': '{\"query\": \"famous places to visit in Bangalore\"}', 'name': 'tavily_search_results_json'}, 'type': 'function'}, {'id': 'call_UoOT3m5svSe0vMILWeIx6l75', 'function': {'arguments': '{\"query\": \"must visit restaurants in Bangalore\"}', 'name': 'tavily_search_results_json'}, 'type': 'function'}], 'refusal': None}, response_metadata={'token_usage': {'completion_tokens': 63, 'prompt_tokens': 91, 'total_tokens': 154, 'completion_tokens_details': {'accepted_prediction_tokens': 0, 'audio_tokens': 0, 'reasoning_tokens': 0, 'rejected_prediction_tokens': 0}, 'prompt_tokens_details': {'audio_tokens': 0, 'cached_tokens': 0}}, 'model_name': 'gpt-4o-2024-08-06', 'system_fingerprint': 'fp_92f14e8683', 'finish_reason': 'tool_calls', 'logprobs': None}, id='run-afa8bec0-9f5c-4783-94df-7beb2bb893d7-0', tool_calls=[{'name': 'tavily_search_results_json', 'args': {'query': 'famous places to visit in Bangalore'}, 'id': 'call_NheTr6jPV4EZPe0g1Xluhdhy', 'type': 'tool_call'}, {'name': 'tavily_search_results_json', 'args': {'query': 'must visit restaurants in Bangalore'}, 'id': 'call_UoOT3m5svSe0vMILWeIx6l75', 'type': 'tool_call'}], usage_metadata={'input_tokens': 91, 'output_tokens': 63, 'total_tokens': 154, 'input_token_details': {'audio': 0, 'cache_read': 0}, 'output_token_details': {'audio': 0, 'reasoning': 0}}),\n",
       " ToolMessage(content='[{\"title\": \"10 Places to visit in Bengaluru 2025 - Capture A Trip\", \"url\": \"https://www.captureatrip.com/blog/places-to-visit-in-bangalore\", \"content\": \"3. What are the famous places to visit in Bangalore ?\\\\n\\\\nOthers are Vidhana Soudha, Bangalore Palace and Bull Temple for its historical and cultural value.\\\\n\\\\n4. Where can I go for a weekend in Bangalore?\\\\n\\\\nNandi Hills is another suitable place for a weekend trip and it offers scenic views of the city while Bannerghatta National Park offers a wildlife experience.\\\\n\\\\nRecent Blogs\\\\n\\\\nOutstanding Hill Stations Near Nainital For a Peaceful Journey\\\\n\\\\nExplore 10 Best Things To Do In Georgia [...] This beautiful palace was the summer residence of the great Kingdom’s ruler, Tipu Sultan and is an Indo Islamic architectural masterpiece. This place is one of the most famous places to visit in Bangalore due to the presence of gorgeous wooden carved work and history.\\\\n\\\\n4. ISKCON Temple: [...] Here are the top 10 places to visit in Bangalore if anybody has the zeal to explore them which includes some historical places, parks, and cultural places. All these places make the city diverse by just giving each place uniqueness that attracts different people.\\\\n\\\\n1. Vidhana Soudha:\\\\n\\\\n\\\\n\\\\nThis big edifice is the home of the state legislature of Karnataka in India. This makes it count among the most visited places in Bangalore, thanks to its beautiful architectural design.\", \"score\": 0.89720124}, {\"title\": \"52 Best Places to visit in Bangalore | Top Tourist Attractions - Holidify\", \"url\": \"https://www.holidify.com/places/bangalore/sightseeing-and-things-to-do.html\", \"content\": \"Bangalore\\\\nPlaces To Visit\\\\nPackages\\\\nHotels\\\\nHow to Reach\\\\nBest Time To Visit\\\\nPhotos\\\\nFood\\\\n\\\\nMore\\\\n\\\\n\\\\nCollections\\\\n\\\\n\\\\nMap\\\\n\\\\n\\\\nReviews & QnA\\\\n\\\\n\\\\nTravel Agents\\\\n\\\\n\\\\n\\\\n\\\\nCollections\\\\n\\\\nMap\\\\nReviews & QnA\\\\nTravel Agents\\\\n\\\\nBangalore, Karnataka\\\\nLalbagh\\\\nCubbon Park\\\\nBangalore Palace\\\\nBannerghatta National Park [...] Places To Visit in Bangalore\\\\nLocated in : Central Bangalore\\\\nSpread over an area of 300 acres, Cubbon Park in the city of Bangalore is a major sightseeing attraction rich in green foliage. It is a green belt region of the city and is an ideal place for nature lovers and those seeking a calm atmosphere. Having been laid down by Lord Cubbon, the park is named so in his honour. It is home to more than 6,000 trees that support a vibrant ecosystem.\\\\nRead More [...] Art Gallery \\xa0\\xa0Garden & Park \\xa0\\xa0Amusement & Theme Park \\xa0\\xa0Forts & Palaces \\xa0\\xa0Hills & Valleys \\xa0\\xa0Temple \\xa0\\xa0Lake \\xa0\\xa0Museum \\xa0\\xa0Waterfall \\xa0\\xa0Commercial Street \\xa0\\xa0Shopping Market \\xa0\\xa0Monument \\xa0\\xa0National Park \\xa0\\xa0Yoga & Meditation \\xa0\\xa0Buddhist Temple \\xa0\\xa0Planetarium \\xa0\\xa0Church & Cathedral \\xa0\\xa0Aquarium \\xa0\\xa0Adventure Zone \\\\nClear All Apply\", \"score\": 0.85825616}, {\"title\": \"THE BEST 15 Things To Do in Bangalore (UPDATED 2025) - Viator\", \"url\": \"https://www.viator.com/Bangalore/d5310\", \"content\": \"Dubbed the Silicon Valley of India for its massive IT industry, the South Indian city of Bangalore has all the trappings of a city that means business, from fantastic shopping to exceptional restaurants. There are plenty of things to do in Bangalore for visitors, from relaxing in the city’s Cubbon Park and Lalbagh Botanical Gardens to marveling at the architecture of Tipu Sultan\\'s Summer Palace, Bangalore Palace, and Vidhana Soudha. And if you need a break from city life, you can simply head up\", \"score\": 0.85216236}, {\"title\": \"New to Bangalore? Here are the top 5 places you can visit, 1. Nandi ...\", \"url\": \"https://www.instagram.com/travelfitnancy/reel/C4S7whqpXH6/?hl=en\", \"content\": \"travelfitnancy on March 9, 2024: \\\\\"New to Bangalore? Here are the top 5 places you can visit, 1. Nandi Hills 2. Lalbagh Botanical Garden 3.\", \"score\": 0.8440111}, {\"title\": \"Bengaluru Tourist Places | Best Places To Visit - Incredible India\", \"url\": \"https://www.incredibleindia.gov.in/en/karnataka/bengaluru\", \"content\": \"Bengaluru—the city that codes poetry, brews coffee, and dances to its rhythm. Let’s explore its pixels and palimpsests, one byte at a time.\\\\n\\\\nAttractions\\\\n\\\\nworth a thousand stories\\\\n\\\\nGhati Subramanya Temple\\\\n\\\\nUlsoor Lake\\\\n\\\\nDevanahalli Fort\\\\n\\\\nMuthyala Maduvu\\\\n\\\\nTipu Sultan Palace\\\\n\\\\nRagigudda Anjaneya Temple\\\\n\\\\nPuttanna Chetty Town Hall\\\\n\\\\nNandi Hills\\\\n\\\\nLalbagh\\\\n\\\\nShivagange\\\\n\\\\nTipu Sultan\\'s Birthplace\\\\n\\\\nA trove of\\\\n\\\\nfascinating facts\\\\n\\\\nA trove of\\\\n\\\\nfascinating facts [...] The big boom may be over, but Bengaluru’s bright young things still have money to spend, and nightlife in the city is thriving. A night on the town generally starts with a bar crawl along Brigade Road, Residency Road, or Church Street. For quiet, elegant drinking, head for the bars of five-star hotels such as the Jockey Club at the Taj Residency or its competition, the Polo Club at the Oberoi, and for a taste of colonial grandeur, the Colonnade at the Taj West End.\\\\n\\\\nA shopper’s paradise\", \"score\": 0.82082915}]', name='tavily_search_results_json', tool_call_id='call_NheTr6jPV4EZPe0g1Xluhdhy', artifact={'query': 'famous places to visit in Bangalore', 'follow_up_questions': None, 'answer': None, 'images': [], 'results': [{'url': 'https://www.captureatrip.com/blog/places-to-visit-in-bangalore', 'title': '10 Places to visit in Bengaluru 2025 - Capture A Trip', 'content': '3. What are the famous places to visit in Bangalore ?\\n\\nOthers are Vidhana Soudha, Bangalore Palace and Bull Temple for its historical and cultural value.\\n\\n4. Where can I go for a weekend in Bangalore?\\n\\nNandi Hills is another suitable place for a weekend trip and it offers scenic views of the city while Bannerghatta National Park offers a wildlife experience.\\n\\nRecent Blogs\\n\\nOutstanding Hill Stations Near Nainital For a Peaceful Journey\\n\\nExplore 10 Best Things To Do In Georgia [...] This beautiful palace was the summer residence of the great Kingdom’s ruler, Tipu Sultan and is an Indo Islamic architectural masterpiece. This place is one of the most famous places to visit in Bangalore due to the presence of gorgeous wooden carved work and history.\\n\\n4. ISKCON Temple: [...] Here are the top 10 places to visit in Bangalore if anybody has the zeal to explore them which includes some historical places, parks, and cultural places. All these places make the city diverse by just giving each place uniqueness that attracts different people.\\n\\n1. Vidhana Soudha:\\n\\n\\n\\nThis big edifice is the home of the state legislature of Karnataka in India. This makes it count among the most visited places in Bangalore, thanks to its beautiful architectural design.', 'score': 0.89720124, 'raw_content': None}, {'url': 'https://www.holidify.com/places/bangalore/sightseeing-and-things-to-do.html', 'title': '52 Best Places to visit in Bangalore | Top Tourist Attractions - Holidify', 'content': 'Bangalore\\nPlaces To Visit\\nPackages\\nHotels\\nHow to Reach\\nBest Time To Visit\\nPhotos\\nFood\\n\\nMore\\n\\n\\nCollections\\n\\n\\nMap\\n\\n\\nReviews & QnA\\n\\n\\nTravel Agents\\n\\n\\n\\n\\nCollections\\n\\nMap\\nReviews & QnA\\nTravel Agents\\n\\nBangalore, Karnataka\\nLalbagh\\nCubbon Park\\nBangalore Palace\\nBannerghatta National Park [...] Places To Visit in Bangalore\\nLocated in : Central Bangalore\\nSpread over an area of 300 acres, Cubbon Park in the city of Bangalore is a major sightseeing attraction rich in green foliage. It is a green belt region of the city and is an ideal place for nature lovers and those seeking a calm atmosphere. Having been laid down by Lord Cubbon, the park is named so in his honour. It is home to more than 6,000 trees that support a vibrant ecosystem.\\nRead More [...] Art Gallery \\xa0\\xa0Garden & Park \\xa0\\xa0Amusement & Theme Park \\xa0\\xa0Forts & Palaces \\xa0\\xa0Hills & Valleys \\xa0\\xa0Temple \\xa0\\xa0Lake \\xa0\\xa0Museum \\xa0\\xa0Waterfall \\xa0\\xa0Commercial Street \\xa0\\xa0Shopping Market \\xa0\\xa0Monument \\xa0\\xa0National Park \\xa0\\xa0Yoga & Meditation \\xa0\\xa0Buddhist Temple \\xa0\\xa0Planetarium \\xa0\\xa0Church & Cathedral \\xa0\\xa0Aquarium \\xa0\\xa0Adventure Zone \\nClear All Apply', 'score': 0.85825616, 'raw_content': None}, {'url': 'https://www.viator.com/Bangalore/d5310', 'title': 'THE BEST 15 Things To Do in Bangalore (UPDATED 2025) - Viator', 'content': \"Dubbed the Silicon Valley of India for its massive IT industry, the South Indian city of Bangalore has all the trappings of a city that means business, from fantastic shopping to exceptional restaurants. There are plenty of things to do in Bangalore for visitors, from relaxing in the city’s Cubbon Park and Lalbagh Botanical Gardens to marveling at the architecture of Tipu Sultan's Summer Palace, Bangalore Palace, and Vidhana Soudha. And if you need a break from city life, you can simply head up\", 'score': 0.85216236, 'raw_content': None}, {'url': 'https://www.instagram.com/travelfitnancy/reel/C4S7whqpXH6/?hl=en', 'title': 'New to Bangalore? Here are the top 5 places you can visit, 1. Nandi ...', 'content': 'travelfitnancy on March 9, 2024: \"New to Bangalore? Here are the top 5 places you can visit, 1. Nandi Hills 2. Lalbagh Botanical Garden 3.', 'score': 0.8440111, 'raw_content': None}, {'url': 'https://www.incredibleindia.gov.in/en/karnataka/bengaluru', 'title': 'Bengaluru Tourist Places | Best Places To Visit - Incredible India', 'content': \"Bengaluru—the city that codes poetry, brews coffee, and dances to its rhythm. Let’s explore its pixels and palimpsests, one byte at a time.\\n\\nAttractions\\n\\nworth a thousand stories\\n\\nGhati Subramanya Temple\\n\\nUlsoor Lake\\n\\nDevanahalli Fort\\n\\nMuthyala Maduvu\\n\\nTipu Sultan Palace\\n\\nRagigudda Anjaneya Temple\\n\\nPuttanna Chetty Town Hall\\n\\nNandi Hills\\n\\nLalbagh\\n\\nShivagange\\n\\nTipu Sultan's Birthplace\\n\\nA trove of\\n\\nfascinating facts\\n\\nA trove of\\n\\nfascinating facts [...] The big boom may be over, but Bengaluru’s bright young things still have money to spend, and nightlife in the city is thriving. A night on the town generally starts with a bar crawl along Brigade Road, Residency Road, or Church Street. For quiet, elegant drinking, head for the bars of five-star hotels such as the Jockey Club at the Taj Residency or its competition, the Polo Club at the Oberoi, and for a taste of colonial grandeur, the Colonnade at the Taj West End.\\n\\nA shopper’s paradise\", 'score': 0.82082915, 'raw_content': None}], 'response_time': 3.45}),\n",
       " ToolMessage(content='[{\"title\": \"Best Restaurants In Bangalore To Delight Your Taste Buds In 2025!\", \"url\": \"https://traveltriangle.com/blog/best-restaurants-in-bangalore/\", \"content\": \"The king of cafes in Bangalore, Toit has set an unmatched standard amongst all the best restaurants in Bangalore. Freshly brewed beer, lively music, and a wide variety of international main courses and starters combine to give this place a ‘must-visit’ tag for any first-timer. It is one of the best restaurants in Bangalore for couples who share a love of pizzas and beers.\\\\n\\\\nAddress: Indiranagar, 100 Feet Rd, Near Drops Total Spirits, Bengaluru, Karnataka 560038 [...] It is impossible to have a list of the best restaurants in Bangalore, without naming its very own Hard Rock Cafe. This cafe, probably, needs no introduction as it has become a household name amongst music and food lovers from all around the world. The brand has built such a reputation that the HRC often gets counted as a sightseeing place for any traveller going to a new city. This is amongst the best restaurants in Bangalore for family and friends to visit. [...] Jamavar is another luxury restaurant that you need to consider visiting. Featuring an ethnic ambience, and indoor and outdoor seating plans, this restaurant serves delectable food. Moreover, this is a kid-friendly place that is also wheelchair accessible. The restaurant is amazing with hospitality, hygiene, food yumminess, and prep times. Special occasions deserve a special treat here.\\\\n\\\\nAddress:\\xa0The Leela Palace, Old Airport Road, Bangalore\\\\n\\\\nTimings:\\xa012–3\\u202fpm, 7–11:30\\u202fpm\\\\n\\\\nCost for two: INR 5000\", \"score\": 0.86767644}, {\"title\": \"What are the must-visit food places in Bangalore, and when ... - Quora\", \"url\": \"https://www.quora.com/What-are-the-must-visit-food-places-in-Bangalore-and-when-is-the-best-time-to-visit-that-place\", \"content\": \"1.Vidyarthi Bhavan. Vidyarthi Bhavan is an iconic eatery in Bangalore that has been serving the best dosa in Bangalore since 1943.\", \"score\": 0.85995835}, {\"title\": \"Shreya Pandey | Must visit restaurants in Bengaluru for Indian food ...\", \"url\": \"https://www.instagram.com/reel/C73Dl0iv2fw/\", \"content\": \"Must visit restaurants in Bengaluru for Indian food. These restaurants are not only beautiful and extravagant but food is also great. Karigari\", \"score\": 0.78532547}, {\"title\": \"The 50 best places to eat in Bengaluru - Wanderlog\", \"url\": \"https://wanderlog.com/list/geoCategory/1510029/best-places-to-eat-in-bengaluru\", \"content\": \"21Barbeque Nation\\\\n\\\\n22MTR\\\\n\\\\n23Byg Brewski Brewing Company\\\\n\\\\n24Nagarjuna Restaurant - Residency Road\\\\n\\\\n25Arbor Brewing Company\\\\n\\\\n26Jamavar\\\\n\\\\n27The Fatty Bao\\\\n\\\\n28High Ultra Lounge\\\\n\\\\n29Sunnys Restaurant\\\\n\\\\n30Ebony\\\\n\\\\n31Maiyas Beverages And Foods Private Limited\\\\n\\\\n32Persian Terrace\\\\n\\\\n33Skyye\\\\n\\\\n34The Permit Room\\\\n\\\\n35Indian Coffee House\\\\n\\\\n36Toast & Tonic\\\\n\\\\n37Wabi Sabi\\\\n\\\\n38Lapis\\\\n\\\\n39Roxie\\\\n\\\\n40V. V. Puram Food Street\\\\n\\\\n41Karnataka Bhel House\\\\n\\\\n42Suryawanshi Restaurant\\\\n\\\\n43The Hole In The Wall Cafe Kammanahalli [...] Navigate backward to interact with the calendar and select a date. Press the question mark key to get the keyboard shortcuts for changing dates.\\\\n\\\\n3Brahmins\\' Coffee Bar\\\\n\\\\n4Vidyarthi Bhavan\\\\n\\\\n5Central Tiffin Room\\\\n\\\\n6Sri Sairam\\'s Chats & Juice Centre\\\\n\\\\n7Truffles\\\\n\\\\n8Shiro\\\\n\\\\n9Koshy\\'s\\\\n\\\\n10Rim Naam\\\\n\\\\n11Chutney Chang\\\\n\\\\n12Olive Beach\\\\n\\\\n13Veena Stores\\\\n\\\\n14Caperberry\\\\n\\\\n15Shivaji Military Hotel\\\\n\\\\n16Oota Bangalore\\\\n\\\\n17Grasshopper\\\\n\\\\n18Khan Saheb Grills and Rolls\\\\n\\\\n19SMTR - Sri Maruthi Tiffin Room\\\\n\\\\n20Nagarjuna [...] As you explore the bustling streets of Bengaluru, you\\'ll discover a mix of iconic eateries and hidden gems that showcase the best of local flavors. From the legendary Vidyarthi Bhavan, famous for its crispy Benne Masala Dosa, to the charming Brahmins\\' Coffee Bar, where the aroma of freshly brewed coffee fills the air, each spot tells a story of its own. The Wanderlog team is passionate about uncovering these culinary treasures, and we invite you to join us on a journey through the best places\", \"score\": 0.6994397}, {\"title\": \"The Best Restaurants in Bengaluru for Dining Out - Zomato\", \"url\": \"https://www.zomato.com/bangalore/restaurants\", \"content\": \"Restaurants in Bengaluru · Atlantis · Jamavar - The Leela Palace · Sozo Skyline · Muro · Feast - Sheraton Grand Bangalore Hotel at Brigade Gateway · Mirage.\", \"score\": 0.6884899}]', name='tavily_search_results_json', tool_call_id='call_UoOT3m5svSe0vMILWeIx6l75', artifact={'query': 'must visit restaurants in Bangalore', 'follow_up_questions': None, 'answer': None, 'images': [], 'results': [{'url': 'https://traveltriangle.com/blog/best-restaurants-in-bangalore/', 'title': 'Best Restaurants In Bangalore To Delight Your Taste Buds In 2025!', 'content': 'The king of cafes in Bangalore, Toit has set an unmatched standard amongst all the best restaurants in Bangalore. Freshly brewed beer, lively music, and a wide variety of international main courses and starters combine to give this place a ‘must-visit’ tag for any first-timer. It is one of the best restaurants in Bangalore for couples who share a love of pizzas and beers.\\n\\nAddress: Indiranagar, 100 Feet Rd, Near Drops Total Spirits, Bengaluru, Karnataka 560038 [...] It is impossible to have a list of the best restaurants in Bangalore, without naming its very own Hard Rock Cafe. This cafe, probably, needs no introduction as it has become a household name amongst music and food lovers from all around the world. The brand has built such a reputation that the HRC often gets counted as a sightseeing place for any traveller going to a new city. This is amongst the best restaurants in Bangalore for family and friends to visit. [...] Jamavar is another luxury restaurant that you need to consider visiting. Featuring an ethnic ambience, and indoor and outdoor seating plans, this restaurant serves delectable food. Moreover, this is a kid-friendly place that is also wheelchair accessible. The restaurant is amazing with hospitality, hygiene, food yumminess, and prep times. Special occasions deserve a special treat here.\\n\\nAddress:\\xa0The Leela Palace, Old Airport Road, Bangalore\\n\\nTimings:\\xa012–3\\u202fpm, 7–11:30\\u202fpm\\n\\nCost for two: INR 5000', 'score': 0.86767644, 'raw_content': None}, {'url': 'https://www.quora.com/What-are-the-must-visit-food-places-in-Bangalore-and-when-is-the-best-time-to-visit-that-place', 'title': 'What are the must-visit food places in Bangalore, and when ... - Quora', 'content': '1.Vidyarthi Bhavan. Vidyarthi Bhavan is an iconic eatery in Bangalore that has been serving the best dosa in Bangalore since 1943.', 'score': 0.85995835, 'raw_content': None}, {'url': 'https://www.instagram.com/reel/C73Dl0iv2fw/', 'title': 'Shreya Pandey | Must visit restaurants in Bengaluru for Indian food ...', 'content': 'Must visit restaurants in Bengaluru for Indian food. These restaurants are not only beautiful and extravagant but food is also great. Karigari', 'score': 0.78532547, 'raw_content': None}, {'url': 'https://wanderlog.com/list/geoCategory/1510029/best-places-to-eat-in-bengaluru', 'title': 'The 50 best places to eat in Bengaluru - Wanderlog', 'content': \"21Barbeque Nation\\n\\n22MTR\\n\\n23Byg Brewski Brewing Company\\n\\n24Nagarjuna Restaurant - Residency Road\\n\\n25Arbor Brewing Company\\n\\n26Jamavar\\n\\n27The Fatty Bao\\n\\n28High Ultra Lounge\\n\\n29Sunnys Restaurant\\n\\n30Ebony\\n\\n31Maiyas Beverages And Foods Private Limited\\n\\n32Persian Terrace\\n\\n33Skyye\\n\\n34The Permit Room\\n\\n35Indian Coffee House\\n\\n36Toast & Tonic\\n\\n37Wabi Sabi\\n\\n38Lapis\\n\\n39Roxie\\n\\n40V. V. Puram Food Street\\n\\n41Karnataka Bhel House\\n\\n42Suryawanshi Restaurant\\n\\n43The Hole In The Wall Cafe Kammanahalli [...] Navigate backward to interact with the calendar and select a date. Press the question mark key to get the keyboard shortcuts for changing dates.\\n\\n3Brahmins' Coffee Bar\\n\\n4Vidyarthi Bhavan\\n\\n5Central Tiffin Room\\n\\n6Sri Sairam's Chats & Juice Centre\\n\\n7Truffles\\n\\n8Shiro\\n\\n9Koshy's\\n\\n10Rim Naam\\n\\n11Chutney Chang\\n\\n12Olive Beach\\n\\n13Veena Stores\\n\\n14Caperberry\\n\\n15Shivaji Military Hotel\\n\\n16Oota Bangalore\\n\\n17Grasshopper\\n\\n18Khan Saheb Grills and Rolls\\n\\n19SMTR - Sri Maruthi Tiffin Room\\n\\n20Nagarjuna [...] As you explore the bustling streets of Bengaluru, you'll discover a mix of iconic eateries and hidden gems that showcase the best of local flavors. From the legendary Vidyarthi Bhavan, famous for its crispy Benne Masala Dosa, to the charming Brahmins' Coffee Bar, where the aroma of freshly brewed coffee fills the air, each spot tells a story of its own. The Wanderlog team is passionate about uncovering these culinary treasures, and we invite you to join us on a journey through the best places\", 'score': 0.6994397, 'raw_content': None}, {'url': 'https://www.zomato.com/bangalore/restaurants', 'title': 'The Best Restaurants in Bengaluru for Dining Out - Zomato', 'content': 'Restaurants in Bengaluru · Atlantis · Jamavar - The Leela Palace · Sozo Skyline · Muro · Feast - Sheraton Grand Bangalore Hotel at Brigade Gateway · Mirage.', 'score': 0.6884899, 'raw_content': None}], 'response_time': 3.01}),\n",
       " AIMessage(content=\"### Famous Places to Visit in Bangalore\\n\\n1. **Vidhana Soudha**: This iconic building is the seat of the state legislature of Karnataka and is renowned for its beautiful architectural design.\\n   \\n2. **Bangalore Palace**: Known for its Tudor-style architecture and sprawling grounds, the palace gives a glimpse into the regal history of Bangalore.\\n\\n3. **Cubbon Park**: Spanning over 300 acres, this lush green park is a favorite spot for nature lovers and those seeking a peaceful retreat within the city.\\n\\n4. **Lalbagh Botanical Garden**: Famous for its glass house and diverse flora, it is a must-visit for gardening enthusiasts and those who enjoy a leisurely stroll amidst nature.\\n\\n5. **Bannerghatta National Park**: Located on the outskirts of Bangalore, this park offers a chance to experience wildlife and is famous for its safari rides.\\n\\n6. **Nandi Hills**: A great spot for a weekend getaway, known for its scenic views and the historical Nandi Fortress.\\n\\n7. **ISKCON Temple**: A spiritual retreat in the midst of the bustling city, known for its architectural grandeur and spiritual activities.\\n\\n8. **Tipu Sultan's Summer Palace**: A stunning example of Indo-Islamic architecture, this palace showcases exquisite wooden carvings and historical artifacts.\\n\\nFor further exploration on these places, visit [Capture a Trip](https://www.captureatrip.com/blog/places-to-visit-in-bangalore).\\n\\n### Must-Visit Restaurants in Bangalore\\n\\n1. **Toit**: Known for freshly brewed beer and a lively atmosphere, it’s a must-visit for beer and pizza lovers. Located in Indiranagar.\\n\\n2. **Hard Rock Café**: A popular spot known for its rock music-themed dining experience.\\n\\n3. **Jamavar**: Located at The Leela Palace, it offers luxury dining with authentic Indian cuisine in a beautiful setting.\\n\\n4. **Vidyarthi Bhavan**: An iconic eatery in Bangalore, famous for serving the best dosas since 1943.\\n\\n5. **Barbeque Nation**: Known for its live grill experience and extensive buffet options.\\n\\n6. **Brahmins' Coffee Bar**: A legendary place for coffee enthusiasts, known for its traditional South Indian breakfast.\\n\\n7. **The Fatty Bao**: Offers a fusion of Asian cuisines in a chic and modern setting.\\n\\n8. **Skyye**: A rooftop restaurant offering stunning views of Bangalore’s skyline, perfect for a fancy night out.\\n\\nFor more dining options, explore [Travel Triangle](https://traveltriangle.com/blog/best-restaurants-in-bangalore/) and [Wanderlog](https://wanderlog.com/list/geoCategory/1510029/best-places-to-eat-in-bengaluru).\", additional_kwargs={'refusal': None}, response_metadata={'token_usage': {'completion_tokens': 568, 'prompt_tokens': 2736, 'total_tokens': 3304, 'completion_tokens_details': {'accepted_prediction_tokens': 0, 'audio_tokens': 0, 'reasoning_tokens': 0, 'rejected_prediction_tokens': 0}, 'prompt_tokens_details': {'audio_tokens': 0, 'cached_tokens': 0}}, 'model_name': 'gpt-4o-2024-08-06', 'system_fingerprint': 'fp_92f14e8683', 'finish_reason': 'stop', 'logprobs': None}, id='run-f2afa37a-c027-46a7-9702-3af8019cbbfe-0', usage_metadata={'input_tokens': 2736, 'output_tokens': 568, 'total_tokens': 3304, 'input_token_details': {'audio': 0, 'cache_read': 0}, 'output_token_details': {'audio': 0, 'reasoning': 0}}),\n",
       " ['user', 'what is a weather there?'],\n",
       " ['user', 'what is a weather there?'],\n",
       " AIMessage(content='', additional_kwargs={'tool_calls': [{'id': 'call_0NLdfZAg6hKgq0QpJ0GSNSYM', 'function': {'arguments': '{\"query\":\"Bangalore weather today\"}', 'name': 'tavily_search_results_json'}, 'type': 'function'}], 'refusal': None}, response_metadata={'token_usage': {'completion_tokens': 22, 'prompt_tokens': 3326, 'total_tokens': 3348, 'completion_tokens_details': {'accepted_prediction_tokens': 0, 'audio_tokens': 0, 'reasoning_tokens': 0, 'rejected_prediction_tokens': 0}, 'prompt_tokens_details': {'audio_tokens': 0, 'cached_tokens': 3200}}, 'model_name': 'gpt-4o-2024-08-06', 'system_fingerprint': 'fp_92f14e8683', 'finish_reason': 'tool_calls', 'logprobs': None}, id='run-f2f60d63-6e81-4312-bf95-d565a60e3652-0', tool_calls=[{'name': 'tavily_search_results_json', 'args': {'query': 'Bangalore weather today'}, 'id': 'call_0NLdfZAg6hKgq0QpJ0GSNSYM', 'type': 'tool_call'}], usage_metadata={'input_tokens': 3326, 'output_tokens': 22, 'total_tokens': 3348, 'input_token_details': {'audio': 0, 'cache_read': 3200}, 'output_token_details': {'audio': 0, 'reasoning': 0}}),\n",
       " ToolMessage(content='[{\"title\": \"bengaluru Weather Forecast 13 Apr 2025 - Times of India\", \"url\": \"https://timesofindia.indiatimes.com/weather/bengaluru-weather-forecast-today/560001\", \"content\": \"Today\\'s Weather in Bengaluru: In Bengaluru today, the weather is expected to be Partly Cloudy with a maximum temperature of 32°C and a minimum of 17°C.\", \"score\": 0.96205425}, {\"title\": \"Weather in Bangalore\", \"url\": \"https://www.weatherapi.com/\", \"content\": \"{\\'location\\': {\\'name\\': \\'Bangalore\\', \\'region\\': \\'Karnataka\\', \\'country\\': \\'India\\', \\'lat\\': 12.9833, \\'lon\\': 77.5833, \\'tz_id\\': \\'Asia/Kolkata\\', \\'localtime_epoch\\': 1744563279, \\'localtime\\': \\'2025-04-13 22:24\\'}, \\'current\\': {\\'last_updated_epoch\\': 1744562700, \\'last_updated\\': \\'2025-04-13 22:15\\', \\'temp_c\\': 23.0, \\'temp_f\\': 73.4, \\'is_day\\': 0, \\'condition\\': {\\'text\\': \\'Partly cloudy\\', \\'icon\\': \\'//cdn.weatherapi.com/weather/64x64/night/116.png\\', \\'code\\': 1003}, \\'wind_mph\\': 6.7, \\'wind_kph\\': 10.8, \\'wind_degree\\': 177, \\'wind_dir\\': \\'S\\', \\'pressure_mb\\': 1016.0, \\'pressure_in\\': 30.0, \\'precip_mm\\': 0.0, \\'precip_in\\': 0.0, \\'humidity\\': 73, \\'cloud\\': 50, \\'feelslike_c\\': 23.8, \\'feelslike_f\\': 74.8, \\'windchill_c\\': 28.6, \\'windchill_f\\': 83.4, \\'heatindex_c\\': 27.6, \\'heatindex_f\\': 81.7, \\'dewpoint_c\\': 10.0, \\'dewpoint_f\\': 49.9, \\'vis_km\\': 6.0, \\'vis_miles\\': 3.0, \\'uv\\': 0.0, \\'gust_mph\\': 10.6, \\'gust_kph\\': 17.1}}\", \"score\": 0.9284724}, {\"title\": \"Weather Bengaluru in April 2025: Temperature & Climate\", \"url\": \"https://en.climate-data.org/asia/india/karnataka/bengaluru-4562/t/april-4/\", \"content\": \"Min. Temperature °C (°F) | 14.6 °C(58.4) °F | 16.1 °C(61) °F | 18.7 °C(65.6) °F | 20.8 °C(69.4) °F | 21 °C(69.8) °F | 20.2 °C(68.3) °F | 19.8 °C(67.6) °F | 19.4 °C(66.9) °F | 19 °C(66.2) °F | 18.4 °C(65.1) °F | 16.7 °C(62) °F | 15.1 °C(59.1) °F\\\\nMax. Temperature °C (°F) | 27.4 °C(81.2) °F | 29.6 °C(85.3) °F | 32.1 °C(89.8) °F | 32.8 °C(91.1) °F | 31.2 °C(88.2) °F | 27.5 °C(81.5) °F | 26.4 °C(79.5) °F | 26.1 °C(79) °F | 26.7 °C(80) °F | 26.4 °C(79.6) °F | 25.7 °C(78.3) °F | 25.8 °C(78.4) °F [...] (69.3)  °F\\\\n\\\\n22.8 °C\\\\n\\\\n(73)  °F\\\\n\\\\n25.4 °C\\\\n\\\\n(77.8)  °F\\\\n\\\\n26.6 °C\\\\n\\\\n(80)  °F\\\\n\\\\n25.5 °C\\\\n\\\\n(77.9)  °F\\\\n\\\\n23.2 °C\\\\n\\\\n(73.8)  °F\\\\n\\\\n22.4 °C\\\\n\\\\n(72.3)  °F\\\\n\\\\n22.2 °C\\\\n\\\\n(71.9)  °F\\\\n\\\\n22.4 °C\\\\n\\\\n(72.3)  °F\\\\n\\\\n22 °C\\\\n\\\\n(71.6)  °F\\\\n\\\\n20.9 °C\\\\n\\\\n(69.7)  °F\\\\n\\\\n20.1 °C\\\\n\\\\n(68.2)  °F\\\\n\\\\n14.6 °C\\\\n\\\\n(58.4) °F\\\\n\\\\n16.1 °C\\\\n\\\\n(61) °F\\\\n\\\\n18.7 °C\\\\n\\\\n(65.6) °F\\\\n\\\\n20.8 °C\\\\n\\\\n(69.4) °F\\\\n\\\\n21 °C\\\\n\\\\n(69.8) °F\\\\n\\\\n20.2 °C\\\\n\\\\n(68.3) °F\\\\n\\\\n19.8 °C\\\\n\\\\n(67.6) °F\\\\n\\\\n19.4 °C\\\\n\\\\n(66.9) °F\\\\n\\\\n19 °C\\\\n\\\\n(66.2) °F\\\\n\\\\n18.4 °C\\\\n\\\\n(65.1) °F\\\\n\\\\n16.7 °C\\\\n\\\\n(62) °F\\\\n\\\\n15.1 °C\\\\n\\\\n(59.1) °F\\\\n\\\\n27.4 °C\\\\n\\\\n(81.2) °F\\\\n\\\\n29.6 °C [...] (85.3) °F\\\\n\\\\n32.1 °C\\\\n\\\\n(89.8) °F\\\\n\\\\n32.8 °C\\\\n\\\\n(91.1) °F\\\\n\\\\n31.2 °C\\\\n\\\\n(88.2) °F\\\\n\\\\n27.5 °C\\\\n\\\\n(81.5) °F\\\\n\\\\n26.4 °C\\\\n\\\\n(79.5) °F\\\\n\\\\n26.1 °C\\\\n\\\\n(79) °F\\\\n\\\\n26.7 °C\\\\n\\\\n(80) °F\\\\n\\\\n26.4 °C\\\\n\\\\n(79.6) °F\\\\n\\\\n25.7 °C\\\\n\\\\n(78.3) °F\\\\n\\\\n25.8 °C\\\\n\\\\n(78.4) °F\\\\n\\\\n4\\\\n\\\\n(0)\\\\n\\\\n7\\\\n\\\\n(0)\\\\n\\\\n16\\\\n\\\\n(0)\\\\n\\\\n45\\\\n\\\\n(1)\\\\n\\\\n131\\\\n\\\\n(5)\\\\n\\\\n126\\\\n\\\\n(4)\\\\n\\\\n134\\\\n\\\\n(5)\\\\n\\\\n137\\\\n\\\\n(5)\\\\n\\\\n125\\\\n\\\\n(4)\\\\n\\\\n147\\\\n\\\\n(5)\\\\n\\\\n65\\\\n\\\\n(2)\\\\n\\\\n23\\\\n\\\\n(0)\", \"score\": 0.9134376}, {\"title\": \"Bangalore weather in April 2025 - Weather25.com\", \"url\": \"https://www.weather25.com/asia/india/karnataka/bangalore?page=month&month=April\", \"content\": \"Location was added to My Locations\\\\nLocation was removed from My Locations\\\\nMarch\\\\nMay\\\\nBangalore weather in April 2025\\\\nThe weather in Bangalore in April is very hot. The average temperatures are between 24°C and 36°C, drinking water regularly is advisable.\\\\nYou can expect about 3 to 8 days of rain in Bangalore during the month of April. It’s a good idea to bring along your umbrella so that you don’t get caught in poor weather. [...] | Sun | Mon | Tue | Wed | Thu | Fri | Sat |\\\\n| --- | --- | --- | --- | --- | --- | --- |\\\\n| \\\\n | \\\\n| 1  36° /23° | 2  36° /23° | 3  36° /23° | 4  35° /23° | 5  36° /23° |\\\\n| 6  36° /23° | 7  36° /24° | 8  35° /22° | 9  35° /23° | 10  35° /23° | 11  36° /23° | 12  36° /23° |\\\\n| 13  36° /23° | 14  35° /23° | 15  34° /23° | 16  36° /23° | 17  36° /24° | 18  35° /24° | 19  35° /24° |\\\\n| 20  35° /24° | 21  36° /24° | 22  35° /24° | 23  35° /23° | 24  36° /24° | 25  35° /24° | 26  35° /25° | [...] Temperatures\\\\n36° / 24°\\\\n\\\\nRainy Days\\\\n4\\\\n\\\\nSnowy Days\\\\n0\\\\n\\\\nDry Days\\\\n26\\\\n\\\\nRainfall\\\\n61\\\\nmm\\\\n\\\\nSun Hours\\\\n11.8\\\\nHrs\\\\nHistoric average weather for April\\\\n\\\\nApril\", \"score\": 0.8943568}, {\"title\": \"Weather in Bangalore in April 2025 (State of Karnātaka)\", \"url\": \"https://world-weather.info/forecast/india/bangalor/april-2025/\", \"content\": \"2\\\\n+93°+77°\\\\n\\\\n\\\\n3\\\\n+93°+79°\\\\n\\\\n\\\\n4\\\\n+91°+79°\\\\n\\\\n\\\\n5\\\\n+91°+79°\\\\n\\\\n\\\\n6\\\\n+91°+79°\\\\n\\\\n\\\\n7\\\\n+91°+79°\\\\n\\\\n\\\\n8\\\\n+91°+79°\\\\n\\\\n\\\\n9\\\\n+93°+79°\\\\n\\\\n\\\\n10\\\\n+91°+79°\\\\n\\\\n\\\\n11\\\\n+93°+79°\\\\n\\\\n\\\\n12\\\\n+91°+79°\\\\n\\\\n\\\\n13\\\\n+91°+79°\\\\n\\\\n\\\\n14\\\\n+91°+79°\\\\n\\\\n\\\\n15\\\\n+93°+77°\\\\n\\\\n\\\\n16\\\\n+91°+77°\\\\n\\\\n\\\\n17\\\\n+91°+79°\\\\n\\\\n\\\\n18\\\\n+93°+79°\\\\n\\\\n\\\\n19\\\\n+91°+79°\\\\n\\\\n\\\\n20\\\\n+90°+79°\\\\n\\\\n\\\\n21\\\\n+90°+77°\\\\n\\\\n\\\\n22\\\\n+90°+79°\\\\n\\\\n\\\\n23\\\\n+91°+79°\\\\n\\\\n\\\\n24\\\\n+91°+79°\\\\n\\\\n\\\\n25\\\\n+88°+77°\\\\n\\\\n\\\\n26\\\\n+90°+79°\\\\n\\\\n\\\\n27\\\\n+91°+79°\\\\n\\\\n\\\\n28\\\\n+91°+79°\\\\n\\\\n\\\\n29\\\\n+90°+79°\\\\n\\\\n\\\\n30\\\\n+90°+79°\\\\n\\\\n\\\\nExtended weather forecast in Bangalore\\\\nHourlyWeek10-Day14-Day30-DayYear [...] Weather in Bangalore in April 2025 (State of Karnātaka) - Detailed Weather Forecast for a Month\\\\n\\\\nAdd the current city\\\\nSearch\\\\n\\\\nWeather\\\\nArchive\\\\nWidgets\\\\n\\\\n°F\\\\n\\\\nWorld\\\\nIndia\\\\nState of Karnātaka\\\\nWeather in Bangalore\\\\n\\\\nWeather in Bangalore in April 2025\\\\nBangalore Weather Forecast for April 2025, is based on previous years\\' statistical data.\\\\n201520162017201820192020202120222023202420252026\\\\nJanFebMarAprMayJunJulAugSepOctNovDec\\\\nApril\\\\nStart Week On\\\\nSunday\\\\nMonday\\\\n\\\\nSun\\\\nMon\\\\nTue\\\\nWed\\\\nThu\\\\nFri\\\\n\\\\nSat\\\\n\\\\n\\\\n1\\\\n+91°+77° [...] Weather in large and nearby cities\\\\nWeather in New Delhi+73°\\\\nAvadi+88°\\\\nKozhikode+90°\\\\nAmbattur+88°\\\\nChennai+88°\\\\nDindigul+82°\\\\nThanjavur+86°\\\\nMangalore+86°\\\\nNellore+86°\\\\nTiruchchirāppalli+86°\\\\nPuducherry+86°\\\\nBellary+84°\\\\nMysore+81°\\\\nSalem+86°\\\\nAnantapur+84°\\\\nTirupati+82°\\\\nKothakota+86°\\\\nVathalur+86°\\\\nMinimum and maximum\\\\nworld\\'s temperature today\\\\nRussia\\\\nZyryanka\\\\nday\\\\n-22°F\\\\nnight\\\\n-49°F\\\\nChad\\\\nMongo\\\\nday\\\\n+109°F\\\\nnight\\\\n+73°F\\\\nServices\\\\nSupport\\\\n\\\\nUser agreement\\\\nFeedback\\\\nAbout Us\", \"score\": 0.8898454}]', name='tavily_search_results_json', tool_call_id='call_0NLdfZAg6hKgq0QpJ0GSNSYM', artifact={'query': 'Bangalore weather today', 'follow_up_questions': None, 'answer': None, 'images': [], 'results': [{'url': 'https://timesofindia.indiatimes.com/weather/bengaluru-weather-forecast-today/560001', 'title': 'bengaluru Weather Forecast 13 Apr 2025 - Times of India', 'content': \"Today's Weather in Bengaluru: In Bengaluru today, the weather is expected to be Partly Cloudy with a maximum temperature of 32°C and a minimum of 17°C.\", 'score': 0.96205425, 'raw_content': None}, {'title': 'Weather in Bangalore', 'url': 'https://www.weatherapi.com/', 'content': \"{'location': {'name': 'Bangalore', 'region': 'Karnataka', 'country': 'India', 'lat': 12.9833, 'lon': 77.5833, 'tz_id': 'Asia/Kolkata', 'localtime_epoch': 1744563279, 'localtime': '2025-04-13 22:24'}, 'current': {'last_updated_epoch': 1744562700, 'last_updated': '2025-04-13 22:15', 'temp_c': 23.0, 'temp_f': 73.4, 'is_day': 0, 'condition': {'text': 'Partly cloudy', 'icon': '//cdn.weatherapi.com/weather/64x64/night/116.png', 'code': 1003}, 'wind_mph': 6.7, 'wind_kph': 10.8, 'wind_degree': 177, 'wind_dir': 'S', 'pressure_mb': 1016.0, 'pressure_in': 30.0, 'precip_mm': 0.0, 'precip_in': 0.0, 'humidity': 73, 'cloud': 50, 'feelslike_c': 23.8, 'feelslike_f': 74.8, 'windchill_c': 28.6, 'windchill_f': 83.4, 'heatindex_c': 27.6, 'heatindex_f': 81.7, 'dewpoint_c': 10.0, 'dewpoint_f': 49.9, 'vis_km': 6.0, 'vis_miles': 3.0, 'uv': 0.0, 'gust_mph': 10.6, 'gust_kph': 17.1}}\", 'score': 0.9284724, 'raw_content': None}, {'url': 'https://en.climate-data.org/asia/india/karnataka/bengaluru-4562/t/april-4/', 'title': 'Weather Bengaluru in April 2025: Temperature & Climate', 'content': 'Min. Temperature °C (°F) | 14.6 °C(58.4) °F | 16.1 °C(61) °F | 18.7 °C(65.6) °F | 20.8 °C(69.4) °F | 21 °C(69.8) °F | 20.2 °C(68.3) °F | 19.8 °C(67.6) °F | 19.4 °C(66.9) °F | 19 °C(66.2) °F | 18.4 °C(65.1) °F | 16.7 °C(62) °F | 15.1 °C(59.1) °F\\nMax. Temperature °C (°F) | 27.4 °C(81.2) °F | 29.6 °C(85.3) °F | 32.1 °C(89.8) °F | 32.8 °C(91.1) °F | 31.2 °C(88.2) °F | 27.5 °C(81.5) °F | 26.4 °C(79.5) °F | 26.1 °C(79) °F | 26.7 °C(80) °F | 26.4 °C(79.6) °F | 25.7 °C(78.3) °F | 25.8 °C(78.4) °F [...] (69.3)  °F\\n\\n22.8 °C\\n\\n(73)  °F\\n\\n25.4 °C\\n\\n(77.8)  °F\\n\\n26.6 °C\\n\\n(80)  °F\\n\\n25.5 °C\\n\\n(77.9)  °F\\n\\n23.2 °C\\n\\n(73.8)  °F\\n\\n22.4 °C\\n\\n(72.3)  °F\\n\\n22.2 °C\\n\\n(71.9)  °F\\n\\n22.4 °C\\n\\n(72.3)  °F\\n\\n22 °C\\n\\n(71.6)  °F\\n\\n20.9 °C\\n\\n(69.7)  °F\\n\\n20.1 °C\\n\\n(68.2)  °F\\n\\n14.6 °C\\n\\n(58.4) °F\\n\\n16.1 °C\\n\\n(61) °F\\n\\n18.7 °C\\n\\n(65.6) °F\\n\\n20.8 °C\\n\\n(69.4) °F\\n\\n21 °C\\n\\n(69.8) °F\\n\\n20.2 °C\\n\\n(68.3) °F\\n\\n19.8 °C\\n\\n(67.6) °F\\n\\n19.4 °C\\n\\n(66.9) °F\\n\\n19 °C\\n\\n(66.2) °F\\n\\n18.4 °C\\n\\n(65.1) °F\\n\\n16.7 °C\\n\\n(62) °F\\n\\n15.1 °C\\n\\n(59.1) °F\\n\\n27.4 °C\\n\\n(81.2) °F\\n\\n29.6 °C [...] (85.3) °F\\n\\n32.1 °C\\n\\n(89.8) °F\\n\\n32.8 °C\\n\\n(91.1) °F\\n\\n31.2 °C\\n\\n(88.2) °F\\n\\n27.5 °C\\n\\n(81.5) °F\\n\\n26.4 °C\\n\\n(79.5) °F\\n\\n26.1 °C\\n\\n(79) °F\\n\\n26.7 °C\\n\\n(80) °F\\n\\n26.4 °C\\n\\n(79.6) °F\\n\\n25.7 °C\\n\\n(78.3) °F\\n\\n25.8 °C\\n\\n(78.4) °F\\n\\n4\\n\\n(0)\\n\\n7\\n\\n(0)\\n\\n16\\n\\n(0)\\n\\n45\\n\\n(1)\\n\\n131\\n\\n(5)\\n\\n126\\n\\n(4)\\n\\n134\\n\\n(5)\\n\\n137\\n\\n(5)\\n\\n125\\n\\n(4)\\n\\n147\\n\\n(5)\\n\\n65\\n\\n(2)\\n\\n23\\n\\n(0)', 'score': 0.9134376, 'raw_content': None}, {'url': 'https://www.weather25.com/asia/india/karnataka/bangalore?page=month&month=April', 'title': 'Bangalore weather in April 2025 - Weather25.com', 'content': 'Location was added to My Locations\\nLocation was removed from My Locations\\nMarch\\nMay\\nBangalore weather in April 2025\\nThe weather in Bangalore in April is very hot. The average temperatures are between 24°C and 36°C, drinking water regularly is advisable.\\nYou can expect about 3 to 8 days of rain in Bangalore during the month of April. It’s a good idea to bring along your umbrella so that you don’t get caught in poor weather. [...] | Sun | Mon | Tue | Wed | Thu | Fri | Sat |\\n| --- | --- | --- | --- | --- | --- | --- |\\n| \\n | \\n| 1  36° /23° | 2  36° /23° | 3  36° /23° | 4  35° /23° | 5  36° /23° |\\n| 6  36° /23° | 7  36° /24° | 8  35° /22° | 9  35° /23° | 10  35° /23° | 11  36° /23° | 12  36° /23° |\\n| 13  36° /23° | 14  35° /23° | 15  34° /23° | 16  36° /23° | 17  36° /24° | 18  35° /24° | 19  35° /24° |\\n| 20  35° /24° | 21  36° /24° | 22  35° /24° | 23  35° /23° | 24  36° /24° | 25  35° /24° | 26  35° /25° | [...] Temperatures\\n36° / 24°\\n\\nRainy Days\\n4\\n\\nSnowy Days\\n0\\n\\nDry Days\\n26\\n\\nRainfall\\n61\\nmm\\n\\nSun Hours\\n11.8\\nHrs\\nHistoric average weather for April\\n\\nApril', 'score': 0.8943568, 'raw_content': None}, {'url': 'https://world-weather.info/forecast/india/bangalor/april-2025/', 'title': 'Weather in Bangalore in April 2025 (State of Karnātaka)', 'content': \"2\\n+93°+77°\\n\\n\\n3\\n+93°+79°\\n\\n\\n4\\n+91°+79°\\n\\n\\n5\\n+91°+79°\\n\\n\\n6\\n+91°+79°\\n\\n\\n7\\n+91°+79°\\n\\n\\n8\\n+91°+79°\\n\\n\\n9\\n+93°+79°\\n\\n\\n10\\n+91°+79°\\n\\n\\n11\\n+93°+79°\\n\\n\\n12\\n+91°+79°\\n\\n\\n13\\n+91°+79°\\n\\n\\n14\\n+91°+79°\\n\\n\\n15\\n+93°+77°\\n\\n\\n16\\n+91°+77°\\n\\n\\n17\\n+91°+79°\\n\\n\\n18\\n+93°+79°\\n\\n\\n19\\n+91°+79°\\n\\n\\n20\\n+90°+79°\\n\\n\\n21\\n+90°+77°\\n\\n\\n22\\n+90°+79°\\n\\n\\n23\\n+91°+79°\\n\\n\\n24\\n+91°+79°\\n\\n\\n25\\n+88°+77°\\n\\n\\n26\\n+90°+79°\\n\\n\\n27\\n+91°+79°\\n\\n\\n28\\n+91°+79°\\n\\n\\n29\\n+90°+79°\\n\\n\\n30\\n+90°+79°\\n\\n\\nExtended weather forecast in Bangalore\\nHourlyWeek10-Day14-Day30-DayYear [...] Weather in Bangalore in April 2025 (State of Karnātaka) - Detailed Weather Forecast for a Month\\n\\nAdd the current city\\nSearch\\n\\nWeather\\nArchive\\nWidgets\\n\\n°F\\n\\nWorld\\nIndia\\nState of Karnātaka\\nWeather in Bangalore\\n\\nWeather in Bangalore in April 2025\\nBangalore Weather Forecast for April 2025, is based on previous years' statistical data.\\n201520162017201820192020202120222023202420252026\\nJanFebMarAprMayJunJulAugSepOctNovDec\\nApril\\nStart Week On\\nSunday\\nMonday\\n\\nSun\\nMon\\nTue\\nWed\\nThu\\nFri\\n\\nSat\\n\\n\\n1\\n+91°+77° [...] Weather in large and nearby cities\\nWeather in New Delhi+73°\\nAvadi+88°\\nKozhikode+90°\\nAmbattur+88°\\nChennai+88°\\nDindigul+82°\\nThanjavur+86°\\nMangalore+86°\\nNellore+86°\\nTiruchchirāppalli+86°\\nPuducherry+86°\\nBellary+84°\\nMysore+81°\\nSalem+86°\\nAnantapur+84°\\nTirupati+82°\\nKothakota+86°\\nVathalur+86°\\nMinimum and maximum\\nworld's temperature today\\nRussia\\nZyryanka\\nday\\n-22°F\\nnight\\n-49°F\\nChad\\nMongo\\nday\\n+109°F\\nnight\\n+73°F\\nServices\\nSupport\\n\\nUser agreement\\nFeedback\\nAbout Us\", 'score': 0.8898454, 'raw_content': None}], 'response_time': 2.32}),\n",
       " AIMessage(content=\"Today's weather in Bangalore is partly cloudy with a maximum temperature of 32°C (about 89.6°F) and a minimum of 17°C (about 62.6°F). The current temperature is around 23°C (73.4°F) with a relatively high humidity level of 73%. There is no precipitation expected, and the conditions suggest a pleasant, partly cloudy evening.\", additional_kwargs={'refusal': None}, response_metadata={'token_usage': {'completion_tokens': 81, 'prompt_tokens': 6249, 'total_tokens': 6330, 'completion_tokens_details': {'accepted_prediction_tokens': 0, 'audio_tokens': 0, 'reasoning_tokens': 0, 'rejected_prediction_tokens': 0}, 'prompt_tokens_details': {'audio_tokens': 0, 'cached_tokens': 0}}, 'model_name': 'gpt-4o-2024-08-06', 'system_fingerprint': 'fp_92f14e8683', 'finish_reason': 'stop', 'logprobs': None}, id='run-fdffddd4-33b6-4f47-9d55-b6aa2fdf7766-0', usage_metadata={'input_tokens': 6249, 'output_tokens': 81, 'total_tokens': 6330, 'input_token_details': {'audio': 0, 'cache_read': 0}, 'output_token_details': {'audio': 0, 'reasoning': 0}}),\n",
       " ['user', 'give me the recent news from there?']]"
      ]
     },
     "execution_count": 128,
     "metadata": {},
     "output_type": "execute_result"
    }
   ],
   "source": [
    "current_message"
   ]
  },
  {
   "cell_type": "code",
   "execution_count": 132,
   "id": "1e5dbe7f",
   "metadata": {},
   "outputs": [],
   "source": [
    "for event in events:\n",
    "    if \"messages\" in event:\n",
    "        last_message = event[\"messages\"][-1]\n",
    "        # Print the tuple elements (e.g., role and content)\n",
    "        \n"
   ]
  },
  {
   "cell_type": "code",
   "execution_count": 124,
   "id": "5cd0176c",
   "metadata": {},
   "outputs": [
    {
     "ename": "AttributeError",
     "evalue": "'list' object has no attribute 'pretty_print'",
     "output_type": "error",
     "traceback": [
      "\u001b[1;31m---------------------------------------------------------------------------\u001b[0m",
      "\u001b[1;31mAttributeError\u001b[0m                            Traceback (most recent call last)",
      "Cell \u001b[1;32mIn[124], line 1\u001b[0m\n\u001b[1;32m----> 1\u001b[0m \u001b[43mcurrent_message\u001b[49m\u001b[38;5;241;43m.\u001b[39;49m\u001b[43mpretty_print\u001b[49m()\n",
      "\u001b[1;31mAttributeError\u001b[0m: 'list' object has no attribute 'pretty_print'"
     ]
    }
   ],
   "source": [
    "current_message.pretty_print()"
   ]
  },
  {
   "cell_type": "code",
   "execution_count": 126,
   "id": "c0d5e933",
   "metadata": {},
   "outputs": [
    {
     "ename": "AttributeError",
     "evalue": "'list' object has no attribute 'tool_calls'",
     "output_type": "error",
     "traceback": [
      "\u001b[1;31m---------------------------------------------------------------------------\u001b[0m",
      "\u001b[1;31mAttributeError\u001b[0m                            Traceback (most recent call last)",
      "Cell \u001b[1;32mIn[126], line 1\u001b[0m\n\u001b[1;32m----> 1\u001b[0m tool_call_id \u001b[38;5;241m=\u001b[39m \u001b[43mcurrent_message\u001b[49m\u001b[38;5;241;43m.\u001b[39;49m\u001b[43mtool_calls\u001b[49m[\u001b[38;5;241m0\u001b[39m][\u001b[38;5;124m\"\u001b[39m\u001b[38;5;124mid\u001b[39m\u001b[38;5;124m\"\u001b[39m] \n",
      "\u001b[1;31mAttributeError\u001b[0m: 'list' object has no attribute 'tool_calls'"
     ]
    }
   ],
   "source": [
    "\n",
    "tool_call_id = current_message.tool_calls[0][\"id\"] "
   ]
  },
  {
   "cell_type": "code",
   "execution_count": 129,
   "id": "fbd8c11d",
   "metadata": {},
   "outputs": [],
   "source": [
    "\n",
    "from langchain_core.messages import AIMessage, ToolMessage"
   ]
  },
  {
   "cell_type": "code",
   "execution_count": 130,
   "id": "05458b2b",
   "metadata": {},
   "outputs": [],
   "source": [
    "answer=\"delhi is too hot now a days as well as bit foggy\""
   ]
  },
  {
   "cell_type": "code",
   "execution_count": 131,
   "id": "dcf4b4ac",
   "metadata": {},
   "outputs": [
    {
     "ename": "NameError",
     "evalue": "name 'tool_call_id' is not defined",
     "output_type": "error",
     "traceback": [
      "\u001b[1;31m---------------------------------------------------------------------------\u001b[0m",
      "\u001b[1;31mNameError\u001b[0m                                 Traceback (most recent call last)",
      "Cell \u001b[1;32mIn[131], line 2\u001b[0m\n\u001b[0;32m      1\u001b[0m new_messages \u001b[38;5;241m=\u001b[39m [\n\u001b[1;32m----> 2\u001b[0m     ToolMessage(content\u001b[38;5;241m=\u001b[39manswer, tool_call_id\u001b[38;5;241m=\u001b[39m\u001b[43mtool_call_id\u001b[49m),\n\u001b[0;32m      3\u001b[0m     AIMessage(content\u001b[38;5;241m=\u001b[39manswer),\n\u001b[0;32m      4\u001b[0m ]\n",
      "\u001b[1;31mNameError\u001b[0m: name 'tool_call_id' is not defined"
     ]
    }
   ],
   "source": [
    "\n",
    "new_messages = [\n",
    "    ToolMessage(content=answer, tool_call_id=tool_call_id),\n",
    "    AIMessage(content=answer),\n",
    "]"
   ]
  },
  {
   "cell_type": "code",
   "execution_count": null,
   "id": "7b428561",
   "metadata": {},
   "outputs": [],
   "source": [
    "\n",
    "app2.update_state(\n",
    "    config,\n",
    "    {\"messages\": new_messages},\n",
    ")"
   ]
  },
  {
   "cell_type": "code",
   "execution_count": null,
   "id": "7a45c52b",
   "metadata": {},
   "outputs": [],
   "source": [
    "\n",
    "print(app2.get_state(config).values[\"messages\"][-1:])"
   ]
  }
 ],
 "metadata": {
  "kernelspec": {
   "display_name": "Python 3",
   "language": "python",
   "name": "python3"
  },
  "language_info": {
   "codemirror_mode": {
    "name": "ipython",
    "version": 3
   },
   "file_extension": ".py",
   "mimetype": "text/x-python",
   "name": "python",
   "nbconvert_exporter": "python",
   "pygments_lexer": "ipython3",
   "version": "3.10.16"
  }
 },
 "nbformat": 4,
 "nbformat_minor": 5
}
